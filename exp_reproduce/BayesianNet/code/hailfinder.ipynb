{
 "cells": [
  {
   "cell_type": "code",
   "execution_count": 1,
   "metadata": {
    "collapsed": true
   },
   "outputs": [],
   "source": [
    "from profiler.core import *"
   ]
  },
  {
   "cell_type": "code",
   "execution_count": 2,
   "metadata": {
    "collapsed": true
   },
   "outputs": [],
   "source": [
    "pf = Profiler(workers = 2, tol=1e-6, eps=0.05, embedtxt=True)"
   ]
  },
  {
   "cell_type": "code",
   "execution_count": 3,
   "metadata": {
    "collapsed": false
   },
   "outputs": [
    {
     "name": "stderr",
     "output_type": "stream",
     "text": [
      "INFO:profiler.utility:[1.796022653579712] Load Data start\n",
      "\n",
      "INFO:profiler.data.dataset:parameters used for data loading:\n",
      " {'na_values': 'empty', 'sep': ',', 'header': 'infer', 'dropcol': None, 'dropna': False, 'encoding': 'utf-8', 'normalize': True, 'min_categories_for_embedding': 10}\n",
      "INFO:profiler.data.dataset:inferred types of attributes: {\n",
      "    \"LLIW\": \"categorical\",\n",
      "    \"InsChange\": \"categorical\",\n",
      "    \"MeanRH\": \"categorical\",\n",
      "    \"WindFieldMt\": \"categorical\",\n",
      "    \"SubjVertMo\": \"categorical\",\n",
      "    \"SynForcng\": \"categorical\",\n",
      "    \"LoLevMoistAd\": \"categorical\",\n",
      "    \"Boundaries\": \"categorical\",\n",
      "    \"AMInsWliScen\": \"categorical\",\n",
      "    \"N34StarFcst\": \"categorical\",\n",
      "    \"N0_7muVerMo\": \"categorical\",\n",
      "    \"WndHodograph\": \"categorical\",\n",
      "    \"ScenRel3_4\": \"categorical\",\n",
      "    \"WindAloft\": \"categorical\",\n",
      "    \"AreaMeso_ALS\": \"categorical\",\n",
      "    \"ScenRelAMIns\": \"categorical\",\n",
      "    \"CapInScen\": \"categorical\",\n",
      "    \"Dewpoints\": \"categorical\",\n",
      "    \"MorningCIN\": \"categorical\",\n",
      "    \"CldShadeOth\": \"categorical\",\n",
      "    \"Date\": \"categorical\",\n",
      "    \"MorningBound\": \"categorical\",\n",
      "    \"LIfr12ZDENSd\": \"categorical\",\n",
      "    \"InsSclInScen\": \"categorical\",\n",
      "    \"InsInMt\": \"categorical\",\n",
      "    \"IRCloudCover\": \"categorical\",\n",
      "    \"RHRatio\": \"categorical\",\n",
      "    \"LatestCIN\": \"categorical\",\n",
      "    \"QGVertMotion\": \"categorical\",\n",
      "    \"MountainFcst\": \"categorical\",\n",
      "    \"MvmtFeatures\": \"categorical\",\n",
      "    \"SatContMoist\": \"categorical\",\n",
      "    \"SfcWndShfDis\": \"categorical\",\n",
      "    \"Scenario\": \"text\",\n",
      "    \"CapChange\": \"categorical\",\n",
      "    \"AMInstabMt\": \"categorical\",\n",
      "    \"CurPropConv\": \"categorical\",\n",
      "    \"AMCINInScen\": \"categorical\",\n",
      "    \"CldShadeConv\": \"categorical\",\n",
      "    \"RaoContMoist\": \"categorical\",\n",
      "    \"CompPlFcst\": \"categorical\",\n",
      "    \"LowLLapse\": \"categorical\",\n",
      "    \"R5Fcst\": \"categorical\",\n",
      "    \"PlainsFcst\": \"categorical\",\n",
      "    \"MidLLapse\": \"categorical\",\n",
      "    \"ScnRelPlFcst\": \"text\",\n",
      "    \"AMDewptCalPl\": \"categorical\",\n",
      "    \"CombVerMo\": \"categorical\",\n",
      "    \"WindFieldPln\": \"categorical\",\n",
      "    \"AreaMoDryAir\": \"categorical\",\n",
      "    \"CombClouds\": \"categorical\",\n",
      "    \"VISCloudCov\": \"categorical\",\n",
      "    \"CombMoisture\": \"categorical\",\n",
      "    \"OutflowFrMt\": \"categorical\",\n",
      "    \"ScenRelAMCIN\": \"categorical\",\n",
      "    \"TempDis\": \"categorical\"\n",
      "}\n",
      "INFO:profiler.data.dataset:(possible types: numeric, categorical, text, date)\n",
      "INFO:profiler.data.dataset:inferred operators of attributes: {'LLIW': ['equal'], 'InsChange': ['equal'], 'MeanRH': ['equal'], 'WindFieldMt': ['equal'], 'SubjVertMo': ['equal'], 'SynForcng': ['equal'], 'LoLevMoistAd': ['equal'], 'Boundaries': ['equal'], 'AMInsWliScen': ['equal'], 'N34StarFcst': ['equal'], 'N0_7muVerMo': ['equal'], 'WndHodograph': ['equal'], 'ScenRel3_4': ['equal'], 'WindAloft': ['equal'], 'AreaMeso_ALS': ['equal'], 'ScenRelAMIns': ['equal'], 'CapInScen': ['equal'], 'Dewpoints': ['equal'], 'MorningCIN': ['equal'], 'CldShadeOth': ['equal'], 'Date': ['equal'], 'MorningBound': ['equal'], 'LIfr12ZDENSd': ['equal'], 'InsSclInScen': ['equal'], 'InsInMt': ['equal'], 'IRCloudCover': ['equal'], 'RHRatio': ['equal'], 'LatestCIN': ['equal'], 'QGVertMotion': ['equal'], 'MountainFcst': ['equal'], 'MvmtFeatures': ['equal'], 'SatContMoist': ['equal'], 'SfcWndShfDis': ['equal'], 'Scenario': ['equal'], 'CapChange': ['equal'], 'AMInstabMt': ['equal'], 'CurPropConv': ['equal'], 'AMCINInScen': ['equal'], 'CldShadeConv': ['equal'], 'RaoContMoist': ['equal'], 'CompPlFcst': ['equal'], 'LowLLapse': ['equal'], 'R5Fcst': ['equal'], 'PlainsFcst': ['equal'], 'MidLLapse': ['equal'], 'ScnRelPlFcst': ['equal'], 'AMDewptCalPl': ['equal'], 'CombVerMo': ['equal'], 'WindFieldPln': ['equal'], 'AreaMoDryAir': ['equal'], 'CombClouds': ['equal'], 'VISCloudCov': ['equal'], 'CombMoisture': ['equal'], 'OutflowFrMt': ['equal'], 'ScenRelAMCIN': ['equal'], 'TempDis': ['equal']}\n",
      "INFO:profiler.data.dataset:(possible operators: equal, notequal, greater_than, less_than)\n",
      "INFO:profiler.utility:[1.9281935691833496] Load Data execution time: 0.1321709156036377\n",
      "\n"
     ]
    }
   ],
   "source": [
    "pf.session.load_data(name='hailfinder', src=FILE, fpath='../table/hailfinder/hailfinder.csv', check_param=True, na_values='empty')"
   ]
  },
  {
   "cell_type": "code",
   "execution_count": 4,
   "metadata": {
    "collapsed": false
   },
   "outputs": [
    {
     "name": "stderr",
     "output_type": "stream",
     "text": [
      "INFO:profiler.data.dataset:updated types of Scenario to 'categorical'\n",
      "INFO:profiler.data.dataset:updated operators of Scenario to ['equal']\n",
      "INFO:profiler.data.dataset:updated types of ScnRelPlFcst to 'categorical'\n",
      "INFO:profiler.data.dataset:updated operators of ScnRelPlFcst to ['equal']\n",
      "INFO:profiler.data.dataset:updated inferred operators of attributes: {'LLIW': ['equal'], 'InsChange': ['equal'], 'MeanRH': ['equal'], 'WindFieldMt': ['equal'], 'SubjVertMo': ['equal'], 'SynForcng': ['equal'], 'LoLevMoistAd': ['equal'], 'Boundaries': ['equal'], 'AMInsWliScen': ['equal'], 'N34StarFcst': ['equal'], 'N0_7muVerMo': ['equal'], 'WndHodograph': ['equal'], 'ScenRel3_4': ['equal'], 'WindAloft': ['equal'], 'AreaMeso_ALS': ['equal'], 'ScenRelAMIns': ['equal'], 'CapInScen': ['equal'], 'Dewpoints': ['equal'], 'MorningCIN': ['equal'], 'CldShadeOth': ['equal'], 'Date': ['equal'], 'MorningBound': ['equal'], 'LIfr12ZDENSd': ['equal'], 'InsSclInScen': ['equal'], 'InsInMt': ['equal'], 'IRCloudCover': ['equal'], 'RHRatio': ['equal'], 'LatestCIN': ['equal'], 'QGVertMotion': ['equal'], 'MountainFcst': ['equal'], 'MvmtFeatures': ['equal'], 'SatContMoist': ['equal'], 'SfcWndShfDis': ['equal'], 'Scenario': ['equal'], 'CapChange': ['equal'], 'AMInstabMt': ['equal'], 'CurPropConv': ['equal'], 'AMCINInScen': ['equal'], 'CldShadeConv': ['equal'], 'RaoContMoist': ['equal'], 'CompPlFcst': ['equal'], 'LowLLapse': ['equal'], 'R5Fcst': ['equal'], 'PlainsFcst': ['equal'], 'MidLLapse': ['equal'], 'ScnRelPlFcst': ['equal'], 'AMDewptCalPl': ['equal'], 'CombVerMo': ['equal'], 'WindFieldPln': ['equal'], 'AreaMoDryAir': ['equal'], 'CombClouds': ['equal'], 'VISCloudCov': ['equal'], 'CombMoisture': ['equal'], 'OutflowFrMt': ['equal'], 'ScenRelAMCIN': ['equal'], 'TempDis': ['equal']}\n"
     ]
    }
   ],
   "source": [
    "pf.session.change_dtypes(['Scenario','ScnRelPlFcst'], \n",
    "                            [CATEGORICAL,CATEGORICAL],\n",
    "                            [None,None])"
   ]
  },
  {
   "cell_type": "code",
   "execution_count": 5,
   "metadata": {
    "collapsed": false
   },
   "outputs": [
    {
     "name": "stderr",
     "output_type": "stream",
     "text": [
      "INFO:profiler.utility:[6.628443956375122] Create Training Data start\n",
      "\n",
      "INFO:profiler.data.transformer:needs multiplier = 46 to bound the error in inv cov estimation <= 0.05000000\n",
      "INFO:profiler.data.transformer:use multiplier = 46, and the bound is 0.00086096\n",
      "INFO:profiler.data.transformer:Draw Pairs\n",
      "100%|██████████| 56/56 [00:00<00:00, 294.95it/s]\n",
      "INFO:profiler.data.transformer:Number of training samples: 56000\n",
      "INFO:profiler.data.transformer:Computing Differences\n",
      "INFO:profiler.data.transformer:estimated missing data probability in training data is 0.0000\n",
      "INFO:profiler.utility:[7.757897615432739] Create Training Data execution time: 1.1294536590576172\n",
      "\n"
     ]
    }
   ],
   "source": [
    "pf.session.load_training_data(multiplier = None)"
   ]
  },
  {
   "cell_type": "code",
   "execution_count": 6,
   "metadata": {
    "collapsed": false
   },
   "outputs": [
    {
     "name": "stderr",
     "output_type": "stream",
     "text": [
      "INFO:profiler.utility:[12.859024286270142] Learn Structure start\n",
      "\n",
      "INFO:profiler.learner:use threshold 3.9046\n"
     ]
    },
    {
     "ename": "CholmodNotPositiveDefiniteError",
     "evalue": "../Cholesky/t_cholmod_rowfac.c:430: not positive definite (code 1)",
     "output_type": "error",
     "traceback": [
      "\u001b[0;31m---------------------------------------------------------------------------\u001b[0m",
      "\u001b[0;31mCholmodNotPositiveDefiniteError\u001b[0m           Traceback (most recent call last)",
      "\u001b[0;32m<ipython-input-6-2a0dd7b35f9c>\u001b[0m in \u001b[0;36m<module>\u001b[0;34m()\u001b[0m\n\u001b[0;32m----> 1\u001b[0;31m \u001b[0mautoregress_matrix\u001b[0m \u001b[0;34m=\u001b[0m \u001b[0mpf\u001b[0m\u001b[0;34m.\u001b[0m\u001b[0msession\u001b[0m\u001b[0;34m.\u001b[0m\u001b[0mlearn_structure\u001b[0m\u001b[0;34m(\u001b[0m\u001b[0msparsity\u001b[0m\u001b[0;34m=\u001b[0m\u001b[0;36m0\u001b[0m\u001b[0;34m,\u001b[0m \u001b[0minfer_order\u001b[0m\u001b[0;34m=\u001b[0m\u001b[0;32mTrue\u001b[0m\u001b[0;34m)\u001b[0m\u001b[0;34m\u001b[0m\u001b[0;34m\u001b[0m\u001b[0m\n\u001b[0m",
      "\u001b[0;32m/mnt/c/Users/Yunjia/Onedrive - UW-Madison/Database/Profiler/Profiler-Public/profiler/core.py\u001b[0m in \u001b[0;36mlearn_structure\u001b[0;34m(self, **kwargs)\u001b[0m\n\u001b[1;32m    229\u001b[0m     \u001b[0;32mdef\u001b[0m \u001b[0mlearn_structure\u001b[0m\u001b[0;34m(\u001b[0m\u001b[0mself\u001b[0m\u001b[0;34m,\u001b[0m \u001b[0;34m**\u001b[0m\u001b[0mkwargs\u001b[0m\u001b[0;34m)\u001b[0m\u001b[0;34m:\u001b[0m\u001b[0;34m\u001b[0m\u001b[0;34m\u001b[0m\u001b[0m\n\u001b[1;32m    230\u001b[0m         \u001b[0mself\u001b[0m\u001b[0;34m.\u001b[0m\u001b[0mtimer\u001b[0m\u001b[0;34m.\u001b[0m\u001b[0mtime_start\u001b[0m\u001b[0;34m(\u001b[0m\u001b[0;34m'Learn Structure'\u001b[0m\u001b[0;34m)\u001b[0m\u001b[0;34m\u001b[0m\u001b[0;34m\u001b[0m\u001b[0m\n\u001b[0;32m--> 231\u001b[0;31m         \u001b[0mresults\u001b[0m \u001b[0;34m=\u001b[0m \u001b[0mself\u001b[0m\u001b[0;34m.\u001b[0m\u001b[0mstruct_engine\u001b[0m\u001b[0;34m.\u001b[0m\u001b[0mlearn\u001b[0m\u001b[0;34m(\u001b[0m\u001b[0;34m**\u001b[0m\u001b[0mkwargs\u001b[0m\u001b[0;34m)\u001b[0m\u001b[0;34m\u001b[0m\u001b[0;34m\u001b[0m\u001b[0m\n\u001b[0m\u001b[1;32m    232\u001b[0m         \u001b[0mself\u001b[0m\u001b[0;34m.\u001b[0m\u001b[0mtimer\u001b[0m\u001b[0;34m.\u001b[0m\u001b[0mtime_end\u001b[0m\u001b[0;34m(\u001b[0m\u001b[0;34m'Learn Structure'\u001b[0m\u001b[0;34m)\u001b[0m\u001b[0;34m\u001b[0m\u001b[0;34m\u001b[0m\u001b[0m\n\u001b[1;32m    233\u001b[0m         \u001b[0;32mreturn\u001b[0m \u001b[0mresults\u001b[0m\u001b[0;34m\u001b[0m\u001b[0;34m\u001b[0m\u001b[0m\n",
      "\u001b[0;32m/mnt/c/Users/Yunjia/Onedrive - UW-Madison/Database/Profiler/Profiler-Public/profiler/learner.py\u001b[0m in \u001b[0;36mlearn\u001b[0;34m(self, **kwargs)\u001b[0m\n\u001b[1;32m     49\u001b[0m             \u001b[0mself\u001b[0m\u001b[0;34m.\u001b[0m\u001b[0mB\u001b[0m \u001b[0;34m=\u001b[0m \u001b[0mself\u001b[0m\u001b[0;34m.\u001b[0m\u001b[0mupper_decompose\u001b[0m\u001b[0;34m(\u001b[0m\u001b[0mself\u001b[0m\u001b[0;34m.\u001b[0m\u001b[0minv_cov\u001b[0m\u001b[0;34m)\u001b[0m\u001b[0;34m\u001b[0m\u001b[0;34m\u001b[0m\u001b[0m\n\u001b[1;32m     50\u001b[0m         \u001b[0;32melse\u001b[0m\u001b[0;34m:\u001b[0m\u001b[0;34m\u001b[0m\u001b[0;34m\u001b[0m\u001b[0m\n\u001b[0;32m---> 51\u001b[0;31m             \u001b[0mself\u001b[0m\u001b[0;34m.\u001b[0m\u001b[0mB\u001b[0m \u001b[0;34m=\u001b[0m \u001b[0mself\u001b[0m\u001b[0;34m.\u001b[0m\u001b[0mupper_decompose_ordered\u001b[0m\u001b[0;34m(\u001b[0m\u001b[0mself\u001b[0m\u001b[0;34m.\u001b[0m\u001b[0minv_cov\u001b[0m\u001b[0;34m)\u001b[0m\u001b[0;34m\u001b[0m\u001b[0;34m\u001b[0m\u001b[0m\n\u001b[0m\u001b[1;32m     52\u001b[0m         \u001b[0;32mreturn\u001b[0m \u001b[0mself\u001b[0m\u001b[0;34m.\u001b[0m\u001b[0mB\u001b[0m\u001b[0;34m\u001b[0m\u001b[0;34m\u001b[0m\u001b[0m\n\u001b[1;32m     53\u001b[0m \u001b[0;34m\u001b[0m\u001b[0m\n",
      "\u001b[0;32m/mnt/c/Users/Yunjia/Onedrive - UW-Madison/Database/Profiler/Profiler-Public/profiler/learner.py\u001b[0m in \u001b[0;36mupper_decompose_ordered\u001b[0;34m(self, inv_cov)\u001b[0m\n\u001b[1;32m    237\u001b[0m         \u001b[0mPAP\u001b[0m \u001b[0;34m=\u001b[0m \u001b[0mnp\u001b[0m\u001b[0;34m.\u001b[0m\u001b[0mdot\u001b[0m\u001b[0;34m(\u001b[0m\u001b[0mnp\u001b[0m\u001b[0;34m.\u001b[0m\u001b[0mdot\u001b[0m\u001b[0;34m(\u001b[0m\u001b[0mP\u001b[0m\u001b[0;34m,\u001b[0m \u001b[0mK\u001b[0m\u001b[0;34m)\u001b[0m\u001b[0;34m,\u001b[0m \u001b[0mP\u001b[0m\u001b[0;34m.\u001b[0m\u001b[0mtranspose\u001b[0m\u001b[0;34m(\u001b[0m\u001b[0;34m)\u001b[0m\u001b[0;34m)\u001b[0m\u001b[0;34m\u001b[0m\u001b[0;34m\u001b[0m\u001b[0m\n\u001b[1;32m    238\u001b[0m         \u001b[0mPAP\u001b[0m \u001b[0;34m=\u001b[0m \u001b[0msparse\u001b[0m\u001b[0;34m.\u001b[0m\u001b[0mcsc_matrix\u001b[0m\u001b[0;34m(\u001b[0m\u001b[0mPAP\u001b[0m\u001b[0;34m)\u001b[0m\u001b[0;34m\u001b[0m\u001b[0;34m\u001b[0m\u001b[0m\n\u001b[0;32m--> 239\u001b[0;31m         \u001b[0mfactor\u001b[0m \u001b[0;34m=\u001b[0m \u001b[0mcholesky\u001b[0m\u001b[0;34m(\u001b[0m\u001b[0mPAP\u001b[0m\u001b[0;34m)\u001b[0m\u001b[0;34m\u001b[0m\u001b[0;34m\u001b[0m\u001b[0m\n\u001b[0m\u001b[1;32m    240\u001b[0m         \u001b[0mL\u001b[0m \u001b[0;34m=\u001b[0m \u001b[0mfactor\u001b[0m\u001b[0;34m.\u001b[0m\u001b[0mL_D\u001b[0m\u001b[0;34m(\u001b[0m\u001b[0;34m)\u001b[0m\u001b[0;34m[\u001b[0m\u001b[0;36m0\u001b[0m\u001b[0;34m]\u001b[0m\u001b[0;34m.\u001b[0m\u001b[0mtoarray\u001b[0m\u001b[0;34m(\u001b[0m\u001b[0;34m)\u001b[0m\u001b[0;34m\u001b[0m\u001b[0;34m\u001b[0m\u001b[0m\n\u001b[1;32m    241\u001b[0m         \u001b[0mU\u001b[0m \u001b[0;34m=\u001b[0m \u001b[0mnp\u001b[0m\u001b[0;34m.\u001b[0m\u001b[0mdot\u001b[0m\u001b[0;34m(\u001b[0m\u001b[0mnp\u001b[0m\u001b[0;34m.\u001b[0m\u001b[0mdot\u001b[0m\u001b[0;34m(\u001b[0m\u001b[0mP\u001b[0m\u001b[0;34m,\u001b[0m \u001b[0mL\u001b[0m\u001b[0;34m)\u001b[0m\u001b[0;34m,\u001b[0m \u001b[0mP\u001b[0m\u001b[0;34m.\u001b[0m\u001b[0mtranspose\u001b[0m\u001b[0;34m(\u001b[0m\u001b[0;34m)\u001b[0m\u001b[0;34m)\u001b[0m\u001b[0;34m\u001b[0m\u001b[0;34m\u001b[0m\u001b[0m\n",
      "\u001b[0;32msksparse/cholmod.pyx\u001b[0m in \u001b[0;36msksparse.cholmod.cholesky\u001b[0;34m()\u001b[0m\n",
      "\u001b[0;32msksparse/cholmod.pyx\u001b[0m in \u001b[0;36msksparse.cholmod._cholesky\u001b[0;34m()\u001b[0m\n",
      "\u001b[0;32msksparse/cholmod.pyx\u001b[0m in \u001b[0;36msksparse.cholmod.Factor._cholesky_inplace\u001b[0;34m()\u001b[0m\n",
      "\u001b[0;32msksparse/cholmod.pyx\u001b[0m in \u001b[0;36msksparse.cholmod.Factor._cholesky_inplace\u001b[0;34m()\u001b[0m\n",
      "\u001b[0;32msksparse/cholmod.pyx\u001b[0m in \u001b[0;36msksparse.cholmod._error_handler\u001b[0;34m()\u001b[0m\n",
      "\u001b[0;31mCholmodNotPositiveDefiniteError\u001b[0m: ../Cholesky/t_cholmod_rowfac.c:430: not positive definite (code 1)"
     ]
    }
   ],
   "source": [
    "autoregress_matrix = pf.session.learn_structure(sparsity=0, infer_order=True)"
   ]
  },
  {
   "cell_type": "code",
   "execution_count": null,
   "metadata": {
    "collapsed": false
   },
   "outputs": [],
   "source": [
    "parent_sets = pf.session.get_dependencies(score=\"fit_error\")"
   ]
  },
  {
   "cell_type": "code",
   "execution_count": null,
   "metadata": {
    "collapsed": false
   },
   "outputs": [],
   "source": [
    "pf.session.visualize_covariance()"
   ]
  },
  {
   "cell_type": "code",
   "execution_count": null,
   "metadata": {
    "collapsed": false
   },
   "outputs": [],
   "source": [
    "pf.session.visualize_inverse_covariance()"
   ]
  },
  {
   "cell_type": "code",
   "execution_count": null,
   "metadata": {
    "collapsed": false
   },
   "outputs": [],
   "source": [
    "pf.session.visualize_autoregression()"
   ]
  },
  {
   "cell_type": "code",
   "execution_count": null,
   "metadata": {
    "collapsed": false
   },
   "outputs": [],
   "source": [
    "pf.session.timer.get_stat()"
   ]
  },
  {
   "cell_type": "code",
   "execution_count": null,
   "metadata": {
    "collapsed": true
   },
   "outputs": [],
   "source": [
    "pf.session.timer.to_csv()"
   ]
  },
  {
   "cell_type": "code",
   "execution_count": null,
   "metadata": {
    "collapsed": true
   },
   "outputs": [],
   "source": []
  }
 ],
 "metadata": {
  "kernelspec": {
   "display_name": "Python 3",
   "language": "python",
   "name": "python3"
  },
  "language_info": {
   "codemirror_mode": {
    "name": "ipython",
    "version": 3
   },
   "file_extension": ".py",
   "mimetype": "text/x-python",
   "name": "python",
   "nbconvert_exporter": "python",
   "pygments_lexer": "ipython3",
   "version": "3.6.7"
  }
 },
 "nbformat": 4,
 "nbformat_minor": 2
}
