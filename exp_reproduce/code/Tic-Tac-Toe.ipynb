{
 "cells": [
  {
   "cell_type": "code",
   "execution_count": 1,
   "metadata": {
    "collapsed": false
   },
   "outputs": [],
   "source": [
    "from profiler.core import *"
   ]
  },
  {
   "cell_type": "code",
   "execution_count": 2,
   "metadata": {
    "collapsed": true
   },
   "outputs": [],
   "source": [
    "pf = Profiler(workers = 2, tol=1e-6, eps=0.05, embedtxt=True)"
   ]
  },
  {
   "cell_type": "code",
   "execution_count": 3,
   "metadata": {
    "collapsed": false
   },
   "outputs": [
    {
     "name": "stderr",
     "output_type": "stream",
     "text": [
      "INFO:profiler.utility:[0.016797304153442383] Load Data start\n",
      "\n",
      "INFO:profiler.data.dataset:parameters used for data loading:\n",
      " {'na_values': 'empty', 'sep': ',', 'header': 'infer', 'dropcol': None, 'dropna': False, 'encoding': 'utf-8', 'normalize': True, 'min_categories_for_embedding': 10}\n",
      "INFO:profiler.data.dataset:inferred types of attributes: {\n",
      "    \"tls\": \"categorical\",\n",
      "    \"tms\": \"categorical\",\n",
      "    \"trs\": \"categorical\",\n",
      "    \"mls\": \"categorical\",\n",
      "    \"mms\": \"categorical\",\n",
      "    \"mrs\": \"categorical\",\n",
      "    \"bls\": \"categorical\",\n",
      "    \"bms\": \"categorical\",\n",
      "    \"brs\": \"categorical\",\n",
      "    \"class\": \"categorical\"\n",
      "}\n",
      "INFO:profiler.data.dataset:(possible types: numeric, categorical, text, date)\n",
      "INFO:profiler.data.dataset:inferred operators of attributes: {'tls': ['equal'], 'tms': ['equal'], 'trs': ['equal'], 'mls': ['equal'], 'mms': ['equal'], 'mrs': ['equal'], 'bls': ['equal'], 'bms': ['equal'], 'brs': ['equal'], 'class': ['equal']}\n",
      "INFO:profiler.data.dataset:(possible operators: equal, notequal, greater_than, less_than)\n",
      "INFO:profiler.utility:[0.07778763771057129] Load Data execution time: 0.060990333557128906\n",
      "\n"
     ]
    }
   ],
   "source": [
    "pf.session.load_data(name='ttt', src=FILE, fpath='./hce_data/ttt/ttt.csv', check_param=True, na_values='empty')"
   ]
  },
  {
   "cell_type": "code",
   "execution_count": 4,
   "metadata": {
    "collapsed": true
   },
   "outputs": [],
   "source": [
    "# pf.session.change_dtypes(['tls', 'ZipCode', 'PhoneNumber', 'State', 'EmergencyService','Score', 'Sample'], \n",
    "#                             [CATEGORICAL, NUMERIC, CATEGORICAL, TEXT, TEXT, NUMERIC, NUMERIC],\n",
    "#                             [None, None, None, None, None, r'(\\d+)%', r'(\\d+)\\spatients'])"
   ]
  },
  {
   "cell_type": "code",
   "execution_count": 5,
   "metadata": {
    "collapsed": false
   },
   "outputs": [
    {
     "name": "stderr",
     "output_type": "stream",
     "text": [
      "INFO:profiler.utility:[0.09514474868774414] Create Training Data start\n",
      "\n",
      "INFO:profiler.utility:[0.13722729682922363] Create Training Data execution time: 0.04208254814147949\n",
      "\n"
     ]
    }
   ],
   "source": [
    "pf.session.load_training_data(multiplier = 100, difference=False)"
   ]
  },
  {
   "cell_type": "code",
   "execution_count": 6,
   "metadata": {
    "collapsed": false
   },
   "outputs": [
    {
     "name": "stderr",
     "output_type": "stream",
     "text": [
      "INFO:profiler.utility:[0.14325475692749023] Learn Structure start\n",
      "\n",
      "INFO:profiler.learner:use threshold 0.4903\n",
      "INFO:profiler.utility:[0.27312278747558594] Learn Structure execution time: 0.1298680305480957\n",
      "\n"
     ]
    }
   ],
   "source": [
    "# set sparsity to 0 for exp_reproduce \n",
    "autoregress_matrix = pf.session.learn_structure(sparsity=0, infer_order=True)"
   ]
  },
  {
   "cell_type": "code",
   "execution_count": 7,
   "metadata": {
    "collapsed": false
   },
   "outputs": [
    {
     "name": "stderr",
     "output_type": "stream",
     "text": [
      "INFO:profiler.utility:[0.28035473823547363] Get Dependencies start\n",
      "\n",
      "INFO:profiler.utility:[0.32774972915649414] Get Dependencies execution time: 0.04739499092102051\n",
      "\n"
     ]
    },
    {
     "name": "stdout",
     "output_type": "stream",
     "text": [
      "mms -> trs (0.17101598205987767)\n",
      "mms,trs -> mrs (0.23956475616444084)\n",
      "mms,trs,mrs -> brs (0.15765835294799388)\n",
      "mms,trs,mrs,brs -> tls (0.15102866332317635)\n",
      "mms,trs,mrs,brs -> bls (0.15062457969927773)\n",
      "mms,trs,mrs,brs,tls,bls -> bms (0.17136526635139204)\n",
      "trs,mrs,tls,bls,bms -> class (0.2388765164298024)\n",
      "mms,mrs,brs,bms -> tms (0.16732179689631765)\n",
      "mms,mrs,brs,bms -> mls (0.1714134280313984)\n",
      "{'mms': array([], dtype=object), 'trs': array(['mms'], dtype=object), 'mrs': array(['mms', 'trs'], dtype=object), 'brs': array(['mms', 'trs', 'mrs'], dtype=object), 'tls': array(['mms', 'trs', 'mrs', 'brs'], dtype=object), 'bls': array(['mms', 'trs', 'mrs', 'brs'], dtype=object), 'bms': array(['mms', 'trs', 'mrs', 'brs', 'tls', 'bls'], dtype=object), 'class': array(['trs', 'mrs', 'tls', 'bls', 'bms'], dtype=object), 'tms': array(['mms', 'mrs', 'brs', 'bms'], dtype=object), 'mls': array(['mms', 'mrs', 'brs', 'bms'], dtype=object)}\n"
     ]
    }
   ],
   "source": [
    "parent_sets = pf.session.get_dependencies(score=\"fit_error\")"
   ]
  },
  {
   "cell_type": "code",
   "execution_count": 8,
   "metadata": {
    "collapsed": false
   },
   "outputs": [
    {
     "name": "stderr",
     "output_type": "stream",
     "text": [
      "/root/anaconda3/lib/python3.6/site-packages/matplotlib/font_manager.py:1297: UserWarning: findfont: Font family ['sans-serif'] not found. Falling back to DejaVu Sans\n",
      "  (prop.get_family(), self.defaultFamily[fontext]))\n"
     ]
    },
    {
     "data": {
      "image/png": "[encoded data removed]",
      "text/plain": [
       "<matplotlib.figure.Figure at 0x7f7e62bfdd68>"
      ]
     },
     "metadata": {},
     "output_type": "display_data"
    }
   ],
   "source": [
    "pf.session.visualize_covariance()"
   ]
  },
  {
   "cell_type": "code",
   "execution_count": 9,
   "metadata": {
    "collapsed": false
   },
   "outputs": [
    {
     "name": "stderr",
     "output_type": "stream",
     "text": [
      "/root/anaconda3/lib/python3.6/site-packages/matplotlib/font_manager.py:1297: UserWarning: findfont: Font family ['sans-serif'] not found. Falling back to DejaVu Sans\n",
      "  (prop.get_family(), self.defaultFamily[fontext]))\n"
     ]
    },
    {
     "data": {
      "image/png": "[encoded data removed]",
      "text/plain": [
       "<matplotlib.figure.Figure at 0x7f7e18a84c18>"
      ]
     },
     "metadata": {},
     "output_type": "display_data"
    },
    {
     "name": "stdout",
     "output_type": "stream",
     "text": [
      "none-zero pairs of abs inv\n"
     ]
    }
   ],
   "source": [
    "pf.session.visualize_inverse_covariance()"
   ]
  },
  {
   "cell_type": "code",
   "execution_count": 10,
   "metadata": {
    "collapsed": false
   },
   "outputs": [
    {
     "name": "stderr",
     "output_type": "stream",
     "text": [
      "/root/anaconda3/lib/python3.6/site-packages/matplotlib/font_manager.py:1297: UserWarning: findfont: Font family ['sans-serif'] not found. Falling back to DejaVu Sans\n",
      "  (prop.get_family(), self.defaultFamily[fontext]))\n"
     ]
    },
    {
     "data": {
      "image/png": "[encoded data removed]",
      "text/plain": [
       "<matplotlib.figure.Figure at 0x7f7e189da4e0>"
      ]
     },
     "metadata": {},
     "output_type": "display_data"
    }
   ],
   "source": [
    "pf.session.visualize_autoregression()"
   ]
  },
  {
   "cell_type": "code",
   "execution_count": 11,
   "metadata": {
    "collapsed": false
   },
   "outputs": [
    {
     "data": {
      "text/html": [
       "<div>\n",
       "<table border=\"1\" class=\"dataframe\">\n",
       "  <thead>\n",
       "    <tr style=\"text-align: right;\">\n",
       "      <th></th>\n",
       "      <th>time_point</th>\n",
       "      <th>msg</th>\n",
       "      <th>execution_time</th>\n",
       "    </tr>\n",
       "  </thead>\n",
       "  <tbody>\n",
       "    <tr>\n",
       "      <th>0</th>\n",
       "      <td>0.016797</td>\n",
       "      <td>start: Load Data</td>\n",
       "      <td>0.000000</td>\n",
       "    </tr>\n",
       "    <tr>\n",
       "      <th>1</th>\n",
       "      <td>0.077788</td>\n",
       "      <td>end: Load Data</td>\n",
       "      <td>0.060990</td>\n",
       "    </tr>\n",
       "    <tr>\n",
       "      <th>2</th>\n",
       "      <td>0.095145</td>\n",
       "      <td>start: Create Training Data</td>\n",
       "      <td>0.000000</td>\n",
       "    </tr>\n",
       "    <tr>\n",
       "      <th>3</th>\n",
       "      <td>0.137227</td>\n",
       "      <td>end: Create Training Data</td>\n",
       "      <td>0.042083</td>\n",
       "    </tr>\n",
       "    <tr>\n",
       "      <th>4</th>\n",
       "      <td>0.143255</td>\n",
       "      <td>start: Learn Structure</td>\n",
       "      <td>0.000000</td>\n",
       "    </tr>\n",
       "    <tr>\n",
       "      <th>5</th>\n",
       "      <td>0.273123</td>\n",
       "      <td>end: Learn Structure</td>\n",
       "      <td>0.129868</td>\n",
       "    </tr>\n",
       "    <tr>\n",
       "      <th>6</th>\n",
       "      <td>0.280355</td>\n",
       "      <td>start: Get Dependencies</td>\n",
       "      <td>0.000000</td>\n",
       "    </tr>\n",
       "    <tr>\n",
       "      <th>7</th>\n",
       "      <td>0.327750</td>\n",
       "      <td>end: Get Dependencies</td>\n",
       "      <td>0.047395</td>\n",
       "    </tr>\n",
       "    <tr>\n",
       "      <th>8</th>\n",
       "      <td>0.327750</td>\n",
       "      <td>total_execution_time</td>\n",
       "      <td>0.280336</td>\n",
       "    </tr>\n",
       "  </tbody>\n",
       "</table>\n",
       "</div>"
      ],
      "text/plain": [
       "   time_point                          msg  execution_time\n",
       "0    0.016797             start: Load Data        0.000000\n",
       "1    0.077788               end: Load Data        0.060990\n",
       "2    0.095145  start: Create Training Data        0.000000\n",
       "3    0.137227    end: Create Training Data        0.042083\n",
       "4    0.143255       start: Learn Structure        0.000000\n",
       "5    0.273123         end: Learn Structure        0.129868\n",
       "6    0.280355      start: Get Dependencies        0.000000\n",
       "7    0.327750        end: Get Dependencies        0.047395\n",
       "8    0.327750         total_execution_time        0.280336"
      ]
     },
     "execution_count": 11,
     "metadata": {},
     "output_type": "execute_result"
    }
   ],
   "source": [
    "pf.session.timer.get_stat()"
   ]
  },
  {
   "cell_type": "code",
   "execution_count": 12,
   "metadata": {
    "collapsed": true
   },
   "outputs": [],
   "source": [
    "pf.session.timer.to_csv()"
   ]
  },
  {
   "cell_type": "code",
   "execution_count": null,
   "metadata": {
    "collapsed": true
   },
   "outputs": [],
   "source": []
  },
  {
   "cell_type": "code",
   "execution_count": null,
   "metadata": {
    "collapsed": true
   },
   "outputs": [],
   "source": []
  },
  {
   "cell_type": "code",
   "execution_count": null,
   "metadata": {
    "collapsed": true
   },
   "outputs": [],
   "source": []
  }
 ],
 "metadata": {
  "kernelspec": {
   "display_name": "Python 3",
   "language": "python",
   "name": "python3"
  },
  "language_info": {
   "codemirror_mode": {
    "name": "ipython",
    "version": 3
   },
   "file_extension": ".py",
   "mimetype": "text/x-python",
   "name": "python",
   "nbconvert_exporter": "python",
   "pygments_lexer": "ipython3",
   "version": "3.6.7"
  }
 },
 "nbformat": 4,
 "nbformat_minor": 2
}
