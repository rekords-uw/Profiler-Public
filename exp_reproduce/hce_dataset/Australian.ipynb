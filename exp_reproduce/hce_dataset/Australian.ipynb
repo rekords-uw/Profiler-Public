{
 "cells": [
  {
   "cell_type": "code",
   "execution_count": 1,
   "metadata": {
    "collapsed": true
   },
   "outputs": [],
   "source": [
    "from profiler.core import *"
   ]
  },
  {
   "cell_type": "code",
   "execution_count": 2,
   "metadata": {
    "collapsed": true
   },
   "outputs": [],
   "source": [
    "pf = Profiler(workers = 2, tol=1e-6, eps=0.05, embedtxt=True)"
   ]
  },
  {
   "cell_type": "code",
   "execution_count": 3,
   "metadata": {
    "collapsed": false
   },
   "outputs": [
    {
     "name": "stderr",
     "output_type": "stream",
     "text": [
      "INFO:profiler.utility:[0.011988639831542969] Load Data start\n",
      "\n",
      "INFO:profiler.data.dataset:parameters used for data loading:\n",
      " {'na_values': 'empty', 'sep': ',', 'header': 'infer', 'dropcol': None, 'dropna': False, 'encoding': 'utf-8', 'normalize': True, 'min_categories_for_embedding': 10}\n",
      "INFO:profiler.data.dataset:inferred types of attributes: {\n",
      "    \"A1\": \"numeric\",\n",
      "    \"A2\": \"numeric\",\n",
      "    \"A3\": \"numeric\",\n",
      "    \"A4\": \"numeric\",\n",
      "    \"A5\": \"numeric\",\n",
      "    \"A6\": \"numeric\",\n",
      "    \"A7\": \"numeric\",\n",
      "    \"A8\": \"numeric\",\n",
      "    \"A9\": \"numeric\",\n",
      "    \"A10\": \"numeric\",\n",
      "    \"A11\": \"numeric\",\n",
      "    \"A12\": \"numeric\",\n",
      "    \"A13\": \"numeric\",\n",
      "    \"A14\": \"numeric\",\n",
      "    \"A15\": \"numeric\"\n",
      "}\n",
      "INFO:profiler.data.dataset:(possible types: numeric, categorical, text, date)\n",
      "INFO:profiler.data.dataset:inferred operators of attributes: {'A1': ['equal'], 'A2': ['equal'], 'A3': ['equal'], 'A4': ['equal'], 'A5': ['equal'], 'A6': ['equal'], 'A7': ['equal'], 'A8': ['equal'], 'A9': ['equal'], 'A10': ['equal'], 'A11': ['equal'], 'A12': ['equal'], 'A13': ['equal'], 'A14': ['equal'], 'A15': ['equal']}\n",
      "INFO:profiler.data.dataset:(possible operators: equal, notequal, greater_than, less_than)\n",
      "INFO:profiler.utility:[0.045174360275268555] Load Data execution time: 0.033185720443725586\n",
      "\n"
     ]
    }
   ],
   "source": [
    "pf.session.load_data(name='ttt', src=FILE, fpath='./hce_data/australian/australian.csv', check_param=True, na_values='empty')"
   ]
  },
  {
   "cell_type": "code",
   "execution_count": 4,
   "metadata": {
    "collapsed": true
   },
   "outputs": [],
   "source": [
    "# pf.session.change_dtypes(['tls', 'ZipCode', 'PhoneNumber', 'State', 'EmergencyService','Score', 'Sample'], \n",
    "#                             [CATEGORICAL, NUMERIC, CATEGORICAL, TEXT, TEXT, NUMERIC, NUMERIC],\n",
    "#                             [None, None, None, None, None, r'(\\d+)%', r'(\\d+)\\spatients'])"
   ]
  },
  {
   "cell_type": "code",
   "execution_count": 5,
   "metadata": {
    "collapsed": false
   },
   "outputs": [
    {
     "name": "stderr",
     "output_type": "stream",
     "text": [
      "INFO:profiler.utility:[0.0645146369934082] Create Training Data start\n",
      "\n",
      "INFO:profiler.data.transformer:needs multiplier = 12 to bound the error in inv cov estimation <= 0.05000000\n",
      "INFO:profiler.data.transformer:use multiplier = 12, and the bound is 0.00128383\n",
      "INFO:profiler.data.transformer:Draw Pairs\n",
      "100%|██████████| 15/15 [00:00<00:00, 398.34it/s]\n",
      "INFO:profiler.data.transformer:Number of training samples: 10350\n",
      "INFO:profiler.data.transformer:Computing Differences\n",
      "INFO:profiler.data.transformer:estimated missing data probability in training data is 0.0000\n",
      "INFO:profiler.utility:[0.25838804244995117] Create Training Data execution time: 0.19387340545654297\n",
      "\n"
     ]
    }
   ],
   "source": [
    "pf.session.load_training_data(multiplier = None, difference=True)"
   ]
  },
  {
   "cell_type": "code",
   "execution_count": 6,
   "metadata": {
    "collapsed": false
   },
   "outputs": [
    {
     "name": "stderr",
     "output_type": "stream",
     "text": [
      "INFO:profiler.utility:[0.26442980766296387] Learn Structure start\n",
      "\n",
      "INFO:profiler.learner:use threshold 1.0506\n",
      "INFO:profiler.utility:[0.37856626510620117] Learn Structure execution time: 0.1141364574432373\n",
      "\n"
     ]
    }
   ],
   "source": [
    "# set sparsity to 0 for exp_reproduce \n",
    "autoregress_matrix = pf.session.learn_structure(sparsity=0, infer_order=True)"
   ]
  },
  {
   "cell_type": "code",
   "execution_count": 7,
   "metadata": {
    "collapsed": false
   },
   "outputs": [
    {
     "name": "stderr",
     "output_type": "stream",
     "text": [
      "INFO:profiler.utility:[0.384702205657959] Get Dependencies start\n",
      "\n",
      "INFO:profiler.utility:[0.4262216091156006] Get Dependencies execution time: 0.0415194034576416\n",
      "\n"
     ]
    },
    {
     "name": "stdout",
     "output_type": "stream",
     "text": [
      "A8 -> A15 (0.18496879505732117)\n",
      "A10 -> A14 (0.13967685779644448)\n",
      "A10 -> A9 (0.12254080254549368)\n",
      "A9 -> A12 (0.17025028346650614)\n",
      "A12 -> A4 (0.24862911115125017)\n",
      "{'A1': array([], dtype=object), 'A2': array([], dtype=object), 'A3': array([], dtype=object), 'A5': array([], dtype=object), 'A6': array([], dtype=object), 'A7': array([], dtype=object), 'A11': array([], dtype=object), 'A13': array([], dtype=object), 'A8': array([], dtype=object), 'A15': array(['A8'], dtype=object), 'A10': array([], dtype=object), 'A14': array(['A10'], dtype=object), 'A9': array(['A10'], dtype=object), 'A12': array(['A9'], dtype=object), 'A4': array(['A12'], dtype=object)}\n"
     ]
    }
   ],
   "source": [
    "parent_sets = pf.session.get_dependencies(score=\"fit_error\")"
   ]
  },
  {
   "cell_type": "code",
   "execution_count": 8,
   "metadata": {
    "collapsed": false
   },
   "outputs": [
    {
     "name": "stderr",
     "output_type": "stream",
     "text": [
      "/root/anaconda3/lib/python3.6/site-packages/matplotlib/font_manager.py:1297: UserWarning: findfont: Font family ['sans-serif'] not found. Falling back to DejaVu Sans\n",
      "  (prop.get_family(), self.defaultFamily[fontext]))\n"
     ]
    },
    {
     "data": {
      "image/png": "[encoded data removed]",
      "text/plain": [
       "<matplotlib.figure.Figure at 0x7f2ce5204ac8>"
      ]
     },
     "metadata": {},
     "output_type": "display_data"
    }
   ],
   "source": [
    "pf.session.visualize_covariance()"
   ]
  },
  {
   "cell_type": "code",
   "execution_count": null,
   "metadata": {
    "collapsed": false
   },
   "outputs": [
    {
     "name": "stderr",
     "output_type": "stream",
     "text": [
      "/root/anaconda3/lib/python3.6/site-packages/matplotlib/font_manager.py:1297: UserWarning: findfont: Font family ['sans-serif'] not found. Falling back to DejaVu Sans\n",
      "  (prop.get_family(), self.defaultFamily[fontext]))\n"
     ]
    },
    {
     "data": {
      "image/png": "[encoded data removed]",
      "text/plain": [
       "<matplotlib.figure.Figure at 0x7f2cb3842ef0>"
      ]
     },
     "metadata": {},
     "output_type": "display_data"
    },
    {
     "name": "stdout",
     "output_type": "stream",
     "text": [
      "none-zero pairs of abs inv\n"
     ]
    }
   ],
   "source": [
    "pf.session.visualize_inverse_covariance()"
   ]
  },
  {
   "cell_type": "code",
   "execution_count": null,
   "metadata": {
    "collapsed": false
   },
   "outputs": [
    {
     "name": "stderr",
     "output_type": "stream",
     "text": [
      "/root/anaconda3/lib/python3.6/site-packages/matplotlib/font_manager.py:1297: UserWarning: findfont: Font family ['sans-serif'] not found. Falling back to DejaVu Sans\n",
      "  (prop.get_family(), self.defaultFamily[fontext]))\n"
     ]
    }
   ],
   "source": [
    "pf.session.visualize_autoregression()"
   ]
  },
  {
   "cell_type": "code",
   "execution_count": null,
   "metadata": {
    "collapsed": false
   },
   "outputs": [],
   "source": [
    "pf.session.timer.get_stat()"
   ]
  },
  {
   "cell_type": "code",
   "execution_count": null,
   "metadata": {
    "collapsed": true
   },
   "outputs": [],
   "source": [
    "pf.session.timer.to_csv()"
   ]
  },
  {
   "cell_type": "code",
   "execution_count": null,
   "metadata": {
    "collapsed": true
   },
   "outputs": [],
   "source": []
  }
 ],
 "metadata": {
  "kernelspec": {
   "display_name": "Python 3",
   "language": "python",
   "name": "python3"
  },
  "language_info": {
   "codemirror_mode": {
    "name": "ipython",
    "version": 3
   },
   "file_extension": ".py",
   "mimetype": "text/x-python",
   "name": "python",
   "nbconvert_exporter": "python",
   "pygments_lexer": "ipython3",
   "version": "3.6.7"
  }
 },
 "nbformat": 4,
 "nbformat_minor": 2
}
