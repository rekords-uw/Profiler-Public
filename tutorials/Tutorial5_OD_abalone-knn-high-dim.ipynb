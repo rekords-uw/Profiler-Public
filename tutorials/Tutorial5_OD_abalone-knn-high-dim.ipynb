{
 "cells": [
  {
   "cell_type": "markdown",
   "metadata": {},
   "source": [
    "## 0. Load Data"
   ]
  },
  {
   "cell_type": "code",
   "execution_count": 1,
   "metadata": {},
   "outputs": [],
   "source": [
    "dataname = 'abalone'"
   ]
  },
  {
   "cell_type": "code",
   "execution_count": 2,
   "metadata": {},
   "outputs": [],
   "source": [
    "from scipy.io import loadmat\n",
    "import numpy as np\n",
    "import pandas as pd\n",
    "df = pd.read_csv('../datasets/OD/%s/meta_data/%s.original.csv'%(dataname, dataname))\n",
    "gt = pd.read_csv('../datasets/OD/%s/meta_data/%s.diff.csv'%(dataname, dataname))['ground.truth']\n",
    "gt_idx = gt.index.values[gt == 'anomaly']"
   ]
  },
  {
   "cell_type": "code",
   "execution_count": 3,
   "metadata": {},
   "outputs": [
    {
     "data": {
      "text/html": [
       "<div>\n",
       "<style scoped>\n",
       "    .dataframe tbody tr th:only-of-type {\n",
       "        vertical-align: middle;\n",
       "    }\n",
       "\n",
       "    .dataframe tbody tr th {\n",
       "        vertical-align: top;\n",
       "    }\n",
       "\n",
       "    .dataframe thead th {\n",
       "        text-align: right;\n",
       "    }\n",
       "</style>\n",
       "<table border=\"1\" class=\"dataframe\">\n",
       "  <thead>\n",
       "    <tr style=\"text-align: right;\">\n",
       "      <th></th>\n",
       "      <th>Y</th>\n",
       "      <th>F1</th>\n",
       "      <th>V1</th>\n",
       "      <th>V2</th>\n",
       "      <th>V3</th>\n",
       "      <th>V4</th>\n",
       "      <th>V5</th>\n",
       "      <th>V6</th>\n",
       "      <th>V7</th>\n",
       "    </tr>\n",
       "  </thead>\n",
       "  <tbody>\n",
       "    <tr>\n",
       "      <th>0</th>\n",
       "      <td>15</td>\n",
       "      <td>M</td>\n",
       "      <td>0.455</td>\n",
       "      <td>0.365</td>\n",
       "      <td>0.095</td>\n",
       "      <td>0.5140</td>\n",
       "      <td>0.2245</td>\n",
       "      <td>0.1010</td>\n",
       "      <td>0.150</td>\n",
       "    </tr>\n",
       "    <tr>\n",
       "      <th>1</th>\n",
       "      <td>7</td>\n",
       "      <td>M</td>\n",
       "      <td>0.350</td>\n",
       "      <td>0.265</td>\n",
       "      <td>0.090</td>\n",
       "      <td>0.2255</td>\n",
       "      <td>0.0995</td>\n",
       "      <td>0.0485</td>\n",
       "      <td>0.070</td>\n",
       "    </tr>\n",
       "    <tr>\n",
       "      <th>2</th>\n",
       "      <td>9</td>\n",
       "      <td>F</td>\n",
       "      <td>0.530</td>\n",
       "      <td>0.420</td>\n",
       "      <td>0.135</td>\n",
       "      <td>0.6770</td>\n",
       "      <td>0.2565</td>\n",
       "      <td>0.1415</td>\n",
       "      <td>0.210</td>\n",
       "    </tr>\n",
       "    <tr>\n",
       "      <th>3</th>\n",
       "      <td>10</td>\n",
       "      <td>M</td>\n",
       "      <td>0.440</td>\n",
       "      <td>0.365</td>\n",
       "      <td>0.125</td>\n",
       "      <td>0.5160</td>\n",
       "      <td>0.2155</td>\n",
       "      <td>0.1140</td>\n",
       "      <td>0.155</td>\n",
       "    </tr>\n",
       "    <tr>\n",
       "      <th>4</th>\n",
       "      <td>7</td>\n",
       "      <td>I</td>\n",
       "      <td>0.330</td>\n",
       "      <td>0.255</td>\n",
       "      <td>0.080</td>\n",
       "      <td>0.2050</td>\n",
       "      <td>0.0895</td>\n",
       "      <td>0.0395</td>\n",
       "      <td>0.055</td>\n",
       "    </tr>\n",
       "  </tbody>\n",
       "</table>\n",
       "</div>"
      ],
      "text/plain": [
       "    Y F1     V1     V2     V3      V4      V5      V6     V7\n",
       "0  15  M  0.455  0.365  0.095  0.5140  0.2245  0.1010  0.150\n",
       "1   7  M  0.350  0.265  0.090  0.2255  0.0995  0.0485  0.070\n",
       "2   9  F  0.530  0.420  0.135  0.6770  0.2565  0.1415  0.210\n",
       "3  10  M  0.440  0.365  0.125  0.5160  0.2155  0.1140  0.155\n",
       "4   7  I  0.330  0.255  0.080  0.2050  0.0895  0.0395  0.055"
      ]
     },
     "execution_count": 3,
     "metadata": {},
     "output_type": "execute_result"
    }
   ],
   "source": [
    "df.head()"
   ]
  },
  {
   "cell_type": "code",
   "execution_count": 13,
   "metadata": {},
   "outputs": [
    {
     "name": "stdout",
     "output_type": "stream",
     "text": [
      "/mydata/Profiler-Public\n"
     ]
    }
   ],
   "source": [
    "cd .."
   ]
  },
  {
   "cell_type": "code",
   "execution_count": 14,
   "metadata": {},
   "outputs": [],
   "source": [
    "from profiler.core import *"
   ]
  },
  {
   "cell_type": "markdown",
   "metadata": {},
   "source": [
    "## 1. Instantiate Engine\n",
    "* workers : number of processes\n",
    "* tol     : tolerance for differences when creating training data (set to 0 if data is completely clean)\n",
    "* eps     : error bound for inverse covariance estimation (since we use conservative calculation when determining minimum sample size, we recommend to set eps <= 0.01)\n",
    "* embedtxt: if set to true, differentiate b/w textual data and categorical data, and use word embedding for the former"
   ]
  },
  {
   "cell_type": "code",
   "execution_count": 15,
   "metadata": {},
   "outputs": [],
   "source": [
    "pf = Profiler(workers=2, tol=0.01, eps=0.05, embedtxt=False)"
   ]
  },
  {
   "cell_type": "markdown",
   "metadata": {},
   "source": [
    "## 2. Load Data\n",
    "* name: any name you like\n",
    "* src: \\[FILE; DF; DB (not implemented)\\]\n",
    "* fpath: required if src == FILE\n",
    "* df: required if src == DF\n",
    "* check_param: print parameters used for data loading"
   ]
  },
  {
   "cell_type": "code",
   "execution_count": 16,
   "metadata": {},
   "outputs": [
    {
     "name": "stderr",
     "output_type": "stream",
     "text": [
      "INFO:profiler.utility:[2.5616350173950195] Load Data start\n",
      "\n",
      "INFO:profiler.data.dataset:parameters used for data loading:\n",
      " {'na_values': {'', 'nan', 'none', 'unknown', '?', 'NaN', 'None'}, 'sep': ',', 'header': 'infer', 'dropcol': None, 'dropna': False, 'encoding': 'utf-8', 'normalize': True, 'min_categories_for_embedding': 10}\n",
      "INFO:profiler.data.dataset:inferred types of attributes: {\n",
      "    \"Y\": \"numeric\",\n",
      "    \"F1\": \"categorical\",\n",
      "    \"V1\": \"numeric\",\n",
      "    \"V2\": \"numeric\",\n",
      "    \"V3\": \"numeric\",\n",
      "    \"V4\": \"numeric\",\n",
      "    \"V5\": \"numeric\",\n",
      "    \"V6\": \"numeric\",\n",
      "    \"V7\": \"numeric\"\n",
      "}\n",
      "INFO:profiler.data.dataset:(possible types: numeric, categorical, text, date)\n",
      "INFO:profiler.data.dataset:inferred operators of attributes: {'Y': ['equal'], 'F1': ['equal'], 'V1': ['equal'], 'V2': ['equal'], 'V3': ['equal'], 'V4': ['equal'], 'V5': ['equal'], 'V6': ['equal'], 'V7': ['equal']}\n",
      "INFO:profiler.data.dataset:(possible operators: equal, notequal, greater_than, less_than)\n",
      "INFO:profiler.utility:[2.5821125507354736] Load Data execution time: 0.0204775333404541\n",
      "\n"
     ]
    }
   ],
   "source": [
    "pf.session.load_data(src=DF, df=df, check_param=True)"
   ]
  },
  {
   "cell_type": "markdown",
   "metadata": {},
   "source": [
    "### 2.1 Change Data Types of Attributes\n",
    "* required input:\n",
    "    * a list of attributes\n",
    "    * a list of data types (must match the order of the attributes; can be CATEGORICAL, NUMERIC, TEXT, DATE)\n",
    "* optional input:\n",
    "    * a list of regular expression extractor"
   ]
  },
  {
   "cell_type": "code",
   "execution_count": 17,
   "metadata": {},
   "outputs": [],
   "source": [
    "\n",
    "# pf.session.change_dtypes(['ProviderNumber', 'ZipCode', 'PhoneNumber', 'State', 'EmergencyService','Score', 'Sample'], \n",
    "#                             [CATEGORICAL, NUMERIC, CATEGORICAL, TEXT, TEXT, NUMERIC, NUMERIC],\n",
    "#                             [None, None, None, None, None, r'(\\d+)%', r'(\\d+)\\spatients'])"
   ]
  },
  {
   "cell_type": "markdown",
   "metadata": {},
   "source": [
    "### 2.2. Load/Train Embeddings for TEXT\n",
    "* path: path to saved/to-save embedding folder\n",
    "* load: set to true -- load saved vec from 'path'; set to false -- train locally\n",
    "* save: (only for load = False) save trained vectors to 'path'"
   ]
  },
  {
   "cell_type": "code",
   "execution_count": 18,
   "metadata": {
    "scrolled": true
   },
   "outputs": [],
   "source": [
    "#pf.session.load_embedding(save=True, path='data/hospital/', load=True)"
   ]
  },
  {
   "cell_type": "markdown",
   "metadata": {},
   "source": [
    "## 3. Load Training Data\n",
    "* multiplier: if set to None, will infer the minimal sample size; otherwise, it will create (# samples) * (# attributes) * (multiplier) training samples"
   ]
  },
  {
   "cell_type": "code",
   "execution_count": 19,
   "metadata": {},
   "outputs": [
    {
     "name": "stderr",
     "output_type": "stream",
     "text": [
      "INFO:profiler.utility:[15.505944728851318] Create Training Data start\n",
      "\n",
      "INFO:profiler.data.transformer:needs multiplier = 9 to bound the error in inv cov estimation <= 0.05000000\n",
      "INFO:profiler.data.transformer:use multiplier = 9, and the bound is 0.00017033\n",
      "INFO:profiler.data.transformer:Draw Pairs\n",
      "100%|██████████| 9/9 [00:00<00:00, 214.46it/s]\n",
      "INFO:profiler.data.transformer:Number of training samples: 37593\n",
      "INFO:profiler.data.transformer:Computing Differences\n",
      "INFO:profiler.data.transformer:estimated missing data probability in training data is 0.0000\n",
      "INFO:profiler.utility:[15.747708320617676] Create Training Data execution time: 0.24176359176635742\n",
      "\n"
     ]
    }
   ],
   "source": [
    "pf.session.load_training_data(multiplier = None)"
   ]
  },
  {
   "cell_type": "markdown",
   "metadata": {},
   "source": [
    "## 4. Learn Structure\n",
    "* sparsity: intensity of L1-regularizer in inverse covariance estimation (glasso)\n",
    "* take_neg: if set to true, consider equal -> equal only"
   ]
  },
  {
   "cell_type": "code",
   "execution_count": 20,
   "metadata": {},
   "outputs": [
    {
     "name": "stderr",
     "output_type": "stream",
     "text": [
      "INFO:profiler.utility:[18.57251477241516] Learn Structure start\n",
      "\n",
      "INFO:profiler.learner:use threshold 0.0688\n",
      "INFO:profiler.utility:[18.692818641662598] Learn Structure execution time: 0.12030386924743652\n",
      "\n"
     ]
    }
   ],
   "source": [
    "autoregress_matrix = pf.session.learn_structure(sparsity=0,\n",
    "                                                infer_order=True)"
   ]
  },
  {
   "cell_type": "markdown",
   "metadata": {},
   "source": [
    "* score: \n",
    "    * \"fit_error\": mse for fitting y = B'X + c for each atttribute y \n",
    "    * \"training_data_fd_vio_ratio\": the higher the score, the more violations of FDs in the training data. (bounded: \\[0,1\\])"
   ]
  },
  {
   "cell_type": "code",
   "execution_count": 21,
   "metadata": {},
   "outputs": [
    {
     "name": "stderr",
     "output_type": "stream",
     "text": [
      "INFO:profiler.utility:[22.15825128555298] Get Dependencies start\n",
      "\n",
      "INFO:profiler.utility:[22.20909309387207] Get Dependencies execution time: 0.0508418083190918\n",
      "\n"
     ]
    },
    {
     "name": "stdout",
     "output_type": "stream",
     "text": [
      "V3 -> V4 (0.2008338812632871)\n",
      "V3,V4 -> V5 (0.1809464686109031)\n",
      "V3,V4,V5 -> V6 (0.18955134238655622)\n",
      "V3,V4,V5,V6 -> V7 (0.19150818668569286)\n",
      "V3,V4,V7 -> V2 (0.19611317528179015)\n",
      "V4,V7,V2 -> V1 (0.19223402485912403)\n",
      "V7 -> F1 (0.24970344566920666)\n"
     ]
    }
   ],
   "source": [
    "parent_sets = pf.session.get_dependencies(score=\"fit_error\")\n"
   ]
  },
  {
   "cell_type": "markdown",
   "metadata": {},
   "source": [
    "## 5. Visualization"
   ]
  },
  {
   "cell_type": "code",
   "execution_count": 12,
   "metadata": {},
   "outputs": [
    {
     "data": {
      "text/plain": [
       "<Figure size 1000x800 with 2 Axes>"
      ]
     },
     "metadata": {},
     "output_type": "display_data"
    }
   ],
   "source": [
    "pf.session.visualize_covariance()"
   ]
  },
  {
   "cell_type": "code",
   "execution_count": 13,
   "metadata": {},
   "outputs": [
    {
     "data": {
      "image/png": "[encoded data removed]",
      "text/plain": [
       "<Figure size 720x576 with 2 Axes>"
      ]
     },
     "metadata": {
      "needs_background": "light"
     },
     "output_type": "display_data"
    }
   ],
   "source": [
    "pf.session.visualize_inverse_covariance()"
   ]
  },
  {
   "cell_type": "code",
   "execution_count": 14,
   "metadata": {},
   "outputs": [
    {
     "data": {
      "image/png": "[encoded data removed]",
      "text/plain": [
       "<Figure size 720x576 with 2 Axes>"
      ]
     },
     "metadata": {
      "needs_background": "light"
     },
     "output_type": "display_data"
    }
   ],
   "source": [
    "pf.session.visualize_autoregression()"
   ]
  },
  {
   "cell_type": "code",
   "execution_count": 15,
   "metadata": {},
   "outputs": [
    {
     "data": {
      "text/html": [
       "<div>\n",
       "<style scoped>\n",
       "    .dataframe tbody tr th:only-of-type {\n",
       "        vertical-align: middle;\n",
       "    }\n",
       "\n",
       "    .dataframe tbody tr th {\n",
       "        vertical-align: top;\n",
       "    }\n",
       "\n",
       "    .dataframe thead th {\n",
       "        text-align: right;\n",
       "    }\n",
       "</style>\n",
       "<table border=\"1\" class=\"dataframe\">\n",
       "  <thead>\n",
       "    <tr style=\"text-align: right;\">\n",
       "      <th></th>\n",
       "      <th>time_point</th>\n",
       "      <th>msg</th>\n",
       "      <th>execution_time</th>\n",
       "    </tr>\n",
       "  </thead>\n",
       "  <tbody>\n",
       "    <tr>\n",
       "      <th>0</th>\n",
       "      <td>0.008436</td>\n",
       "      <td>start: Load Data</td>\n",
       "      <td>0.000000</td>\n",
       "    </tr>\n",
       "    <tr>\n",
       "      <th>1</th>\n",
       "      <td>0.032706</td>\n",
       "      <td>end: Load Data</td>\n",
       "      <td>0.024270</td>\n",
       "    </tr>\n",
       "    <tr>\n",
       "      <th>2</th>\n",
       "      <td>0.063827</td>\n",
       "      <td>start: Create Training Data</td>\n",
       "      <td>0.000000</td>\n",
       "    </tr>\n",
       "    <tr>\n",
       "      <th>3</th>\n",
       "      <td>0.207386</td>\n",
       "      <td>end: Create Training Data</td>\n",
       "      <td>0.143559</td>\n",
       "    </tr>\n",
       "    <tr>\n",
       "      <th>4</th>\n",
       "      <td>0.220367</td>\n",
       "      <td>start: Learn Structure</td>\n",
       "      <td>0.000000</td>\n",
       "    </tr>\n",
       "    <tr>\n",
       "      <th>5</th>\n",
       "      <td>0.336370</td>\n",
       "      <td>end: Learn Structure</td>\n",
       "      <td>0.116003</td>\n",
       "    </tr>\n",
       "    <tr>\n",
       "      <th>6</th>\n",
       "      <td>0.344186</td>\n",
       "      <td>start: Get Dependencies</td>\n",
       "      <td>0.000000</td>\n",
       "    </tr>\n",
       "    <tr>\n",
       "      <th>7</th>\n",
       "      <td>0.389725</td>\n",
       "      <td>end: Get Dependencies</td>\n",
       "      <td>0.045539</td>\n",
       "    </tr>\n",
       "    <tr>\n",
       "      <th>8</th>\n",
       "      <td>0.389725</td>\n",
       "      <td>total_execution_time</td>\n",
       "      <td>0.329371</td>\n",
       "    </tr>\n",
       "  </tbody>\n",
       "</table>\n",
       "</div>"
      ],
      "text/plain": [
       "   time_point                          msg  execution_time\n",
       "0    0.008436             start: Load Data        0.000000\n",
       "1    0.032706               end: Load Data        0.024270\n",
       "2    0.063827  start: Create Training Data        0.000000\n",
       "3    0.207386    end: Create Training Data        0.143559\n",
       "4    0.220367       start: Learn Structure        0.000000\n",
       "5    0.336370         end: Learn Structure        0.116003\n",
       "6    0.344186      start: Get Dependencies        0.000000\n",
       "7    0.389725        end: Get Dependencies        0.045539\n",
       "8    0.389725         total_execution_time        0.329371"
      ]
     },
     "execution_count": 15,
     "metadata": {},
     "output_type": "execute_result"
    }
   ],
   "source": [
    "pf.session.timer.get_stat()\n"
   ]
  },
  {
   "cell_type": "markdown",
   "metadata": {},
   "source": [
    "## 6. Outlier Detection"
   ]
  },
  {
   "cell_type": "code",
   "execution_count": 16,
   "metadata": {},
   "outputs": [],
   "source": [
    "from profiler.app.od import *"
   ]
  },
  {
   "cell_type": "code",
   "execution_count": 17,
   "metadata": {},
   "outputs": [],
   "source": [
    "# detector = ScikitDetector(pf.session.ds.df, attr=pf.session.ds.dtypes, method=\"isf\", gt_idx=gt_idx, min_neighbors=20)\n",
    "# detector.run_all(parent_sets)\n",
    "# detector.evaluate()"
   ]
  },
  {
   "cell_type": "code",
   "execution_count": 18,
   "metadata": {},
   "outputs": [
    {
     "name": "stderr",
     "output_type": "stream",
     "text": [
      "INFO:profiler.utility:[0.0006721019744873047] naive start\n",
      "\n",
      "INFO:profiler.utility:[0.9074897766113281] naive execution time: 0.9068176746368408\n",
      "\n",
      "INFO:profiler.utility:[0.9090409278869629] structured start\n",
      "\n",
      "100%|██████████| 9/9 [00:24<00:00,  2.75s/it]\n",
      "INFO:profiler.utility:[25.706223964691162] structured execution time: 24.7971830368042\n",
      "\n"
     ]
    },
    {
     "name": "stdout",
     "output_type": "stream",
     "text": [
      "   time_point                   msg  execution_time\n",
      "0    0.000672          start: naive        0.000000\n",
      "1    0.907490            end: naive        0.906818\n",
      "2    0.909041     start: structured        0.000000\n",
      "3   25.706224       end: structured       24.797183\n",
      "4   25.706224  total_execution_time       25.704001\n"
     ]
    }
   ],
   "source": [
    "detector2 = ScikitDetector(pf.session.ds.df, attr=pf.session.ds.dtypes, method=\"ocsvm\", gt_idx=gt_idx,\n",
    "                           nu=0.1, gamma='auto', min_neighbors=50, knn=True, neighbor_size=100, \n",
    "                           tol=0.01, high_dim=True)\n",
    "detector2.run_all(parent_sets)"
   ]
  },
  {
   "cell_type": "code",
   "execution_count": 19,
   "metadata": {},
   "outputs": [
    {
     "name": "stdout",
     "output_type": "stream",
     "text": [
      "Results for naive approach:\n",
      "with 3408 detected outliers, precision is: 0.5552\n",
      "with 6882 detected outliers, recall is: 0.9092\n",
      "f1: 0.6894\n",
      "Results for structure only:\n",
      "with 422 detected outliers, precision is: 0.5427\n",
      "with 422 detected outliers, recall is: 0.1100\n",
      "f1: 0.1830\n",
      "Results for enhance naive with structured:\n",
      "with 3448 detected outliers, precision is: 0.5537\n",
      "with 7304 detected outliers, recall is: 0.9173\n",
      "f1: 0.6905\n"
     ]
    },
    {
     "data": {
      "image/png": "[encoded data removed]",
      "text/plain": [
       "<Figure size 432x288 with 1 Axes>"
      ]
     },
     "metadata": {
      "needs_background": "light"
     },
     "output_type": "display_data"
    },
    {
     "data": {
      "image/png": "[encoded data removed]",
      "text/plain": [
       "<Figure size 432x288 with 1 Axes>"
      ]
     },
     "metadata": {
      "needs_background": "light"
     },
     "output_type": "display_data"
    },
    {
     "data": {
      "image/png": "[encoded data removed]",
      "text/plain": [
       "<Figure size 432x288 with 1 Axes>"
      ]
     },
     "metadata": {
      "needs_background": "light"
     },
     "output_type": "display_data"
    },
    {
     "data": {
      "image/png": "[encoded data removed]",
      "text/plain": [
       "<Figure size 432x288 with 1 Axes>"
      ]
     },
     "metadata": {
      "needs_background": "light"
     },
     "output_type": "display_data"
    }
   ],
   "source": [
    "detector2.evaluate(t=0.05)"
   ]
  }
 ],
 "metadata": {
  "kernelspec": {
   "display_name": "Python 3",
   "language": "python",
   "name": "python3"
  },
  "language_info": {
   "codemirror_mode": {
    "name": "ipython",
    "version": 3
   },
   "file_extension": ".py",
   "mimetype": "text/x-python",
   "name": "python",
   "nbconvert_exporter": "python",
   "pygments_lexer": "ipython3",
   "version": "3.7.3"
  }
 },
 "nbformat": 4,
 "nbformat_minor": 2
}
