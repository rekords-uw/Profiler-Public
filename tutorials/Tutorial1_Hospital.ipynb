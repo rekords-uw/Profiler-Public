{
 "cells": [
  {
   "cell_type": "code",
   "execution_count": 1,
   "metadata": {},
   "outputs": [],
   "source": [
    "from profiler.core import *"
   ]
  },
  {
   "cell_type": "code",
   "execution_count": 2,
   "metadata": {},
   "outputs": [],
   "source": [
    "pf = Profiler(workers=2, verbose=False, tol=0.01, eps=0.1)"
   ]
  },
  {
   "cell_type": "code",
   "execution_count": 3,
   "metadata": {},
   "outputs": [
    {
     "name": "stderr",
     "output_type": "stream",
     "text": [
      "INFO:profiler.utility:[0.006925106048583984] Load Data start\n",
      "\n",
      "INFO:profiler.dataset:inferred types of attributes: {\n",
      "    \"ProviderNumber\": \"text\",\n",
      "    \"HospitalName\": \"text\",\n",
      "    \"Address1\": \"text\",\n",
      "    \"Address2\": \"categorical\",\n",
      "    \"Address3\": \"categorical\",\n",
      "    \"City\": \"text\",\n",
      "    \"State\": \"categorical\",\n",
      "    \"ZipCode\": \"text\",\n",
      "    \"CountyName\": \"text\",\n",
      "    \"PhoneNumber\": \"text\",\n",
      "    \"HospitalType\": \"text\",\n",
      "    \"HospitalOwner\": \"text\",\n",
      "    \"EmergencyService\": \"categorical\",\n",
      "    \"Condition\": \"text\",\n",
      "    \"MeasureCode\": \"text\",\n",
      "    \"MeasureName\": \"text\",\n",
      "    \"Score\": \"text\",\n",
      "    \"Sample\": \"text\",\n",
      "    \"Stateavg\": \"text\"\n",
      "}\n",
      "INFO:profiler.dataset:(possible types: numeric, categorical, text, date)\n",
      "INFO:profiler.dataset:inferred operators of attributes: {'ProviderNumber': ['equal'], 'HospitalName': ['equal'], 'Address1': ['equal'], 'Address2': ['equal'], 'Address3': ['equal'], 'City': ['equal'], 'State': ['equal'], 'ZipCode': ['equal'], 'CountyName': ['equal'], 'PhoneNumber': ['equal'], 'HospitalType': ['equal'], 'HospitalOwner': ['equal'], 'EmergencyService': ['equal'], 'Condition': ['equal'], 'MeasureCode': ['equal'], 'MeasureName': ['equal'], 'Score': ['equal'], 'Sample': ['equal'], 'Stateavg': ['equal']}\n",
      "INFO:profiler.dataset:(possible operators: equal, notequal, greater_than, less_than)\n",
      "INFO:profiler.utility:[0.10892391204833984] Load Data execution time: 0.10199880599975586\n",
      "\n"
     ]
    }
   ],
   "source": [
    "#pf.session.load_data(name='flights', src='file', fpath='/Users/zhihan/Documents/bart/data/clean_data/flights.csv', embedtxt=False)\n",
    "pf.session.load_data(name='hospital', src='file', fpath='data/hospital.csv', embedtxt=True)"
   ]
  },
  {
   "cell_type": "code",
   "execution_count": 4,
   "metadata": {},
   "outputs": [
    {
     "name": "stderr",
     "output_type": "stream",
     "text": [
      "INFO:profiler.dataset:updated types of ProviderNumber to 'categorical'\n",
      "INFO:profiler.dataset:updated operators of ProviderNumber to ['equal']\n",
      "INFO:profiler.dataset:updated types of ZipCode to 'numeric'\n",
      "INFO:profiler.dataset:updated operators of ZipCode to ['equal']\n",
      "INFO:profiler.dataset:updated types of PhoneNumber to 'categorical'\n",
      "INFO:profiler.dataset:updated operators of PhoneNumber to ['equal']\n",
      "INFO:profiler.dataset:updated types of State to 'text'\n",
      "INFO:profiler.dataset:updated operators of State to ['equal']\n",
      "INFO:profiler.dataset:updated types of EmergencyService to 'text'\n",
      "INFO:profiler.dataset:updated operators of EmergencyService to ['equal']\n",
      "INFO:profiler.dataset:updated types of Score to 'numeric'\n",
      "INFO:profiler.dataset:updated operators of Score to ['equal']\n",
      "INFO:profiler.dataset:updated types of Sample to 'numeric'\n",
      "INFO:profiler.dataset:updated operators of Sample to ['equal']\n",
      "INFO:profiler.dataset:updated inferred operators of attributes: {'ProviderNumber': ['equal'], 'HospitalName': ['equal'], 'Address1': ['equal'], 'Address2': ['equal'], 'Address3': ['equal'], 'City': ['equal'], 'State': ['equal'], 'ZipCode': ['equal'], 'CountyName': ['equal'], 'PhoneNumber': ['equal'], 'HospitalType': ['equal'], 'HospitalOwner': ['equal'], 'EmergencyService': ['equal'], 'Condition': ['equal'], 'MeasureCode': ['equal'], 'MeasureName': ['equal'], 'Score': ['equal'], 'Sample': ['equal'], 'Stateavg': ['equal']}\n"
     ]
    }
   ],
   "source": [
    "pf.session.change_dtypes(['ProviderNumber', 'ZipCode', 'PhoneNumber', 'State', 'EmergencyService','Score', 'Sample'], \n",
    "                            [CATEGORICAL, NUMERIC, CATEGORICAL, TEXT, TEXT, NUMERIC, NUMERIC],\n",
    "                            [None, None, None, None, None, r'(\\d+)%', r'(\\d+)\\spatients'])"
   ]
  },
  {
   "cell_type": "code",
   "execution_count": 5,
   "metadata": {
    "scrolled": true
   },
   "outputs": [
    {
     "name": "stderr",
     "output_type": "stream",
     "text": [
      "INFO:profiler.utility:[0.16840910911560059] Load Embedding start\n",
      "\n",
      "INFO:profiler.utility:[0.2341609001159668] Load Embedding execution time: 0.06575179100036621\n",
      "\n"
     ]
    }
   ],
   "source": [
    "pf.session.load_embedding(save=True, path='data/hospital/', load=True)"
   ]
  },
  {
   "cell_type": "code",
   "execution_count": 6,
   "metadata": {},
   "outputs": [
    {
     "name": "stderr",
     "output_type": "stream",
     "text": [
      "INFO:profiler.utility:[0.24147295951843262] Create Training Data start\n",
      "\n",
      "INFO:profiler.transformer:needs multiplier = 54 to bound the error in inv cov estimation <= 0.10000000\n",
      "INFO:profiler.transformer:use multiplier = 54, and the bound is 0.00024939\n",
      "INFO:profiler.transformer:Draw Pairs\n",
      "100%|██████████| 19/19 [00:00<00:00, 230.48it/s]\n",
      "INFO:profiler.transformer:Number of training samples: 56943\n",
      "INFO:profiler.transformer:Computing Differences\n",
      "INFO:profiler.transformer:estimated missing data probability in training data is 0.0283\n",
      "INFO:profiler.utility:[0.7237770557403564] Create Training Data execution time: 0.48230409622192383\n",
      "\n"
     ]
    }
   ],
   "source": [
    "pf.session.load_training_data()"
   ]
  },
  {
   "cell_type": "code",
   "execution_count": null,
   "metadata": {},
   "outputs": [
    {
     "name": "stderr",
     "output_type": "stream",
     "text": [
      "INFO:profiler.utility:[0.7323629856109619] Learn Structure start\n",
      "\n",
      "INFO:profiler.learner:use threshold 0.0829\n"
     ]
    },
    {
     "data": {
      "text/plain": [
       "<matplotlib.figure.Figure at 0x11a436710>"
      ]
     },
     "metadata": {},
     "output_type": "display_data"
    },
    {
     "name": "stdout",
     "output_type": "stream",
     "text": [
      "ProviderNumber_eq,Address1_eq,City_eq,ZipCode_eq,CountyName_eq,PhoneNumber_eq,HospitalOwner_eq,EmergencyService_eq -> HospitalName_eq\n",
      "ProviderNumber_eq,HospitalName_eq,City_eq,ZipCode_eq,CountyName_eq,PhoneNumber_eq,HospitalOwner_eq -> Address1_eq\n",
      "ProviderNumber_eq,HospitalName_eq,Address1_eq,ZipCode_eq,CountyName_eq,PhoneNumber_eq,HospitalOwner_eq -> City_eq\n",
      "ProviderNumber_eq,HospitalName_eq,Address1_eq,City_eq,CountyName_eq,PhoneNumber_eq -> ZipCode_eq\n",
      "ProviderNumber_eq,HospitalName_eq,Address1_eq,City_eq,ZipCode_eq,PhoneNumber_eq,HospitalOwner_eq -> CountyName_eq\n",
      "ProviderNumber_eq,HospitalName_eq,Address1_eq,City_eq,ZipCode_eq,CountyName_eq,HospitalOwner_eq -> PhoneNumber_eq\n",
      "ProviderNumber_eq,HospitalName_eq,Address1_eq,City_eq,CountyName_eq,PhoneNumber_eq -> HospitalOwner_eq\n",
      "HospitalName_eq -> EmergencyService_eq\n",
      "MeasureCode_eq,MeasureName_eq -> Condition_eq\n",
      "Condition_eq,MeasureName_eq,Stateavg_eq -> MeasureCode_eq\n",
      "Condition_eq,MeasureCode_eq,Stateavg_eq -> MeasureName_eq\n",
      "MeasureCode_eq,MeasureName_eq -> Stateavg_eq\n"
     ]
    },
    {
     "name": "stderr",
     "output_type": "stream",
     "text": [
      "/Users/zhihan/anaconda3/envs/fd3/lib/python3.6/site-packages/networkx/drawing/nx_pylab.py:126: MatplotlibDeprecationWarning: pyplot.hold is deprecated.\n",
      "    Future behavior will be consistent with the long-time default:\n",
      "    plot commands add elements without first clearing the\n",
      "    Axes and/or Figure.\n",
      "  b = plt.ishold()\n",
      "/Users/zhihan/anaconda3/envs/fd3/lib/python3.6/site-packages/networkx/drawing/nx_pylab.py:138: MatplotlibDeprecationWarning: pyplot.hold is deprecated.\n",
      "    Future behavior will be consistent with the long-time default:\n",
      "    plot commands add elements without first clearing the\n",
      "    Axes and/or Figure.\n",
      "  plt.hold(b)\n",
      "/Users/zhihan/anaconda3/envs/fd3/lib/python3.6/site-packages/matplotlib/__init__.py:917: UserWarning: axes.hold is deprecated. Please remove it from your matplotlibrc and/or style files.\n",
      "  warnings.warn(self.msg_depr_set % key)\n",
      "/Users/zhihan/anaconda3/envs/fd3/lib/python3.6/site-packages/matplotlib/rcsetup.py:152: UserWarning: axes.hold is deprecated, will be removed in 3.0\n",
      "  warnings.warn(\"axes.hold is deprecated, will be removed in 3.0\")\n"
     ]
    },
    {
     "data": {
      "text/plain": [
       "<matplotlib.figure.Figure at 0x11aa7e9b0>"
      ]
     },
     "metadata": {},
     "output_type": "display_data"
    },
    {
     "name": "stderr",
     "output_type": "stream",
     "text": [
      "/Users/zhihan/anaconda3/envs/fd3/lib/python3.6/site-packages/networkx/drawing/nx_pylab.py:126: MatplotlibDeprecationWarning: pyplot.hold is deprecated.\n",
      "    Future behavior will be consistent with the long-time default:\n",
      "    plot commands add elements without first clearing the\n",
      "    Axes and/or Figure.\n",
      "  b = plt.ishold()\n",
      "/Users/zhihan/anaconda3/envs/fd3/lib/python3.6/site-packages/networkx/drawing/nx_pylab.py:138: MatplotlibDeprecationWarning: pyplot.hold is deprecated.\n",
      "    Future behavior will be consistent with the long-time default:\n",
      "    plot commands add elements without first clearing the\n",
      "    Axes and/or Figure.\n",
      "  plt.hold(b)\n",
      "/Users/zhihan/anaconda3/envs/fd3/lib/python3.6/site-packages/matplotlib/__init__.py:917: UserWarning: axes.hold is deprecated. Please remove it from your matplotlibrc and/or style files.\n",
      "  warnings.warn(self.msg_depr_set % key)\n",
      "/Users/zhihan/anaconda3/envs/fd3/lib/python3.6/site-packages/matplotlib/rcsetup.py:152: UserWarning: axes.hold is deprecated, will be removed in 3.0\n",
      "  warnings.warn(\"axes.hold is deprecated, will be removed in 3.0\")\n"
     ]
    },
    {
     "data": {
      "text/plain": [
       "<matplotlib.figure.Figure at 0x11a7ba940>"
      ]
     },
     "metadata": {},
     "output_type": "display_data"
    },
    {
     "name": "stdout",
     "output_type": "stream",
     "text": [
      "frozenset({0, 1, 2, 3, 5, 6, 7})\n",
      "frozenset({1, 10})\n"
     ]
    },
    {
     "name": "stderr",
     "output_type": "stream",
     "text": [
      "/Users/zhihan/anaconda3/envs/fd3/lib/python3.6/site-packages/networkx/drawing/nx_pylab.py:126: MatplotlibDeprecationWarning: pyplot.hold is deprecated.\n",
      "    Future behavior will be consistent with the long-time default:\n",
      "    plot commands add elements without first clearing the\n",
      "    Axes and/or Figure.\n",
      "  b = plt.ishold()\n",
      "/Users/zhihan/anaconda3/envs/fd3/lib/python3.6/site-packages/networkx/drawing/nx_pylab.py:138: MatplotlibDeprecationWarning: pyplot.hold is deprecated.\n",
      "    Future behavior will be consistent with the long-time default:\n",
      "    plot commands add elements without first clearing the\n",
      "    Axes and/or Figure.\n",
      "  plt.hold(b)\n",
      "/Users/zhihan/anaconda3/envs/fd3/lib/python3.6/site-packages/matplotlib/__init__.py:917: UserWarning: axes.hold is deprecated. Please remove it from your matplotlibrc and/or style files.\n",
      "  warnings.warn(self.msg_depr_set % key)\n",
      "/Users/zhihan/anaconda3/envs/fd3/lib/python3.6/site-packages/matplotlib/rcsetup.py:152: UserWarning: axes.hold is deprecated, will be removed in 3.0\n",
      "  warnings.warn(\"axes.hold is deprecated, will be removed in 3.0\")\n"
     ]
    },
    {
     "data": {
      "text/plain": [
       "<matplotlib.figure.Figure at 0x11c51d2b0>"
      ]
     },
     "metadata": {},
     "output_type": "display_data"
    },
    {
     "name": "stderr",
     "output_type": "stream",
     "text": [
      "/Users/zhihan/anaconda3/envs/fd3/lib/python3.6/site-packages/networkx/drawing/nx_pylab.py:126: MatplotlibDeprecationWarning: pyplot.hold is deprecated.\n",
      "    Future behavior will be consistent with the long-time default:\n",
      "    plot commands add elements without first clearing the\n",
      "    Axes and/or Figure.\n",
      "  b = plt.ishold()\n",
      "/Users/zhihan/anaconda3/envs/fd3/lib/python3.6/site-packages/networkx/drawing/nx_pylab.py:138: MatplotlibDeprecationWarning: pyplot.hold is deprecated.\n",
      "    Future behavior will be consistent with the long-time default:\n",
      "    plot commands add elements without first clearing the\n",
      "    Axes and/or Figure.\n",
      "  plt.hold(b)\n",
      "/Users/zhihan/anaconda3/envs/fd3/lib/python3.6/site-packages/matplotlib/__init__.py:917: UserWarning: axes.hold is deprecated. Please remove it from your matplotlibrc and/or style files.\n",
      "  warnings.warn(self.msg_depr_set % key)\n",
      "/Users/zhihan/anaconda3/envs/fd3/lib/python3.6/site-packages/matplotlib/rcsetup.py:152: UserWarning: axes.hold is deprecated, will be removed in 3.0\n",
      "  warnings.warn(\"axes.hold is deprecated, will be removed in 3.0\")\n"
     ]
    },
    {
     "data": {
      "text/plain": [
       "<matplotlib.figure.Figure at 0x11aa1ada0>"
      ]
     },
     "metadata": {},
     "output_type": "display_data"
    },
    {
     "name": "stderr",
     "output_type": "stream",
     "text": [
      "DEBUG:profiler.learner:check node t = 3 with X(t) = frozenset() \n",
      "DEBUG:profiler.learner:check node t = 4 with X(t) = frozenset({1}) \n",
      "DEBUG:profiler.learner:check node t = 2 with X(t) = frozenset({1, 10}) \n",
      "DEBUG:profiler.learner:check node t = 5 with X(t) = frozenset({1}) \n",
      "DEBUG:profiler.learner:check node t = 6 with X(t) = frozenset({0, 1}) \n",
      "DEBUG:profiler.learner:check node t = 7 with X(t) = frozenset({0, 1, 2}) \n",
      "DEBUG:profiler.learner:check node t = 8 with X(t) = frozenset({0, 1, 2, 3}) \n",
      "DEBUG:profiler.learner:check node t = 9 with X(t) = frozenset({0, 1, 2, 3, 6}) \n",
      "DEBUG:profiler.learner:check node t = 10 with X(t) = frozenset({0, 1, 2, 3, 6, 7}) \n",
      "DEBUG:profiler.learner:check node t = 0 with X(t) = frozenset({0, 1, 2, 3, 6, 7, 9}) \n",
      "DEBUG:profiler.learner:check node t = 11 with X(t) = frozenset({0, 1, 2, 3, 6, 7}) \n",
      "DEBUG:profiler.learner:check node t = 1 with X(t) = frozenset({0, 1, 2, 3, 5, 6, 7}) \n",
      "DEBUG:profiler.learner:check node t = 12 with X(t) = frozenset({1, 2, 3, 5, 6, 7}) \n",
      "DEBUG:profiler.learner:check node t = 13 with X(t) = frozenset({2, 3, 5, 6, 7}) \n",
      "DEBUG:profiler.learner:check node t = 14 with X(t) = frozenset({3, 5, 6, 7}) \n",
      "DEBUG:profiler.learner:check node t = 15 with X(t) = frozenset({5, 6, 7}) \n",
      "DEBUG:profiler.learner:check node t = 16 with X(t) = frozenset({6, 7}) \n",
      "DEBUG:profiler.learner:R for leaf node t = 17 with X(t) = frozenset({7}) candidate size: 128\n"
     ]
    },
    {
     "name": "stdout",
     "output_type": "stream",
     "text": [
      "[3]forget:frozenset()\n",
      "--[4]forget:frozenset({1})\n",
      "----[2]introduce:frozenset({1, 10})\n",
      "------[5]forget:frozenset({1})\n",
      "--------[6]forget:frozenset({0, 1})\n",
      "----------[7]forget:frozenset({0, 1, 2})\n",
      "------------[8]forget:frozenset({0, 1, 2, 3})\n",
      "--------------[9]forget:frozenset({0, 1, 2, 3, 6})\n",
      "----------------[10]forget:frozenset({0, 1, 2, 3, 6, 7})\n",
      "------------------[0]introduce:frozenset({0, 1, 2, 3, 6, 7, 9})\n",
      "--------------------[11]forget:frozenset({0, 1, 2, 3, 6, 7})\n",
      "----------------------[1]introduce:frozenset({0, 1, 2, 3, 5, 6, 7})\n",
      "------------------------[12]introduce:frozenset({1, 2, 3, 5, 6, 7})\n",
      "--------------------------[13]introduce:frozenset({2, 3, 5, 6, 7})\n",
      "----------------------------[14]introduce:frozenset({3, 5, 6, 7})\n",
      "------------------------------[15]introduce:frozenset({5, 6, 7})\n",
      "--------------------------------[16]introduce:frozenset({6, 7})\n",
      "----------------------------------[17]leaf:frozenset({7})\n"
     ]
    },
    {
     "name": "stderr",
     "output_type": "stream",
     "text": [
      "DEBUG:profiler.learner:R for intro node t = 16 with X(t) = frozenset({6, 7}) candidate size: 12288\n",
      "DEBUG:profiler.learner:R for intro node t = 15 with X(t) = frozenset({5, 6, 7}) candidate size: 409600\n"
     ]
    }
   ],
   "source": [
    "NTDs = pf.session.learn_structure(sparsity=0.05)"
   ]
  }
 ],
 "metadata": {
  "kernelspec": {
   "display_name": "Python (fd3)",
   "language": "python",
   "name": "fd3"
  },
  "language_info": {
   "codemirror_mode": {
    "name": "ipython",
    "version": 3
   },
   "file_extension": ".py",
   "mimetype": "text/x-python",
   "name": "python",
   "nbconvert_exporter": "python",
   "pygments_lexer": "ipython3",
   "version": "3.6.8"
  }
 },
 "nbformat": 4,
 "nbformat_minor": 2
}
