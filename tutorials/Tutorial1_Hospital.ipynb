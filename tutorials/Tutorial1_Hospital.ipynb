{
 "cells": [
  {
   "cell_type": "code",
   "execution_count": 1,
   "metadata": {},
   "outputs": [],
   "source": [
    "from profiler.core import *"
   ]
  },
  {
   "cell_type": "code",
   "execution_count": 2,
   "metadata": {},
   "outputs": [],
   "source": [
    "pf = Profiler(workers=2)"
   ]
  },
  {
   "cell_type": "code",
   "execution_count": 3,
   "metadata": {},
   "outputs": [
    {
     "name": "stderr",
     "output_type": "stream",
     "text": [
      "INFO:profiler.utility:[0.007762908935546875] Load Data start\n",
      "\n",
      "INFO:profiler.dataset:inferred types of attributes: {\n",
      "    \"ProviderNumber\": \"text\",\n",
      "    \"HospitalName\": \"text\",\n",
      "    \"Address1\": \"text\",\n",
      "    \"Address2\": \"categorical\",\n",
      "    \"Address3\": \"categorical\",\n",
      "    \"City\": \"text\",\n",
      "    \"State\": \"categorical\",\n",
      "    \"ZipCode\": \"text\",\n",
      "    \"CountyName\": \"text\",\n",
      "    \"PhoneNumber\": \"text\",\n",
      "    \"HospitalType\": \"text\",\n",
      "    \"HospitalOwner\": \"text\",\n",
      "    \"EmergencyService\": \"categorical\",\n",
      "    \"Condition\": \"text\",\n",
      "    \"MeasureCode\": \"text\",\n",
      "    \"MeasureName\": \"text\",\n",
      "    \"Score\": \"text\",\n",
      "    \"Sample\": \"text\",\n",
      "    \"Stateavg\": \"text\"\n",
      "}\n",
      "INFO:profiler.dataset:(possible types: numeric, categorical, text)\n",
      "INFO:profiler.dataset:inferred operators of attributes: {'ProviderNumber': ['equal'], 'HospitalName': ['equal'], 'Address1': ['equal'], 'Address2': ['equal'], 'Address3': ['equal'], 'City': ['equal'], 'State': ['equal'], 'ZipCode': ['equal'], 'CountyName': ['equal'], 'PhoneNumber': ['equal'], 'HospitalType': ['equal'], 'HospitalOwner': ['equal'], 'EmergencyService': ['equal'], 'Condition': ['equal'], 'MeasureCode': ['equal'], 'MeasureName': ['equal'], 'Score': ['equal'], 'Sample': ['equal'], 'Stateavg': ['equal']}\n",
      "INFO:profiler.dataset:(possible operators: equal, notequal, greater_than, less_than)\n",
      "INFO:profiler.utility:[0.08493590354919434] Load Data execution time: 0.07717299461364746\n",
      "\n"
     ]
    }
   ],
   "source": [
    "pf.session.load_data(name='hospital', src='file', fpath='data/hospital.csv', embedtxt=False)"
   ]
  },
  {
   "cell_type": "code",
   "execution_count": 4,
   "metadata": {},
   "outputs": [
    {
     "name": "stderr",
     "output_type": "stream",
     "text": [
      "INFO:profiler.dataset:updated types of ProviderNumber to 'categorical'\n",
      "INFO:profiler.dataset:updated types of ZipCode to 'numeric'\n",
      "INFO:profiler.dataset:updated types of PhoneNumber to 'categorical'\n",
      "INFO:profiler.dataset:updated types of State to 'text'\n",
      "INFO:profiler.dataset:inferred operators of attributes: {'ProviderNumber': ['equal'], 'HospitalName': ['equal'], 'Address1': ['equal'], 'Address2': ['equal'], 'Address3': ['equal'], 'City': ['equal'], 'State': ['equal'], 'ZipCode': ['equal', 'greater_than', 'less_than'], 'CountyName': ['equal'], 'PhoneNumber': ['equal'], 'HospitalType': ['equal'], 'HospitalOwner': ['equal'], 'EmergencyService': ['equal'], 'Condition': ['equal'], 'MeasureCode': ['equal'], 'MeasureName': ['equal'], 'Score': ['equal'], 'Sample': ['equal'], 'Stateavg': ['equal']}\n",
      "INFO:profiler.dataset:(possible operators: equal, notequal, greater_than, less_than)\n",
      "INFO:profiler.dataset:updated inferred operators of attributes: {'ProviderNumber': ['equal'], 'HospitalName': ['equal'], 'Address1': ['equal'], 'Address2': ['equal'], 'Address3': ['equal'], 'City': ['equal'], 'State': ['equal'], 'ZipCode': ['equal', 'greater_than', 'less_than'], 'CountyName': ['equal'], 'PhoneNumber': ['equal'], 'HospitalType': ['equal'], 'HospitalOwner': ['equal'], 'EmergencyService': ['equal'], 'Condition': ['equal'], 'MeasureCode': ['equal'], 'MeasureName': ['equal'], 'Score': ['equal'], 'Sample': ['equal'], 'Stateavg': ['equal']}\n"
     ]
    }
   ],
   "source": [
    "pf.session.ds.change_dtypes(['ProviderNumber', 'ZipCode', 'PhoneNumber', 'State'], \n",
    "                         ['categorical', 'numeric', 'categorical', 'text'])"
   ]
  },
  {
   "cell_type": "code",
   "execution_count": 5,
   "metadata": {
    "scrolled": true
   },
   "outputs": [],
   "source": [
    "# TODO save embedding vectors\n",
    "# pf.session.load_embedding()"
   ]
  },
  {
   "cell_type": "code",
   "execution_count": 6,
   "metadata": {},
   "outputs": [
    {
     "name": "stderr",
     "output_type": "stream",
     "text": [
      "INFO:profiler.utility:[0.12001991271972656] Create Training Data start\n",
      "\n",
      "INFO:profiler.utility:[0.23513484001159668] Create Training Data execution time: 0.11511492729187012\n",
      "\n"
     ]
    }
   ],
   "source": [
    "pf.session.load_training_data()"
   ]
  },
  {
   "cell_type": "code",
   "execution_count": null,
   "metadata": {},
   "outputs": [
    {
     "name": "stderr",
     "output_type": "stream",
     "text": [
      "INFO:profiler.utility:[0.24075984954833984] Recover Moral Graph start\n",
      "\n",
      "INFO:profiler.utility:[0.27988672256469727] Recover Moral Graph execution time: 0.03912687301635742\n",
      "\n",
      "INFO:profiler.utility:[0.2805957794189453] Recover DAG start\n",
      "\n",
      "INFO:graph:created node HospitalName_eq\n",
      "INFO:graph:created node ProviderNumber_eq\n",
      "INFO:graph:added directed edge HospitalName_eq -> ProviderNumber_eq\n",
      "INFO:graph:created node Address1_eq\n",
      "INFO:graph:added directed edge ProviderNumber_eq -> Address1_eq\n",
      "INFO:graph:added directed edge HospitalName_eq -> Address1_eq\n",
      "INFO:graph:created node City_eq\n",
      "INFO:graph:added directed edge ProviderNumber_eq -> City_eq\n",
      "INFO:graph:added directed edge HospitalName_eq -> City_eq\n",
      "INFO:graph:added directed edge Address1_eq -> City_eq\n",
      "INFO:graph:created node ZipCode_eq\n",
      "INFO:graph:created node State_eq\n",
      "INFO:graph:added directed edge ZipCode_eq -> State_eq\n",
      "INFO:graph:created node CountyName_eq\n",
      "INFO:graph:added directed edge ProviderNumber_eq -> CountyName_eq\n",
      "INFO:graph:added directed edge HospitalName_eq -> CountyName_eq\n",
      "INFO:graph:added directed edge Address1_eq -> CountyName_eq\n",
      "INFO:graph:added directed edge City_eq -> CountyName_eq\n",
      "INFO:graph:added directed edge ZipCode_eq -> CountyName_eq\n",
      "INFO:graph:created node PhoneNumber_eq\n",
      "INFO:graph:added directed edge ProviderNumber_eq -> PhoneNumber_eq\n",
      "INFO:graph:added directed edge HospitalName_eq -> PhoneNumber_eq\n",
      "INFO:graph:added directed edge Address1_eq -> PhoneNumber_eq\n",
      "INFO:graph:added directed edge City_eq -> PhoneNumber_eq\n",
      "INFO:graph:added directed edge CountyName_eq -> PhoneNumber_eq\n",
      "INFO:graph:created node HospitalOwner_eq\n",
      "INFO:graph:added directed edge ProviderNumber_eq -> HospitalOwner_eq\n",
      "INFO:graph:added directed edge HospitalName_eq -> HospitalOwner_eq\n",
      "INFO:graph:added directed edge Address1_eq -> HospitalOwner_eq\n",
      "INFO:graph:added directed edge City_eq -> HospitalOwner_eq\n",
      "INFO:graph:added directed edge CountyName_eq -> HospitalOwner_eq\n",
      "INFO:graph:added directed edge PhoneNumber_eq -> HospitalOwner_eq\n",
      "INFO:graph:created node MeasureCode_eq\n",
      "INFO:graph:created node Condition_eq\n",
      "INFO:graph:added directed edge MeasureCode_eq -> Condition_eq\n",
      "INFO:graph:created node MeasureName_eq\n",
      "INFO:graph:added directed edge Condition_eq -> MeasureName_eq\n",
      "INFO:graph:added directed edge MeasureCode_eq -> MeasureName_eq\n",
      "INFO:graph:created node Sample_eq\n",
      "INFO:graph:created node Score_eq\n",
      "INFO:graph:added directed edge Sample_eq -> Score_eq\n",
      "INFO:graph:created node Stateavg_eq\n",
      "INFO:graph:added directed edge Condition_eq -> Stateavg_eq\n",
      "INFO:graph:added directed edge MeasureCode_eq -> Stateavg_eq\n",
      "INFO:graph:added directed edge MeasureName_eq -> Stateavg_eq\n",
      "INFO:graph:created node 7\n",
      "INFO:graph:created node HospitalName_eq\n",
      "INFO:graph:created node ProviderNumber_eq\n",
      "INFO:graph:created node Address1_eq\n",
      "INFO:graph:created node City_eq\n",
      "INFO:graph:created node ZipCode_eq\n",
      "INFO:graph:created node State_eq\n",
      "INFO:graph:created node CountyName_eq\n",
      "INFO:graph:created node PhoneNumber_eq\n",
      "INFO:graph:created node HospitalOwner_eq\n",
      "INFO:graph:created node MeasureCode_eq\n",
      "INFO:graph:created node Condition_eq\n",
      "INFO:graph:created node MeasureName_eq\n",
      "INFO:graph:created node Sample_eq\n",
      "INFO:graph:created node Score_eq\n",
      "INFO:graph:created node Stateavg_eq\n",
      "INFO:graph:added directed edge HospitalName_eq -> HospitalOwner_eq\n",
      "INFO:graph:created node HospitalName_eq\n",
      "INFO:graph:created node ProviderNumber_eq\n",
      "INFO:graph:created node Address1_eq\n",
      "INFO:graph:created node City_eq\n",
      "INFO:graph:created node ZipCode_eq\n",
      "INFO:graph:created node State_eq\n",
      "INFO:graph:created node CountyName_eq\n",
      "INFO:graph:created node PhoneNumber_eq\n",
      "INFO:graph:created node HospitalOwner_eq\n",
      "INFO:graph:created node MeasureCode_eq\n",
      "INFO:graph:created node Condition_eq\n",
      "INFO:graph:created node MeasureName_eq\n",
      "INFO:graph:created node Sample_eq\n",
      "INFO:graph:created node Score_eq\n",
      "INFO:graph:created node Stateavg_eq\n",
      "INFO:graph:added directed edge HospitalName_eq -> PhoneNumber_eq\n",
      "INFO:graph:created node HospitalName_eq\n",
      "INFO:graph:created node ProviderNumber_eq\n",
      "INFO:graph:created node Address1_eq\n",
      "INFO:graph:created node City_eq\n",
      "INFO:graph:created node ZipCode_eq\n",
      "INFO:graph:created node State_eq\n",
      "INFO:graph:created node CountyName_eq\n",
      "INFO:graph:created node PhoneNumber_eq\n",
      "INFO:graph:created node HospitalOwner_eq\n",
      "INFO:graph:created node MeasureCode_eq\n",
      "INFO:graph:created node Condition_eq\n",
      "INFO:graph:created node MeasureName_eq\n",
      "INFO:graph:created node Sample_eq\n",
      "INFO:graph:created node Score_eq\n",
      "INFO:graph:created node Stateavg_eq\n",
      "INFO:graph:added directed edge HospitalName_eq -> City_eq\n",
      "INFO:graph:created node HospitalName_eq\n",
      "INFO:graph:created node ProviderNumber_eq\n",
      "INFO:graph:created node Address1_eq\n",
      "INFO:graph:created node City_eq\n",
      "INFO:graph:created node ZipCode_eq\n",
      "INFO:graph:created node State_eq\n",
      "INFO:graph:created node CountyName_eq\n",
      "INFO:graph:created node PhoneNumber_eq\n",
      "INFO:graph:created node HospitalOwner_eq\n",
      "INFO:graph:created node MeasureCode_eq\n",
      "INFO:graph:created node Condition_eq\n",
      "INFO:graph:created node MeasureName_eq\n",
      "INFO:graph:created node Sample_eq\n",
      "INFO:graph:created node Score_eq\n",
      "INFO:graph:created node Stateavg_eq\n",
      "INFO:graph:added directed edge HospitalName_eq -> Address1_eq\n",
      "INFO:graph:created node HospitalName_eq\n",
      "INFO:graph:created node ProviderNumber_eq\n",
      "INFO:graph:created node Address1_eq\n",
      "INFO:graph:created node City_eq\n",
      "INFO:graph:created node ZipCode_eq\n",
      "INFO:graph:created node State_eq\n",
      "INFO:graph:created node CountyName_eq\n",
      "INFO:graph:created node PhoneNumber_eq\n",
      "INFO:graph:created node HospitalOwner_eq\n",
      "INFO:graph:created node MeasureCode_eq\n",
      "INFO:graph:created node Condition_eq\n",
      "INFO:graph:created node MeasureName_eq\n",
      "INFO:graph:created node Sample_eq\n",
      "INFO:graph:created node Score_eq\n",
      "INFO:graph:created node Stateavg_eq\n",
      "INFO:graph:added directed edge HospitalName_eq -> ProviderNumber_eq\n",
      "INFO:graph:created node HospitalName_eq\n",
      "INFO:graph:created node ProviderNumber_eq\n",
      "INFO:graph:created node Address1_eq\n",
      "INFO:graph:created node City_eq\n",
      "INFO:graph:created node ZipCode_eq\n",
      "INFO:graph:created node State_eq\n",
      "INFO:graph:created node CountyName_eq\n",
      "INFO:graph:created node PhoneNumber_eq\n",
      "INFO:graph:created node HospitalOwner_eq\n",
      "INFO:graph:created node MeasureCode_eq\n",
      "INFO:graph:created node Condition_eq\n",
      "INFO:graph:created node MeasureName_eq\n",
      "INFO:graph:created node Sample_eq\n",
      "INFO:graph:created node Score_eq\n",
      "INFO:graph:created node Stateavg_eq\n",
      "INFO:graph:created node HospitalName_eq\n",
      "INFO:graph:created node ProviderNumber_eq\n",
      "INFO:graph:created node Address1_eq\n",
      "INFO:graph:created node City_eq\n",
      "INFO:graph:created node ZipCode_eq\n",
      "INFO:graph:created node State_eq\n",
      "INFO:graph:created node CountyName_eq\n",
      "INFO:graph:created node PhoneNumber_eq\n",
      "INFO:graph:created node HospitalOwner_eq\n",
      "INFO:graph:created node MeasureCode_eq\n",
      "INFO:graph:created node Condition_eq\n",
      "INFO:graph:created node MeasureName_eq\n",
      "INFO:graph:created node Sample_eq\n",
      "INFO:graph:created node Score_eq\n",
      "INFO:graph:created node Stateavg_eq\n",
      "INFO:graph:added directed edge MeasureCode_eq -> Stateavg_eq\n",
      "INFO:graph:created node HospitalName_eq\n",
      "INFO:graph:created node ProviderNumber_eq\n",
      "INFO:graph:created node Address1_eq\n",
      "INFO:graph:created node City_eq\n",
      "INFO:graph:created node ZipCode_eq\n",
      "INFO:graph:created node State_eq\n",
      "INFO:graph:created node CountyName_eq\n",
      "INFO:graph:created node PhoneNumber_eq\n",
      "INFO:graph:created node HospitalOwner_eq\n"
     ]
    }
   ],
   "source": [
    "pf.session.learn_structure()"
   ]
  },
  {
   "cell_type": "code",
   "execution_count": null,
   "metadata": {},
   "outputs": [],
   "source": [
    "s = pf.session.struct_engine"
   ]
  },
  {
   "cell_type": "code",
   "execution_count": null,
   "metadata": {},
   "outputs": [],
   "source": [
    "import seaborn as sns\n",
    "import matplotlib.pyplot as plt\n",
    "plt.figure()\n",
    "snsplt = sns.heatmap(s.inv_cov, cmap=sns.color_palette(\"RdBu_r\", 1000), center=0)"
   ]
  },
  {
   "cell_type": "code",
   "execution_count": null,
   "metadata": {},
   "outputs": [],
   "source": [
    "s.decomposed[1].print_edges()"
   ]
  },
  {
   "cell_type": "code",
   "execution_count": null,
   "metadata": {},
   "outputs": [],
   "source": [
    "s.decomposed"
   ]
  },
  {
   "cell_type": "code",
   "execution_count": null,
   "metadata": {},
   "outputs": [],
   "source": [
    "s.G.print_edges()"
   ]
  },
  {
   "cell_type": "code",
   "execution_count": null,
   "metadata": {},
   "outputs": [],
   "source": [
    "s.width"
   ]
  },
  {
   "cell_type": "code",
   "execution_count": null,
   "metadata": {},
   "outputs": [],
   "source": [
    "s.ordering"
   ]
  },
  {
   "cell_type": "code",
   "execution_count": null,
   "metadata": {},
   "outputs": [],
   "source": []
  }
 ],
 "metadata": {
  "kernelspec": {
   "display_name": "Python (fd3)",
   "language": "python",
   "name": "fd3"
  },
  "language_info": {
   "codemirror_mode": {
    "name": "ipython",
    "version": 3
   },
   "file_extension": ".py",
   "mimetype": "text/x-python",
   "name": "python",
   "nbconvert_exporter": "python",
   "pygments_lexer": "ipython3",
   "version": "3.6.8"
  }
 },
 "nbformat": 4,
 "nbformat_minor": 2
}
