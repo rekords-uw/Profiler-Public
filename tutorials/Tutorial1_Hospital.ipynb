{
 "cells": [
  {
   "cell_type": "code",
   "execution_count": 1,
   "metadata": {},
   "outputs": [],
   "source": [
    "from profiler.core import *"
   ]
  },
  {
   "cell_type": "markdown",
   "metadata": {},
   "source": [
    "## 1. Instantiate Engine\n",
    "* workers : number of processes\n",
    "* tol     : tolerance for differences when creating training data (set to 0 if data is completely clean)\n",
    "* eps     : error bound for inverse covariance estimation (since we use conservative calculation when determining minimum sample size, we recommend to set eps <= 0.01)\n",
    "* embedtxt: if set to true, differentiate b/w textual data and categorical data, and use word embedding for the former"
   ]
  },
  {
   "cell_type": "code",
   "execution_count": 2,
   "metadata": {},
   "outputs": [],
   "source": [
    "pf = Profiler(workers=2, tol=1e-6, eps=0.05, embedtxt=True)"
   ]
  },
  {
   "cell_type": "markdown",
   "metadata": {},
   "source": [
    "## 2. Load Data\n",
    "* name: any name you like\n",
    "* src: \\[FILE; DF; DB (not implemented)\\]\n",
    "* fpath: required if src == FILE\n",
    "* df: required if src == DF\n",
    "* check_param: print parameters used for data loading"
   ]
  },
  {
   "cell_type": "code",
   "execution_count": 3,
   "metadata": {},
   "outputs": [
    {
     "name": "stderr",
     "output_type": "stream",
     "text": [
      "INFO:profiler.utility:[4.441799879074097] Load Data start\n",
      "\n",
      "INFO:profiler.data.dataset:parameters used for data loading:\n",
      " {'na_values': 'empty', 'sep': ',', 'header': 'infer', 'dropcol': None, 'dropna': False, 'encoding': 'utf-8', 'normalize': True, 'min_categories_for_embedding': 10}\n",
      "WARNING:profiler.data.dataset:Dropping the following null column from the dataset: 'Address2'\n",
      "WARNING:profiler.data.dataset:Dropping the following null column from the dataset: 'Address3'\n",
      "INFO:profiler.data.dataset:inferred types of attributes: {\n",
      "    \"ProviderNumber\": \"text\",\n",
      "    \"HospitalName\": \"text\",\n",
      "    \"Address1\": \"text\",\n",
      "    \"City\": \"text\",\n",
      "    \"State\": \"categorical\",\n",
      "    \"ZipCode\": \"text\",\n",
      "    \"CountyName\": \"text\",\n",
      "    \"PhoneNumber\": \"text\",\n",
      "    \"HospitalType\": \"text\",\n",
      "    \"HospitalOwner\": \"text\",\n",
      "    \"EmergencyService\": \"categorical\",\n",
      "    \"Condition\": \"text\",\n",
      "    \"MeasureCode\": \"text\",\n",
      "    \"MeasureName\": \"text\",\n",
      "    \"Score\": \"text\",\n",
      "    \"Sample\": \"text\",\n",
      "    \"Stateavg\": \"text\"\n",
      "}\n",
      "INFO:profiler.data.dataset:(possible types: numeric, categorical, text, date)\n",
      "INFO:profiler.data.dataset:inferred operators of attributes: {'ProviderNumber': ['equal'], 'HospitalName': ['equal'], 'Address1': ['equal'], 'City': ['equal'], 'State': ['equal'], 'ZipCode': ['equal'], 'CountyName': ['equal'], 'PhoneNumber': ['equal'], 'HospitalType': ['equal'], 'HospitalOwner': ['equal'], 'EmergencyService': ['equal'], 'Condition': ['equal'], 'MeasureCode': ['equal'], 'MeasureName': ['equal'], 'Score': ['equal'], 'Sample': ['equal'], 'Stateavg': ['equal']}\n",
      "INFO:profiler.data.dataset:(possible operators: equal, notequal, greater_than, less_than)\n",
      "INFO:profiler.utility:[4.541566848754883] Load Data execution time: 0.09976696968078613\n",
      "\n"
     ]
    }
   ],
   "source": [
    "pf.session.load_data(name='hospital', src=FILE, fpath='data/hospital.csv', check_param=True, na_values='empty')"
   ]
  },
  {
   "cell_type": "markdown",
   "metadata": {},
   "source": [
    "### 2.1 Change Data Types of Attributes\n",
    "* required input:\n",
    "    * a list of attributes\n",
    "    * a list of data types (must match the order of the attributes; can be CATEGORICAL, NUMERIC, TEXT, DATE)\n",
    "* optional input:\n",
    "    * a list of regular expression extractor"
   ]
  },
  {
   "cell_type": "code",
   "execution_count": 4,
   "metadata": {},
   "outputs": [
    {
     "name": "stderr",
     "output_type": "stream",
     "text": [
      "INFO:profiler.data.dataset:updated types of ProviderNumber to 'categorical'\n",
      "INFO:profiler.data.dataset:updated operators of ProviderNumber to ['equal']\n",
      "INFO:profiler.data.dataset:updated types of ZipCode to 'numeric'\n",
      "INFO:profiler.data.dataset:updated operators of ZipCode to ['equal']\n",
      "INFO:profiler.data.dataset:updated types of PhoneNumber to 'categorical'\n",
      "INFO:profiler.data.dataset:updated operators of PhoneNumber to ['equal']\n",
      "INFO:profiler.data.dataset:updated types of State to 'text'\n",
      "INFO:profiler.data.dataset:updated operators of State to ['equal']\n",
      "INFO:profiler.data.dataset:updated types of EmergencyService to 'text'\n",
      "INFO:profiler.data.dataset:updated operators of EmergencyService to ['equal']\n",
      "INFO:profiler.data.dataset:updated types of Score to 'numeric'\n",
      "INFO:profiler.data.dataset:updated operators of Score to ['equal']\n",
      "INFO:profiler.data.dataset:updated types of Sample to 'numeric'\n",
      "INFO:profiler.data.dataset:updated operators of Sample to ['equal']\n",
      "INFO:profiler.data.dataset:updated inferred operators of attributes: {'ProviderNumber': ['equal'], 'HospitalName': ['equal'], 'Address1': ['equal'], 'City': ['equal'], 'State': ['equal'], 'ZipCode': ['equal'], 'CountyName': ['equal'], 'PhoneNumber': ['equal'], 'HospitalType': ['equal'], 'HospitalOwner': ['equal'], 'EmergencyService': ['equal'], 'Condition': ['equal'], 'MeasureCode': ['equal'], 'MeasureName': ['equal'], 'Score': ['equal'], 'Sample': ['equal'], 'Stateavg': ['equal']}\n"
     ]
    }
   ],
   "source": [
    "pf.session.change_dtypes(['ProviderNumber', 'ZipCode', 'PhoneNumber', 'State', 'EmergencyService','Score', 'Sample'], \n",
    "                            [CATEGORICAL, NUMERIC, CATEGORICAL, TEXT, TEXT, NUMERIC, NUMERIC],\n",
    "                            [None, None, None, None, None, r'(\\d+)%', r'(\\d+)\\spatients'])"
   ]
  },
  {
   "cell_type": "markdown",
   "metadata": {},
   "source": [
    "### 2.2. Load/Train Embeddings for TEXT\n",
    "* path: path to saved/to-save embedding folder\n",
    "* load: set to true -- load saved vec from 'path'; set to false -- train locally\n",
    "* save: (only for load = False) save trained vectors to 'path'"
   ]
  },
  {
   "cell_type": "code",
   "execution_count": 5,
   "metadata": {
    "scrolled": true
   },
   "outputs": [
    {
     "name": "stderr",
     "output_type": "stream",
     "text": [
      "INFO:profiler.utility:[6.294607877731323] Load Embedding start\n",
      "\n",
      "INFO:profiler.utility:[6.35546088218689] Load Embedding execution time: 0.060853004455566406\n",
      "\n"
     ]
    }
   ],
   "source": [
    "pf.session.load_embedding(save=True, path='data/hospital/', load=True)"
   ]
  },
  {
   "cell_type": "markdown",
   "metadata": {},
   "source": [
    "## 3. Load Training Data\n",
    "* multiplier: if set to None, will infer the minimal sample size; otherwise, it will create (# samples) * (# attributes) * (multiplier) training samples"
   ]
  },
  {
   "cell_type": "code",
   "execution_count": 6,
   "metadata": {},
   "outputs": [
    {
     "name": "stderr",
     "output_type": "stream",
     "text": [
      "INFO:profiler.utility:[7.19960880279541] Create Training Data start\n",
      "\n",
      "INFO:profiler.data.transformer:needs multiplier = 165 to bound the error in inv cov estimation <= 0.05000000\n",
      "INFO:profiler.data.transformer:use multiplier = 165, and the bound is 0.00007298\n",
      "INFO:profiler.data.transformer:Draw Pairs\n",
      "100%|██████████| 17/17 [00:00<00:00, 51.54it/s]\n",
      "INFO:profiler.data.transformer:Number of training samples: 170000\n",
      "INFO:profiler.data.transformer:Computing Differences\n",
      "INFO:profiler.data.transformer:estimated missing data probability in training data is 0.0296\n",
      "INFO:profiler.utility:[15.77217984199524] Create Training Data execution time: 8.572571039199829\n",
      "\n"
     ]
    }
   ],
   "source": [
    "pf.session.load_training_data(multiplier = None)"
   ]
  },
  {
   "cell_type": "markdown",
   "metadata": {},
   "source": [
    "## 4. Learn Structure\n",
    "* sparsity: intensity of L1-regularizer in inverse covariance estimation (glasso)\n",
    "* take_neg: if set to true, consider equal -> equal only"
   ]
  },
  {
   "cell_type": "code",
   "execution_count": 7,
   "metadata": {},
   "outputs": [
    {
     "name": "stderr",
     "output_type": "stream",
     "text": [
      "INFO:profiler.utility:[15.786157846450806] Learn Structure start\n",
      "\n",
      "INFO:profiler.learner:use threshold 0.0481\n",
      "INFO:profiler.utility:[16.13055992126465] Learn Structure execution time: 0.3444020748138428\n",
      "\n"
     ]
    }
   ],
   "source": [
    "autoregress_matrix = pf.session.learn_structure(sparsity=0.05, infer_order=True)"
   ]
  },
  {
   "cell_type": "markdown",
   "metadata": {},
   "source": [
    "* score: \n",
    "    * \"fit_error\": mse for fitting y = B'X + c for each atttribute y \n",
    "    * \"training_data_fd_vio_ratio\": the higher the score, the more violations of FDs in the training data. (bounded: \\[0,1\\])"
   ]
  },
  {
   "cell_type": "code",
   "execution_count": 8,
   "metadata": {},
   "outputs": [
    {
     "name": "stderr",
     "output_type": "stream",
     "text": [
      "INFO:profiler.utility:[18.784701824188232] Get Dependencies start\n",
      "\n",
      "INFO:profiler.utility:[18.92760181427002] Get Dependencies execution time: 0.1428999900817871\n",
      "\n"
     ]
    },
    {
     "name": "stdout",
     "output_type": "stream",
     "text": [
      "ProviderNumber -> HospitalName (0.04778262564662639)\n",
      "ProviderNumber,HospitalName -> Address1 (0.03581480009571521)\n",
      "ProviderNumber,HospitalName,Address1 -> City (0.0519981468488183)\n",
      "ProviderNumber,HospitalName,Address1,City -> ZipCode (0.03162166007920247)\n",
      "ProviderNumber,HospitalName,Address1,City,ZipCode -> CountyName (0.05334153792865304)\n",
      "ProviderNumber,HospitalName,Address1,City,ZipCode,CountyName -> PhoneNumber (0.030615396508314536)\n",
      "ProviderNumber,HospitalName,Address1,City,ZipCode,CountyName,PhoneNumber -> HospitalOwner (0.11281126548926404)\n",
      "MeasureCode -> MeasureName (0.030239926801220677)\n",
      "MeasureCode,MeasureName -> Stateavg (0.020474711741122968)\n",
      "MeasureCode,MeasureName,Stateavg -> Condition (0.2041862816783034)\n",
      "HospitalName,ZipCode,CountyName -> EmergencyService (0.14244596376247692)\n"
     ]
    }
   ],
   "source": [
    "parent_sets = pf.session.get_dependencies(score=\"fit_error\")"
   ]
  },
  {
   "cell_type": "code",
   "execution_count": 9,
   "metadata": {},
   "outputs": [],
   "source": [
    "import os, json\n",
    "def read_fds(path='data/fds', f='TECHospital-hyfd'):\n",
    "    all_fds = {}\n",
    "    for line in open(os.path.join(path,f)):\n",
    "        fd = json.loads(line)\n",
    "        right = fd[u'dependant']['columnIdentifier']\n",
    "        left = [l[u'columnIdentifier'] for l in fd[ u'determinant'][u'columnIdentifiers']]\n",
    "        if right not in all_fds:\n",
    "            all_fds[right] = set()\n",
    "        all_fds[right].add(frozenset(left))\n",
    "    return all_fds"
   ]
  },
  {
   "cell_type": "code",
   "execution_count": 10,
   "metadata": {},
   "outputs": [],
   "source": [
    "gt = read_fds(f='hospital_clean-fun')"
   ]
  },
  {
   "cell_type": "code",
   "execution_count": 11,
   "metadata": {},
   "outputs": [
    {
     "name": "stdout",
     "output_type": "stream",
     "text": [
      "['MeasureCode' 'MeasureName'] -> Stateavg is not valid\n",
      "Precision: 0.9091\n"
     ]
    }
   ],
   "source": [
    "tp = 0\n",
    "count = 0\n",
    "for child in parent_sets:\n",
    "    found = parent_sets[child]\n",
    "    if len(found) == 0:\n",
    "        continue\n",
    "    count += 1\n",
    "    match = False\n",
    "    for parent in gt[child]:\n",
    "        if set(parent).issubset(found):\n",
    "            tp += 1\n",
    "            match = True\n",
    "            break\n",
    "    if not match:\n",
    "        print(\"{} -> {} is not valid\".format(found, child))\n",
    "    \n",
    "print(\"Precision: %.4f\"%(float(tp) / count))"
   ]
  },
  {
   "cell_type": "markdown",
   "metadata": {},
   "source": [
    "## 5. Visualization"
   ]
  },
  {
   "cell_type": "code",
   "execution_count": 12,
   "metadata": {},
   "outputs": [
    {
     "data": {
      "text/plain": [
       "<Figure size 1000x800 with 2 Axes>"
      ]
     },
     "metadata": {},
     "output_type": "display_data"
    }
   ],
   "source": [
    "pf.session.visualize_covariance()"
   ]
  },
  {
   "cell_type": "code",
   "execution_count": 13,
   "metadata": {},
   "outputs": [
    {
     "data": {
      "image/png": "[encoded data removed]",
      "text/plain": [
       "<Figure size 720x576 with 2 Axes>"
      ]
     },
     "metadata": {
      "needs_background": "light"
     },
     "output_type": "display_data"
    }
   ],
   "source": [
    "pf.session.visualize_inverse_covariance()"
   ]
  },
  {
   "cell_type": "code",
   "execution_count": 14,
   "metadata": {},
   "outputs": [
    {
     "data": {
      "image/png": "[encoded data removed]",
      "text/plain": [
       "<Figure size 720x576 with 2 Axes>"
      ]
     },
     "metadata": {
      "needs_background": "light"
     },
     "output_type": "display_data"
    }
   ],
   "source": [
    "pf.session.visualize_autoregression()"
   ]
  },
  {
   "cell_type": "code",
   "execution_count": 15,
   "metadata": {},
   "outputs": [
    {
     "data": {
      "text/html": [
       "<div>\n",
       "<style scoped>\n",
       "    .dataframe tbody tr th:only-of-type {\n",
       "        vertical-align: middle;\n",
       "    }\n",
       "\n",
       "    .dataframe tbody tr th {\n",
       "        vertical-align: top;\n",
       "    }\n",
       "\n",
       "    .dataframe thead th {\n",
       "        text-align: right;\n",
       "    }\n",
       "</style>\n",
       "<table border=\"1\" class=\"dataframe\">\n",
       "  <thead>\n",
       "    <tr style=\"text-align: right;\">\n",
       "      <th></th>\n",
       "      <th>time_point</th>\n",
       "      <th>msg</th>\n",
       "      <th>execution_time</th>\n",
       "    </tr>\n",
       "  </thead>\n",
       "  <tbody>\n",
       "    <tr>\n",
       "      <td>0</td>\n",
       "      <td>4.441800</td>\n",
       "      <td>start: Load Data</td>\n",
       "      <td>0.000000</td>\n",
       "    </tr>\n",
       "    <tr>\n",
       "      <td>1</td>\n",
       "      <td>4.541567</td>\n",
       "      <td>end: Load Data</td>\n",
       "      <td>0.099767</td>\n",
       "    </tr>\n",
       "    <tr>\n",
       "      <td>2</td>\n",
       "      <td>6.294608</td>\n",
       "      <td>start: Load Embedding</td>\n",
       "      <td>0.000000</td>\n",
       "    </tr>\n",
       "    <tr>\n",
       "      <td>3</td>\n",
       "      <td>6.355461</td>\n",
       "      <td>end: Load Embedding</td>\n",
       "      <td>0.060853</td>\n",
       "    </tr>\n",
       "    <tr>\n",
       "      <td>4</td>\n",
       "      <td>7.199609</td>\n",
       "      <td>start: Create Training Data</td>\n",
       "      <td>0.000000</td>\n",
       "    </tr>\n",
       "    <tr>\n",
       "      <td>5</td>\n",
       "      <td>15.772180</td>\n",
       "      <td>end: Create Training Data</td>\n",
       "      <td>8.572571</td>\n",
       "    </tr>\n",
       "    <tr>\n",
       "      <td>6</td>\n",
       "      <td>15.786158</td>\n",
       "      <td>start: Learn Structure</td>\n",
       "      <td>0.000000</td>\n",
       "    </tr>\n",
       "    <tr>\n",
       "      <td>7</td>\n",
       "      <td>16.130560</td>\n",
       "      <td>end: Learn Structure</td>\n",
       "      <td>0.344402</td>\n",
       "    </tr>\n",
       "    <tr>\n",
       "      <td>8</td>\n",
       "      <td>18.784702</td>\n",
       "      <td>start: Get Dependencies</td>\n",
       "      <td>0.000000</td>\n",
       "    </tr>\n",
       "    <tr>\n",
       "      <td>9</td>\n",
       "      <td>18.927602</td>\n",
       "      <td>end: Get Dependencies</td>\n",
       "      <td>0.142900</td>\n",
       "    </tr>\n",
       "    <tr>\n",
       "      <td>10</td>\n",
       "      <td>18.927602</td>\n",
       "      <td>total_execution_time</td>\n",
       "      <td>9.220493</td>\n",
       "    </tr>\n",
       "  </tbody>\n",
       "</table>\n",
       "</div>"
      ],
      "text/plain": [
       "    time_point                          msg  execution_time\n",
       "0     4.441800             start: Load Data        0.000000\n",
       "1     4.541567               end: Load Data        0.099767\n",
       "2     6.294608        start: Load Embedding        0.000000\n",
       "3     6.355461          end: Load Embedding        0.060853\n",
       "4     7.199609  start: Create Training Data        0.000000\n",
       "5    15.772180    end: Create Training Data        8.572571\n",
       "6    15.786158       start: Learn Structure        0.000000\n",
       "7    16.130560         end: Learn Structure        0.344402\n",
       "8    18.784702      start: Get Dependencies        0.000000\n",
       "9    18.927602        end: Get Dependencies        0.142900\n",
       "10   18.927602         total_execution_time        9.220493"
      ]
     },
     "execution_count": 15,
     "metadata": {},
     "output_type": "execute_result"
    }
   ],
   "source": [
    "pf.session.timer.get_stat()"
   ]
  },
  {
   "cell_type": "code",
   "execution_count": null,
   "metadata": {},
   "outputs": [],
   "source": []
  }
 ],
 "metadata": {
  "kernelspec": {
   "display_name": "pf",
   "language": "python",
   "name": "pf"
  },
  "language_info": {
   "codemirror_mode": {
    "name": "ipython",
    "version": 3
   },
   "file_extension": ".py",
   "mimetype": "text/x-python",
   "name": "python",
   "nbconvert_exporter": "python",
   "pygments_lexer": "ipython3",
   "version": "3.7.4"
  }
 },
 "nbformat": 4,
 "nbformat_minor": 2
}
