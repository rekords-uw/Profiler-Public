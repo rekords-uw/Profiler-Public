{
 "cells": [
  {
   "cell_type": "code",
   "execution_count": 1,
   "metadata": {},
   "outputs": [],
   "source": [
    "from profiler.core import *"
   ]
  },
  {
   "cell_type": "code",
   "execution_count": 2,
   "metadata": {},
   "outputs": [],
   "source": [
    "pf = Profiler(workers=2, verbose=False, tol=0.01, eps=0.1)"
   ]
  },
  {
   "cell_type": "code",
   "execution_count": 3,
   "metadata": {},
   "outputs": [
    {
     "name": "stderr",
     "output_type": "stream",
     "text": [
      "INFO:profiler.utility:[0.006421089172363281] Load Data start\n",
      "\n",
      "INFO:profiler.dataset:inferred types of attributes: {\n",
      "    \"ProviderNumber\": \"text\",\n",
      "    \"HospitalName\": \"text\",\n",
      "    \"Address1\": \"text\",\n",
      "    \"Address2\": \"categorical\",\n",
      "    \"Address3\": \"categorical\",\n",
      "    \"City\": \"text\",\n",
      "    \"State\": \"categorical\",\n",
      "    \"ZipCode\": \"text\",\n",
      "    \"CountyName\": \"text\",\n",
      "    \"PhoneNumber\": \"text\",\n",
      "    \"HospitalType\": \"text\",\n",
      "    \"HospitalOwner\": \"text\",\n",
      "    \"EmergencyService\": \"categorical\",\n",
      "    \"Condition\": \"text\",\n",
      "    \"MeasureCode\": \"text\",\n",
      "    \"MeasureName\": \"text\",\n",
      "    \"Score\": \"text\",\n",
      "    \"Sample\": \"text\",\n",
      "    \"Stateavg\": \"text\"\n",
      "}\n",
      "INFO:profiler.dataset:(possible types: numeric, categorical, text, date)\n",
      "INFO:profiler.dataset:inferred operators of attributes: {'ProviderNumber': ['equal'], 'HospitalName': ['equal'], 'Address1': ['equal'], 'Address2': ['equal'], 'Address3': ['equal'], 'City': ['equal'], 'State': ['equal'], 'ZipCode': ['equal'], 'CountyName': ['equal'], 'PhoneNumber': ['equal'], 'HospitalType': ['equal'], 'HospitalOwner': ['equal'], 'EmergencyService': ['equal'], 'Condition': ['equal'], 'MeasureCode': ['equal'], 'MeasureName': ['equal'], 'Score': ['equal'], 'Sample': ['equal'], 'Stateavg': ['equal']}\n",
      "INFO:profiler.dataset:(possible operators: equal, notequal, greater_than, less_than)\n",
      "INFO:profiler.utility:[0.06669306755065918] Load Data execution time: 0.0602719783782959\n",
      "\n"
     ]
    }
   ],
   "source": [
    "#pf.session.load_data(name='flights', src='file', fpath='/Users/zhihan/Documents/bart/data/clean_data/flights.csv', embedtxt=False)\n",
    "pf.session.load_data(name='hospital', src='file', fpath='data/hospital.csv', embedtxt=True)"
   ]
  },
  {
   "cell_type": "code",
   "execution_count": 4,
   "metadata": {},
   "outputs": [
    {
     "name": "stderr",
     "output_type": "stream",
     "text": [
      "INFO:profiler.dataset:updated types of ProviderNumber to 'categorical'\n",
      "INFO:profiler.dataset:updated operators of ProviderNumber to ['equal']\n",
      "INFO:profiler.dataset:updated types of ZipCode to 'numeric'\n",
      "INFO:profiler.dataset:updated operators of ZipCode to ['equal']\n",
      "INFO:profiler.dataset:updated types of PhoneNumber to 'categorical'\n",
      "INFO:profiler.dataset:updated operators of PhoneNumber to ['equal']\n",
      "INFO:profiler.dataset:updated types of State to 'text'\n",
      "INFO:profiler.dataset:updated operators of State to ['equal']\n",
      "INFO:profiler.dataset:updated types of EmergencyService to 'text'\n",
      "INFO:profiler.dataset:updated operators of EmergencyService to ['equal']\n",
      "INFO:profiler.dataset:updated types of Score to 'numeric'\n",
      "INFO:profiler.dataset:updated operators of Score to ['equal']\n",
      "INFO:profiler.dataset:updated types of Sample to 'numeric'\n",
      "INFO:profiler.dataset:updated operators of Sample to ['equal']\n",
      "INFO:profiler.dataset:updated inferred operators of attributes: {'ProviderNumber': ['equal'], 'HospitalName': ['equal'], 'Address1': ['equal'], 'Address2': ['equal'], 'Address3': ['equal'], 'City': ['equal'], 'State': ['equal'], 'ZipCode': ['equal'], 'CountyName': ['equal'], 'PhoneNumber': ['equal'], 'HospitalType': ['equal'], 'HospitalOwner': ['equal'], 'EmergencyService': ['equal'], 'Condition': ['equal'], 'MeasureCode': ['equal'], 'MeasureName': ['equal'], 'Score': ['equal'], 'Sample': ['equal'], 'Stateavg': ['equal']}\n"
     ]
    }
   ],
   "source": [
    "pf.session.change_dtypes(['ProviderNumber', 'ZipCode', 'PhoneNumber', 'State', 'EmergencyService','Score', 'Sample'], \n",
    "                            [CATEGORICAL, NUMERIC, CATEGORICAL, TEXT, TEXT, NUMERIC, NUMERIC],\n",
    "                            [None, None, None, None, None, r'(\\d+)%', r'(\\d+)\\spatients'])"
   ]
  },
  {
   "cell_type": "code",
   "execution_count": 5,
   "metadata": {
    "scrolled": true
   },
   "outputs": [
    {
     "name": "stderr",
     "output_type": "stream",
     "text": [
      "INFO:profiler.utility:[0.11158204078674316] Load Embedding start\n",
      "\n",
      "INFO:profiler.utility:[0.14524602890014648] Load Embedding execution time: 0.03366398811340332\n",
      "\n"
     ]
    }
   ],
   "source": [
    "pf.session.load_embedding(save=True, path='data/hospital/', load=True)"
   ]
  },
  {
   "cell_type": "code",
   "execution_count": 6,
   "metadata": {},
   "outputs": [
    {
     "name": "stderr",
     "output_type": "stream",
     "text": [
      "INFO:profiler.utility:[0.15105795860290527] Create Training Data start\n",
      "\n",
      "INFO:profiler.transformer:needs multiplier = 54 to bound the error in inv cov estimation <= 0.10000000\n",
      "INFO:profiler.transformer:use multiplier = 54, and the bound is 0.00024939\n",
      "INFO:profiler.transformer:Draw Pairs\n",
      "100%|██████████| 19/19 [00:00<00:00, 244.67it/s]\n",
      "INFO:profiler.transformer:Number of training samples: 56943\n",
      "INFO:profiler.transformer:Computing Differences\n",
      "INFO:profiler.transformer:estimated missing data probability in training data is 0.0283\n",
      "INFO:profiler.utility:[0.6540720462799072] Create Training Data execution time: 0.503014087677002\n",
      "\n"
     ]
    }
   ],
   "source": [
    "pf.session.load_training_data()"
   ]
  },
  {
   "cell_type": "code",
   "execution_count": 7,
   "metadata": {},
   "outputs": [
    {
     "name": "stderr",
     "output_type": "stream",
     "text": [
      "INFO:profiler.utility:[0.6636788845062256] Learn Structure start\n",
      "\n",
      "INFO:profiler.learner:use threshold 0.0829\n"
     ]
    },
    {
     "data": {
      "text/plain": [
       "<Figure size 1000x800 with 2 Axes>"
      ]
     },
     "metadata": {},
     "output_type": "display_data"
    },
    {
     "name": "stdout",
     "output_type": "stream",
     "text": [
      "ProviderNumber_eq,Address1_eq,City_eq,ZipCode_eq,CountyName_eq,PhoneNumber_eq,HospitalOwner_eq,EmergencyService_eq -> HospitalName_eq\n",
      "ProviderNumber_eq,HospitalName_eq,City_eq,ZipCode_eq,CountyName_eq,PhoneNumber_eq,HospitalOwner_eq -> Address1_eq\n",
      "ProviderNumber_eq,HospitalName_eq,Address1_eq,ZipCode_eq,CountyName_eq,PhoneNumber_eq,HospitalOwner_eq -> City_eq\n",
      "ProviderNumber_eq,HospitalName_eq,Address1_eq,City_eq,CountyName_eq,PhoneNumber_eq -> ZipCode_eq\n",
      "ProviderNumber_eq,HospitalName_eq,Address1_eq,City_eq,ZipCode_eq,PhoneNumber_eq,HospitalOwner_eq -> CountyName_eq\n",
      "ProviderNumber_eq,HospitalName_eq,Address1_eq,City_eq,ZipCode_eq,CountyName_eq,HospitalOwner_eq -> PhoneNumber_eq\n",
      "ProviderNumber_eq,HospitalName_eq,Address1_eq,City_eq,CountyName_eq,PhoneNumber_eq -> HospitalOwner_eq\n",
      "HospitalName_eq -> EmergencyService_eq\n",
      "MeasureCode_eq,MeasureName_eq -> Condition_eq\n",
      "Condition_eq,MeasureName_eq,Stateavg_eq -> MeasureCode_eq\n",
      "Condition_eq,MeasureCode_eq,Stateavg_eq -> MeasureName_eq\n",
      "MeasureCode_eq,MeasureName_eq -> Stateavg_eq\n"
     ]
    },
    {
     "data": {
      "text/plain": [
       "<Figure size 1200x600 with 1 Axes>"
      ]
     },
     "metadata": {},
     "output_type": "display_data"
    },
    {
     "data": {
      "text/plain": [
       "<Figure size 1200x600 with 1 Axes>"
      ]
     },
     "metadata": {},
     "output_type": "display_data"
    },
    {
     "name": "stdout",
     "output_type": "stream",
     "text": [
      "frozenset({0, 1, 2, 3, 5, 6, 7})\n",
      "frozenset({1, 10})\n"
     ]
    },
    {
     "data": {
      "text/plain": [
       "<Figure size 1200x600 with 1 Axes>"
      ]
     },
     "metadata": {},
     "output_type": "display_data"
    },
    {
     "data": {
      "text/plain": [
       "<Figure size 1200x600 with 1 Axes>"
      ]
     },
     "metadata": {},
     "output_type": "display_data"
    },
    {
     "name": "stdout",
     "output_type": "stream",
     "text": [
      "[0]join:frozenset({0, 1, 2, 3, 6, 7, 9})\n",
      "--[3]introduce:frozenset({0, 1, 2, 3, 6, 7, 9})\n",
      "----[4]forget:frozenset({0, 1, 2, 3, 6, 7})\n",
      "------[1]introduce:frozenset({0, 1, 2, 3, 5, 6, 7})\n",
      "--------[5]introduce:frozenset({1, 2, 3, 5, 6, 7})\n",
      "----------[6]introduce:frozenset({2, 3, 5, 6, 7})\n",
      "------------[7]introduce:frozenset({3, 5, 6, 7})\n",
      "--------------[8]introduce:frozenset({5, 6, 7})\n",
      "----------------[9]introduce:frozenset({6, 7})"
     ]
    },
    {
     "name": "stderr",
     "output_type": "stream",
     "text": [
      "DEBUG:profiler.learner:check node t = 0 with X(t) = frozenset({0, 1, 2, 3, 6, 7, 9}) \n",
      "DEBUG:profiler.learner:check node t = 3 with X(t) = frozenset({0, 1, 2, 3, 6, 7, 9}) \n",
      "DEBUG:profiler.learner:possible parents of introduced node: {0, 1, 2, 3, 6, 7}\n",
      "DEBUG:profiler.learner:check node t = 4 with X(t) = frozenset({0, 1, 2, 3, 6, 7}) \n",
      "DEBUG:profiler.learner:check node t = 1 with X(t) = frozenset({0, 1, 2, 3, 5, 6, 7}) \n",
      "DEBUG:profiler.learner:possible parents of introduced node: {1, 2, 3, 5, 6, 7, 9}\n",
      "DEBUG:profiler.learner:check node t = 5 with X(t) = frozenset({1, 2, 3, 5, 6, 7}) \n",
      "DEBUG:profiler.learner:possible parents of introduced node: {0, 2, 3, 5, 6, 7, 9, 10}\n",
      "DEBUG:profiler.learner:check node t = 6 with X(t) = frozenset({2, 3, 5, 6, 7}) \n",
      "DEBUG:profiler.learner:possible parents of introduced node: {0, 1, 3, 5, 6, 7, 9}\n",
      "DEBUG:profiler.learner:check node t = 7 with X(t) = frozenset({3, 5, 6, 7}) \n",
      "DEBUG:profiler.learner:possible parents of introduced node: {0, 1, 2, 5, 6, 7, 9}\n",
      "DEBUG:profiler.learner:check node t = 8 with X(t) = frozenset({5, 6, 7}) \n",
      "DEBUG:profiler.learner:possible parents of introduced node: {0, 1, 2, 3, 6, 7}\n",
      "DEBUG:profiler.learner:check node t = 9 with X(t) = frozenset({6, 7}) \n",
      "DEBUG:profiler.learner:possible parents of introduced node: {0, 1, 2, 3, 5, 7, 9}\n"
     ]
    },
    {
     "name": "stdout",
     "output_type": "stream",
     "text": [
      "\n",
      "------------------[10]leaf:frozenset({7})\n",
      "--[11]introduce:frozenset({0, 1, 2, 3, 6, 7, 9})\n",
      "----[12]introduce:frozenset({1, 2, 3, 6, 7, 9})\n",
      "------[13]introduce:frozenset({1, 3, 6, 7, 9})\n",
      "--------[14]introduce:frozenset({1, 9, 6, 7})\n",
      "----------[15]introduce:frozenset({1, 9, 7})\n",
      "------------[16]introduce:frozenset({1, 9})\n",
      "--------------[17]forget:frozenset({1})\n",
      "----------------[2]introduce:frozenset({1, 10})\n",
      "------------------[18]leaf:frozenset({10})\n"
     ]
    },
    {
     "name": "stderr",
     "output_type": "stream",
     "text": [
      "DEBUG:profiler.learner:R for leaf node t = 10 with X(t) = frozenset({7}) candidate size: 1\n",
      "DEBUG:profiler.learner:[({7: {1, 2, 3, 5, 6, 9}}, {1: [7], 2: [7], 3: [7], 5: [7], 6: [7], 9: [7]}, -1.4196049540834694)]\n",
      "DEBUG:profiler.learner:R for intro node t = 9 with X(t) = frozenset({6, 7}) candidate size: 1\n",
      "DEBUG:profiler.learner:[({6: {1, 2, 3, 5, 9}, 7: {1, 2, 3, 5, 6, 9}}, {1: [7, 6], 2: [7, 6], 3: [7, 6], 5: [7, 6], 6: [7], 9: [7, 6]}, -2.5776682871268948)]\n",
      "DEBUG:profiler.learner:R[10]:[({7: {1, 2, 3, 5, 6, 9}}, {1: [7, 6], 2: [7, 6], 3: [7, 6], 5: [7, 6], 6: [7], 9: [7, 6]}, -1.4196049540834694)]\n",
      "DEBUG:profiler.learner:R for intro node t = 8 with X(t) = frozenset({5, 6, 7}) candidate size: 1\n",
      "DEBUG:profiler.learner:[({5: {1, 2, 3}, 6: {1, 2, 3, 5, 9}, 7: {1, 2, 3, 5, 6, 9}}, {1: [7, 6, 5], 2: [7, 6, 5], 3: [7, 6, 5], 5: [7, 6], 6: [7], 9: [7, 6]}, -2.6611845134141463)]\n",
      "DEBUG:profiler.learner:R[10]:[({7: {1, 2, 3, 5, 6, 9}}, {1: [7, 6, 5], 2: [7, 6, 5], 3: [7, 6, 5], 5: [7, 6], 6: [7], 9: [7, 6]}, -1.4196049540834694)]\n",
      "DEBUG:profiler.learner:R for intro node t = 7 with X(t) = frozenset({3, 5, 6, 7}) candidate size: 1\n",
      "DEBUG:profiler.learner:[({3: {0, 1, 2, 9}, 5: {1, 2, 3}, 6: {1, 2, 3, 5, 9}, 7: {1, 2, 3, 5, 6, 9}}, {1: [7, 6, 5, 3], 2: [7, 6, 5, 3], 3: [7, 6, 5], 5: [7, 6], 6: [7], 9: [7, 6, 3], 0: [3]}, -3.7715324939861343)]\n",
      "DEBUG:profiler.learner:R[10]:[({7: {1, 2, 3, 5, 6, 9}}, {1: [7, 6, 5, 3], 2: [7, 6, 5, 3], 3: [7, 6, 5], 5: [7, 6], 6: [7], 9: [7, 6, 3]}, -1.4196049540834694)]\n",
      "DEBUG:profiler.learner:R for intro node t = 6 with X(t) = frozenset({2, 3, 5, 6, 7}) candidate size: 1\n",
      "DEBUG:profiler.learner:[({2: {0, 1, 9}, 3: {0, 1, 2, 9}, 5: {1, 2, 3}, 6: {1, 2, 3, 5, 9}, 7: {1, 2, 3, 5, 6, 9}}, {1: [7, 6, 5, 3, 2], 2: [7, 6, 5, 3], 3: [7, 6, 5], 5: [7, 6], 6: [7], 9: [7, 6, 3, 2], 0: [3, 2]}, -4.800587326945857)]\n",
      "DEBUG:profiler.learner:R[10]:[({7: {1, 2, 3, 5, 6, 9}}, {1: [7, 6, 5, 3, 2], 2: [7, 6, 5, 3], 3: [7, 6, 5], 5: [7, 6], 6: [7], 9: [7, 6, 3, 2]}, -1.4196049540834694)]\n",
      "DEBUG:profiler.learner:R for intro node t = 5 with X(t) = frozenset({1, 2, 3, 5, 6, 7}) candidate size: 1\n",
      "DEBUG:profiler.learner:[({1: {0, 9, 10}, 2: {0, 1, 9}, 3: {0, 1, 2, 9}, 5: {1, 2, 3}, 6: {1, 2, 3, 5, 9}, 7: {1, 2, 3, 5, 6, 9}}, {1: [7, 6, 5, 3, 2], 2: [7, 6, 5, 3], 3: [7, 6, 5], 5: [7, 6], 6: [7], 9: [7, 6, 3, 2, 1], 0: [3, 2, 1], 10: [1]}, -5.039718433301953)]\n",
      "DEBUG:profiler.learner:R[10]:[({7: {1, 2, 3, 5, 6, 9}}, {1: [7, 6, 5, 3, 2], 2: [7, 6, 5, 3], 3: [7, 6, 5], 5: [7, 6], 6: [7], 9: [7, 6, 3, 2, 1]}, -1.4196049540834694)]\n",
      "DEBUG:profiler.learner:R for intro node t = 1 with X(t) = frozenset({0, 1, 2, 3, 5, 6, 7}) candidate size: 1\n",
      "DEBUG:profiler.learner:[({0: {9, 5, 6}, 1: {0, 9, 10}, 2: {0, 1, 9}, 3: {0, 1, 2, 9}, 5: {1, 2, 3}, 6: {1, 2, 3, 5, 9}, 7: {1, 2, 3, 5, 6, 9}}, {1: [7, 6, 5, 3, 2], 2: [7, 6, 5, 3], 3: [7, 6, 5], 5: [7, 6, 0], 6: [7, 0], 9: [7, 6, 3, 2, 1, 0], 0: [3, 2, 1], 10: [1]}, -5.085631736670808)]\n",
      "DEBUG:profiler.learner:R[10]:[({7: {1, 2, 3, 5, 6, 9}}, {1: [7, 6, 5, 3, 2], 2: [7, 6, 5, 3], 3: [7, 6, 5], 5: [7, 6, 0], 6: [7, 0], 9: [7, 6, 3, 2, 1, 0]}, -1.4196049540834694)]\n",
      "DEBUG:profiler.learner:[({0: {9, 5, 6}, 1: {0, 9, 10}, 2: {0, 1, 9}, 3: {0, 1, 2, 9}, 6: {1, 2, 3, 5, 9}, 7: {1, 2, 3, 5, 6, 9}}, {1: [7, 6, 3, 2], 2: [7, 6, 3], 3: [7, 6], 6: [7, 0], 0: [3, 2, 1]}, -5.085631736670808)]\n",
      "DEBUG:profiler.learner:R for forget node t = 4 with X(t) = frozenset({0, 1, 2, 3, 6, 7}) candidate size: 1\n",
      "DEBUG:profiler.learner:[({0: {9, 5, 6}, 1: {0, 9, 10}, 2: {0, 1, 9}, 3: {0, 1, 2, 9}, 6: {1, 2, 3, 5, 9}, 7: {1, 2, 3, 5, 6, 9}}, {1: [7, 6, 3, 2], 2: [7, 6, 3], 3: [7, 6], 6: [7, 0], 0: [3, 2, 1]}, -5.085631736670808)]\n",
      "DEBUG:profiler.learner:R[10]:[({7: {1, 2, 3, 5, 6, 9}}, {1: [7, 6, 5, 3, 2], 2: [7, 6, 5, 3], 3: [7, 6, 5], 5: [7, 6, 0], 6: [7, 0], 9: [7, 6, 3, 2, 1, 0]}, -1.4196049540834694)]\n",
      "INFO:profiler.learner:aa: {0: {9, 5, 6}, 1: {0, 9, 10}, 2: {0, 1, 9}, 3: {0, 1, 2, 9}, 6: {1, 2, 3, 5, 9}, 7: {1, 2, 3, 5, 6, 9}}\n",
      "INFO:profiler.learner:pp: {1: [7, 6, 3, 2, 9], 2: [7, 6, 3, 9], 3: [7, 6, 9], 6: [7, 0, 9], 0: [3, 2, 1, 9]}\n",
      "INFO:profiler.learner:p1: {}\n",
      "INFO:profiler.learner:p2: {9: [0, 1, 2, 3, 6, 7]}\n",
      "DEBUG:profiler.learner:s: {1: [7, 6, 3, 2, 9], 2: [7, 6, 3, 9], 3: [7, 6, 9], 6: [7, 0, 9], 0: [3, 2, 1, 9]}\n",
      "DEBUG:profiler.learner:assign to s0, continue\n",
      "DEBUG:profiler.learner:s: {}\n",
      "DEBUG:profiler.learner:empty, continue\n",
      "DEBUG:profiler.learner:s: {9: [0, 1, 2, 3, 6, 7]}\n",
      "DEBUG:profiler.learner:merge with s0\n",
      "INFO:profiler.learner:check: None\n"
     ]
    },
    {
     "ename": "Exception",
     "evalue": "No DAG found",
     "output_type": "error",
     "traceback": [
      "\u001b[0;31m---------------------------------------------------------------------------\u001b[0m",
      "\u001b[0;31mException\u001b[0m                                 Traceback (most recent call last)",
      "\u001b[0;32m<ipython-input-7-d58a1a74f1d3>\u001b[0m in \u001b[0;36m<module>\u001b[0;34m\u001b[0m\n\u001b[0;32m----> 1\u001b[0;31m \u001b[0mpf\u001b[0m\u001b[0;34m.\u001b[0m\u001b[0msession\u001b[0m\u001b[0;34m.\u001b[0m\u001b[0mlearn_structure\u001b[0m\u001b[0;34m(\u001b[0m\u001b[0msparsity\u001b[0m\u001b[0;34m=\u001b[0m\u001b[0;36m0.05\u001b[0m\u001b[0;34m)\u001b[0m\u001b[0;34m\u001b[0m\u001b[0;34m\u001b[0m\u001b[0m\n\u001b[0m",
      "\u001b[0;32m~/Documents/Profiler-Public/profiler/core.py\u001b[0m in \u001b[0;36mlearn_structure\u001b[0;34m(self, **kwargs)\u001b[0m\n\u001b[1;32m    230\u001b[0m     \u001b[0;32mdef\u001b[0m \u001b[0mlearn_structure\u001b[0m\u001b[0;34m(\u001b[0m\u001b[0mself\u001b[0m\u001b[0;34m,\u001b[0m \u001b[0;34m**\u001b[0m\u001b[0mkwargs\u001b[0m\u001b[0;34m)\u001b[0m\u001b[0;34m:\u001b[0m\u001b[0;34m\u001b[0m\u001b[0;34m\u001b[0m\u001b[0m\n\u001b[1;32m    231\u001b[0m         \u001b[0mself\u001b[0m\u001b[0;34m.\u001b[0m\u001b[0mtimer\u001b[0m\u001b[0;34m.\u001b[0m\u001b[0mtime_start\u001b[0m\u001b[0;34m(\u001b[0m\u001b[0;34m'Learn Structure'\u001b[0m\u001b[0;34m)\u001b[0m\u001b[0;34m\u001b[0m\u001b[0;34m\u001b[0m\u001b[0m\n\u001b[0;32m--> 232\u001b[0;31m         \u001b[0mself\u001b[0m\u001b[0;34m.\u001b[0m\u001b[0mstruct_engine\u001b[0m\u001b[0;34m.\u001b[0m\u001b[0mlearn\u001b[0m\u001b[0;34m(\u001b[0m\u001b[0mself\u001b[0m\u001b[0;34m.\u001b[0m\u001b[0mtraining_data\u001b[0m\u001b[0;34m,\u001b[0m \u001b[0mself\u001b[0m\u001b[0;34m.\u001b[0m\u001b[0mnull_pb\u001b[0m\u001b[0;34m,\u001b[0m \u001b[0mself\u001b[0m\u001b[0;34m.\u001b[0m\u001b[0msample_size\u001b[0m\u001b[0;34m,\u001b[0m \u001b[0;34m**\u001b[0m\u001b[0mkwargs\u001b[0m\u001b[0;34m)\u001b[0m\u001b[0;34m\u001b[0m\u001b[0;34m\u001b[0m\u001b[0m\n\u001b[0m\u001b[1;32m    233\u001b[0m         \u001b[0mself\u001b[0m\u001b[0;34m.\u001b[0m\u001b[0mtimer\u001b[0m\u001b[0;34m.\u001b[0m\u001b[0mtime_end\u001b[0m\u001b[0;34m(\u001b[0m\u001b[0;34m'Learn Structure'\u001b[0m\u001b[0;34m)\u001b[0m\u001b[0;34m\u001b[0m\u001b[0;34m\u001b[0m\u001b[0m\n\u001b[1;32m    234\u001b[0m \u001b[0;34m\u001b[0m\u001b[0m\n",
      "\u001b[0;32m~/Documents/Profiler-Public/profiler/learner.py\u001b[0m in \u001b[0;36mlearn\u001b[0;34m(self, data, null_pb, sample_size, **kwargs)\u001b[0m\n\u001b[1;32m     43\u001b[0m         \u001b[0mG\u001b[0m \u001b[0;34m=\u001b[0m \u001b[0mself\u001b[0m\u001b[0;34m.\u001b[0m\u001b[0mrecover_moral_graphs\u001b[0m\u001b[0;34m(\u001b[0m\u001b[0mself\u001b[0m\u001b[0;34m.\u001b[0m\u001b[0minv_cov\u001b[0m\u001b[0;34m)\u001b[0m\u001b[0;34m\u001b[0m\u001b[0;34m\u001b[0m\u001b[0m\n\u001b[1;32m     44\u001b[0m         \u001b[0mGs\u001b[0m \u001b[0;34m=\u001b[0m \u001b[0mG\u001b[0m\u001b[0;34m.\u001b[0m\u001b[0mget_undirected_connected_components\u001b[0m\u001b[0;34m(\u001b[0m\u001b[0;34m)\u001b[0m\u001b[0;34m\u001b[0m\u001b[0;34m\u001b[0m\u001b[0m\n\u001b[0;32m---> 45\u001b[0;31m         \u001b[0mRs\u001b[0m \u001b[0;34m=\u001b[0m \u001b[0;34m[\u001b[0m\u001b[0mself\u001b[0m\u001b[0;34m.\u001b[0m\u001b[0mrecover_dag\u001b[0m\u001b[0;34m(\u001b[0m\u001b[0mi\u001b[0m\u001b[0;34m,\u001b[0m \u001b[0mG\u001b[0m\u001b[0;34m)\u001b[0m \u001b[0;32mfor\u001b[0m \u001b[0mi\u001b[0m\u001b[0;34m,\u001b[0m \u001b[0mG\u001b[0m \u001b[0;32min\u001b[0m \u001b[0menumerate\u001b[0m\u001b[0;34m(\u001b[0m\u001b[0mGs\u001b[0m\u001b[0;34m)\u001b[0m\u001b[0;34m]\u001b[0m\u001b[0;34m\u001b[0m\u001b[0;34m\u001b[0m\u001b[0m\n\u001b[0m\u001b[1;32m     46\u001b[0m         \u001b[0;32mreturn\u001b[0m \u001b[0mRs\u001b[0m\u001b[0;34m\u001b[0m\u001b[0;34m\u001b[0m\u001b[0m\n\u001b[1;32m     47\u001b[0m \u001b[0;34m\u001b[0m\u001b[0m\n",
      "\u001b[0;32m~/Documents/Profiler-Public/profiler/learner.py\u001b[0m in \u001b[0;36m<listcomp>\u001b[0;34m(.0)\u001b[0m\n\u001b[1;32m     43\u001b[0m         \u001b[0mG\u001b[0m \u001b[0;34m=\u001b[0m \u001b[0mself\u001b[0m\u001b[0;34m.\u001b[0m\u001b[0mrecover_moral_graphs\u001b[0m\u001b[0;34m(\u001b[0m\u001b[0mself\u001b[0m\u001b[0;34m.\u001b[0m\u001b[0minv_cov\u001b[0m\u001b[0;34m)\u001b[0m\u001b[0;34m\u001b[0m\u001b[0;34m\u001b[0m\u001b[0m\n\u001b[1;32m     44\u001b[0m         \u001b[0mGs\u001b[0m \u001b[0;34m=\u001b[0m \u001b[0mG\u001b[0m\u001b[0;34m.\u001b[0m\u001b[0mget_undirected_connected_components\u001b[0m\u001b[0;34m(\u001b[0m\u001b[0;34m)\u001b[0m\u001b[0;34m\u001b[0m\u001b[0;34m\u001b[0m\u001b[0m\n\u001b[0;32m---> 45\u001b[0;31m         \u001b[0mRs\u001b[0m \u001b[0;34m=\u001b[0m \u001b[0;34m[\u001b[0m\u001b[0mself\u001b[0m\u001b[0;34m.\u001b[0m\u001b[0mrecover_dag\u001b[0m\u001b[0;34m(\u001b[0m\u001b[0mi\u001b[0m\u001b[0;34m,\u001b[0m \u001b[0mG\u001b[0m\u001b[0;34m)\u001b[0m \u001b[0;32mfor\u001b[0m \u001b[0mi\u001b[0m\u001b[0;34m,\u001b[0m \u001b[0mG\u001b[0m \u001b[0;32min\u001b[0m \u001b[0menumerate\u001b[0m\u001b[0;34m(\u001b[0m\u001b[0mGs\u001b[0m\u001b[0;34m)\u001b[0m\u001b[0;34m]\u001b[0m\u001b[0;34m\u001b[0m\u001b[0;34m\u001b[0m\u001b[0m\n\u001b[0m\u001b[1;32m     46\u001b[0m         \u001b[0;32mreturn\u001b[0m \u001b[0mRs\u001b[0m\u001b[0;34m\u001b[0m\u001b[0;34m\u001b[0m\u001b[0m\n\u001b[1;32m     47\u001b[0m \u001b[0;34m\u001b[0m\u001b[0m\n",
      "\u001b[0;32m~/Documents/Profiler-Public/profiler/learner.py\u001b[0m in \u001b[0;36mrecover_dag\u001b[0;34m(self, i, G)\u001b[0m\n\u001b[1;32m    108\u001b[0m         \u001b[0;31m# step 3: dynamic programming\u001b[0m\u001b[0;34m\u001b[0m\u001b[0;34m\u001b[0m\u001b[0;34m\u001b[0m\u001b[0m\n\u001b[1;32m    109\u001b[0m         \u001b[0mself\u001b[0m\u001b[0;34m.\u001b[0m\u001b[0mR\u001b[0m \u001b[0;34m=\u001b[0m \u001b[0;34m{\u001b[0m\u001b[0;34m}\u001b[0m\u001b[0;34m\u001b[0m\u001b[0;34m\u001b[0m\u001b[0m\n\u001b[0;32m--> 110\u001b[0;31m         \u001b[0mR\u001b[0m \u001b[0;34m=\u001b[0m \u001b[0mself\u001b[0m\u001b[0;34m.\u001b[0m\u001b[0mdfs\u001b[0m\u001b[0;34m(\u001b[0m\u001b[0mG\u001b[0m\u001b[0;34m,\u001b[0m \u001b[0mNTD\u001b[0m\u001b[0;34m,\u001b[0m \u001b[0mNTD\u001b[0m\u001b[0;34m.\u001b[0m\u001b[0mroot\u001b[0m\u001b[0;34m)\u001b[0m\u001b[0;34m\u001b[0m\u001b[0;34m\u001b[0m\u001b[0m\n\u001b[0m\u001b[1;32m    111\u001b[0m         \u001b[0;31m# optional: visualize\u001b[0m\u001b[0;34m\u001b[0m\u001b[0;34m\u001b[0m\u001b[0;34m\u001b[0m\u001b[0m\n\u001b[1;32m    112\u001b[0m         \u001b[0;32mif\u001b[0m \u001b[0mself\u001b[0m\u001b[0;34m.\u001b[0m\u001b[0mparam\u001b[0m\u001b[0;34m[\u001b[0m\u001b[0;34m'visualize'\u001b[0m\u001b[0;34m]\u001b[0m\u001b[0;34m:\u001b[0m\u001b[0;34m\u001b[0m\u001b[0;34m\u001b[0m\u001b[0m\n",
      "\u001b[0;32m~/Documents/Profiler-Public/profiler/learner.py\u001b[0m in \u001b[0;36mdfs\u001b[0;34m(self, G, tree, t)\u001b[0m\n\u001b[1;32m    200\u001b[0m             \u001b[0;31m# has children t1 and t2\u001b[0m\u001b[0;34m\u001b[0m\u001b[0;34m\u001b[0m\u001b[0;34m\u001b[0m\u001b[0m\n\u001b[1;32m    201\u001b[0m             \u001b[0mt1\u001b[0m\u001b[0;34m,\u001b[0m \u001b[0mt2\u001b[0m \u001b[0;34m=\u001b[0m \u001b[0mtree\u001b[0m\u001b[0;34m.\u001b[0m\u001b[0mget_children\u001b[0m\u001b[0;34m(\u001b[0m\u001b[0mt\u001b[0m\u001b[0;34m)\u001b[0m\u001b[0;34m\u001b[0m\u001b[0;34m\u001b[0m\u001b[0m\n\u001b[0;32m--> 202\u001b[0;31m             \u001b[0;32mfor\u001b[0m \u001b[0;34m(\u001b[0m\u001b[0ma1\u001b[0m\u001b[0;34m,\u001b[0m \u001b[0mp1\u001b[0m\u001b[0;34m,\u001b[0m \u001b[0ms1\u001b[0m\u001b[0;34m)\u001b[0m \u001b[0;32min\u001b[0m \u001b[0mself\u001b[0m\u001b[0;34m.\u001b[0m\u001b[0mdfs\u001b[0m\u001b[0;34m(\u001b[0m\u001b[0mG\u001b[0m\u001b[0;34m,\u001b[0m \u001b[0mtree\u001b[0m\u001b[0;34m,\u001b[0m \u001b[0mt1\u001b[0m\u001b[0;34m)\u001b[0m\u001b[0;34m:\u001b[0m\u001b[0;34m\u001b[0m\u001b[0;34m\u001b[0m\u001b[0m\n\u001b[0m\u001b[1;32m    203\u001b[0m                 \u001b[0;32mfor\u001b[0m \u001b[0;34m(\u001b[0m\u001b[0ma2\u001b[0m\u001b[0;34m,\u001b[0m \u001b[0mp2\u001b[0m\u001b[0;34m,\u001b[0m \u001b[0ms2\u001b[0m\u001b[0;34m)\u001b[0m \u001b[0;32min\u001b[0m \u001b[0mself\u001b[0m\u001b[0;34m.\u001b[0m\u001b[0mdfs\u001b[0m\u001b[0;34m(\u001b[0m\u001b[0mG\u001b[0m\u001b[0;34m,\u001b[0m \u001b[0mtree\u001b[0m\u001b[0;34m,\u001b[0m \u001b[0mt2\u001b[0m\u001b[0;34m)\u001b[0m\u001b[0;34m:\u001b[0m\u001b[0;34m\u001b[0m\u001b[0;34m\u001b[0m\u001b[0m\n\u001b[1;32m    204\u001b[0m                     \u001b[0;32mif\u001b[0m \u001b[0;32mnot\u001b[0m \u001b[0mis_eq_dict\u001b[0m\u001b[0;34m(\u001b[0m\u001b[0ma1\u001b[0m\u001b[0;34m,\u001b[0m \u001b[0ma2\u001b[0m\u001b[0;34m)\u001b[0m\u001b[0;34m:\u001b[0m\u001b[0;34m\u001b[0m\u001b[0;34m\u001b[0m\u001b[0m\n",
      "\u001b[0;32m~/Documents/Profiler-Public/profiler/learner.py\u001b[0m in \u001b[0;36mdfs\u001b[0;34m(self, G, tree, t)\u001b[0m\n\u001b[1;32m    258\u001b[0m                 \u001b[0mlogger\u001b[0m\u001b[0;34m.\u001b[0m\u001b[0minfo\u001b[0m\u001b[0;34m(\u001b[0m\u001b[0;34m\"p2: {}\"\u001b[0m\u001b[0;34m.\u001b[0m\u001b[0mformat\u001b[0m\u001b[0;34m(\u001b[0m\u001b[0mp2\u001b[0m\u001b[0;34m)\u001b[0m\u001b[0;34m)\u001b[0m\u001b[0;34m\u001b[0m\u001b[0;34m\u001b[0m\u001b[0m\n\u001b[1;32m    259\u001b[0m                 \u001b[0mlogger\u001b[0m\u001b[0;34m.\u001b[0m\u001b[0minfo\u001b[0m\u001b[0;34m(\u001b[0m\u001b[0;34m\"check: {}\"\u001b[0m\u001b[0;34m.\u001b[0m\u001b[0mformat\u001b[0m\u001b[0;34m(\u001b[0m\u001b[0munion_and_check_cycle\u001b[0m\u001b[0;34m(\u001b[0m\u001b[0;34m[\u001b[0m\u001b[0mpp\u001b[0m\u001b[0;34m,\u001b[0m \u001b[0mp1\u001b[0m\u001b[0;34m,\u001b[0m \u001b[0mp2\u001b[0m\u001b[0;34m]\u001b[0m\u001b[0;34m,\u001b[0m\u001b[0mdebug\u001b[0m\u001b[0;34m=\u001b[0m\u001b[0;32mTrue\u001b[0m\u001b[0;34m)\u001b[0m\u001b[0;34m)\u001b[0m\u001b[0;34m)\u001b[0m\u001b[0;34m\u001b[0m\u001b[0;34m\u001b[0m\u001b[0m\n\u001b[0;32m--> 260\u001b[0;31m                 \u001b[0;32mraise\u001b[0m \u001b[0mException\u001b[0m\u001b[0;34m(\u001b[0m\u001b[0;34m\"No DAG found\"\u001b[0m\u001b[0;34m)\u001b[0m\u001b[0;34m\u001b[0m\u001b[0;34m\u001b[0m\u001b[0m\n\u001b[0m\u001b[1;32m    261\u001b[0m             \u001b[0mRt\u001b[0m \u001b[0;34m=\u001b[0m \u001b[0mcandidates\u001b[0m\u001b[0;34m[\u001b[0m\u001b[0mmin\u001b[0m\u001b[0;34m(\u001b[0m\u001b[0mlist\u001b[0m\u001b[0;34m(\u001b[0m\u001b[0mcandidates\u001b[0m\u001b[0;34m.\u001b[0m\u001b[0mkeys\u001b[0m\u001b[0;34m(\u001b[0m\u001b[0;34m)\u001b[0m\u001b[0;34m)\u001b[0m\u001b[0;34m)\u001b[0m\u001b[0;34m]\u001b[0m\u001b[0;34m\u001b[0m\u001b[0;34m\u001b[0m\u001b[0m\n\u001b[1;32m    262\u001b[0m             \u001b[0mlogger\u001b[0m\u001b[0;34m.\u001b[0m\u001b[0mdebug\u001b[0m\u001b[0;34m(\u001b[0m\u001b[0;34m\"R for intro node t = {} with X(t) = {} candidate size: {}\"\u001b[0m\u001b[0;34m.\u001b[0m\u001b[0mformat\u001b[0m\u001b[0;34m(\u001b[0m\u001b[0mt\u001b[0m\u001b[0;34m,\u001b[0m \u001b[0mXt\u001b[0m\u001b[0;34m,\u001b[0m \u001b[0mlen\u001b[0m\u001b[0;34m(\u001b[0m\u001b[0mRt\u001b[0m\u001b[0;34m)\u001b[0m\u001b[0;34m)\u001b[0m\u001b[0;34m)\u001b[0m\u001b[0;34m\u001b[0m\u001b[0;34m\u001b[0m\u001b[0m\n",
      "\u001b[0;31mException\u001b[0m: No DAG found"
     ]
    }
   ],
   "source": [
    "pf.session.learn_structure(sparsity=0.05)"
   ]
  },
  {
   "cell_type": "code",
   "execution_count": null,
   "metadata": {},
   "outputs": [],
   "source": [
    "pf.session.struct_engine.R[10]"
   ]
  },
  {
   "cell_type": "code",
   "execution_count": 18,
   "metadata": {},
   "outputs": [
    {
     "data": {
      "text/plain": [
       "{1: [7, 6], 2: [7, 6, 1], 3: [7, 6], 5: [7, 6], 6: [7], 9: [7, 6]}"
      ]
     },
     "execution_count": 18,
     "metadata": {},
     "output_type": "execute_result"
    }
   ],
   "source": [
    "a"
   ]
  },
  {
   "cell_type": "code",
   "execution_count": 19,
   "metadata": {},
   "outputs": [],
   "source": [
    "from copy import deepcopy\n",
    "\n",
    "b = deepcopy(a)"
   ]
  },
  {
   "cell_type": "code",
   "execution_count": 20,
   "metadata": {},
   "outputs": [
    {
     "data": {
      "text/plain": [
       "{1: [7, 6], 2: [7, 6, 1], 3: [7, 6], 5: [7, 6], 6: [7], 9: [7, 6]}"
      ]
     },
     "execution_count": 20,
     "metadata": {},
     "output_type": "execute_result"
    }
   ],
   "source": [
    "b"
   ]
  },
  {
   "cell_type": "code",
   "execution_count": 21,
   "metadata": {},
   "outputs": [],
   "source": [
    "b[2].append(1)"
   ]
  },
  {
   "cell_type": "code",
   "execution_count": 22,
   "metadata": {},
   "outputs": [
    {
     "data": {
      "text/plain": [
       "{1: [7, 6], 2: [7, 6, 1], 3: [7, 6], 5: [7, 6], 6: [7], 9: [7, 6]}"
      ]
     },
     "execution_count": 22,
     "metadata": {},
     "output_type": "execute_result"
    }
   ],
   "source": [
    "a"
   ]
  },
  {
   "cell_type": "code",
   "execution_count": 23,
   "metadata": {},
   "outputs": [
    {
     "data": {
      "text/plain": [
       "{1: [7, 6], 2: [7, 6, 1, 1], 3: [7, 6], 5: [7, 6], 6: [7], 9: [7, 6]}"
      ]
     },
     "execution_count": 23,
     "metadata": {},
     "output_type": "execute_result"
    }
   ],
   "source": [
    "b"
   ]
  },
  {
   "cell_type": "code",
   "execution_count": null,
   "metadata": {},
   "outputs": [],
   "source": []
  }
 ],
 "metadata": {
  "kernelspec": {
   "display_name": "Python (fd3)",
   "language": "python",
   "name": "fd3"
  },
  "language_info": {
   "codemirror_mode": {
    "name": "ipython",
    "version": 3
   },
   "file_extension": ".py",
   "mimetype": "text/x-python",
   "name": "python",
   "nbconvert_exporter": "python",
   "pygments_lexer": "ipython3",
   "version": "3.6.8"
  }
 },
 "nbformat": 4,
 "nbformat_minor": 2
}
