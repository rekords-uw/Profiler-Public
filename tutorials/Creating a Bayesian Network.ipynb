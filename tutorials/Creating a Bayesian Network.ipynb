{
 "cells": [
  {
   "cell_type": "markdown",
   "metadata": {},
   "source": [
    "In this example we will try to create the cancer (http://www.bnlearn.com/bnrepository/#cancer) bayesian network using pgmpy and do some simple queries on the network.\n",
    "\n",
    "In pgmpy, the general flow of defining a network is to first define the network and then add the parameters to it."
   ]
  },
  {
   "cell_type": "code",
   "execution_count": 2,
   "metadata": {},
   "outputs": [],
   "source": [
    "# Starting with defining the network structure\n",
    "from pgmpy.models import BayesianModel\n",
    "\n",
    "cancer_model = BayesianModel([('Pollution', 'Cancer'), \n",
    "                              ('Smoker', 'Cancer'),\n",
    "                              ('Cancer', 'Xray'),\n",
    "                              ('Cancer', 'Dyspnoea')])"
   ]
  },
  {
   "cell_type": "code",
   "execution_count": 3,
   "metadata": {},
   "outputs": [],
   "source": [
    "# Now defining the parameters.\n",
    "from pgmpy.factors.discrete import TabularCPD\n",
    "\n",
    "cpd_poll = TabularCPD(variable='Pollution', variable_card=2,\n",
    "                      values=[[0.9], [0.1]])\n",
    "cpd_smoke = TabularCPD(variable='Smoker', variable_card=2,\n",
    "                       values=[[0.3], [0.7]])\n",
    "cpd_cancer = TabularCPD(variable='Cancer', variable_card=2,\n",
    "                        values=[[0.03, 0.05, 0.001, 0.02],\n",
    "                                [0.97, 0.95, 0.999, 0.98]],\n",
    "                        evidence=['Smoker', 'Pollution'],\n",
    "                        evidence_card=[2, 2])\n",
    "cpd_xray = TabularCPD(variable='Xray', variable_card=2,\n",
    "                      values=[[0.9, 0.2], [0.1, 0.8]],\n",
    "                      evidence=['Cancer'], evidence_card=[2])\n",
    "cpd_dysp = TabularCPD(variable='Dyspnoea', variable_card=2,\n",
    "                      values=[[0.65, 0.3], [0.35, 0.7]],\n",
    "                      evidence=['Cancer'], evidence_card=[2])"
   ]
  },
  {
   "cell_type": "code",
   "execution_count": 4,
   "metadata": {},
   "outputs": [
    {
     "data": {
      "text/plain": [
       "True"
      ]
     },
     "execution_count": 4,
     "metadata": {},
     "output_type": "execute_result"
    }
   ],
   "source": [
    "# Associating the parameters with the model structure.\n",
    "cancer_model.add_cpds(cpd_poll, cpd_smoke, cpd_cancer, cpd_xray, cpd_dysp)\n",
    "\n",
    "# Checking if the cpds are valid for the model.\n",
    "cancer_model.check_model()"
   ]
  },
  {
   "cell_type": "code",
   "execution_count": 5,
   "metadata": {},
   "outputs": [
    {
     "data": {
      "text/plain": [
       "False"
      ]
     },
     "execution_count": 5,
     "metadata": {},
     "output_type": "execute_result"
    }
   ],
   "source": [
    "# Doing some simple queries on the network\n",
    "cancer_model.is_active_trail('Pollution', 'Smoker')"
   ]
  },
  {
   "cell_type": "code",
   "execution_count": 6,
   "metadata": {},
   "outputs": [
    {
     "data": {
      "text/plain": [
       "True"
      ]
     },
     "execution_count": 6,
     "metadata": {},
     "output_type": "execute_result"
    }
   ],
   "source": [
    "cancer_model.is_active_trail('Pollution', 'Smoker', observed=['Cancer'])"
   ]
  },
  {
   "cell_type": "code",
   "execution_count": 7,
   "metadata": {},
   "outputs": [
    {
     "data": {
      "text/plain": [
       "(Xray _|_ Smoker, Pollution, Dyspnoea | Cancer)"
      ]
     },
     "execution_count": 7,
     "metadata": {},
     "output_type": "execute_result"
    }
   ],
   "source": [
    "cancer_model.local_independencies('Xray')"
   ]
  },
  {
   "cell_type": "code",
   "execution_count": 8,
   "metadata": {},
   "outputs": [
    {
     "data": {
      "text/plain": [
       "(Pollution _|_ Smoker)\n",
       "(Pollution _|_ Xray, Dyspnoea | Cancer)\n",
       "(Pollution _|_ Xray, Dyspnoea | Smoker, Cancer)\n",
       "(Pollution _|_ Dyspnoea | Cancer, Xray)\n",
       "(Pollution _|_ Xray | Cancer, Dyspnoea)\n",
       "(Pollution _|_ Dyspnoea | Smoker, Cancer, Xray)\n",
       "(Pollution _|_ Xray | Smoker, Cancer, Dyspnoea)\n",
       "(Smoker _|_ Pollution)\n",
       "(Smoker _|_ Xray, Dyspnoea | Cancer)\n",
       "(Smoker _|_ Xray, Dyspnoea | Pollution, Cancer)\n",
       "(Smoker _|_ Dyspnoea | Cancer, Xray)\n",
       "(Smoker _|_ Xray | Cancer, Dyspnoea)\n",
       "(Smoker _|_ Dyspnoea | Pollution, Cancer, Xray)\n",
       "(Smoker _|_ Xray | Pollution, Cancer, Dyspnoea)\n",
       "(Xray _|_ Smoker, Pollution, Dyspnoea | Cancer)\n",
       "(Xray _|_ Pollution, Dyspnoea | Smoker, Cancer)\n",
       "(Xray _|_ Smoker, Dyspnoea | Pollution, Cancer)\n",
       "(Xray _|_ Smoker, Pollution | Cancer, Dyspnoea)\n",
       "(Xray _|_ Dyspnoea | Smoker, Pollution, Cancer)\n",
       "(Xray _|_ Pollution | Smoker, Cancer, Dyspnoea)\n",
       "(Xray _|_ Smoker | Pollution, Cancer, Dyspnoea)\n",
       "(Dyspnoea _|_ Smoker, Pollution, Xray | Cancer)\n",
       "(Dyspnoea _|_ Pollution, Xray | Smoker, Cancer)\n",
       "(Dyspnoea _|_ Smoker, Xray | Pollution, Cancer)\n",
       "(Dyspnoea _|_ Smoker, Pollution | Cancer, Xray)\n",
       "(Dyspnoea _|_ Xray | Smoker, Pollution, Cancer)\n",
       "(Dyspnoea _|_ Pollution | Smoker, Cancer, Xray)\n",
       "(Dyspnoea _|_ Smoker | Pollution, Cancer, Xray)"
      ]
     },
     "execution_count": 8,
     "metadata": {},
     "output_type": "execute_result"
    }
   ],
   "source": [
    "cancer_model.get_independencies()"
   ]
  },
  {
   "cell_type": "code",
   "execution_count": 14,
   "metadata": {},
   "outputs": [],
   "source": [
    "from pgmpy.sampling import BayesianModelSampling\n",
    "inference = BayesianModelSampling(cancer_model)\n",
    "data = inference.forward_sample(size=100, return_type='dataframe')"
   ]
  },
  {
   "cell_type": "markdown",
   "metadata": {},
   "source": [
    "For an example of doing inference in Bayesian Network you can checkout: https://github.com/pgmpy/pgmpy/blob/dev/examples/Inference%20in%20Bayesian%20Networks.ipynb"
   ]
  }
 ],
 "metadata": {
  "anaconda-cloud": {},
  "kernelspec": {
   "display_name": "Python (fd3)",
   "language": "python",
   "name": "fd3"
  }
 },
 "nbformat": 4,
 "nbformat_minor": 1
}
