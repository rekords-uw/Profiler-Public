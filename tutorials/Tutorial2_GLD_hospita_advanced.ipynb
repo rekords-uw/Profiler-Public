{
 "cells": [
  {
   "cell_type": "markdown",
   "metadata": {},
   "source": [
    "# Tutorial 1: Hospital\n",
    "## 1. Specify Input"
   ]
  },
  {
   "cell_type": "code",
   "execution_count": 1,
   "metadata": {},
   "outputs": [],
   "source": [
    "data_path = 'data/hospital.csv'\n",
    "out_path = 'results/'\n",
    "out_dc_name = 'hospital_constraints.txt'\n",
    "GLD = True"
   ]
  },
  {
   "cell_type": "markdown",
   "metadata": {},
   "source": [
    "## 2. Initialize Model and Load Data"
   ]
  },
  {
   "cell_type": "code",
   "execution_count": 2,
   "metadata": {},
   "outputs": [],
   "source": [
    "from profiler.profiler import Profiler\n",
    "from profiler.detector.helper import process_heatmap\n",
    "import datetime\n",
    "import os"
   ]
  },
  {
   "cell_type": "code",
   "execution_count": 3,
   "metadata": {},
   "outputs": [],
   "source": [
    "session = 'demo'"
   ]
  },
  {
   "cell_type": "code",
   "execution_count": 4,
   "metadata": {},
   "outputs": [
    {
     "name": "stderr",
     "output_type": "stream",
     "text": [
      "INFO:profiler.utility:[3.81469726562e-06] START\n",
      "\n"
     ]
    }
   ],
   "source": [
    "pf = Profiler(use_db=False, ID=session)"
   ]
  },
  {
   "cell_type": "code",
   "execution_count": 5,
   "metadata": {},
   "outputs": [
    {
     "name": "stderr",
     "output_type": "stream",
     "text": [
      "INFO:profiler.utility:[0.0161068439484] Preprocess Data start\n",
      "\n",
      "INFO:profiler.dataEngine:Loaded table\n",
      "INFO:profiler.dataEngine:Preprocessing Data...\n",
      "INFO:profiler.dataEngine:inferred types of attributes: {\n",
      "    \"City\": \"embeddable_categorical\", \n",
      "    \"Stateavg\": \"embeddable_categorical\", \n",
      "    \"Address1\": \"embeddable_categorical\", \n",
      "    \"Address2\": \"categorical\", \n",
      "    \"ZipCode\": \"embeddable_categorical\", \n",
      "    \"HospitalOwner\": \"embeddable_categorical\", \n",
      "    \"Sample\": \"embeddable_categorical\", \n",
      "    \"State\": \"categorical\", \n",
      "    \"Score\": \"embeddable_categorical\", \n",
      "    \"PhoneNumber\": \"embeddable_categorical\", \n",
      "    \"Condition\": \"embeddable_categorical\", \n",
      "    \"ProviderNumber\": \"embeddable_categorical\", \n",
      "    \"CountyName\": \"embeddable_categorical\", \n",
      "    \"EmergencyService\": \"categorical\", \n",
      "    \"MeasureName\": \"embeddable_categorical\", \n",
      "    \"HospitalName\": \"embeddable_categorical\", \n",
      "    \"MeasureCode\": \"embeddable_categorical\", \n",
      "    \"HospitalType\": \"embeddable_categorical\"\n",
      "}\n",
      "INFO:profiler.dataEngine:Table has 18 attributes and 999 tuples\n",
      "INFO:profiler.utility:[0.0566239356995] Preprocess Data execution time: 0.0405170917511\n",
      "\n"
     ]
    }
   ],
   "source": [
    "# dropna: if set to true, it will drop any tuple with null values\n",
    "# dropcol: drop columns by list of column names\n",
    "# workers: number of processors used for multiprocessing\n",
    "pf.load_data(input_type='file', path=data_path, \n",
    "             dropna=False, dropcol=['Address3'], fillna=True,\n",
    "             use_embedding=True, embedding_size=20, workers=10)"
   ]
  },
  {
   "cell_type": "markdown",
   "metadata": {},
   "source": [
    "### [Optional] Change the Data Type of Attributes\n",
    "#### Data Types\n",
    "* **numeric**: reason the differences by examing if |t1.A - t2.A|/max(differences of all pairs of tuples in A)) <= error bound or by examing user defined function f: (R^n, R^n) -> [0,1]^n (see section 5 for an example of user-defined function)\n",
    "* **categorical**: reason the differences by examing t1.A == t2.A\n",
    "* **embeddable_categorical**: reason the differences by examing cosine_distance(embed(t1.A), embed(t2.A))\n",
    "\n",
    "#### Change Data Types\n",
    "* In example dataset, it contains noises like \"537x5\" as a zip code, so there has no columns recognized as numerical. \n",
    "* In this case, you have the option to force it back to numeric. But be careful that values like \"537x5\" will be recognized as NaN. \n",
    "* you can also change data type to 'embeddable_categorical' if you want to use word embedding over the attribute. "
   ]
  },
  {
   "cell_type": "code",
   "execution_count": 6,
   "metadata": {},
   "outputs": [
    {
     "name": "stderr",
     "output_type": "stream",
     "text": [
      "INFO:profiler.dataEngine:updated types of ZipCode to 'numeric'\n",
      "INFO:profiler.dataEngine:updated types of PhoneNumber to 'categorical'\n",
      "INFO:profiler.dataEngine:updated types of State to 'embeddable_categorical'\n"
     ]
    }
   ],
   "source": [
    "pf.change_dtypes(['ZipCode','PhoneNumber','State'], ['numeric','categorical','embeddable_categorical'])"
   ]
  },
  {
   "cell_type": "markdown",
   "metadata": {},
   "source": [
    "### load embedding"
   ]
  },
  {
   "cell_type": "code",
   "execution_count": 7,
   "metadata": {},
   "outputs": [
    {
     "name": "stderr",
     "output_type": "stream",
     "text": [
      "INFO:profiler.utility:[0.0890889167786] Load Embedding start\n",
      "\n",
      "INFO:profiler.utility:[0.78759098053] Load Embedding execution time: 0.698502063751\n",
      "\n"
     ]
    }
   ],
   "source": [
    "pf.load_embedding()"
   ]
  },
  {
   "cell_type": "markdown",
   "metadata": {},
   "source": [
    "## 3. Run GLD"
   ]
  },
  {
   "cell_type": "code",
   "execution_count": 8,
   "metadata": {},
   "outputs": [
    {
     "name": "stderr",
     "output_type": "stream",
     "text": [
      "INFO:profiler.utility:[0.806795835495] Create Training Data start\n",
      "\n",
      "INFO:profiler.dataEngine:Creating Joint Training Data (total_frac = 1.000000, sample_frac = 1.000000)\n",
      "INFO:profiler.dataEngine:multiplier: 18\n",
      "100%|██████████| 18/18 [00:00<00:00, 139.99it/s]\n",
      "INFO:profiler.dataEngine:Training data size: (16995, 37)\n",
      " 19%|█▊        | 3159/16995 [00:00<00:01, 7893.08it/s]INFO:profiler.detector.glassodetector:Treat Address2 as categorical\n",
      "  3%|▎         | 444/16995 [00:00<00:03, 4435.20it/s]]INFO:profiler.detector.glassodetector:Treat ZipCode as numerical\n",
      " 23%|██▎       | 3891/16995 [00:00<00:02, 4644.18it/s]]INFO:profiler.detector.glassodetector:Treat PhoneNumber as categorical\n",
      " 77%|███████▋  | 13145/16995 [00:02<00:00, 5351.19it/s]INFO:profiler.detector.glassodetector:Treat EmergencyService as categorical\n",
      "100%|██████████| 16995/16995 [00:03<00:00, 4900.30it/s]\n",
      " 38%|███▊      | 6377/16995 [00:01<00:02, 3838.16it/s]INFO:profiler.detector.glassodetector:Treat ProviderNumber as embeddable categorical\n",
      "100%|██████████| 16995/16995 [00:04<00:00, 3863.73it/s]\n",
      " 78%|███████▊  | 13254/16995 [00:03<00:00, 3746.45it/s]INFO:profiler.detector.glassodetector:Treat City as embeddable categorical\n",
      "100%|██████████| 16995/16995 [00:04<00:00, 3841.16it/s]\n",
      " 80%|████████  | 13623/16995 [00:03<00:00, 3721.52it/s]INFO:profiler.detector.glassodetector:Treat State as embeddable categorical\n",
      "100%|██████████| 16995/16995 [00:04<00:00, 3684.40it/s]\n",
      "INFO:profiler.detector.glassodetector:Treat CountyName as embeddable categorical\n",
      "100%|██████████| 16995/16995 [00:04<00:00, 3715.92it/s]\n",
      " 24%|██▍       | 4117/16995 [00:01<00:03, 3672.09it/s]INFO:profiler.detector.glassodetector:Treat MeasureCode as embeddable categorical\n",
      "100%|██████████| 16995/16995 [00:04<00:00, 3883.15it/s]\n",
      "INFO:profiler.detector.glassodetector:Treat Score as embeddable categorical\n",
      "100%|██████████| 16995/16995 [00:04<00:00, 4069.34it/s]\n",
      "INFO:profiler.detector.glassodetector:Treat Stateavg as embeddable categorical\n",
      "100%|██████████| 16995/16995 [00:03<00:00, 5248.22it/s]\n",
      "INFO:profiler.detector.glassodetector:Treat Address1 as embeddable categorical\n",
      "100%|██████████| 16995/16995 [00:03<00:00, 5417.54it/s]\n",
      " 40%|████      | 6807/16995 [00:01<00:01, 5985.81it/s]INFO:profiler.detector.glassodetector:Treat Sample as embeddable categorical\n",
      "100%|██████████| 16995/16995 [00:03<00:00, 5658.91it/s]\n",
      "INFO:profiler.detector.glassodetector:Treat Condition as embeddable categorical\n",
      "100%|██████████| 16995/16995 [00:02<00:00, 7108.32it/s]\n",
      "INFO:profiler.detector.glassodetector:Treat HospitalType as embeddable categorical\n",
      "100%|██████████| 16995/16995 [00:01<00:00, 10380.42it/s]\n",
      "INFO:profiler.detector.glassodetector:Treat HospitalName as embeddable categorical\n",
      "100%|██████████| 16995/16995 [00:01<00:00, 13019.63it/s]\n",
      "INFO:profiler.detector.glassodetector:Treat HospitalOwner as embeddable categorical\n",
      "100%|██████████| 16995/16995 [00:01<00:00, 14602.65it/s]\n",
      "INFO:profiler.detector.glassodetector:Treat MeasureName as embeddable categorical\n",
      "100%|██████████| 18/18 [00:00<00:00, 955.97it/s]\n",
      "INFO:profiler.utility:[31.3761339188] Create Training Data execution time: 30.5693380833\n",
      "\n",
      "INFO:profiler.utility:[31.3775680065] Train Graphical Lasso start\n",
      "\n",
      "/Users/zhihan/anaconda2/envs/hc/lib/python2.7/site-packages/sklearn/preprocessing/data.py:323: DataConversionWarning: Data with input dtype int64, float64 were all converted to float64 by MinMaxScaler.\n",
      "  return self.partial_fit(X, y)\n",
      "/Users/zhihan/anaconda2/envs/hc/lib/python2.7/site-packages/sklearn/covariance/graph_lasso_.py:262: ConvergenceWarning: graphical_lasso: did not converge after 100 iteration: dual gap: -4.226e-04\n",
      "  % (max_iter, d_gap), ConvergenceWarning)\n",
      "INFO:profiler.utility:[31.5588858128] Train Graphical Lasso execution time: 0.181317806244\n",
      "\n",
      "INFO:profiler.profiler:heatmap stored in csv: results/demo_tdemo_GLD_corr_alpha0_decomposed_heatmap.csv\n",
      "INFO:profiler.profiler:heatmap stored in csv: results/demo_tdemo_GLD_cov_alpha0dot005_decomposed_heatmap.csv\n",
      "INFO:profiler.utility:[31.5700509548] DONE\n",
      "\n"
     ]
    }
   ],
   "source": [
    "# save_heatmap: options are 'csv' and 'none'\n",
    "# alpha_cov: parameter controlling sparsity of cov in glasso\n",
    "# alpha_corr: parameter controlling sparsity of corr in glasso\n",
    "# differences: is set to true, doing training data transformation\n",
    "# params for GLD only (set differences to true):\n",
    "# sample_frac: take samples with certain fraction when creating training data in each iteration\n",
    "# total_frac: take samples of training data after concatenating all training data\n",
    "# user_defined: user defined function for numeric attribute\n",
    "# error_bound: paramater used for default function for numeric attribute\n",
    "model_run_time = pf.run_graphical_lasso(hm_path=out_path, save_heatmap='csv',\n",
    "                                        sample_frac=1, total_frac=1,\n",
    "                                        alpha_cov=0.005, differences=GLD,\n",
    "                                        decompose=True, undirected=False,\n",
    "                                        use_cov=True, use_corr=True,\n",
    "                                        sort_training_data=True,\n",
    "                                        error_bound=0.0001, user_defined=None)"
   ]
  },
  {
   "cell_type": "code",
   "execution_count": 14,
   "metadata": {},
   "outputs": [
    {
     "data": {
      "image/png": "[encoded data removed]",
      "text/plain": [
       "<matplotlib.figure.Figure at 0x112a6ec90>"
      ]
     },
     "metadata": {},
     "output_type": "display_data"
    }
   ],
   "source": [
    "# if there has no outputs, just rerun this cell\n",
    "pf.visualize_heatmap(pf.heatmap['cov'], save=False, title=None, filename=\"hospital_heatmap.png\")"
   ]
  },
  {
   "cell_type": "markdown",
   "metadata": {},
   "source": [
    "## 4. Generate FDs"
   ]
  },
  {
   "cell_type": "code",
   "execution_count": 10,
   "metadata": {},
   "outputs": [
    {
     "name": "stderr",
     "output_type": "stream",
     "text": [
      "INFO:profiler.helper:Execution Time: 0.00973606109619 Output 8 Candidates\n"
     ]
    },
    {
     "name": "stdout",
     "output_type": "stream",
     "text": [
      "[ProviderNumber,HospitalName] -> [Address1]\n",
      "[ProviderNumber,HospitalName,Address1] -> [City]\n",
      "[ProviderNumber,HospitalName,Address1,City] -> [ZipCode]\n",
      "[ProviderNumber,HospitalName,Address1,City] -> [CountyName]\n",
      "[ProviderNumber,HospitalName,Address1,City] -> [PhoneNumber]\n",
      "[ProviderNumber,HospitalName] -> [EmergencyService]\n",
      "[Condition] -> [MeasureCode]\n",
      "[Condition,MeasureCode] -> [Stateavg]\n"
     ]
    }
   ],
   "source": [
    "# out_dc: if set to true, will write dcs to file specified by out_path and out_name\n",
    "# display: if set to true, will print FD in the format of LHS -> RHS\n",
    "\n",
    "# above_threshold and topk are exclusive options!\n",
    "# above_threshold: if set to true, will filter the heatmaps with certain threshold, then output FDs\n",
    "# t0: threshold when above_threshold set to true\n",
    "# topk: if set to true, will output FDs with dimension up to k on the LHS\n",
    "\n",
    "space, time, count = process_heatmap(pf.heatmap['cov'], out_dc=False, outfile=os.path.join(out_path, out_dc_name),\n",
    "                                     normalize=False, take_abs=True, subsets=False,\n",
    "                                     above_threshold=True, t0=0.3, \n",
    "                                     topk=False, k=6,\n",
    "                                     display=True)"
   ]
  },
  {
   "cell_type": "code",
   "execution_count": 11,
   "metadata": {},
   "outputs": [
    {
     "name": "stderr",
     "output_type": "stream",
     "text": [
      "INFO:profiler.helper:Execution Time: 0.014967918396 Output 62 Candidates\n"
     ]
    },
    {
     "name": "stdout",
     "output_type": "stream",
     "text": [
      "[ProviderNumber] -> [Address1]\n",
      "[HospitalName] -> [Address1]\n",
      "[ProviderNumber,HospitalName] -> [Address1]\n",
      "[ProviderNumber] -> [City]\n",
      "[HospitalName] -> [City]\n",
      "[Address1] -> [City]\n",
      "[ProviderNumber,HospitalName] -> [City]\n",
      "[ProviderNumber,Address1] -> [City]\n",
      "[HospitalName,Address1] -> [City]\n",
      "[ProviderNumber,HospitalName,Address1] -> [City]\n",
      "[ProviderNumber] -> [ZipCode]\n",
      "[HospitalName] -> [ZipCode]\n",
      "[Address1] -> [ZipCode]\n",
      "[City] -> [ZipCode]\n",
      "[ProviderNumber,HospitalName] -> [ZipCode]\n",
      "[ProviderNumber,Address1] -> [ZipCode]\n",
      "[ProviderNumber,City] -> [ZipCode]\n",
      "[HospitalName,Address1] -> [ZipCode]\n",
      "[HospitalName,City] -> [ZipCode]\n",
      "[Address1,City] -> [ZipCode]\n",
      "[ProviderNumber,HospitalName,Address1] -> [ZipCode]\n",
      "[ProviderNumber,HospitalName,City] -> [ZipCode]\n",
      "[ProviderNumber,Address1,City] -> [ZipCode]\n",
      "[HospitalName,Address1,City] -> [ZipCode]\n",
      "[ProviderNumber,HospitalName,Address1,City] -> [ZipCode]\n",
      "[ProviderNumber] -> [CountyName]\n",
      "[HospitalName] -> [CountyName]\n",
      "[Address1] -> [CountyName]\n",
      "[City] -> [CountyName]\n",
      "[ProviderNumber,HospitalName] -> [CountyName]\n",
      "[ProviderNumber,Address1] -> [CountyName]\n",
      "[ProviderNumber,City] -> [CountyName]\n",
      "[HospitalName,Address1] -> [CountyName]\n",
      "[HospitalName,City] -> [CountyName]\n",
      "[Address1,City] -> [CountyName]\n",
      "[ProviderNumber,HospitalName,Address1] -> [CountyName]\n",
      "[ProviderNumber,HospitalName,City] -> [CountyName]\n",
      "[ProviderNumber,Address1,City] -> [CountyName]\n",
      "[HospitalName,Address1,City] -> [CountyName]\n",
      "[ProviderNumber,HospitalName,Address1,City] -> [CountyName]\n",
      "[ProviderNumber] -> [PhoneNumber]\n",
      "[HospitalName] -> [PhoneNumber]\n",
      "[Address1] -> [PhoneNumber]\n",
      "[City] -> [PhoneNumber]\n",
      "[ProviderNumber,HospitalName] -> [PhoneNumber]\n",
      "[ProviderNumber,Address1] -> [PhoneNumber]\n",
      "[ProviderNumber,City] -> [PhoneNumber]\n",
      "[HospitalName,Address1] -> [PhoneNumber]\n",
      "[HospitalName,City] -> [PhoneNumber]\n",
      "[Address1,City] -> [PhoneNumber]\n",
      "[ProviderNumber,HospitalName,Address1] -> [PhoneNumber]\n",
      "[ProviderNumber,HospitalName,City] -> [PhoneNumber]\n",
      "[ProviderNumber,Address1,City] -> [PhoneNumber]\n",
      "[HospitalName,Address1,City] -> [PhoneNumber]\n",
      "[ProviderNumber,HospitalName,Address1,City] -> [PhoneNumber]\n",
      "[ProviderNumber] -> [EmergencyService]\n",
      "[HospitalName] -> [EmergencyService]\n",
      "[ProviderNumber,HospitalName] -> [EmergencyService]\n",
      "[Condition] -> [MeasureCode]\n",
      "[Condition] -> [Stateavg]\n",
      "[MeasureCode] -> [Stateavg]\n",
      "[Condition,MeasureCode] -> [Stateavg]\n"
     ]
    }
   ],
   "source": [
    "space, time, count = process_heatmap(pf.heatmap['cov'], out_dc=True, outfile=os.path.join(out_path, session + '_' +out_dc_name),\n",
    "                                     normalize=False, take_abs=True, subsets=True,\n",
    "                                     above_threshold=True, t0=0.3, \n",
    "                                     topk=False, k=6,\n",
    "                                     display=True)"
   ]
  },
  {
   "cell_type": "markdown",
   "metadata": {},
   "source": [
    "## 5. Miscellaneous\n",
    "### Parameters available for load_data"
   ]
  },
  {
   "cell_type": "code",
   "execution_count": 12,
   "metadata": {},
   "outputs": [
    {
     "data": {
      "text/plain": [
       "{'dropcol': ['Address3'],\n",
       " 'dropkey': False,\n",
       " 'dropna': False,\n",
       " 'embedding_file': 'local_embedding.bin',\n",
       " 'embedding_size': 20,\n",
       " 'embedding_type': 'attribute',\n",
       " 'fillna': True,\n",
       " 'header': 'infer',\n",
       " 'left_prefix': 'left_',\n",
       " 'min_categories_for_embedding': 10,\n",
       " 'na_values': {'', '?', 'NaN', 'None', 'nan', 'none'},\n",
       " 'name': None,\n",
       " 'nan': '_empty_',\n",
       " 'right_prefix': 'right_',\n",
       " 'sep': ',',\n",
       " 'use_embedding': True,\n",
       " 'workers': 10}"
      ]
     },
     "execution_count": 12,
     "metadata": {},
     "output_type": "execute_result"
    }
   ],
   "source": [
    "pf.dataEngine.param"
   ]
  },
  {
   "cell_type": "markdown",
   "metadata": {},
   "source": [
    "### Example of user-defined function for numerical attribute\n",
    "* in returned list: \n",
    "    * if set directed, 1 for different and 0 for same;\n",
    "    * if set undirected, -1 for different and 1 for same;\n",
    "* no need to worry about nan, it will be handled by the system"
   ]
  },
  {
   "cell_type": "code",
   "execution_count": 13,
   "metadata": {},
   "outputs": [],
   "source": [
    "import numpy as np\n",
    "def func(a, b):\n",
    "    # shape of a: (num_samples, 1)\n",
    "    # shape of b: (num_samples, 1)\n",
    "    sqr = np.square(a - b)\n",
    "    return sqr/(max(sqr)) <= 0.001"
   ]
  },
  {
   "cell_type": "code",
   "execution_count": null,
   "metadata": {},
   "outputs": [],
   "source": []
  }
 ],
 "metadata": {
  "kernelspec": {
   "display_name": "Python 2",
   "language": "python",
   "name": "python2"
  },
  "language_info": {
   "codemirror_mode": {
    "name": "ipython",
    "version": 2
   },
   "file_extension": ".py",
   "mimetype": "text/x-python",
   "name": "python",
   "nbconvert_exporter": "python",
   "pygments_lexer": "ipython2",
   "version": "2.7.14"
  }
 },
 "nbformat": 4,
 "nbformat_minor": 2
}
