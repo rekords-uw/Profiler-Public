{
 "cells": [
  {
   "cell_type": "code",
   "execution_count": 1,
   "metadata": {},
   "outputs": [],
   "source": [
    "from profiler.core import *"
   ]
  },
  {
   "cell_type": "markdown",
   "metadata": {},
   "source": [
    "## 1. Instantiate Engine\n",
    "* workers : number of processes\n",
    "* tol     : tolerance for differences when creating training data (set to 0 if data is completely clean)\n",
    "* eps     : error bound for inverse covariance estimation (since we use conservative calculation when determining minimum sample size, we recommend to set eps <= 0.01)\n",
    "* embedtxt: if set to true, differentiate b/w textual data and categorical data, and use word embedding for the former"
   ]
  },
  {
   "cell_type": "code",
   "execution_count": 57,
   "metadata": {},
   "outputs": [],
   "source": [
    "pf = Profiler(workers=2, tol=0, eps=0.05, embedtxt=False)"
   ]
  },
  {
   "cell_type": "markdown",
   "metadata": {},
   "source": [
    "## 2. Load Data\n",
    "* name: any name you like\n",
    "* src: \\[FILE; DF; DB (not implemented)\\]\n",
    "* fpath: required if src == FILE\n",
    "* df: required if src == DF\n",
    "* check_param: print parameters used for data loading"
   ]
  },
  {
   "cell_type": "code",
   "execution_count": 58,
   "metadata": {},
   "outputs": [
    {
     "name": "stderr",
     "output_type": "stream",
     "text": [
      "INFO:profiler.utility:[0.008813142776489258] Load Data start\n",
      "\n",
      "INFO:profiler.dataset:parameters used for data loading:\n",
      " {'na_values': 'not available', 'sep': ',', 'header': 'infer', 'dropcol': None, 'dropna': False, 'encoding': 'latin-1', 'normalize': True, 'min_categories_for_embedding': 10}\n",
      "INFO:profiler.dataset:inferred types of attributes: {\n",
      "    \"Provider ID\": \"numeric\",\n",
      "    \"Hospital Name\": \"text\",\n",
      "    \"Address\": \"text\",\n",
      "    \"City\": \"text\",\n",
      "    \"State\": \"text\",\n",
      "    \"ZIP Code\": \"numeric\",\n",
      "    \"County Name\": \"text\",\n",
      "    \"Phone Number\": \"numeric\",\n",
      "    \"Condition\": \"categorical\",\n",
      "    \"Measure ID\": \"text\",\n",
      "    \"Measure Name\": \"text\",\n",
      "    \"Score\": \"text\",\n",
      "    \"Sample\": \"text\",\n",
      "    \"Footnote\": \"text\",\n",
      "    \"Measure Start Date\": \"categorical\",\n",
      "    \"Measure End Date\": \"categorical\"\n",
      "}\n",
      "INFO:profiler.dataset:(possible types: numeric, categorical, text, date)\n",
      "INFO:profiler.dataset:inferred operators of attributes: {'Provider ID': ['equal'], 'Hospital Name': ['equal'], 'Address': ['equal'], 'City': ['equal'], 'State': ['equal'], 'ZIP Code': ['equal'], 'County Name': ['equal'], 'Phone Number': ['equal'], 'Condition': ['equal'], 'Measure ID': ['equal'], 'Measure Name': ['equal'], 'Score': ['equal'], 'Sample': ['equal'], 'Footnote': ['equal'], 'Measure Start Date': ['equal'], 'Measure End Date': ['equal']}\n",
      "INFO:profiler.dataset:(possible operators: equal, notequal, greater_than, less_than)\n",
      "INFO:profiler.utility:[1.073686122894287] Load Data execution time: 1.0648729801177979\n",
      "\n"
     ]
    }
   ],
   "source": [
    "pf.session.load_data(name='hospital', src=FILE, fpath='data/TECHospital.csv', encoding=\"latin-1\",\n",
    "                     check_param=True, na_values='not available')"
   ]
  },
  {
   "cell_type": "markdown",
   "metadata": {},
   "source": [
    "### 2.1 Change Data Types of Attributes\n",
    "* required input:\n",
    "    * a list of attributes\n",
    "    * a list of data types (must match the order of the attributes; can be CATEGORICAL, NUMERIC, TEXT, DATE)\n",
    "* optional input:\n",
    "    * a list of regular expression extractor"
   ]
  },
  {
   "cell_type": "code",
   "execution_count": 59,
   "metadata": {},
   "outputs": [
    {
     "name": "stderr",
     "output_type": "stream",
     "text": [
      "INFO:profiler.dataset:updated types of Provider ID to 'categorical'\n",
      "INFO:profiler.dataset:updated operators of Provider ID to ['equal']\n",
      "INFO:profiler.dataset:updated types of Phone Number to 'categorical'\n",
      "INFO:profiler.dataset:updated operators of Phone Number to ['equal']\n",
      "INFO:profiler.dataset:updated types of Score to 'numeric'\n",
      "INFO:profiler.dataset:updated operators of Score to ['equal']\n",
      "INFO:profiler.dataset:updated types of Sample to 'numeric'\n",
      "INFO:profiler.dataset:updated operators of Sample to ['equal']\n",
      "INFO:profiler.dataset:updated operators of Measure Start Date to ['equal']\n",
      "INFO:profiler.dataset:updated operators of Measure End Date to ['equal']\n",
      "INFO:profiler.dataset:updated inferred operators of attributes: {'Provider ID': ['equal'], 'Hospital Name': ['equal'], 'Address': ['equal'], 'City': ['equal'], 'State': ['equal'], 'ZIP Code': ['equal'], 'County Name': ['equal'], 'Phone Number': ['equal'], 'Condition': ['equal'], 'Measure ID': ['equal'], 'Measure Name': ['equal'], 'Score': ['equal'], 'Sample': ['equal'], 'Footnote': ['equal'], 'Measure Start Date': ['equal'], 'Measure End Date': ['equal']}\n"
     ]
    }
   ],
   "source": [
    "pf.session.change_dtypes(['Provider ID', 'Phone Number', 'Score', 'Sample', 'Measure Start Date', 'Measure End Date'], \n",
    "                            [CATEGORICAL, CATEGORICAL, NUMERIC, NUMERIC, DATE, DATE])"
   ]
  },
  {
   "cell_type": "markdown",
   "metadata": {},
   "source": [
    "### 2.2. Load/Train Embeddings for TEXT\n",
    "* path: path to saved/to-save embedding folder\n",
    "* load: set to true -- load saved vec from 'path'; set to false -- train locally\n",
    "* save: (only for load = False) save trained vectors to 'path'"
   ]
  },
  {
   "cell_type": "markdown",
   "metadata": {},
   "source": [
    "## 3. Load Training Data\n",
    "* multiplier: if set to None, will infer the minimal sample size; otherwise, it will create (# samples) * (# attributes) * (multiplier) training samples"
   ]
  },
  {
   "cell_type": "code",
   "execution_count": 60,
   "metadata": {},
   "outputs": [
    {
     "name": "stderr",
     "output_type": "stream",
     "text": [
      "INFO:profiler.utility:[14.765315055847168] Create Training Data start\n",
      "\n",
      "INFO:profiler.transformer:needs multiplier = 2 to bound the error in inv cov estimation <= 0.05000000\n",
      "INFO:profiler.transformer:use multiplier = 2, and the bound is 0.00005616\n",
      "INFO:profiler.transformer:Draw Pairs\n",
      "100%|██████████| 16/16 [00:02<00:00,  7.30it/s]\n",
      "INFO:profiler.transformer:Number of training samples: 1614816\n",
      "INFO:profiler.transformer:Computing Differences\n",
      "INFO:profiler.transformer:estimated missing data probability in training data is 0.0855\n",
      "INFO:profiler.utility:[25.311820030212402] Create Training Data execution time: 10.546504974365234\n",
      "\n"
     ]
    }
   ],
   "source": [
    "pf.session.load_training_data(multiplier = None)"
   ]
  },
  {
   "cell_type": "markdown",
   "metadata": {},
   "source": [
    "## 4. Learn Structure\n",
    "* sparsity: intensity of L1-regularizer in inverse covariance estimation (glasso)\n",
    "* take_neg: if set to true, consider equal -> equal only"
   ]
  },
  {
   "cell_type": "code",
   "execution_count": 137,
   "metadata": {},
   "outputs": [
    {
     "name": "stderr",
     "output_type": "stream",
     "text": [
      "INFO:profiler.utility:[8207.750318050385] Learn Structure start\n",
      "\n",
      "INFO:profiler.learner:use threshold 0.0000\n",
      "INFO:profiler.utility:[8207.928231239319] Learn Structure execution time: 0.17791318893432617\n",
      "\n"
     ]
    }
   ],
   "source": [
    "autoregress_matrix = pf.session.learn_structure(sparsity=0, infer_order=False, threshold=0)"
   ]
  },
  {
   "cell_type": "markdown",
   "metadata": {},
   "source": [
    "* score: \n",
    "    * \"fit_error\": mse for fitting y = B'X + c for each atttribute y \n",
    "    * \"training_data_fd_vio_ratio\": the higher the score, the more violations of FDs in the training data. (bounded: \\[0,1\\])"
   ]
  },
  {
   "cell_type": "code",
   "execution_count": 138,
   "metadata": {},
   "outputs": [
    {
     "name": "stderr",
     "output_type": "stream",
     "text": [
      "INFO:profiler.utility:[8211.903044223785] Get Dependencies start\n",
      "\n"
     ]
    },
    {
     "name": "stdout",
     "output_type": "stream",
     "text": [
      "Provider ID -> Hospital Name (0.0029677687295918635)\n",
      "Provider ID,Hospital Name -> Address (0.0008239565411318117)\n",
      "Provider ID,Hospital Name,Address -> City (0.01395442397482766)\n",
      "Provider ID,Hospital Name,Address -> State (0.0738406509869606)\n",
      "Provider ID,Hospital Name,Address,City -> ZIP Code (0.003942065330094987)\n",
      "Provider ID,Hospital Name,Address,State,ZIP Code -> County Name (0.03604454929309879)\n",
      "City,County Name -> Phone Number (0.5955036237213326)\n",
      "City,County Name -> Condition (3.4420871648602747)\n",
      "City,County Name,Condition -> Measure ID (0.8829178544482664)\n",
      "Provider ID,Hospital Name,Address,State,ZIP Code,Phone Number,Measure ID -> Measure Name (0.02385734823654687)\n",
      "City,County Name,Condition -> Score (0.14291495776373858)\n",
      "City,County Name,Condition -> Sample (0.13913976851322746)\n",
      "City,County Name,Condition,Score,Sample -> Footnote (1.3228411397447573)\n",
      "City,County Name,Condition,Measure ID,Measure Name,Footnote -> Measure Start Date (0.3887358449111929)\n"
     ]
    },
    {
     "name": "stderr",
     "output_type": "stream",
     "text": [
      "INFO:profiler.utility:[8212.618664264679] Get Dependencies execution time: 0.7156200408935547\n",
      "\n"
     ]
    },
    {
     "name": "stdout",
     "output_type": "stream",
     "text": [
      "Provider ID,Hospital Name,Address,ZIP Code,Phone Number,Measure ID,Measure Name,Score,Sample,Measure Start Date -> Measure End Date (0.052360854552243284)\n"
     ]
    }
   ],
   "source": [
    "parent_sets = pf.session.get_dependencies(score=\"fit_error\")"
   ]
  },
  {
   "cell_type": "markdown",
   "metadata": {},
   "source": [
    "### Evaluate FDs -- Precision"
   ]
  },
  {
   "cell_type": "code",
   "execution_count": 139,
   "metadata": {},
   "outputs": [],
   "source": [
    "import os, json\n",
    "def read_fds(path='data/fds', f='TECHospital-hyfd'):\n",
    "    all_fds = {}\n",
    "    for line in open(os.path.join(path,f)):\n",
    "        fd = json.loads(line)\n",
    "        right = fd[u'dependant']['columnIdentifier']\n",
    "        left = [l[u'columnIdentifier'] for l in fd[ u'determinant'][u'columnIdentifiers']]\n",
    "        if right not in all_fds:\n",
    "            all_fds[right] = set()\n",
    "        all_fds[right].add(frozenset(left))\n",
    "    return all_fds"
   ]
  },
  {
   "cell_type": "code",
   "execution_count": 140,
   "metadata": {},
   "outputs": [],
   "source": [
    "gt = read_fds()"
   ]
  },
  {
   "cell_type": "code",
   "execution_count": 141,
   "metadata": {},
   "outputs": [
    {
     "name": "stdout",
     "output_type": "stream",
     "text": [
      "['City' 'County Name'] -> Phone Number is not valid\n",
      "['City' 'County Name'] -> Condition is not valid\n",
      "['City' 'County Name' 'Condition'] -> Measure ID is not valid\n",
      "['City' 'County Name' 'Condition'] -> Score is not valid\n",
      "['City' 'County Name' 'Condition'] -> Sample is not valid\n",
      "['City' 'County Name' 'Condition' 'Score' 'Sample'] -> Footnote is not valid\n",
      "Precision: 0.6000\n"
     ]
    }
   ],
   "source": [
    "tp = 0\n",
    "count = 0\n",
    "for child in parent_sets:\n",
    "    found = parent_sets[child]\n",
    "    if len(found) == 0:\n",
    "        continue\n",
    "    count += 1\n",
    "    match = False\n",
    "    for parent in gt[child]:\n",
    "        if set(parent).issubset(found):\n",
    "            tp += 1\n",
    "            match = True\n",
    "            break\n",
    "    if not match:\n",
    "        print(\"{} -> {} is not valid\".format(found, child))\n",
    "    \n",
    "print(\"Precision: %.4f\"%(float(tp) / count))"
   ]
  },
  {
   "cell_type": "markdown",
   "metadata": {},
   "source": [
    "### Evaluate FDs -- Recall"
   ]
  },
  {
   "cell_type": "code",
   "execution_count": 142,
   "metadata": {},
   "outputs": [],
   "source": [
    "def find_ancesters(node, dic):\n",
    "    a = []\n",
    "    if node not in dic:\n",
    "        return a\n",
    "    for p in dic[node]:\n",
    "        a.append(p)\n",
    "        a.extend(find_ancesters(p, dic))\n",
    "    return a\n",
    "def ancester_sets(dic):\n",
    "    ancesters = {}\n",
    "    for child in dic:\n",
    "        ancesters[child] = find_ancesters(child, dic)\n",
    "    return ancesters"
   ]
  },
  {
   "cell_type": "code",
   "execution_count": 143,
   "metadata": {},
   "outputs": [
    {
     "data": {
      "text/plain": [
       "['Provider ID']"
      ]
     },
     "execution_count": 143,
     "metadata": {},
     "output_type": "execute_result"
    }
   ],
   "source": [
    "ancesters['Hospital Name']"
   ]
  },
  {
   "cell_type": "code",
   "execution_count": 144,
   "metadata": {},
   "outputs": [],
   "source": [
    "def get_neighbors(hm):\n",
    "    neighbor = {}\n",
    "    for i in hm:\n",
    "        neighbor[i] = set(hm.columns.values[hm.loc[i, :] != 0]) - (set([i]))\n",
    "    return neighbor"
   ]
  },
  {
   "cell_type": "code",
   "execution_count": 145,
   "metadata": {},
   "outputs": [],
   "source": [
    "neighbor_sets = get_neighbors(pf.session.struct_engine.inv_cov)"
   ]
  },
  {
   "cell_type": "code",
   "execution_count": 146,
   "metadata": {},
   "outputs": [
    {
     "name": "stdout",
     "output_type": "stream",
     "text": [
      "Recall: 1.0000\n"
     ]
    }
   ],
   "source": [
    "count = 0\n",
    "miss = 0\n",
    "for child in neighbor_sets:\n",
    "    found = neighbor_sets[child]\n",
    "    for parent in gt[child]:\n",
    "        count += 1\n",
    "        if not set(parent).issubset(found):\n",
    "            miss += 1\n",
    "            print(\"{} -> {} is not found\".format(parent, child))\n",
    "print(\"Recall: %.4f\"%(1 - float(miss) / count))"
   ]
  },
  {
   "cell_type": "code",
   "execution_count": 147,
   "metadata": {},
   "outputs": [
    {
     "data": {
      "text/plain": [
       "Measure Name  Hospital Name  Address  Footnote\n",
       "0.0           0.0            0.0      0.0         175325\n",
       "                                      1.0         146379\n",
       "                             1.0      0.0            136\n",
       "                                      1.0             34\n",
       "              1.0            0.0      0.0           1010\n",
       "                                      1.0            361\n",
       "                             1.0      0.0         506658\n",
       "                                      1.0         495681\n",
       "1.0           0.0            0.0      0.0         134886\n",
       "                                      1.0         154215\n",
       "                             1.0      0.0              9\n",
       "                                      1.0              3\n",
       "              1.0            0.0      0.0             55\n",
       "                                      1.0             64\n",
       "Name: index, dtype: int64"
      ]
     },
     "execution_count": 147,
     "metadata": {},
     "output_type": "execute_result"
    }
   ],
   "source": [
    "pf.session.trans_engine.training_data.reset_index().groupby(['Measure Name', 'Hospital Name', 'Address', 'Footnote'])['index'].count()"
   ]
  },
  {
   "cell_type": "code",
   "execution_count": 148,
   "metadata": {},
   "outputs": [
    {
     "data": {
      "text/plain": [
       "{frozenset({'Address', 'Hospital Name', 'Measure Name'}),\n",
       " frozenset({'Address', 'Hospital Name', 'Measure ID'}),\n",
       " frozenset({'Hospital Name', 'Measure ID', 'Phone Number'}),\n",
       " frozenset({'Hospital Name', 'Measure ID', 'ZIP Code'}),\n",
       " frozenset({'Hospital Name', 'Measure Name', 'Phone Number'}),\n",
       " frozenset({'Hospital Name', 'Measure Name', 'ZIP Code'}),\n",
       " frozenset({'City', 'Hospital Name', 'Measure Name', 'State'}),\n",
       " frozenset({'City', 'Hospital Name', 'Measure ID', 'State'}),\n",
       " frozenset({'Measure ID', 'Provider ID'}),\n",
       " frozenset({'Measure Name', 'Provider ID'})}"
      ]
     },
     "execution_count": 148,
     "metadata": {},
     "output_type": "execute_result"
    }
   ],
   "source": [
    "gt['Footnote']"
   ]
  },
  {
   "cell_type": "code",
   "execution_count": 149,
   "metadata": {},
   "outputs": [
    {
     "data": {
      "text/plain": [
       "{'Address',\n",
       " 'City',\n",
       " 'Condition',\n",
       " 'County Name',\n",
       " 'Hospital Name',\n",
       " 'Measure End Date',\n",
       " 'Measure ID',\n",
       " 'Measure Name',\n",
       " 'Measure Start Date',\n",
       " 'Phone Number',\n",
       " 'Provider ID',\n",
       " 'Sample',\n",
       " 'Score',\n",
       " 'State',\n",
       " 'ZIP Code'}"
      ]
     },
     "execution_count": 149,
     "metadata": {},
     "output_type": "execute_result"
    }
   ],
   "source": [
    "neighbor_sets['Footnote']"
   ]
  },
  {
   "cell_type": "code",
   "execution_count": 150,
   "metadata": {},
   "outputs": [
    {
     "name": "stdout",
     "output_type": "stream",
     "text": [
      "frozenset({'Footnote', 'Phone Number', 'Address'}) -> Provider ID is not found\n",
      "frozenset({'Footnote', 'ZIP Code', 'Address'}) -> Provider ID is not found\n",
      "frozenset({'Footnote', 'Phone Number', 'ZIP Code'}) -> Provider ID is not found\n",
      "frozenset({'County Name', 'Footnote', 'Address'}) -> Provider ID is not found\n",
      "frozenset({'Phone Number', 'Hospital Name'}) -> Provider ID is not found\n",
      "frozenset({'ZIP Code', 'Hospital Name'}) -> Provider ID is not found\n",
      "frozenset({'Hospital Name', 'State', 'City'}) -> Provider ID is not found\n",
      "frozenset({'Hospital Name', 'Address'}) -> Provider ID is not found\n",
      "frozenset({'Footnote', 'City', 'Address'}) -> Provider ID is not found\n",
      "frozenset({'Footnote', 'Phone Number', 'Address'}) -> Hospital Name is not found\n",
      "frozenset({'Footnote', 'ZIP Code', 'Address'}) -> Hospital Name is not found\n",
      "frozenset({'Footnote', 'Phone Number', 'ZIP Code'}) -> Hospital Name is not found\n",
      "frozenset({'County Name', 'Footnote', 'Address'}) -> Hospital Name is not found\n",
      "frozenset({'Footnote', 'City', 'Address'}) -> Hospital Name is not found\n",
      "frozenset({'Footnote', 'Phone Number', 'ZIP Code'}) -> Address is not found\n",
      "frozenset({'Phone Number', 'Hospital Name'}) -> Address is not found\n",
      "frozenset({'ZIP Code', 'Hospital Name'}) -> Address is not found\n",
      "frozenset({'Hospital Name', 'State', 'City'}) -> Address is not found\n",
      "frozenset({'ZIP Code', 'Address'}) -> City is not found\n",
      "frozenset({'Phone Number', 'Hospital Name'}) -> City is not found\n",
      "frozenset({'Phone Number', 'ZIP Code'}) -> City is not found\n",
      "frozenset({'ZIP Code', 'Hospital Name'}) -> City is not found\n",
      "frozenset({'County Name', 'Address'}) -> City is not found\n",
      "frozenset({'Phone Number', 'Address'}) -> City is not found\n",
      "frozenset({'City', 'Address'}) -> State is not found\n",
      "frozenset({'Phone Number'}) -> State is not found\n",
      "frozenset({'ZIP Code'}) -> State is not found\n",
      "frozenset({'County Name', 'Address'}) -> State is not found\n",
      "frozenset({'Phone Number', 'Hospital Name'}) -> ZIP Code is not found\n",
      "frozenset({'County Name', 'Address'}) -> ZIP Code is not found\n",
      "frozenset({'Hospital Name', 'State', 'City'}) -> ZIP Code is not found\n",
      "frozenset({'Phone Number', 'Address'}) -> ZIP Code is not found\n",
      "frozenset({'City', 'Address'}) -> County Name is not found\n",
      "frozenset({'Phone Number', 'City'}) -> County Name is not found\n",
      "frozenset({'Phone Number', 'Hospital Name'}) -> County Name is not found\n",
      "frozenset({'Phone Number', 'ZIP Code'}) -> County Name is not found\n",
      "frozenset({'Hospital Name', 'State', 'City'}) -> County Name is not found\n",
      "frozenset({'Phone Number', 'Address'}) -> County Name is not found\n",
      "frozenset({'City', 'Address'}) -> Phone Number is not found\n",
      "frozenset({'Provider ID'}) -> Phone Number is not found\n",
      "frozenset({'ZIP Code', 'Hospital Name'}) -> Phone Number is not found\n",
      "frozenset({'County Name', 'Address'}) -> Phone Number is not found\n",
      "frozenset({'Hospital Name', 'State', 'City'}) -> Phone Number is not found\n",
      "frozenset({'ZIP Code', 'Address'}) -> Phone Number is not found\n",
      "frozenset({'Hospital Name', 'Address'}) -> Phone Number is not found\n",
      "frozenset({'Measure Name'}) -> Condition is not found\n",
      "frozenset({'Measure ID'}) -> Condition is not found\n",
      "frozenset({'Measure Name'}) -> Measure ID is not found\n",
      "frozenset({'County Name', 'Measure ID', 'Footnote', 'Address'}) -> Score is not found\n",
      "frozenset({'Measure Name', 'Hospital Name', 'Address'}) -> Score is not found\n",
      "frozenset({'Measure ID', 'Phone Number', 'Hospital Name'}) -> Score is not found\n",
      "frozenset({'Measure ID', 'ZIP Code', 'Hospital Name'}) -> Score is not found\n",
      "frozenset({'Footnote', 'Measure Name', 'City', 'Address'}) -> Score is not found\n",
      "frozenset({'Measure ID', 'Footnote', 'Phone Number', 'ZIP Code'}) -> Score is not found\n",
      "frozenset({'Hospital Name', 'Measure Name', 'State', 'City'}) -> Score is not found\n",
      "frozenset({'Measure ID', 'Hospital Name', 'State', 'City'}) -> Score is not found\n",
      "frozenset({'Measure ID', 'Provider ID'}) -> Score is not found\n",
      "frozenset({'Measure ID', 'Footnote', 'Phone Number', 'Address'}) -> Score is not found\n",
      "frozenset({'Measure ID', 'Footnote', 'ZIP Code', 'Address'}) -> Score is not found\n",
      "frozenset({'Footnote', 'Measure Name', 'Phone Number', 'Address'}) -> Score is not found\n",
      "frozenset({'Footnote', 'Measure Name', 'ZIP Code', 'Address'}) -> Score is not found\n",
      "frozenset({'Measure ID', 'Footnote', 'City', 'Address'}) -> Score is not found\n",
      "frozenset({'Footnote', 'Measure Name', 'ZIP Code', 'Phone Number'}) -> Score is not found\n",
      "frozenset({'Measure ID', 'Hospital Name', 'Address'}) -> Score is not found\n",
      "frozenset({'Measure Name', 'Hospital Name', 'Phone Number'}) -> Score is not found\n",
      "frozenset({'Measure Name', 'ZIP Code', 'Hospital Name'}) -> Score is not found\n",
      "frozenset({'County Name', 'Footnote', 'Measure Name', 'Address'}) -> Score is not found\n",
      "frozenset({'Measure Name', 'Provider ID'}) -> Score is not found\n",
      "frozenset({'County Name', 'Measure ID', 'Footnote', 'Address'}) -> Sample is not found\n",
      "frozenset({'Measure Name', 'Hospital Name', 'Address'}) -> Sample is not found\n",
      "frozenset({'Measure ID', 'Phone Number', 'Hospital Name'}) -> Sample is not found\n",
      "frozenset({'Measure ID', 'ZIP Code', 'Hospital Name'}) -> Sample is not found\n",
      "frozenset({'County Name', 'Measure ID', 'Score', 'Address'}) -> Sample is not found\n",
      "frozenset({'Measure ID', 'Score', 'ZIP Code', 'Address'}) -> Sample is not found\n",
      "frozenset({'Measure ID', 'Phone Number', 'Score', 'Address'}) -> Sample is not found\n",
      "frozenset({'Footnote', 'Measure Name', 'City', 'Address'}) -> Sample is not found\n",
      "frozenset({'Measure ID', 'Footnote', 'Phone Number', 'ZIP Code'}) -> Sample is not found\n",
      "frozenset({'Measure ID', 'State', 'Score', 'Address'}) -> Sample is not found\n",
      "frozenset({'Hospital Name', 'Measure Name', 'State', 'City'}) -> Sample is not found\n",
      "frozenset({'Measure ID', 'Hospital Name', 'State', 'City'}) -> Sample is not found\n",
      "frozenset({'Measure ID', 'Provider ID'}) -> Sample is not found\n",
      "frozenset({'Measure ID', 'Phone Number', 'Score', 'ZIP Code'}) -> Sample is not found\n",
      "frozenset({'Measure Name', 'Score', 'ZIP Code', 'Phone Number'}) -> Sample is not found\n",
      "frozenset({'Measure ID', 'Footnote', 'Phone Number', 'Address'}) -> Sample is not found\n",
      "frozenset({'Measure ID', 'Footnote', 'ZIP Code', 'Address'}) -> Sample is not found\n",
      "frozenset({'Footnote', 'Measure Name', 'Phone Number', 'Address'}) -> Sample is not found\n",
      "frozenset({'Footnote', 'Measure Name', 'ZIP Code', 'Address'}) -> Sample is not found\n",
      "frozenset({'Measure ID', 'Score', 'City', 'Address'}) -> Sample is not found\n",
      "frozenset({'Measure Name', 'Score', 'City', 'Address'}) -> Sample is not found\n",
      "frozenset({'Measure Name', 'Score', 'Phone Number', 'Address'}) -> Sample is not found\n",
      "frozenset({'Measure Name', 'Score', 'ZIP Code', 'Address'}) -> Sample is not found\n",
      "frozenset({'Measure ID', 'Footnote', 'City', 'Address'}) -> Sample is not found\n",
      "frozenset({'Footnote', 'Measure Name', 'ZIP Code', 'Phone Number'}) -> Sample is not found\n",
      "frozenset({'County Name', 'Measure Name', 'Score', 'Address'}) -> Sample is not found\n",
      "frozenset({'Measure ID', 'Hospital Name', 'Address'}) -> Sample is not found\n",
      "frozenset({'Measure Name', 'Hospital Name', 'Phone Number'}) -> Sample is not found\n",
      "frozenset({'Measure Name', 'ZIP Code', 'Hospital Name'}) -> Sample is not found\n",
      "frozenset({'Measure Name', 'Score', 'State', 'Address'}) -> Sample is not found\n",
      "frozenset({'County Name', 'Footnote', 'Measure Name', 'Address'}) -> Sample is not found\n",
      "frozenset({'Measure Name', 'Provider ID'}) -> Sample is not found\n",
      "frozenset({'Measure Name', 'Hospital Name', 'Address'}) -> Footnote is not found\n",
      "frozenset({'Measure ID', 'Hospital Name', 'Address'}) -> Footnote is not found\n",
      "frozenset({'Measure ID', 'Phone Number', 'Hospital Name'}) -> Footnote is not found\n",
      "frozenset({'Measure ID', 'ZIP Code', 'Hospital Name'}) -> Footnote is not found\n",
      "frozenset({'Measure Name', 'Hospital Name', 'Phone Number'}) -> Footnote is not found\n",
      "frozenset({'Measure Name', 'ZIP Code', 'Hospital Name'}) -> Footnote is not found\n",
      "frozenset({'Hospital Name', 'Measure Name', 'State', 'City'}) -> Footnote is not found\n",
      "frozenset({'Measure ID', 'Hospital Name', 'State', 'City'}) -> Footnote is not found\n",
      "frozenset({'Measure ID', 'Provider ID'}) -> Footnote is not found\n",
      "frozenset({'Measure Name', 'Provider ID'}) -> Footnote is not found\n",
      "frozenset({'Condition', 'Measure End Date'}) -> Measure Start Date is not found\n",
      "Recall: 0.1462\n"
     ]
    }
   ],
   "source": [
    "ancesters = ancester_sets(parent_sets)\n",
    "count = 0\n",
    "miss = 0\n",
    "for child in ancesters:\n",
    "    found = parent_sets[child]\n",
    "    for parent in gt[child]:\n",
    "        count += 1\n",
    "        if not set(parent).issubset(found):\n",
    "            miss += 1\n",
    "            print(\"{} -> {} is not found\".format(parent, child))\n",
    "print(\"Recall: %.4f\"%(1 - float(miss) / count))"
   ]
  },
  {
   "cell_type": "markdown",
   "metadata": {},
   "source": [
    "## 5. Visualization"
   ]
  },
  {
   "cell_type": "code",
   "execution_count": 151,
   "metadata": {},
   "outputs": [
    {
     "data": {
      "image/png": "[encoded data removed]",
      "text/plain": [
       "<Figure size 720x576 with 2 Axes>"
      ]
     },
     "metadata": {
      "needs_background": "light"
     },
     "output_type": "display_data"
    }
   ],
   "source": [
    "pf.session.visualize_covariance()"
   ]
  },
  {
   "cell_type": "code",
   "execution_count": 152,
   "metadata": {},
   "outputs": [
    {
     "data": {
      "image/png": "[encoded data removed]",
      "text/plain": [
       "<Figure size 720x576 with 2 Axes>"
      ]
     },
     "metadata": {
      "needs_background": "light"
     },
     "output_type": "display_data"
    }
   ],
   "source": [
    "pf.session.visualize_inverse_covariance()"
   ]
  },
  {
   "cell_type": "code",
   "execution_count": 153,
   "metadata": {},
   "outputs": [
    {
     "data": {
      "image/png": "[encoded data removed]",
      "text/plain": [
       "<Figure size 720x576 with 2 Axes>"
      ]
     },
     "metadata": {
      "needs_background": "light"
     },
     "output_type": "display_data"
    }
   ],
   "source": [
    "pf.session.visualize_autoregression()"
   ]
  },
  {
   "cell_type": "code",
   "execution_count": 11,
   "metadata": {},
   "outputs": [
    {
     "data": {
      "text/html": [
       "<div>\n",
       "<style scoped>\n",
       "    .dataframe tbody tr th:only-of-type {\n",
       "        vertical-align: middle;\n",
       "    }\n",
       "\n",
       "    .dataframe tbody tr th {\n",
       "        vertical-align: top;\n",
       "    }\n",
       "\n",
       "    .dataframe thead th {\n",
       "        text-align: right;\n",
       "    }\n",
       "</style>\n",
       "<table border=\"1\" class=\"dataframe\">\n",
       "  <thead>\n",
       "    <tr style=\"text-align: right;\">\n",
       "      <th></th>\n",
       "      <th>time_point</th>\n",
       "      <th>msg</th>\n",
       "      <th>execution_time</th>\n",
       "    </tr>\n",
       "  </thead>\n",
       "  <tbody>\n",
       "    <tr>\n",
       "      <th>0</th>\n",
       "      <td>0.006949</td>\n",
       "      <td>start: Load Data</td>\n",
       "      <td>0.000000</td>\n",
       "    </tr>\n",
       "    <tr>\n",
       "      <th>1</th>\n",
       "      <td>1.052103</td>\n",
       "      <td>end: Load Data</td>\n",
       "      <td>1.045154</td>\n",
       "    </tr>\n",
       "    <tr>\n",
       "      <th>2</th>\n",
       "      <td>17.964518</td>\n",
       "      <td>start: Create Training Data</td>\n",
       "      <td>0.000000</td>\n",
       "    </tr>\n",
       "    <tr>\n",
       "      <th>3</th>\n",
       "      <td>29.069162</td>\n",
       "      <td>end: Create Training Data</td>\n",
       "      <td>11.104644</td>\n",
       "    </tr>\n",
       "    <tr>\n",
       "      <th>4</th>\n",
       "      <td>29.075453</td>\n",
       "      <td>start: Learn Structure</td>\n",
       "      <td>0.000000</td>\n",
       "    </tr>\n",
       "    <tr>\n",
       "      <th>5</th>\n",
       "      <td>29.538742</td>\n",
       "      <td>end: Learn Structure</td>\n",
       "      <td>0.463289</td>\n",
       "    </tr>\n",
       "    <tr>\n",
       "      <th>6</th>\n",
       "      <td>29.546267</td>\n",
       "      <td>start: Get Dependencies</td>\n",
       "      <td>0.000000</td>\n",
       "    </tr>\n",
       "    <tr>\n",
       "      <th>7</th>\n",
       "      <td>30.134318</td>\n",
       "      <td>end: Get Dependencies</td>\n",
       "      <td>0.588051</td>\n",
       "    </tr>\n",
       "    <tr>\n",
       "      <th>8</th>\n",
       "      <td>30.134318</td>\n",
       "      <td>total_execution_time</td>\n",
       "      <td>13.201138</td>\n",
       "    </tr>\n",
       "  </tbody>\n",
       "</table>\n",
       "</div>"
      ],
      "text/plain": [
       "   time_point                          msg  execution_time\n",
       "0    0.006949             start: Load Data        0.000000\n",
       "1    1.052103               end: Load Data        1.045154\n",
       "2   17.964518  start: Create Training Data        0.000000\n",
       "3   29.069162    end: Create Training Data       11.104644\n",
       "4   29.075453       start: Learn Structure        0.000000\n",
       "5   29.538742         end: Learn Structure        0.463289\n",
       "6   29.546267      start: Get Dependencies        0.000000\n",
       "7   30.134318        end: Get Dependencies        0.588051\n",
       "8   30.134318         total_execution_time       13.201138"
      ]
     },
     "execution_count": 11,
     "metadata": {},
     "output_type": "execute_result"
    }
   ],
   "source": [
    "pf.session.timer.get_stat()"
   ]
  },
  {
   "cell_type": "code",
   "execution_count": null,
   "metadata": {},
   "outputs": [],
   "source": []
  },
  {
   "cell_type": "code",
   "execution_count": null,
   "metadata": {},
   "outputs": [],
   "source": []
  }
 ],
 "metadata": {
  "kernelspec": {
   "display_name": "Python (fd37)",
   "language": "python",
   "name": "fd37"
  },
  "language_info": {
   "codemirror_mode": {
    "name": "ipython",
    "version": 3
   },
   "file_extension": ".py",
   "mimetype": "text/x-python",
   "name": "python",
   "nbconvert_exporter": "python",
   "pygments_lexer": "ipython3",
   "version": "3.7.3"
  }
 },
 "nbformat": 4,
 "nbformat_minor": 2
}
