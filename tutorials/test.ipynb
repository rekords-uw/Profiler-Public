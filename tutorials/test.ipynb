{
 "cells": [
  {
   "cell_type": "code",
   "execution_count": 2,
   "metadata": {},
   "outputs": [],
   "source": [
    "from pgmpy.readwrite import BIFReader"
   ]
  },
  {
   "cell_type": "code",
   "execution_count": 3,
   "metadata": {},
   "outputs": [],
   "source": [
    "reader = BIFReader(\"data/cancer.bif\")"
   ]
  },
  {
   "cell_type": "code",
   "execution_count": 4,
   "metadata": {},
   "outputs": [],
   "source": [
    "model = reader.get_model()"
   ]
  },
  {
   "cell_type": "code",
   "execution_count": 5,
   "metadata": {},
   "outputs": [
    {
     "name": "stdout",
     "output_type": "stream",
     "text": [
      "Pollution -> Cancer\n",
      "Smoker -> Cancer\n",
      "Cancer -> Xray\n",
      "Cancer -> Dyspnoea\n"
     ]
    }
   ],
   "source": [
    "for left in model.edge:\n",
    "    right = list(model.edge[left].keys())\n",
    "    for r in right:\n",
    "        print(\"{} -> {}\".format(left, r))"
   ]
  },
  {
   "cell_type": "code",
   "execution_count": 6,
   "metadata": {},
   "outputs": [],
   "source": [
    "from pgmpy.sampling import BayesianModelSampling\n",
    "inference = BayesianModelSampling(model)\n",
    "data = inference.forward_sample(size=10000, return_type='dataframe')"
   ]
  },
  {
   "cell_type": "code",
   "execution_count": 7,
   "metadata": {},
   "outputs": [],
   "source": [
    "from profiler.core import *"
   ]
  },
  {
   "cell_type": "code",
   "execution_count": 8,
   "metadata": {},
   "outputs": [],
   "source": [
    "pf = Profiler(workers=2, verbose=False, tol=0.01, eps=0.01)"
   ]
  },
  {
   "cell_type": "code",
   "execution_count": 9,
   "metadata": {},
   "outputs": [
    {
     "name": "stderr",
     "output_type": "stream",
     "text": [
      "INFO:profiler.utility:[0.008928060531616211] Load Data start\n",
      "\n",
      "INFO:profiler.dataset:inferred types of attributes: {\n",
      "    \"Smoker\": \"numeric\",\n",
      "    \"Pollution\": \"numeric\",\n",
      "    \"Cancer\": \"numeric\",\n",
      "    \"Xray\": \"numeric\",\n",
      "    \"Dyspnoea\": \"numeric\"\n",
      "}\n",
      "INFO:profiler.dataset:(possible types: numeric, categorical, text, date)\n",
      "INFO:profiler.dataset:inferred operators of attributes: {'Smoker': ['equal'], 'Pollution': ['equal'], 'Cancer': ['equal'], 'Xray': ['equal'], 'Dyspnoea': ['equal']}\n",
      "INFO:profiler.dataset:(possible operators: equal, notequal, greater_than, less_than)\n",
      "INFO:profiler.utility:[0.023067235946655273] Load Data execution time: 0.014139175415039062\n",
      "\n"
     ]
    }
   ],
   "source": [
    "#pf.session.load_data(name='flights', src='file', fpath='/Users/zhihan/Documents/bart/data/clean_data/flights.csv', embedtxt=False)\n",
    "#pf.session.load_data(name='hospital', src='file', fpath='data/hospital.csv', embedtxt=True)\n",
    "pf.session.load_data(name='cancer', src='df', df=data, embedtxt=False)"
   ]
  },
  {
   "cell_type": "code",
   "execution_count": 10,
   "metadata": {},
   "outputs": [
    {
     "name": "stderr",
     "output_type": "stream",
     "text": [
      "INFO:profiler.utility:[0.029607057571411133] Create Training Data start\n",
      "\n",
      "INFO:profiler.transformer:needs multiplier = 21 to bound the error in inv cov estimation <= 0.01000000\n",
      "INFO:profiler.transformer:use multiplier = 21, and the bound is 0.00001717\n",
      "INFO:profiler.transformer:Draw Pairs\n",
      "100%|██████████| 5/5 [00:00<00:00, 61.87it/s]\n",
      "INFO:profiler.transformer:Number of training samples: 250000\n",
      "INFO:profiler.transformer:Computing Differences\n",
      "INFO:profiler.transformer:estimated missing data probability in training data is 0.0000\n",
      "INFO:profiler.utility:[0.2601301670074463] Create Training Data execution time: 0.23052310943603516\n",
      "\n"
     ]
    }
   ],
   "source": [
    "pf.session.load_training_data()"
   ]
  },
  {
   "cell_type": "code",
   "execution_count": 11,
   "metadata": {},
   "outputs": [
    {
     "name": "stderr",
     "output_type": "stream",
     "text": [
      "INFO:profiler.utility:[0.2675042152404785] Learn Structure start\n",
      "\n",
      "INFO:profiler.learner:use threshold 0.0138\n"
     ]
    },
    {
     "data": {
      "text/plain": [
       "<matplotlib.figure.Figure at 0x121534908>"
      ]
     },
     "metadata": {},
     "output_type": "display_data"
    },
    {
     "name": "stdout",
     "output_type": "stream",
     "text": [
      "Pollution_eq,Cancer_eq,Xray_eq,Dyspnoea_eq -> Smoker_eq\n",
      "Smoker_eq,Cancer_eq,Xray_eq,Dyspnoea_eq -> Pollution_eq\n",
      "Smoker_eq,Pollution_eq,Xray_eq,Dyspnoea_eq -> Cancer_eq\n",
      "Smoker_eq,Pollution_eq,Cancer_eq,Dyspnoea_eq -> Xray_eq\n",
      "Smoker_eq,Pollution_eq,Cancer_eq,Xray_eq -> Dyspnoea_eq\n"
     ]
    },
    {
     "name": "stderr",
     "output_type": "stream",
     "text": [
      "/Users/zhihan/anaconda3/envs/fd3/lib/python3.6/site-packages/networkx/drawing/nx_pylab.py:126: MatplotlibDeprecationWarning: pyplot.hold is deprecated.\n",
      "    Future behavior will be consistent with the long-time default:\n",
      "    plot commands add elements without first clearing the\n",
      "    Axes and/or Figure.\n",
      "  b = plt.ishold()\n",
      "/Users/zhihan/anaconda3/envs/fd3/lib/python3.6/site-packages/networkx/drawing/nx_pylab.py:138: MatplotlibDeprecationWarning: pyplot.hold is deprecated.\n",
      "    Future behavior will be consistent with the long-time default:\n",
      "    plot commands add elements without first clearing the\n",
      "    Axes and/or Figure.\n",
      "  plt.hold(b)\n",
      "/Users/zhihan/anaconda3/envs/fd3/lib/python3.6/site-packages/matplotlib/__init__.py:917: UserWarning: axes.hold is deprecated. Please remove it from your matplotlibrc and/or style files.\n",
      "  warnings.warn(self.msg_depr_set % key)\n",
      "/Users/zhihan/anaconda3/envs/fd3/lib/python3.6/site-packages/matplotlib/rcsetup.py:152: UserWarning: axes.hold is deprecated, will be removed in 3.0\n",
      "  warnings.warn(\"axes.hold is deprecated, will be removed in 3.0\")\n"
     ]
    },
    {
     "data": {
      "text/plain": [
       "<matplotlib.figure.Figure at 0x12420c780>"
      ]
     },
     "metadata": {},
     "output_type": "display_data"
    },
    {
     "name": "stderr",
     "output_type": "stream",
     "text": [
      "/Users/zhihan/anaconda3/envs/fd3/lib/python3.6/site-packages/networkx/drawing/nx_pylab.py:126: MatplotlibDeprecationWarning: pyplot.hold is deprecated.\n",
      "    Future behavior will be consistent with the long-time default:\n",
      "    plot commands add elements without first clearing the\n",
      "    Axes and/or Figure.\n",
      "  b = plt.ishold()\n",
      "/Users/zhihan/anaconda3/envs/fd3/lib/python3.6/site-packages/networkx/drawing/nx_pylab.py:138: MatplotlibDeprecationWarning: pyplot.hold is deprecated.\n",
      "    Future behavior will be consistent with the long-time default:\n",
      "    plot commands add elements without first clearing the\n",
      "    Axes and/or Figure.\n",
      "  plt.hold(b)\n",
      "/Users/zhihan/anaconda3/envs/fd3/lib/python3.6/site-packages/matplotlib/__init__.py:917: UserWarning: axes.hold is deprecated. Please remove it from your matplotlibrc and/or style files.\n",
      "  warnings.warn(self.msg_depr_set % key)\n",
      "/Users/zhihan/anaconda3/envs/fd3/lib/python3.6/site-packages/matplotlib/rcsetup.py:152: UserWarning: axes.hold is deprecated, will be removed in 3.0\n",
      "  warnings.warn(\"axes.hold is deprecated, will be removed in 3.0\")\n"
     ]
    },
    {
     "data": {
      "text/plain": [
       "<matplotlib.figure.Figure at 0x126ffff60>"
      ]
     },
     "metadata": {},
     "output_type": "display_data"
    },
    {
     "name": "stderr",
     "output_type": "stream",
     "text": [
      "/Users/zhihan/anaconda3/envs/fd3/lib/python3.6/site-packages/networkx/drawing/nx_pylab.py:126: MatplotlibDeprecationWarning: pyplot.hold is deprecated.\n",
      "    Future behavior will be consistent with the long-time default:\n",
      "    plot commands add elements without first clearing the\n",
      "    Axes and/or Figure.\n",
      "  b = plt.ishold()\n",
      "/Users/zhihan/anaconda3/envs/fd3/lib/python3.6/site-packages/networkx/drawing/nx_pylab.py:138: MatplotlibDeprecationWarning: pyplot.hold is deprecated.\n",
      "    Future behavior will be consistent with the long-time default:\n",
      "    plot commands add elements without first clearing the\n",
      "    Axes and/or Figure.\n",
      "  plt.hold(b)\n",
      "/Users/zhihan/anaconda3/envs/fd3/lib/python3.6/site-packages/matplotlib/__init__.py:917: UserWarning: axes.hold is deprecated. Please remove it from your matplotlibrc and/or style files.\n",
      "  warnings.warn(self.msg_depr_set % key)\n",
      "/Users/zhihan/anaconda3/envs/fd3/lib/python3.6/site-packages/matplotlib/rcsetup.py:152: UserWarning: axes.hold is deprecated, will be removed in 3.0\n",
      "  warnings.warn(\"axes.hold is deprecated, will be removed in 3.0\")\n"
     ]
    },
    {
     "data": {
      "text/plain": [
       "<matplotlib.figure.Figure at 0x1274ea160>"
      ]
     },
     "metadata": {},
     "output_type": "display_data"
    },
    {
     "name": "stderr",
     "output_type": "stream",
     "text": [
      "/Users/zhihan/anaconda3/envs/fd3/lib/python3.6/site-packages/networkx/drawing/nx_pylab.py:126: MatplotlibDeprecationWarning: pyplot.hold is deprecated.\n",
      "    Future behavior will be consistent with the long-time default:\n",
      "    plot commands add elements without first clearing the\n",
      "    Axes and/or Figure.\n",
      "  b = plt.ishold()\n",
      "/Users/zhihan/anaconda3/envs/fd3/lib/python3.6/site-packages/networkx/drawing/nx_pylab.py:138: MatplotlibDeprecationWarning: pyplot.hold is deprecated.\n",
      "    Future behavior will be consistent with the long-time default:\n",
      "    plot commands add elements without first clearing the\n",
      "    Axes and/or Figure.\n",
      "  plt.hold(b)\n",
      "/Users/zhihan/anaconda3/envs/fd3/lib/python3.6/site-packages/matplotlib/__init__.py:917: UserWarning: axes.hold is deprecated. Please remove it from your matplotlibrc and/or style files.\n",
      "  warnings.warn(self.msg_depr_set % key)\n",
      "/Users/zhihan/anaconda3/envs/fd3/lib/python3.6/site-packages/matplotlib/rcsetup.py:152: UserWarning: axes.hold is deprecated, will be removed in 3.0\n",
      "  warnings.warn(\"axes.hold is deprecated, will be removed in 3.0\")\n"
     ]
    },
    {
     "data": {
      "text/plain": [
       "<matplotlib.figure.Figure at 0x127836940>"
      ]
     },
     "metadata": {},
     "output_type": "display_data"
    },
    {
     "name": "stderr",
     "output_type": "stream",
     "text": [
      "DEBUG:profiler.learner:check node t = 1 with X(t) = frozenset() \n",
      "DEBUG:profiler.learner:check node t = 2 with X(t) = frozenset({0}) \n",
      "DEBUG:profiler.learner:check node t = 3 with X(t) = frozenset({0, 1}) \n",
      "DEBUG:profiler.learner:check node t = 4 with X(t) = frozenset({0, 1, 2}) \n",
      "DEBUG:profiler.learner:check node t = 5 with X(t) = frozenset({0, 1, 2, 3}) \n",
      "DEBUG:profiler.learner:check node t = 0 with X(t) = frozenset({0, 1, 2, 3, 4}) \n",
      "DEBUG:profiler.learner:check node t = 6 with X(t) = frozenset({1, 2, 3, 4}) \n",
      "DEBUG:profiler.learner:check node t = 7 with X(t) = frozenset({2, 3, 4}) \n",
      "DEBUG:profiler.learner:check node t = 8 with X(t) = frozenset({3, 4}) \n",
      "DEBUG:profiler.learner:R for leaf node t = 9 with X(t) = frozenset({4}) candidate size: 16\n",
      "DEBUG:profiler.learner:R for intro node t = 8 with X(t) = frozenset({3, 4}) candidate size: 192\n",
      "DEBUG:profiler.learner:R for intro node t = 7 with X(t) = frozenset({2, 3, 4}) candidate size: 1600\n"
     ]
    },
    {
     "name": "stdout",
     "output_type": "stream",
     "text": [
      "[1]forget:frozenset()\n",
      "--[2]forget:frozenset({0})\n",
      "----[3]forget:frozenset({0, 1})\n",
      "------[4]forget:frozenset({0, 1, 2})\n",
      "--------[5]forget:frozenset({0, 1, 2, 3})\n",
      "----------[0]introduce:frozenset({0, 1, 2, 3, 4})\n",
      "------------[6]introduce:frozenset({1, 2, 3, 4})\n",
      "--------------[7]introduce:frozenset({2, 3, 4})\n",
      "----------------[8]introduce:frozenset({3, 4})\n",
      "------------------[9]leaf:frozenset({4})\n"
     ]
    },
    {
     "name": "stderr",
     "output_type": "stream",
     "text": [
      "DEBUG:profiler.learner:R for intro node t = 6 with X(t) = frozenset({1, 2, 3, 4}) candidate size: 8688\n",
      "DEBUG:profiler.learner:R for intro node t = 0 with X(t) = frozenset({0, 1, 2, 3, 4}) candidate size: 29330\n",
      "DEBUG:profiler.learner:R for forget node t = 5 with X(t) = frozenset({0, 1, 2, 3}) candidate size: 544\n",
      "DEBUG:profiler.learner:R for forget node t = 4 with X(t) = frozenset({0, 1, 2}) candidate size: 25\n",
      "DEBUG:profiler.learner:R for forget node t = 3 with X(t) = frozenset({0, 1}) candidate size: 3\n",
      "DEBUG:profiler.learner:R for forget node t = 2 with X(t) = frozenset({0}) candidate size: 1\n",
      "DEBUG:profiler.learner:R for forget node t = 1 with X(t) = frozenset() candidate size: 1\n"
     ]
    },
    {
     "name": "stdout",
     "output_type": "stream",
     "text": [
      "[] -> Smoker_eq\n",
      "[Smoker_eq] -> Pollution_eq\n",
      "[Smoker_eq, Pollution_eq] -> Cancer_eq\n",
      "[Smoker_eq, Pollution_eq, Cancer_eq] -> Xray_eq\n",
      "[Smoker_eq, Pollution_eq, Cancer_eq, Xray_eq] -> Dyspnoea_eq\n"
     ]
    },
    {
     "name": "stderr",
     "output_type": "stream",
     "text": [
      "/Users/zhihan/anaconda3/envs/fd3/lib/python3.6/site-packages/networkx/drawing/nx_pylab.py:126: MatplotlibDeprecationWarning: pyplot.hold is deprecated.\n",
      "    Future behavior will be consistent with the long-time default:\n",
      "    plot commands add elements without first clearing the\n",
      "    Axes and/or Figure.\n",
      "  b = plt.ishold()\n",
      "/Users/zhihan/anaconda3/envs/fd3/lib/python3.6/site-packages/networkx/drawing/nx_pylab.py:138: MatplotlibDeprecationWarning: pyplot.hold is deprecated.\n",
      "    Future behavior will be consistent with the long-time default:\n",
      "    plot commands add elements without first clearing the\n",
      "    Axes and/or Figure.\n",
      "  plt.hold(b)\n",
      "/Users/zhihan/anaconda3/envs/fd3/lib/python3.6/site-packages/matplotlib/__init__.py:917: UserWarning: axes.hold is deprecated. Please remove it from your matplotlibrc and/or style files.\n",
      "  warnings.warn(self.msg_depr_set % key)\n",
      "/Users/zhihan/anaconda3/envs/fd3/lib/python3.6/site-packages/matplotlib/rcsetup.py:152: UserWarning: axes.hold is deprecated, will be removed in 3.0\n",
      "  warnings.warn(\"axes.hold is deprecated, will be removed in 3.0\")\n"
     ]
    },
    {
     "data": {
      "text/plain": [
       "<matplotlib.figure.Figure at 0x127baf048>"
      ]
     },
     "metadata": {},
     "output_type": "display_data"
    },
    {
     "name": "stderr",
     "output_type": "stream",
     "text": [
      "INFO:profiler.utility:[32.92692828178406] Learn Structure execution time: 32.65942406654358\n",
      "\n"
     ]
    }
   ],
   "source": [
    "rs = pf.session.learn_structure(sparsity=0.0015, take_abs=True, visualize=True)\n",
    "r = rs[0]"
   ]
  },
  {
   "cell_type": "code",
   "execution_count": 19,
   "metadata": {},
   "outputs": [],
   "source": [
    "from scipy.linalg import ldl\n",
    "import pandas as pd\n",
    "def decompose(inv_cov):\n",
    "    \"\"\"\n",
    "    compute autoregression matrix\n",
    "    :param inv_cov:\n",
    "    :param lower:\n",
    "    :return:\n",
    "    \"\"\"\n",
    "    lu, d, perm = ldl(inv_cov.values, lower=False) # Use the upper part\n",
    "    B = lu[perm,:]\n",
    "    ticks = [inv_cov.columns.values[i] for i in perm]\n",
    "    B = pd.DataFrame(data=B, columns=ticks)\n",
    "    B.index = ticks\n",
    "    return B"
   ]
  },
  {
   "cell_type": "code",
   "execution_count": 20,
   "metadata": {},
   "outputs": [],
   "source": [
    "B = decompose(pf.session.struct_engine.inv_cov)"
   ]
  },
  {
   "cell_type": "code",
   "execution_count": 21,
   "metadata": {},
   "outputs": [
    {
     "data": {
      "image/png": "[encoded data removed]",
      "text/plain": [
       "<matplotlib.figure.Figure at 0x123cca0f0>"
      ]
     },
     "metadata": {
      "needs_background": "light"
     },
     "output_type": "display_data"
    }
   ],
   "source": [
    "from profiler.utility import visualize_heatmap\n",
    "visualize_heatmap(B)"
   ]
  },
  {
   "cell_type": "code",
   "execution_count": 12,
   "metadata": {},
   "outputs": [
    {
     "data": {
      "text/html": [
       "<div>\n",
       "<style scoped>\n",
       "    .dataframe tbody tr th:only-of-type {\n",
       "        vertical-align: middle;\n",
       "    }\n",
       "\n",
       "    .dataframe tbody tr th {\n",
       "        vertical-align: top;\n",
       "    }\n",
       "\n",
       "    .dataframe thead th {\n",
       "        text-align: right;\n",
       "    }\n",
       "</style>\n",
       "<table border=\"1\" class=\"dataframe\">\n",
       "  <thead>\n",
       "    <tr style=\"text-align: right;\">\n",
       "      <th></th>\n",
       "      <th>Smoker_eq</th>\n",
       "      <th>Pollution_eq</th>\n",
       "      <th>Cancer_eq</th>\n",
       "      <th>Xray_eq</th>\n",
       "      <th>Dyspnoea_eq</th>\n",
       "    </tr>\n",
       "  </thead>\n",
       "  <tbody>\n",
       "    <tr>\n",
       "      <th>Smoker_eq</th>\n",
       "      <td>0.000000</td>\n",
       "      <td>0.060068</td>\n",
       "      <td>0.028941</td>\n",
       "      <td>0.121465</td>\n",
       "      <td>0.114307</td>\n",
       "    </tr>\n",
       "    <tr>\n",
       "      <th>Pollution_eq</th>\n",
       "      <td>0.060068</td>\n",
       "      <td>0.000000</td>\n",
       "      <td>0.190729</td>\n",
       "      <td>0.068638</td>\n",
       "      <td>0.051160</td>\n",
       "    </tr>\n",
       "    <tr>\n",
       "      <th>Cancer_eq</th>\n",
       "      <td>0.028941</td>\n",
       "      <td>0.190729</td>\n",
       "      <td>0.000000</td>\n",
       "      <td>1.507218</td>\n",
       "      <td>0.246312</td>\n",
       "    </tr>\n",
       "    <tr>\n",
       "      <th>Xray_eq</th>\n",
       "      <td>0.121465</td>\n",
       "      <td>0.068638</td>\n",
       "      <td>1.507218</td>\n",
       "      <td>0.000000</td>\n",
       "      <td>0.162828</td>\n",
       "    </tr>\n",
       "    <tr>\n",
       "      <th>Dyspnoea_eq</th>\n",
       "      <td>0.114307</td>\n",
       "      <td>0.051160</td>\n",
       "      <td>0.246312</td>\n",
       "      <td>0.162828</td>\n",
       "      <td>0.000000</td>\n",
       "    </tr>\n",
       "  </tbody>\n",
       "</table>\n",
       "</div>"
      ],
      "text/plain": [
       "              Smoker_eq  Pollution_eq  Cancer_eq   Xray_eq  Dyspnoea_eq\n",
       "Smoker_eq      0.000000      0.060068   0.028941  0.121465     0.114307\n",
       "Pollution_eq   0.060068      0.000000   0.190729  0.068638     0.051160\n",
       "Cancer_eq      0.028941      0.190729   0.000000  1.507218     0.246312\n",
       "Xray_eq        0.121465      0.068638   1.507218  0.000000     0.162828\n",
       "Dyspnoea_eq    0.114307      0.051160   0.246312  0.162828     0.000000"
      ]
     },
     "execution_count": 12,
     "metadata": {},
     "output_type": "execute_result"
    }
   ],
   "source": [
    "pf.session.struct_engine.inv_cov"
   ]
  },
  {
   "cell_type": "code",
   "execution_count": 33,
   "metadata": {},
   "outputs": [
    {
     "name": "stdout",
     "output_type": "stream",
     "text": [
      " -> Smoker_eq (0.2246)\n",
      "Smoker_eq -> Pollution_eq (0.1228)\n",
      "Smoker_eq,Pollution_eq -> Cancer_eq (0.0588)\n",
      "Smoker_eq,Pollution_eq,Cancer_eq -> Xray_eq (0.1946)\n",
      "Smoker_eq,Pollution_eq,Cancer_eq,Xray_eq -> Dyspnoea_eq (0.2248)\n"
     ]
    }
   ],
   "source": [
    "r = rs[0]\n",
    "for right in r[0][0]:\n",
    "    lefts = r[0][0][right]\n",
    "    score = pf.session.struct_engine.score(right, lefts)\n",
    "    print(\"{} -> {} ({})\".format(\",\".join(pf.session.struct_engine.idx_to_col.loc[lefts, 'col']), \n",
    "                                 pf.session.struct_engine.idx_to_col.loc[right, 'col'], \n",
    "                                 \"%.4f\"%score))"
   ]
  },
  {
   "cell_type": "code",
   "execution_count": 37,
   "metadata": {},
   "outputs": [
    {
     "name": "stdout",
     "output_type": "stream",
     "text": [
      "Smoker_eq -> Pollution_eq (0.1228)\n",
      "Smoker_eq -> Cancer_eq (0.0588)\n",
      "Pollution_eq -> Cancer_eq (0.0588)\n",
      "Smoker_eq -> Xray_eq (0.2007)\n",
      "Pollution_eq -> Xray_eq (0.2008)\n",
      "Cancer_eq -> Xray_eq (0.1949)\n",
      "Smoker_eq -> Dyspnoea_eq (0.2256)\n",
      "Pollution_eq -> Dyspnoea_eq (0.2258)\n",
      "Cancer_eq -> Dyspnoea_eq (0.2255)\n",
      "Xray_eq -> Dyspnoea_eq (0.2255)\n"
     ]
    }
   ],
   "source": [
    "r = rs[0]\n",
    "for right in r[0][0]:\n",
    "    lefts = r[0][0][right]\n",
    "    for left in lefts:\n",
    "        score = pf.session.struct_engine.score(right, [left])\n",
    "        print(\"{} -> {} ({})\".format(pf.session.struct_engine.idx_to_col.loc[left, 'col'], \n",
    "                                     pf.session.struct_engine.idx_to_col.loc[right, 'col'], \n",
    "                                     \"%.4f\"%score))"
   ]
  },
  {
   "cell_type": "code",
   "execution_count": null,
   "metadata": {},
   "outputs": [],
   "source": []
  }
 ],
 "metadata": {
  "kernelspec": {
   "display_name": "Python (fd3)",
   "language": "python",
   "name": "fd3"
  },
  "language_info": {
   "codemirror_mode": {
    "name": "ipython",
    "version": 3
   },
   "file_extension": ".py",
   "mimetype": "text/x-python",
   "name": "python",
   "nbconvert_exporter": "python",
   "pygments_lexer": "ipython3",
   "version": "3.6.8"
  }
 },
 "nbformat": 4,
 "nbformat_minor": 2
}
