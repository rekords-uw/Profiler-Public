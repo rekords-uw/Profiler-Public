{
 "cells": [
  {
   "cell_type": "code",
   "execution_count": 1,
   "metadata": {},
   "outputs": [],
   "source": [
    "from pgmpy.readwrite import BIFReader"
   ]
  },
  {
   "cell_type": "code",
   "execution_count": 2,
   "metadata": {},
   "outputs": [],
   "source": [
    "reader = BIFReader(\"data/cancer.bif\")"
   ]
  },
  {
   "cell_type": "code",
   "execution_count": 3,
   "metadata": {},
   "outputs": [],
   "source": [
    "model = reader.get_model()"
   ]
  },
  {
   "cell_type": "code",
   "execution_count": 4,
   "metadata": {},
   "outputs": [
    {
     "data": {
      "text/plain": [
       "(Pollution _|_ Smoker)\n",
       "(Pollution _|_ Xray, Dyspnoea | Cancer)\n",
       "(Pollution _|_ Xray | Cancer, Dyspnoea)\n",
       "(Pollution _|_ Xray, Dyspnoea | Cancer, Smoker)\n",
       "(Pollution _|_ Dyspnoea | Cancer, Xray)\n",
       "(Pollution _|_ Xray | Cancer, Dyspnoea, Smoker)\n",
       "(Pollution _|_ Dyspnoea | Cancer, Xray, Smoker)\n",
       "(Smoker _|_ Pollution)\n",
       "(Smoker _|_ Xray, Dyspnoea | Cancer)\n",
       "(Smoker _|_ Xray | Cancer, Dyspnoea)\n",
       "(Smoker _|_ Xray, Dyspnoea | Cancer, Pollution)\n",
       "(Smoker _|_ Dyspnoea | Cancer, Xray)\n",
       "(Smoker _|_ Xray | Cancer, Dyspnoea, Pollution)\n",
       "(Smoker _|_ Dyspnoea | Cancer, Pollution, Xray)\n",
       "(Xray _|_ Dyspnoea, Pollution, Smoker | Cancer)\n",
       "(Xray _|_ Pollution, Smoker | Cancer, Dyspnoea)\n",
       "(Xray _|_ Dyspnoea, Smoker | Cancer, Pollution)\n",
       "(Xray _|_ Dyspnoea, Pollution | Cancer, Smoker)\n",
       "(Xray _|_ Smoker | Cancer, Dyspnoea, Pollution)\n",
       "(Xray _|_ Pollution | Cancer, Dyspnoea, Smoker)\n",
       "(Xray _|_ Dyspnoea | Cancer, Pollution, Smoker)\n",
       "(Dyspnoea _|_ Xray, Pollution, Smoker | Cancer)\n",
       "(Dyspnoea _|_ Xray, Pollution | Cancer, Smoker)\n",
       "(Dyspnoea _|_ Xray, Smoker | Cancer, Pollution)\n",
       "(Dyspnoea _|_ Pollution, Smoker | Cancer, Xray)\n",
       "(Dyspnoea _|_ Xray | Cancer, Pollution, Smoker)\n",
       "(Dyspnoea _|_ Pollution | Cancer, Xray, Smoker)\n",
       "(Dyspnoea _|_ Smoker | Cancer, Pollution, Xray)"
      ]
     },
     "execution_count": 4,
     "metadata": {},
     "output_type": "execute_result"
    }
   ],
   "source": [
    "model.get_independencies()"
   ]
  },
  {
   "cell_type": "code",
   "execution_count": 5,
   "metadata": {},
   "outputs": [],
   "source": [
    "from pgmpy.sampling import BayesianModelSampling\n",
    "inference = BayesianModelSampling(model)\n",
    "data = inference.forward_sample(size=10000, return_type='dataframe')"
   ]
  },
  {
   "cell_type": "code",
   "execution_count": 6,
   "metadata": {},
   "outputs": [],
   "source": [
    "from profiler.core import *"
   ]
  },
  {
   "cell_type": "code",
   "execution_count": 7,
   "metadata": {},
   "outputs": [],
   "source": [
    "pf = Profiler(workers=2, verbose=False, tol=0.01, eps=0.1)"
   ]
  },
  {
   "cell_type": "code",
   "execution_count": 8,
   "metadata": {},
   "outputs": [
    {
     "name": "stderr",
     "output_type": "stream",
     "text": [
      "INFO:profiler.utility:[0.009056806564331055] Load Data start\n",
      "\n",
      "INFO:profiler.dataset:inferred types of attributes: {\n",
      "    \"Smoker\": \"numeric\",\n",
      "    \"Pollution\": \"numeric\",\n",
      "    \"Cancer\": \"numeric\",\n",
      "    \"Xray\": \"numeric\",\n",
      "    \"Dyspnoea\": \"numeric\"\n",
      "}\n",
      "INFO:profiler.dataset:(possible types: numeric, categorical, text, date)\n",
      "INFO:profiler.dataset:inferred operators of attributes: {'Smoker': ['equal'], 'Pollution': ['equal'], 'Cancer': ['equal'], 'Xray': ['equal'], 'Dyspnoea': ['equal']}\n",
      "INFO:profiler.dataset:(possible operators: equal, notequal, greater_than, less_than)\n",
      "INFO:profiler.utility:[0.021823883056640625] Load Data execution time: 0.01276707649230957\n",
      "\n"
     ]
    }
   ],
   "source": [
    "#pf.session.load_data(name='flights', src='file', fpath='/Users/zhihan/Documents/bart/data/clean_data/flights.csv', embedtxt=False)\n",
    "#pf.session.load_data(name='hospital', src='file', fpath='data/hospital.csv', embedtxt=True)\n",
    "pf.session.load_data(name='cancer', src='df', df=data, embedtxt=False)"
   ]
  },
  {
   "cell_type": "code",
   "execution_count": 9,
   "metadata": {},
   "outputs": [
    {
     "name": "stderr",
     "output_type": "stream",
     "text": [
      "INFO:profiler.utility:[0.029959917068481445] Create Training Data start\n",
      "\n",
      "INFO:profiler.transformer:needs multiplier = 1 to bound the error in inv cov estimation <= 0.10000000\n",
      "INFO:profiler.transformer:use multiplier = 1, and the bound is 0.00036056\n",
      "INFO:profiler.transformer:Draw Pairs\n",
      "100%|██████████| 5/5 [00:00<00:00, 217.86it/s]\n",
      "INFO:profiler.transformer:Number of training samples: 50000\n",
      "INFO:profiler.transformer:Computing Differences\n",
      "INFO:profiler.transformer:estimated missing data probability in training data is 0.0000\n",
      "INFO:profiler.utility:[0.10208773612976074] Create Training Data execution time: 0.0721278190612793\n",
      "\n"
     ]
    }
   ],
   "source": [
    "pf.session.load_training_data()"
   ]
  },
  {
   "cell_type": "code",
   "execution_count": 10,
   "metadata": {},
   "outputs": [
    {
     "name": "stderr",
     "output_type": "stream",
     "text": [
      "INFO:profiler.utility:[0.10818886756896973] Learn Structure start\n",
      "\n",
      "INFO:profiler.learner:use threshold 0.0634\n"
     ]
    },
    {
     "data": {
      "text/plain": [
       "<matplotlib.figure.Figure at 0x11a2ef048>"
      ]
     },
     "metadata": {},
     "output_type": "display_data"
    },
    {
     "name": "stdout",
     "output_type": "stream",
     "text": [
      "Smoker_eq,Cancer_eq,Xray_eq,Dyspnoea_eq -> Pollution_eq\n",
      "Smoker_eq,Pollution_eq,Xray_eq,Dyspnoea_eq -> Cancer_eq\n",
      "Smoker_eq,Pollution_eq,Cancer_eq,Dyspnoea_eq -> Xray_eq\n",
      "Smoker_eq,Pollution_eq,Cancer_eq,Xray_eq -> Dyspnoea_eq\n"
     ]
    },
    {
     "name": "stderr",
     "output_type": "stream",
     "text": [
      "/Users/zhihan/anaconda3/envs/fd3/lib/python3.6/site-packages/networkx/drawing/nx_pylab.py:126: MatplotlibDeprecationWarning: pyplot.hold is deprecated.\n",
      "    Future behavior will be consistent with the long-time default:\n",
      "    plot commands add elements without first clearing the\n",
      "    Axes and/or Figure.\n",
      "  b = plt.ishold()\n",
      "/Users/zhihan/anaconda3/envs/fd3/lib/python3.6/site-packages/networkx/drawing/nx_pylab.py:138: MatplotlibDeprecationWarning: pyplot.hold is deprecated.\n",
      "    Future behavior will be consistent with the long-time default:\n",
      "    plot commands add elements without first clearing the\n",
      "    Axes and/or Figure.\n",
      "  plt.hold(b)\n",
      "/Users/zhihan/anaconda3/envs/fd3/lib/python3.6/site-packages/matplotlib/__init__.py:917: UserWarning: axes.hold is deprecated. Please remove it from your matplotlibrc and/or style files.\n",
      "  warnings.warn(self.msg_depr_set % key)\n",
      "/Users/zhihan/anaconda3/envs/fd3/lib/python3.6/site-packages/matplotlib/rcsetup.py:152: UserWarning: axes.hold is deprecated, will be removed in 3.0\n",
      "  warnings.warn(\"axes.hold is deprecated, will be removed in 3.0\")\n"
     ]
    },
    {
     "data": {
      "text/plain": [
       "<matplotlib.figure.Figure at 0x11ae53400>"
      ]
     },
     "metadata": {},
     "output_type": "display_data"
    },
    {
     "name": "stderr",
     "output_type": "stream",
     "text": [
      "/Users/zhihan/anaconda3/envs/fd3/lib/python3.6/site-packages/networkx/drawing/nx_pylab.py:126: MatplotlibDeprecationWarning: pyplot.hold is deprecated.\n",
      "    Future behavior will be consistent with the long-time default:\n",
      "    plot commands add elements without first clearing the\n",
      "    Axes and/or Figure.\n",
      "  b = plt.ishold()\n",
      "/Users/zhihan/anaconda3/envs/fd3/lib/python3.6/site-packages/networkx/drawing/nx_pylab.py:138: MatplotlibDeprecationWarning: pyplot.hold is deprecated.\n",
      "    Future behavior will be consistent with the long-time default:\n",
      "    plot commands add elements without first clearing the\n",
      "    Axes and/or Figure.\n",
      "  plt.hold(b)\n",
      "/Users/zhihan/anaconda3/envs/fd3/lib/python3.6/site-packages/matplotlib/__init__.py:917: UserWarning: axes.hold is deprecated. Please remove it from your matplotlibrc and/or style files.\n",
      "  warnings.warn(self.msg_depr_set % key)\n",
      "/Users/zhihan/anaconda3/envs/fd3/lib/python3.6/site-packages/matplotlib/rcsetup.py:152: UserWarning: axes.hold is deprecated, will be removed in 3.0\n",
      "  warnings.warn(\"axes.hold is deprecated, will be removed in 3.0\")\n"
     ]
    },
    {
     "data": {
      "text/plain": [
       "<matplotlib.figure.Figure at 0x11b08ca90>"
      ]
     },
     "metadata": {},
     "output_type": "display_data"
    },
    {
     "name": "stderr",
     "output_type": "stream",
     "text": [
      "/Users/zhihan/anaconda3/envs/fd3/lib/python3.6/site-packages/networkx/drawing/nx_pylab.py:126: MatplotlibDeprecationWarning: pyplot.hold is deprecated.\n",
      "    Future behavior will be consistent with the long-time default:\n",
      "    plot commands add elements without first clearing the\n",
      "    Axes and/or Figure.\n",
      "  b = plt.ishold()\n",
      "/Users/zhihan/anaconda3/envs/fd3/lib/python3.6/site-packages/networkx/drawing/nx_pylab.py:138: MatplotlibDeprecationWarning: pyplot.hold is deprecated.\n",
      "    Future behavior will be consistent with the long-time default:\n",
      "    plot commands add elements without first clearing the\n",
      "    Axes and/or Figure.\n",
      "  plt.hold(b)\n",
      "/Users/zhihan/anaconda3/envs/fd3/lib/python3.6/site-packages/matplotlib/__init__.py:917: UserWarning: axes.hold is deprecated. Please remove it from your matplotlibrc and/or style files.\n",
      "  warnings.warn(self.msg_depr_set % key)\n",
      "/Users/zhihan/anaconda3/envs/fd3/lib/python3.6/site-packages/matplotlib/rcsetup.py:152: UserWarning: axes.hold is deprecated, will be removed in 3.0\n",
      "  warnings.warn(\"axes.hold is deprecated, will be removed in 3.0\")\n"
     ]
    },
    {
     "data": {
      "text/plain": [
       "<matplotlib.figure.Figure at 0x11fd79198>"
      ]
     },
     "metadata": {},
     "output_type": "display_data"
    },
    {
     "name": "stderr",
     "output_type": "stream",
     "text": [
      "/Users/zhihan/anaconda3/envs/fd3/lib/python3.6/site-packages/networkx/drawing/nx_pylab.py:126: MatplotlibDeprecationWarning: pyplot.hold is deprecated.\n",
      "    Future behavior will be consistent with the long-time default:\n",
      "    plot commands add elements without first clearing the\n",
      "    Axes and/or Figure.\n",
      "  b = plt.ishold()\n",
      "/Users/zhihan/anaconda3/envs/fd3/lib/python3.6/site-packages/networkx/drawing/nx_pylab.py:138: MatplotlibDeprecationWarning: pyplot.hold is deprecated.\n",
      "    Future behavior will be consistent with the long-time default:\n",
      "    plot commands add elements without first clearing the\n",
      "    Axes and/or Figure.\n",
      "  plt.hold(b)\n",
      "/Users/zhihan/anaconda3/envs/fd3/lib/python3.6/site-packages/matplotlib/__init__.py:917: UserWarning: axes.hold is deprecated. Please remove it from your matplotlibrc and/or style files.\n",
      "  warnings.warn(self.msg_depr_set % key)\n",
      "/Users/zhihan/anaconda3/envs/fd3/lib/python3.6/site-packages/matplotlib/rcsetup.py:152: UserWarning: axes.hold is deprecated, will be removed in 3.0\n",
      "  warnings.warn(\"axes.hold is deprecated, will be removed in 3.0\")\n"
     ]
    },
    {
     "data": {
      "text/plain": [
       "<matplotlib.figure.Figure at 0x11fe05240>"
      ]
     },
     "metadata": {},
     "output_type": "display_data"
    },
    {
     "name": "stderr",
     "output_type": "stream",
     "text": [
      "DEBUG:profiler.learner:check node t = 1 with X(t) = frozenset() \n",
      "DEBUG:profiler.learner:check node t = 2 with X(t) = frozenset({0}) \n",
      "DEBUG:profiler.learner:check node t = 3 with X(t) = frozenset({0, 1}) \n",
      "DEBUG:profiler.learner:check node t = 4 with X(t) = frozenset({0, 1, 2}) \n",
      "DEBUG:profiler.learner:check node t = 5 with X(t) = frozenset({0, 1, 2, 3}) \n",
      "DEBUG:profiler.learner:check node t = 0 with X(t) = frozenset({0, 1, 2, 3, 4}) \n",
      "DEBUG:profiler.learner:check node t = 6 with X(t) = frozenset({1, 2, 3, 4}) \n",
      "DEBUG:profiler.learner:check node t = 7 with X(t) = frozenset({2, 3, 4}) \n",
      "DEBUG:profiler.learner:check node t = 8 with X(t) = frozenset({3, 4}) \n",
      "DEBUG:profiler.learner:R for leaf node t = 9 with X(t) = frozenset({4}) candidate size: 16\n",
      "DEBUG:profiler.learner:R for intro node t = 8 with X(t) = frozenset({3, 4}) candidate size: 192\n",
      "DEBUG:profiler.learner:R for intro node t = 7 with X(t) = frozenset({2, 3, 4}) candidate size: 1600\n"
     ]
    },
    {
     "name": "stdout",
     "output_type": "stream",
     "text": [
      "[1]forget:frozenset()\n",
      "--[2]forget:frozenset({0})\n",
      "----[3]forget:frozenset({0, 1})\n",
      "------[4]forget:frozenset({0, 1, 2})\n",
      "--------[5]forget:frozenset({0, 1, 2, 3})\n",
      "----------[0]introduce:frozenset({0, 1, 2, 3, 4})\n",
      "------------[6]introduce:frozenset({1, 2, 3, 4})\n",
      "--------------[7]introduce:frozenset({2, 3, 4})\n",
      "----------------[8]introduce:frozenset({3, 4})\n",
      "------------------[9]leaf:frozenset({4})\n"
     ]
    },
    {
     "name": "stderr",
     "output_type": "stream",
     "text": [
      "DEBUG:profiler.learner:R for intro node t = 6 with X(t) = frozenset({1, 2, 3, 4}) candidate size: 8688\n",
      "DEBUG:profiler.learner:R for intro node t = 0 with X(t) = frozenset({0, 1, 2, 3, 4}) candidate size: 29330\n",
      "DEBUG:profiler.learner:R for forget node t = 5 with X(t) = frozenset({0, 1, 2, 3}) candidate size: 544\n",
      "DEBUG:profiler.learner:R for forget node t = 4 with X(t) = frozenset({0, 1, 2}) candidate size: 25\n",
      "DEBUG:profiler.learner:R for forget node t = 3 with X(t) = frozenset({0, 1}) candidate size: 3\n",
      "DEBUG:profiler.learner:R for forget node t = 2 with X(t) = frozenset({0}) candidate size: 1\n",
      "DEBUG:profiler.learner:R for forget node t = 1 with X(t) = frozenset() candidate size: 1\n",
      "INFO:profiler.utility:[27.47349500656128] Learn Structure execution time: 27.36530613899231\n",
      "\n"
     ]
    }
   ],
   "source": [
    "pf.session.learn_structure(sparsity=0.001, take_abs=True, visualize=True)"
   ]
  },
  {
   "cell_type": "code",
   "execution_count": 11,
   "metadata": {},
   "outputs": [
    {
     "data": {
      "text/plain": [
       "({}, {}, 0.8312935916548052)"
      ]
     },
     "execution_count": 11,
     "metadata": {},
     "output_type": "execute_result"
    }
   ],
   "source": [
    "pf.session.struct_engine.R[1][0]"
   ]
  },
  {
   "cell_type": "code",
   "execution_count": 12,
   "metadata": {},
   "outputs": [
    {
     "data": {
      "text/plain": [
       "[({0: set()}, {0: []}, 0.6081895916548054)]"
      ]
     },
     "execution_count": 12,
     "metadata": {},
     "output_type": "execute_result"
    }
   ],
   "source": [
    "pf.session.struct_engine.R[2]"
   ]
  },
  {
   "cell_type": "code",
   "execution_count": 13,
   "metadata": {},
   "outputs": [
    {
     "data": {
      "text/plain": [
       "[({0: {1}, 1: set()}, {0: [], 1: [0]}, 0.4808800174293322),\n",
       " ({0: set(), 1: {0}}, {0: [1], 1: []}, 0.4808800174293322),\n",
       " ({0: set(), 1: set()}, {0: [], 1: []}, 0.4808800174293322)]"
      ]
     },
     "execution_count": 13,
     "metadata": {},
     "output_type": "execute_result"
    }
   ],
   "source": [
    "pf.session.struct_engine.R[3]"
   ]
  },
  {
   "cell_type": "code",
   "execution_count": 14,
   "metadata": {},
   "outputs": [
    {
     "data": {
      "text/plain": [
       "[({0: {1}, 1: {2}, 2: set()}, {0: [], 1: [0], 2: [1, 0]}, 0.4215936326843886),\n",
       " ({0: {1}, 1: set(), 2: {0}}, {0: [2], 1: [0], 2: []}, 0.4215936326843886),\n",
       " ({0: {1}, 1: set(), 2: {1}}, {0: [], 1: [2, 0], 2: []}, 0.4215936326843886),\n",
       " ({0: {1}, 1: set(), 2: {0, 1}},\n",
       "  {0: [2], 1: [2, 0], 2: []},\n",
       "  0.4215936326843886),\n",
       " ({0: {1}, 1: set(), 2: set()}, {0: [], 1: [0], 2: []}, 0.4215936326843886),\n",
       " ({0: {2}, 1: {0}, 2: set()}, {0: [1], 1: [], 2: [0]}, 0.4215936326843886),\n",
       " ({0: {2}, 1: {2}, 2: set()}, {0: [], 1: [], 2: [1, 0]}, 0.4215936326843886),\n",
       " ({0: {2}, 1: {0, 2}, 2: set()},\n",
       "  {0: [1], 1: [], 2: [1, 0]},\n",
       "  0.4215936326843886),\n",
       " ({0: {2}, 1: set(), 2: {1}}, {0: [], 1: [2, 0], 2: [0]}, 0.4215936326843886),\n",
       " ({0: {2}, 1: set(), 2: set()}, {0: [], 1: [], 2: [0]}, 0.4215936326843886),\n",
       " ({0: {1, 2}, 1: {2}, 2: set()},\n",
       "  {0: [], 1: [0], 2: [1, 0]},\n",
       "  0.4215936326843886),\n",
       " ({0: {1, 2}, 1: set(), 2: {1}},\n",
       "  {0: [], 1: [2, 0], 2: [0]},\n",
       "  0.4215936326843886),\n",
       " ({0: {1, 2}, 1: set(), 2: set()},\n",
       "  {0: [], 1: [0], 2: [0]},\n",
       "  0.4215936326843886),\n",
       " ({0: set(), 1: {0}, 2: {0}}, {0: [2, 1], 1: [], 2: []}, 0.4215936326843886),\n",
       " ({0: set(), 1: {0}, 2: {1}}, {0: [1], 1: [2], 2: []}, 0.4215936326843886),\n",
       " ({0: set(), 1: {0}, 2: {0, 1}},\n",
       "  {0: [2, 1], 1: [2], 2: []},\n",
       "  0.4215936326843886),\n",
       " ({0: set(), 1: {0}, 2: set()}, {0: [1], 1: [], 2: []}, 0.4215936326843886),\n",
       " ({0: set(), 1: {2}, 2: {0}}, {0: [2, 1], 1: [], 2: [1]}, 0.4215936326843886),\n",
       " ({0: set(), 1: {2}, 2: set()}, {0: [], 1: [], 2: [1]}, 0.4215936326843886),\n",
       " ({0: set(), 1: {0, 2}, 2: {0}},\n",
       "  {0: [2, 1], 1: [], 2: [1]},\n",
       "  0.4215936326843886),\n",
       " ({0: set(), 1: {0, 2}, 2: set()},\n",
       "  {0: [1], 1: [], 2: [1]},\n",
       "  0.4215936326843886),\n",
       " ({0: set(), 1: set(), 2: {0}}, {0: [2], 1: [], 2: []}, 0.4215936326843886),\n",
       " ({0: set(), 1: set(), 2: {1}}, {0: [], 1: [2], 2: []}, 0.4215936326843886),\n",
       " ({0: set(), 1: set(), 2: {0, 1}},\n",
       "  {0: [2], 1: [2], 2: []},\n",
       "  0.4215936326843886),\n",
       " ({0: set(), 1: set(), 2: set()}, {0: [], 1: [], 2: []}, 0.4215936326843886)]"
      ]
     },
     "execution_count": 14,
     "metadata": {},
     "output_type": "execute_result"
    }
   ],
   "source": [
    "pf.session.struct_engine.R[4]"
   ]
  },
  {
   "cell_type": "code",
   "execution_count": null,
   "metadata": {},
   "outputs": [],
   "source": []
  }
 ],
 "metadata": {
  "kernelspec": {
   "display_name": "Python (fd3)",
   "language": "python",
   "name": "fd3"
  },
  "language_info": {
   "codemirror_mode": {
    "name": "ipython",
    "version": 3
   },
   "file_extension": ".py",
   "mimetype": "text/x-python",
   "name": "python",
   "nbconvert_exporter": "python",
   "pygments_lexer": "ipython3",
   "version": "3.6.8"
  }
 },
 "nbformat": 4,
 "nbformat_minor": 2
}
