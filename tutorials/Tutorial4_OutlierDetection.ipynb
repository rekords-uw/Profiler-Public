{
 "cells": [
  {
   "cell_type": "markdown",
   "metadata": {},
   "source": [
    "## 0. Load Data"
   ]
  },
  {
   "cell_type": "code",
   "execution_count": 1,
   "metadata": {},
   "outputs": [],
   "source": [
    "from scipy.io import loadmat\n",
    "data = loadmat('data/cardio.mat')"
   ]
  },
  {
   "cell_type": "code",
   "execution_count": 2,
   "metadata": {},
   "outputs": [],
   "source": [
    "gt = data['y']"
   ]
  },
  {
   "cell_type": "code",
   "execution_count": 3,
   "metadata": {},
   "outputs": [],
   "source": [
    "import pandas as pd\n",
    "df = pd.DataFrame(data['X'], columns=['Columns_%d'%i for i in range(data['X'].shape[1])])"
   ]
  },
  {
   "cell_type": "code",
   "execution_count": 4,
   "metadata": {},
   "outputs": [],
   "source": [
    "from profiler.core import *"
   ]
  },
  {
   "cell_type": "markdown",
   "metadata": {},
   "source": [
    "## 1. Instantiate Engine\n",
    "* workers : number of processes\n",
    "* tol     : tolerance for differences when creating training data (set to 0 if data is completely clean)\n",
    "* eps     : error bound for inverse covariance estimation (since we use conservative calculation when determining minimum sample size, we recommend to set eps <= 0.01)\n",
    "* embedtxt: if set to true, differentiate b/w textual data and categorical data, and use word embedding for the former"
   ]
  },
  {
   "cell_type": "code",
   "execution_count": 5,
   "metadata": {},
   "outputs": [],
   "source": [
    "pf = Profiler(workers=2, tol=0.01, eps=0.05, embedtxt=False)"
   ]
  },
  {
   "cell_type": "markdown",
   "metadata": {},
   "source": [
    "## 2. Load Data\n",
    "* name: any name you like\n",
    "* src: \\[FILE; DF; DB (not implemented)\\]\n",
    "* fpath: required if src == FILE\n",
    "* df: required if src == DF\n",
    "* check_param: print parameters used for data loading"
   ]
  },
  {
   "cell_type": "code",
   "execution_count": 6,
   "metadata": {},
   "outputs": [
    {
     "name": "stderr",
     "output_type": "stream",
     "text": [
      "INFO:profiler.utility:[0.0071849822998046875] Load Data start\n",
      "\n",
      "INFO:profiler.dataset:parameters used for data loading:\n",
      " {'na_values': {'', 'none', 'nan', 'None', 'NaN', '?', 'unknown'}, 'sep': ',', 'header': 'infer', 'dropcol': None, 'dropna': False, 'encoding': 'utf-8', 'normalize': True, 'min_categories_for_embedding': 10}\n",
      "INFO:profiler.dataset:inferred types of attributes: {\n",
      "    \"Columns_0\": \"numeric\",\n",
      "    \"Columns_1\": \"numeric\",\n",
      "    \"Columns_2\": \"numeric\",\n",
      "    \"Columns_3\": \"numeric\",\n",
      "    \"Columns_4\": \"numeric\",\n",
      "    \"Columns_5\": \"numeric\",\n",
      "    \"Columns_6\": \"numeric\",\n",
      "    \"Columns_7\": \"numeric\",\n",
      "    \"Columns_8\": \"numeric\",\n",
      "    \"Columns_9\": \"numeric\",\n",
      "    \"Columns_10\": \"numeric\",\n",
      "    \"Columns_11\": \"numeric\",\n",
      "    \"Columns_12\": \"numeric\",\n",
      "    \"Columns_13\": \"numeric\",\n",
      "    \"Columns_14\": \"numeric\",\n",
      "    \"Columns_15\": \"numeric\",\n",
      "    \"Columns_16\": \"numeric\",\n",
      "    \"Columns_17\": \"numeric\",\n",
      "    \"Columns_18\": \"numeric\",\n",
      "    \"Columns_19\": \"numeric\",\n",
      "    \"Columns_20\": \"numeric\"\n",
      "}\n",
      "INFO:profiler.dataset:(possible types: numeric, categorical, text, date)\n",
      "INFO:profiler.dataset:inferred operators of attributes: {'Columns_0': ['equal'], 'Columns_1': ['equal'], 'Columns_2': ['equal'], 'Columns_3': ['equal'], 'Columns_4': ['equal'], 'Columns_5': ['equal'], 'Columns_6': ['equal'], 'Columns_7': ['equal'], 'Columns_8': ['equal'], 'Columns_9': ['equal'], 'Columns_10': ['equal'], 'Columns_11': ['equal'], 'Columns_12': ['equal'], 'Columns_13': ['equal'], 'Columns_14': ['equal'], 'Columns_15': ['equal'], 'Columns_16': ['equal'], 'Columns_17': ['equal'], 'Columns_18': ['equal'], 'Columns_19': ['equal'], 'Columns_20': ['equal']}\n",
      "INFO:profiler.dataset:(possible operators: equal, notequal, greater_than, less_than)\n",
      "INFO:profiler.utility:[0.01996898651123047] Load Data execution time: 0.012784004211425781\n",
      "\n"
     ]
    }
   ],
   "source": [
    "pf.session.load_data(src=DF, df=df, check_param=True)"
   ]
  },
  {
   "cell_type": "code",
   "execution_count": 7,
   "metadata": {},
   "outputs": [
    {
     "data": {
      "text/html": [
       "<div>\n",
       "<style scoped>\n",
       "    .dataframe tbody tr th:only-of-type {\n",
       "        vertical-align: middle;\n",
       "    }\n",
       "\n",
       "    .dataframe tbody tr th {\n",
       "        vertical-align: top;\n",
       "    }\n",
       "\n",
       "    .dataframe thead th {\n",
       "        text-align: right;\n",
       "    }\n",
       "</style>\n",
       "<table border=\"1\" class=\"dataframe\">\n",
       "  <thead>\n",
       "    <tr style=\"text-align: right;\">\n",
       "      <th></th>\n",
       "      <th>Columns_0</th>\n",
       "      <th>Columns_1</th>\n",
       "      <th>Columns_2</th>\n",
       "      <th>Columns_3</th>\n",
       "      <th>Columns_4</th>\n",
       "      <th>Columns_5</th>\n",
       "      <th>Columns_6</th>\n",
       "      <th>Columns_7</th>\n",
       "      <th>Columns_8</th>\n",
       "      <th>Columns_9</th>\n",
       "      <th>...</th>\n",
       "      <th>Columns_11</th>\n",
       "      <th>Columns_12</th>\n",
       "      <th>Columns_13</th>\n",
       "      <th>Columns_14</th>\n",
       "      <th>Columns_15</th>\n",
       "      <th>Columns_16</th>\n",
       "      <th>Columns_17</th>\n",
       "      <th>Columns_18</th>\n",
       "      <th>Columns_19</th>\n",
       "      <th>Columns_20</th>\n",
       "    </tr>\n",
       "  </thead>\n",
       "  <tbody>\n",
       "    <tr>\n",
       "      <th>0</th>\n",
       "      <td>0.004912</td>\n",
       "      <td>0.693191</td>\n",
       "      <td>-0.203640</td>\n",
       "      <td>0.595322</td>\n",
       "      <td>0.353190</td>\n",
       "      <td>-0.061401</td>\n",
       "      <td>-0.278295</td>\n",
       "      <td>-1.650444</td>\n",
       "      <td>0.759072</td>\n",
       "      <td>-0.420487</td>\n",
       "      <td>...</td>\n",
       "      <td>1.485973</td>\n",
       "      <td>-0.798376</td>\n",
       "      <td>1.854728</td>\n",
       "      <td>0.622631</td>\n",
       "      <td>0.963083</td>\n",
       "      <td>0.301464</td>\n",
       "      <td>0.193113</td>\n",
       "      <td>0.231498</td>\n",
       "      <td>-0.289786</td>\n",
       "      <td>-0.493294</td>\n",
       "    </tr>\n",
       "    <tr>\n",
       "      <th>1</th>\n",
       "      <td>0.110729</td>\n",
       "      <td>-0.079903</td>\n",
       "      <td>-0.203640</td>\n",
       "      <td>1.268942</td>\n",
       "      <td>0.396246</td>\n",
       "      <td>-0.061401</td>\n",
       "      <td>-0.278295</td>\n",
       "      <td>-1.710270</td>\n",
       "      <td>0.759072</td>\n",
       "      <td>-0.420487</td>\n",
       "      <td>...</td>\n",
       "      <td>1.485973</td>\n",
       "      <td>-0.798376</td>\n",
       "      <td>1.854728</td>\n",
       "      <td>0.278625</td>\n",
       "      <td>0.963083</td>\n",
       "      <td>0.301464</td>\n",
       "      <td>0.129265</td>\n",
       "      <td>0.093563</td>\n",
       "      <td>-0.256385</td>\n",
       "      <td>-0.493294</td>\n",
       "    </tr>\n",
       "    <tr>\n",
       "      <th>2</th>\n",
       "      <td>0.216546</td>\n",
       "      <td>-0.272445</td>\n",
       "      <td>-0.203640</td>\n",
       "      <td>1.050988</td>\n",
       "      <td>0.148753</td>\n",
       "      <td>-0.061401</td>\n",
       "      <td>-0.278295</td>\n",
       "      <td>-1.710270</td>\n",
       "      <td>1.106509</td>\n",
       "      <td>-0.420487</td>\n",
       "      <td>...</td>\n",
       "      <td>1.141780</td>\n",
       "      <td>-1.332931</td>\n",
       "      <td>0.314688</td>\n",
       "      <td>2.342663</td>\n",
       "      <td>-0.488279</td>\n",
       "      <td>0.061002</td>\n",
       "      <td>0.065417</td>\n",
       "      <td>0.024596</td>\n",
       "      <td>-0.256385</td>\n",
       "      <td>1.140018</td>\n",
       "    </tr>\n",
       "    <tr>\n",
       "      <th>3</th>\n",
       "      <td>0.004912</td>\n",
       "      <td>0.727346</td>\n",
       "      <td>-0.203640</td>\n",
       "      <td>1.212171</td>\n",
       "      <td>-0.683598</td>\n",
       "      <td>-0.061401</td>\n",
       "      <td>-0.278295</td>\n",
       "      <td>-1.710270</td>\n",
       "      <td>1.106509</td>\n",
       "      <td>-0.420487</td>\n",
       "      <td>...</td>\n",
       "      <td>1.141780</td>\n",
       "      <td>-1.332931</td>\n",
       "      <td>0.314688</td>\n",
       "      <td>1.654650</td>\n",
       "      <td>-0.488279</td>\n",
       "      <td>0.061002</td>\n",
       "      <td>0.193113</td>\n",
       "      <td>0.093563</td>\n",
       "      <td>-0.323186</td>\n",
       "      <td>1.140018</td>\n",
       "    </tr>\n",
       "    <tr>\n",
       "      <th>4</th>\n",
       "      <td>-0.100905</td>\n",
       "      <td>0.363595</td>\n",
       "      <td>1.321366</td>\n",
       "      <td>1.027120</td>\n",
       "      <td>0.141359</td>\n",
       "      <td>-0.061401</td>\n",
       "      <td>-0.278295</td>\n",
       "      <td>-0.992364</td>\n",
       "      <td>-0.051613</td>\n",
       "      <td>-0.420487</td>\n",
       "      <td>...</td>\n",
       "      <td>-0.208514</td>\n",
       "      <td>-0.085638</td>\n",
       "      <td>-0.565334</td>\n",
       "      <td>0.278625</td>\n",
       "      <td>-0.488279</td>\n",
       "      <td>-0.059229</td>\n",
       "      <td>0.065417</td>\n",
       "      <td>0.024596</td>\n",
       "      <td>-0.456787</td>\n",
       "      <td>1.140018</td>\n",
       "    </tr>\n",
       "  </tbody>\n",
       "</table>\n",
       "<p>5 rows × 21 columns</p>\n",
       "</div>"
      ],
      "text/plain": [
       "   Columns_0  Columns_1  Columns_2  Columns_3  Columns_4  Columns_5  \\\n",
       "0   0.004912   0.693191  -0.203640   0.595322   0.353190  -0.061401   \n",
       "1   0.110729  -0.079903  -0.203640   1.268942   0.396246  -0.061401   \n",
       "2   0.216546  -0.272445  -0.203640   1.050988   0.148753  -0.061401   \n",
       "3   0.004912   0.727346  -0.203640   1.212171  -0.683598  -0.061401   \n",
       "4  -0.100905   0.363595   1.321366   1.027120   0.141359  -0.061401   \n",
       "\n",
       "   Columns_6  Columns_7  Columns_8  Columns_9  ...  Columns_11  Columns_12  \\\n",
       "0  -0.278295  -1.650444   0.759072  -0.420487  ...    1.485973   -0.798376   \n",
       "1  -0.278295  -1.710270   0.759072  -0.420487  ...    1.485973   -0.798376   \n",
       "2  -0.278295  -1.710270   1.106509  -0.420487  ...    1.141780   -1.332931   \n",
       "3  -0.278295  -1.710270   1.106509  -0.420487  ...    1.141780   -1.332931   \n",
       "4  -0.278295  -0.992364  -0.051613  -0.420487  ...   -0.208514   -0.085638   \n",
       "\n",
       "   Columns_13  Columns_14  Columns_15  Columns_16  Columns_17  Columns_18  \\\n",
       "0    1.854728    0.622631    0.963083    0.301464    0.193113    0.231498   \n",
       "1    1.854728    0.278625    0.963083    0.301464    0.129265    0.093563   \n",
       "2    0.314688    2.342663   -0.488279    0.061002    0.065417    0.024596   \n",
       "3    0.314688    1.654650   -0.488279    0.061002    0.193113    0.093563   \n",
       "4   -0.565334    0.278625   -0.488279   -0.059229    0.065417    0.024596   \n",
       "\n",
       "   Columns_19  Columns_20  \n",
       "0   -0.289786   -0.493294  \n",
       "1   -0.256385   -0.493294  \n",
       "2   -0.256385    1.140018  \n",
       "3   -0.323186    1.140018  \n",
       "4   -0.456787    1.140018  \n",
       "\n",
       "[5 rows x 21 columns]"
      ]
     },
     "execution_count": 7,
     "metadata": {},
     "output_type": "execute_result"
    }
   ],
   "source": [
    "pf.session.ds.df.head()"
   ]
  },
  {
   "cell_type": "markdown",
   "metadata": {},
   "source": [
    "### 2.1 Change Data Types of Attributes\n",
    "* required input:\n",
    "    * a list of attributes\n",
    "    * a list of data types (must match the order of the attributes; can be CATEGORICAL, NUMERIC, TEXT, DATE)\n",
    "* optional input:\n",
    "    * a list of regular expression extractor"
   ]
  },
  {
   "cell_type": "code",
   "execution_count": 8,
   "metadata": {},
   "outputs": [],
   "source": [
    "# pf.session.change_dtypes(['ProviderNumber', 'ZipCode', 'PhoneNumber', 'State', 'EmergencyService','Score', 'Sample'], \n",
    "#                             [CATEGORICAL, NUMERIC, CATEGORICAL, TEXT, TEXT, NUMERIC, NUMERIC],\n",
    "#                             [None, None, None, None, None, r'(\\d+)%', r'(\\d+)\\spatients'])"
   ]
  },
  {
   "cell_type": "markdown",
   "metadata": {},
   "source": [
    "### 2.2. Load/Train Embeddings for TEXT\n",
    "* path: path to saved/to-save embedding folder\n",
    "* load: set to true -- load saved vec from 'path'; set to false -- train locally\n",
    "* save: (only for load = False) save trained vectors to 'path'"
   ]
  },
  {
   "cell_type": "code",
   "execution_count": 9,
   "metadata": {
    "scrolled": true
   },
   "outputs": [],
   "source": [
    "#pf.session.load_embedding(save=True, path='data/hospital/', load=True)"
   ]
  },
  {
   "cell_type": "markdown",
   "metadata": {},
   "source": [
    "## 3. Load Training Data\n",
    "* multiplier: if set to None, will infer the minimal sample size; otherwise, it will create (# samples) * (# attributes) * (multiplier) training samples"
   ]
  },
  {
   "cell_type": "code",
   "execution_count": 10,
   "metadata": {},
   "outputs": [
    {
     "name": "stderr",
     "output_type": "stream",
     "text": [
      "INFO:profiler.utility:[0.07288503646850586] Create Training Data start\n",
      "\n",
      "INFO:profiler.transformer:needs multiplier = 147 to bound the error in inv cov estimation <= 0.05000000\n",
      "INFO:profiler.transformer:use multiplier = 147, and the bound is 0.00005523\n",
      "INFO:profiler.transformer:Draw Pairs\n",
      "100%|██████████| 21/21 [00:00<00:00, 118.61it/s]\n",
      "INFO:profiler.transformer:Number of training samples: 269157\n",
      "INFO:profiler.transformer:Computing Differences\n",
      "INFO:profiler.transformer:estimated missing data probability in training data is 0.0000\n",
      "INFO:profiler.utility:[0.8838710784912109] Create Training Data execution time: 0.8109860420227051\n",
      "\n"
     ]
    }
   ],
   "source": [
    "pf.session.load_training_data(multiplier = None)"
   ]
  },
  {
   "cell_type": "markdown",
   "metadata": {},
   "source": [
    "## 4. Learn Structure\n",
    "* sparsity: intensity of L1-regularizer in inverse covariance estimation (glasso)\n",
    "* take_neg: if set to true, consider equal -> equal only"
   ]
  },
  {
   "cell_type": "code",
   "execution_count": 11,
   "metadata": {},
   "outputs": [
    {
     "name": "stderr",
     "output_type": "stream",
     "text": [
      "INFO:profiler.utility:[0.8923590183258057] Learn Structure start\n",
      "\n",
      "INFO:profiler.learner:use threshold 0.0181\n",
      "INFO:profiler.utility:[1.1677520275115967] Learn Structure execution time: 0.275393009185791\n",
      "\n"
     ]
    }
   ],
   "source": [
    "autoregress_matrix = pf.session.learn_structure(sparsity=0.05, infer_order=True)"
   ]
  },
  {
   "cell_type": "markdown",
   "metadata": {},
   "source": [
    "* score: \n",
    "    * \"fit_error\": mse for fitting y = B'X + c for each atttribute y \n",
    "    * \"training_data_fd_vio_ratio\": the higher the score, the more violations of FDs in the training data. (bounded: \\[0,1\\])"
   ]
  },
  {
   "cell_type": "code",
   "execution_count": 12,
   "metadata": {},
   "outputs": [
    {
     "name": "stderr",
     "output_type": "stream",
     "text": [
      "INFO:profiler.utility:[1.1729559898376465] Get Dependencies start\n",
      "\n",
      "INFO:profiler.utility:[1.205225944519043] Get Dependencies execution time: 0.032269954681396484\n",
      "\n"
     ]
    },
    {
     "name": "stdout",
     "output_type": "stream",
     "text": [
      "Columns_4 -> Columns_19 (0.18647190662197086)\n",
      "Columns_18 -> Columns_17 (0.12881357064615534)\n",
      "Columns_18 -> Columns_16 (0.14260355088348803)\n"
     ]
    }
   ],
   "source": [
    "parent_sets = pf.session.get_dependencies(score=\"fit_error\")\n"
   ]
  },
  {
   "cell_type": "markdown",
   "metadata": {},
   "source": [
    "## 5. Visualization"
   ]
  },
  {
   "cell_type": "code",
   "execution_count": 13,
   "metadata": {},
   "outputs": [
    {
     "data": {
      "text/plain": [
       "<Figure size 1000x800 with 2 Axes>"
      ]
     },
     "metadata": {},
     "output_type": "display_data"
    }
   ],
   "source": [
    "pf.session.visualize_covariance()"
   ]
  },
  {
   "cell_type": "code",
   "execution_count": 14,
   "metadata": {},
   "outputs": [
    {
     "data": {
      "image/png": "[encoded data removed]",
      "text/plain": [
       "<Figure size 720x576 with 2 Axes>"
      ]
     },
     "metadata": {
      "needs_background": "light"
     },
     "output_type": "display_data"
    }
   ],
   "source": [
    "pf.session.visualize_inverse_covariance()"
   ]
  },
  {
   "cell_type": "code",
   "execution_count": 15,
   "metadata": {},
   "outputs": [
    {
     "data": {
      "image/png": "[encoded data removed]",
      "text/plain": [
       "<Figure size 720x576 with 2 Axes>"
      ]
     },
     "metadata": {
      "needs_background": "light"
     },
     "output_type": "display_data"
    }
   ],
   "source": [
    "pf.session.visualize_autoregression()"
   ]
  },
  {
   "cell_type": "code",
   "execution_count": 16,
   "metadata": {},
   "outputs": [
    {
     "data": {
      "text/html": [
       "<div>\n",
       "<style scoped>\n",
       "    .dataframe tbody tr th:only-of-type {\n",
       "        vertical-align: middle;\n",
       "    }\n",
       "\n",
       "    .dataframe tbody tr th {\n",
       "        vertical-align: top;\n",
       "    }\n",
       "\n",
       "    .dataframe thead th {\n",
       "        text-align: right;\n",
       "    }\n",
       "</style>\n",
       "<table border=\"1\" class=\"dataframe\">\n",
       "  <thead>\n",
       "    <tr style=\"text-align: right;\">\n",
       "      <th></th>\n",
       "      <th>time_point</th>\n",
       "      <th>msg</th>\n",
       "      <th>execution_time</th>\n",
       "    </tr>\n",
       "  </thead>\n",
       "  <tbody>\n",
       "    <tr>\n",
       "      <th>0</th>\n",
       "      <td>0.007185</td>\n",
       "      <td>start: Load Data</td>\n",
       "      <td>0.000000</td>\n",
       "    </tr>\n",
       "    <tr>\n",
       "      <th>1</th>\n",
       "      <td>0.019969</td>\n",
       "      <td>end: Load Data</td>\n",
       "      <td>0.012784</td>\n",
       "    </tr>\n",
       "    <tr>\n",
       "      <th>2</th>\n",
       "      <td>0.072885</td>\n",
       "      <td>start: Create Training Data</td>\n",
       "      <td>0.000000</td>\n",
       "    </tr>\n",
       "    <tr>\n",
       "      <th>3</th>\n",
       "      <td>0.883871</td>\n",
       "      <td>end: Create Training Data</td>\n",
       "      <td>0.810986</td>\n",
       "    </tr>\n",
       "    <tr>\n",
       "      <th>4</th>\n",
       "      <td>0.892359</td>\n",
       "      <td>start: Learn Structure</td>\n",
       "      <td>0.000000</td>\n",
       "    </tr>\n",
       "    <tr>\n",
       "      <th>5</th>\n",
       "      <td>1.167752</td>\n",
       "      <td>end: Learn Structure</td>\n",
       "      <td>0.275393</td>\n",
       "    </tr>\n",
       "    <tr>\n",
       "      <th>6</th>\n",
       "      <td>1.172956</td>\n",
       "      <td>start: Get Dependencies</td>\n",
       "      <td>0.000000</td>\n",
       "    </tr>\n",
       "    <tr>\n",
       "      <th>7</th>\n",
       "      <td>1.205226</td>\n",
       "      <td>end: Get Dependencies</td>\n",
       "      <td>0.032270</td>\n",
       "    </tr>\n",
       "    <tr>\n",
       "      <th>8</th>\n",
       "      <td>1.205226</td>\n",
       "      <td>total_execution_time</td>\n",
       "      <td>1.131433</td>\n",
       "    </tr>\n",
       "  </tbody>\n",
       "</table>\n",
       "</div>"
      ],
      "text/plain": [
       "   time_point                          msg  execution_time\n",
       "0    0.007185             start: Load Data        0.000000\n",
       "1    0.019969               end: Load Data        0.012784\n",
       "2    0.072885  start: Create Training Data        0.000000\n",
       "3    0.883871    end: Create Training Data        0.810986\n",
       "4    0.892359       start: Learn Structure        0.000000\n",
       "5    1.167752         end: Learn Structure        0.275393\n",
       "6    1.172956      start: Get Dependencies        0.000000\n",
       "7    1.205226        end: Get Dependencies        0.032270\n",
       "8    1.205226         total_execution_time        1.131433"
      ]
     },
     "execution_count": 16,
     "metadata": {},
     "output_type": "execute_result"
    }
   ],
   "source": [
    "pf.session.timer.get_stat()\n"
   ]
  },
  {
   "cell_type": "code",
   "execution_count": 17,
   "metadata": {},
   "outputs": [],
   "source": [
    "gt = gt.reshape(-1,)\n",
    "gt_idx = np.array(range(gt.shape[0]))[gt == 1]"
   ]
  },
  {
   "cell_type": "code",
   "execution_count": 178,
   "metadata": {},
   "outputs": [],
   "source": [
    "def outlier(data, m=4):\n",
    "    return abs(data - np.mean(data)) > m * np.std(data)\n",
    "\n",
    "def prec_recall(outliers, gt_idx):\n",
    "    outliers = set(outliers)\n",
    "    tp = 0.0\n",
    "    # precision\n",
    "    if len(outliers) == 0:\n",
    "        print(\"no outlier is found\")\n",
    "        recall(tp, outliers, gt_idx)\n",
    "        print(\"f1: 0\")\n",
    "        return 0\n",
    "    for i in outliers:\n",
    "        if i in gt_idx:\n",
    "            tp += 1\n",
    "    prec = tp / len(outliers)\n",
    "    print(\"with %d detected outliers, precision is: %.4f\"%(len(outliers), prec))\n",
    "    rec = recall(tp, outliers, gt_idx)\n",
    "    print(\"f1: %.4f\"%(2 * (prec * rec) / (prec + rec)))\n",
    "    \n",
    "def recall(tp, outliers, gt_idx):\n",
    "    if tp == 0:\n",
    "        print(\"with %d outliers in gt, recall is: 0\"%(len(gt_idx)))\n",
    "        return 0 \n",
    "    print(\"with %d detected outliers, recall is: %.4f\"%(len(outliers), tp / len(gt_idx)))\n",
    "    return tp / len(gt_idx)\n",
    "\n",
    "\n"
   ]
  },
  {
   "cell_type": "code",
   "execution_count": 179,
   "metadata": {},
   "outputs": [],
   "source": [
    "import sklearn\n",
    "def cmpr_detection(df, left, right, m1=3, m2=3):\n",
    "    overall=df.index.values[outlier(df[right],m=m1)]\n",
    "    X = df[left].values.reshape(-1,1)\n",
    "    outliers = list(overall)\n",
    "    i = 0\n",
    "    distances = sklearn.metrics.pairwise_distances(X)\n",
    "    distances = distances / np.nanmax(distances, axis=1)\n",
    "    indices = np.array(range(distances.shape[0]))\n",
    "    for dis in distances:\n",
    "        # normalize distance\n",
    "        nbr = indices[dis < pf.session.env['tol']]\n",
    "        outliers.extend(nbr[outlier(df[right].values[nbr], m=m2)])\n",
    "        i += 1\n",
    "    return overall, outliers"
   ]
  },
  {
   "cell_type": "code",
   "execution_count": 183,
   "metadata": {},
   "outputs": [
    {
     "name": "stdout",
     "output_type": "stream",
     "text": [
      "right: Columns_19\n",
      "left: ['Columns_4']\n",
      "right: Columns_17\n",
      "left: ['Columns_18']\n",
      "right: Columns_16\n",
      "left: ['Columns_18']\n",
      "naive approach: \n",
      "with 74 detected outliers, precision is: 0.7838\n",
      "with 74 detected outliers, recall is: 0.3295\n",
      "f1: 0.4640\n",
      "with structural constraints: \n",
      "with 85 detected outliers, precision is: 0.7059\n",
      "with 85 detected outliers, recall is: 0.3409\n",
      "f1: 0.4598\n"
     ]
    }
   ],
   "source": [
    "base = []\n",
    "improv = []\n",
    "for child in parent_sets:\n",
    "    if len(parent_sets[child]) == 0:\n",
    "        continue\n",
    "    print(\"right: %s\"%child)\n",
    "    print(\"left: %s\"%parent_sets[child])\n",
    "    overall, structured = cmpr_detection(df, parent_sets[child], child, m2=5)\n",
    "    base.extend(list(overall))\n",
    "    improv.extend(structured)\n",
    "print(\"naive approach: \")\n",
    "prec_recall(base, gt_idx)\n",
    "print(\"with structural constraints: \")\n",
    "prec_recall(improv, gt_idx)"
   ]
  },
  {
   "cell_type": "code",
   "execution_count": null,
   "metadata": {},
   "outputs": [],
   "source": []
  }
 ],
 "metadata": {
  "kernelspec": {
   "display_name": "Python (fd37)",
   "language": "python",
   "name": "fd37"
  },
  "language_info": {
   "codemirror_mode": {
    "name": "ipython",
    "version": 3
   },
   "file_extension": ".py",
   "mimetype": "text/x-python",
   "name": "python",
   "nbconvert_exporter": "python",
   "pygments_lexer": "ipython3",
   "version": "3.7.3"
  }
 },
 "nbformat": 4,
 "nbformat_minor": 2
}
