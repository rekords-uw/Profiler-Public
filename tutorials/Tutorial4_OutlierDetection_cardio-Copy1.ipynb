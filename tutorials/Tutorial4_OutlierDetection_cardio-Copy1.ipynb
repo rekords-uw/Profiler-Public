{
 "cells": [
  {
   "cell_type": "markdown",
   "metadata": {},
   "source": [
    "## 0. Load Data"
   ]
  },
  {
   "cell_type": "code",
   "execution_count": 1,
   "metadata": {},
   "outputs": [],
   "source": [
    "from scipy.io import loadmat\n",
    "data = loadmat('data/cardio.mat')"
   ]
  },
  {
   "cell_type": "code",
   "execution_count": 2,
   "metadata": {},
   "outputs": [],
   "source": [
    "gt = data['y']"
   ]
  },
  {
   "cell_type": "code",
   "execution_count": 3,
   "metadata": {},
   "outputs": [],
   "source": [
    "import pandas as pd\n",
    "df = pd.DataFrame(data['X'], columns=['Columns_%d'%i for i in range(data['X'].shape[1])])"
   ]
  },
  {
   "cell_type": "code",
   "execution_count": 4,
   "metadata": {},
   "outputs": [],
   "source": [
    "from profiler.core import *"
   ]
  },
  {
   "cell_type": "markdown",
   "metadata": {},
   "source": [
    "## 1. Instantiate Engine\n",
    "* workers : number of processes\n",
    "* tol     : tolerance for differences when creating training data (set to 0 if data is completely clean)\n",
    "* eps     : error bound for inverse covariance estimation (since we use conservative calculation when determining minimum sample size, we recommend to set eps <= 0.01)\n",
    "* embedtxt: if set to true, differentiate b/w textual data and categorical data, and use word embedding for the former"
   ]
  },
  {
   "cell_type": "code",
   "execution_count": 5,
   "metadata": {},
   "outputs": [],
   "source": [
    "pf = Profiler(workers=2, tol=1e-6, eps=0.05, embedtxt=False)"
   ]
  },
  {
   "cell_type": "markdown",
   "metadata": {},
   "source": [
    "## 2. Load Data\n",
    "* name: any name you like\n",
    "* src: \\[FILE; DF; DB (not implemented)\\]\n",
    "* fpath: required if src == FILE\n",
    "* df: required if src == DF\n",
    "* check_param: print parameters used for data loading"
   ]
  },
  {
   "cell_type": "code",
   "execution_count": 6,
   "metadata": {},
   "outputs": [
    {
     "name": "stderr",
     "output_type": "stream",
     "text": [
      "INFO:profiler.utility:[0.749248743057251] Load Data start\n",
      "\n",
      "INFO:profiler.dataset:parameters used for data loading:\n",
      " {'na_values': {'', 'nan', 'NaN', '?', 'unknown', 'None', 'none'}, 'sep': ',', 'header': 'infer', 'dropcol': None, 'dropna': False, 'encoding': 'utf-8', 'normalize': True, 'min_categories_for_embedding': 10}\n",
      "INFO:profiler.dataset:inferred types of attributes: {\n",
      "    \"Columns_0\": \"numeric\",\n",
      "    \"Columns_1\": \"numeric\",\n",
      "    \"Columns_2\": \"numeric\",\n",
      "    \"Columns_3\": \"numeric\",\n",
      "    \"Columns_4\": \"numeric\",\n",
      "    \"Columns_5\": \"numeric\",\n",
      "    \"Columns_6\": \"numeric\",\n",
      "    \"Columns_7\": \"numeric\",\n",
      "    \"Columns_8\": \"numeric\",\n",
      "    \"Columns_9\": \"numeric\",\n",
      "    \"Columns_10\": \"numeric\",\n",
      "    \"Columns_11\": \"numeric\",\n",
      "    \"Columns_12\": \"numeric\",\n",
      "    \"Columns_13\": \"numeric\",\n",
      "    \"Columns_14\": \"numeric\",\n",
      "    \"Columns_15\": \"numeric\",\n",
      "    \"Columns_16\": \"numeric\",\n",
      "    \"Columns_17\": \"numeric\",\n",
      "    \"Columns_18\": \"numeric\",\n",
      "    \"Columns_19\": \"numeric\",\n",
      "    \"Columns_20\": \"numeric\"\n",
      "}\n",
      "INFO:profiler.dataset:(possible types: numeric, categorical, text, date)\n",
      "INFO:profiler.dataset:inferred operators of attributes: {'Columns_0': ['equal'], 'Columns_1': ['equal'], 'Columns_2': ['equal'], 'Columns_3': ['equal'], 'Columns_4': ['equal'], 'Columns_5': ['equal'], 'Columns_6': ['equal'], 'Columns_7': ['equal'], 'Columns_8': ['equal'], 'Columns_9': ['equal'], 'Columns_10': ['equal'], 'Columns_11': ['equal'], 'Columns_12': ['equal'], 'Columns_13': ['equal'], 'Columns_14': ['equal'], 'Columns_15': ['equal'], 'Columns_16': ['equal'], 'Columns_17': ['equal'], 'Columns_18': ['equal'], 'Columns_19': ['equal'], 'Columns_20': ['equal']}\n",
      "INFO:profiler.dataset:(possible operators: equal, notequal, greater_than, less_than)\n",
      "INFO:profiler.utility:[0.7846288681030273] Load Data execution time: 0.03538012504577637\n",
      "\n"
     ]
    }
   ],
   "source": [
    "pf.session.load_data(src=DF, df=df, check_param=True)"
   ]
  },
  {
   "cell_type": "code",
   "execution_count": 7,
   "metadata": {},
   "outputs": [
    {
     "data": {
      "text/html": [
       "<div>\n",
       "<style scoped>\n",
       "    .dataframe tbody tr th:only-of-type {\n",
       "        vertical-align: middle;\n",
       "    }\n",
       "\n",
       "    .dataframe tbody tr th {\n",
       "        vertical-align: top;\n",
       "    }\n",
       "\n",
       "    .dataframe thead th {\n",
       "        text-align: right;\n",
       "    }\n",
       "</style>\n",
       "<table border=\"1\" class=\"dataframe\">\n",
       "  <thead>\n",
       "    <tr style=\"text-align: right;\">\n",
       "      <th></th>\n",
       "      <th>Columns_0</th>\n",
       "      <th>Columns_1</th>\n",
       "      <th>Columns_2</th>\n",
       "      <th>Columns_3</th>\n",
       "      <th>Columns_4</th>\n",
       "      <th>Columns_5</th>\n",
       "      <th>Columns_6</th>\n",
       "      <th>Columns_7</th>\n",
       "      <th>Columns_8</th>\n",
       "      <th>Columns_9</th>\n",
       "      <th>...</th>\n",
       "      <th>Columns_11</th>\n",
       "      <th>Columns_12</th>\n",
       "      <th>Columns_13</th>\n",
       "      <th>Columns_14</th>\n",
       "      <th>Columns_15</th>\n",
       "      <th>Columns_16</th>\n",
       "      <th>Columns_17</th>\n",
       "      <th>Columns_18</th>\n",
       "      <th>Columns_19</th>\n",
       "      <th>Columns_20</th>\n",
       "    </tr>\n",
       "  </thead>\n",
       "  <tbody>\n",
       "    <tr>\n",
       "      <th>0</th>\n",
       "      <td>0.004912</td>\n",
       "      <td>0.693191</td>\n",
       "      <td>-0.203640</td>\n",
       "      <td>0.595322</td>\n",
       "      <td>0.353190</td>\n",
       "      <td>-0.061401</td>\n",
       "      <td>-0.278295</td>\n",
       "      <td>-1.650444</td>\n",
       "      <td>0.759072</td>\n",
       "      <td>-0.420487</td>\n",
       "      <td>...</td>\n",
       "      <td>1.485973</td>\n",
       "      <td>-0.798376</td>\n",
       "      <td>1.854728</td>\n",
       "      <td>0.622631</td>\n",
       "      <td>0.963083</td>\n",
       "      <td>0.301464</td>\n",
       "      <td>0.193113</td>\n",
       "      <td>0.231498</td>\n",
       "      <td>-0.289786</td>\n",
       "      <td>-0.493294</td>\n",
       "    </tr>\n",
       "    <tr>\n",
       "      <th>1</th>\n",
       "      <td>0.110729</td>\n",
       "      <td>-0.079903</td>\n",
       "      <td>-0.203640</td>\n",
       "      <td>1.268942</td>\n",
       "      <td>0.396246</td>\n",
       "      <td>-0.061401</td>\n",
       "      <td>-0.278295</td>\n",
       "      <td>-1.710270</td>\n",
       "      <td>0.759072</td>\n",
       "      <td>-0.420487</td>\n",
       "      <td>...</td>\n",
       "      <td>1.485973</td>\n",
       "      <td>-0.798376</td>\n",
       "      <td>1.854728</td>\n",
       "      <td>0.278625</td>\n",
       "      <td>0.963083</td>\n",
       "      <td>0.301464</td>\n",
       "      <td>0.129265</td>\n",
       "      <td>0.093563</td>\n",
       "      <td>-0.256385</td>\n",
       "      <td>-0.493294</td>\n",
       "    </tr>\n",
       "    <tr>\n",
       "      <th>2</th>\n",
       "      <td>0.216546</td>\n",
       "      <td>-0.272445</td>\n",
       "      <td>-0.203640</td>\n",
       "      <td>1.050988</td>\n",
       "      <td>0.148753</td>\n",
       "      <td>-0.061401</td>\n",
       "      <td>-0.278295</td>\n",
       "      <td>-1.710270</td>\n",
       "      <td>1.106509</td>\n",
       "      <td>-0.420487</td>\n",
       "      <td>...</td>\n",
       "      <td>1.141780</td>\n",
       "      <td>-1.332931</td>\n",
       "      <td>0.314688</td>\n",
       "      <td>2.342663</td>\n",
       "      <td>-0.488279</td>\n",
       "      <td>0.061002</td>\n",
       "      <td>0.065417</td>\n",
       "      <td>0.024596</td>\n",
       "      <td>-0.256385</td>\n",
       "      <td>1.140018</td>\n",
       "    </tr>\n",
       "    <tr>\n",
       "      <th>3</th>\n",
       "      <td>0.004912</td>\n",
       "      <td>0.727346</td>\n",
       "      <td>-0.203640</td>\n",
       "      <td>1.212171</td>\n",
       "      <td>-0.683598</td>\n",
       "      <td>-0.061401</td>\n",
       "      <td>-0.278295</td>\n",
       "      <td>-1.710270</td>\n",
       "      <td>1.106509</td>\n",
       "      <td>-0.420487</td>\n",
       "      <td>...</td>\n",
       "      <td>1.141780</td>\n",
       "      <td>-1.332931</td>\n",
       "      <td>0.314688</td>\n",
       "      <td>1.654650</td>\n",
       "      <td>-0.488279</td>\n",
       "      <td>0.061002</td>\n",
       "      <td>0.193113</td>\n",
       "      <td>0.093563</td>\n",
       "      <td>-0.323186</td>\n",
       "      <td>1.140018</td>\n",
       "    </tr>\n",
       "    <tr>\n",
       "      <th>4</th>\n",
       "      <td>-0.100905</td>\n",
       "      <td>0.363595</td>\n",
       "      <td>1.321366</td>\n",
       "      <td>1.027120</td>\n",
       "      <td>0.141359</td>\n",
       "      <td>-0.061401</td>\n",
       "      <td>-0.278295</td>\n",
       "      <td>-0.992364</td>\n",
       "      <td>-0.051613</td>\n",
       "      <td>-0.420487</td>\n",
       "      <td>...</td>\n",
       "      <td>-0.208514</td>\n",
       "      <td>-0.085638</td>\n",
       "      <td>-0.565334</td>\n",
       "      <td>0.278625</td>\n",
       "      <td>-0.488279</td>\n",
       "      <td>-0.059229</td>\n",
       "      <td>0.065417</td>\n",
       "      <td>0.024596</td>\n",
       "      <td>-0.456787</td>\n",
       "      <td>1.140018</td>\n",
       "    </tr>\n",
       "  </tbody>\n",
       "</table>\n",
       "<p>5 rows × 21 columns</p>\n",
       "</div>"
      ],
      "text/plain": [
       "   Columns_0  Columns_1  Columns_2  Columns_3  Columns_4  Columns_5  \\\n",
       "0   0.004912   0.693191  -0.203640   0.595322   0.353190  -0.061401   \n",
       "1   0.110729  -0.079903  -0.203640   1.268942   0.396246  -0.061401   \n",
       "2   0.216546  -0.272445  -0.203640   1.050988   0.148753  -0.061401   \n",
       "3   0.004912   0.727346  -0.203640   1.212171  -0.683598  -0.061401   \n",
       "4  -0.100905   0.363595   1.321366   1.027120   0.141359  -0.061401   \n",
       "\n",
       "   Columns_6  Columns_7  Columns_8  Columns_9  ...  Columns_11  Columns_12  \\\n",
       "0  -0.278295  -1.650444   0.759072  -0.420487  ...    1.485973   -0.798376   \n",
       "1  -0.278295  -1.710270   0.759072  -0.420487  ...    1.485973   -0.798376   \n",
       "2  -0.278295  -1.710270   1.106509  -0.420487  ...    1.141780   -1.332931   \n",
       "3  -0.278295  -1.710270   1.106509  -0.420487  ...    1.141780   -1.332931   \n",
       "4  -0.278295  -0.992364  -0.051613  -0.420487  ...   -0.208514   -0.085638   \n",
       "\n",
       "   Columns_13  Columns_14  Columns_15  Columns_16  Columns_17  Columns_18  \\\n",
       "0    1.854728    0.622631    0.963083    0.301464    0.193113    0.231498   \n",
       "1    1.854728    0.278625    0.963083    0.301464    0.129265    0.093563   \n",
       "2    0.314688    2.342663   -0.488279    0.061002    0.065417    0.024596   \n",
       "3    0.314688    1.654650   -0.488279    0.061002    0.193113    0.093563   \n",
       "4   -0.565334    0.278625   -0.488279   -0.059229    0.065417    0.024596   \n",
       "\n",
       "   Columns_19  Columns_20  \n",
       "0   -0.289786   -0.493294  \n",
       "1   -0.256385   -0.493294  \n",
       "2   -0.256385    1.140018  \n",
       "3   -0.323186    1.140018  \n",
       "4   -0.456787    1.140018  \n",
       "\n",
       "[5 rows x 21 columns]"
      ]
     },
     "execution_count": 7,
     "metadata": {},
     "output_type": "execute_result"
    }
   ],
   "source": [
    "pf.session.ds.df.head()"
   ]
  },
  {
   "cell_type": "markdown",
   "metadata": {},
   "source": [
    "### 2.1 Change Data Types of Attributes\n",
    "* required input:\n",
    "    * a list of attributes\n",
    "    * a list of data types (must match the order of the attributes; can be CATEGORICAL, NUMERIC, TEXT, DATE)\n",
    "* optional input:\n",
    "    * a list of regular expression extractor"
   ]
  },
  {
   "cell_type": "code",
   "execution_count": 8,
   "metadata": {},
   "outputs": [],
   "source": [
    "# pf.session.change_dtypes(['ProviderNumber', 'ZipCode', 'PhoneNumber', 'State', 'EmergencyService','Score', 'Sample'], \n",
    "#                             [CATEGORICAL, NUMERIC, CATEGORICAL, TEXT, TEXT, NUMERIC, NUMERIC],\n",
    "#                             [None, None, None, None, None, r'(\\d+)%', r'(\\d+)\\spatients'])"
   ]
  },
  {
   "cell_type": "markdown",
   "metadata": {},
   "source": [
    "### 2.2. Load/Train Embeddings for TEXT\n",
    "* path: path to saved/to-save embedding folder\n",
    "* load: set to true -- load saved vec from 'path'; set to false -- train locally\n",
    "* save: (only for load = False) save trained vectors to 'path'"
   ]
  },
  {
   "cell_type": "code",
   "execution_count": 9,
   "metadata": {
    "scrolled": true
   },
   "outputs": [],
   "source": [
    "#pf.session.load_embedding(save=True, path='data/hospital/', load=True)"
   ]
  },
  {
   "cell_type": "markdown",
   "metadata": {},
   "source": [
    "## 3. Load Training Data\n",
    "* multiplier: if set to None, will infer the minimal sample size; otherwise, it will create (# samples) * (# attributes) * (multiplier) training samples"
   ]
  },
  {
   "cell_type": "code",
   "execution_count": 10,
   "metadata": {},
   "outputs": [
    {
     "name": "stderr",
     "output_type": "stream",
     "text": [
      "INFO:profiler.utility:[2.915977954864502] Create Training Data start\n",
      "\n",
      "INFO:profiler.transformer:needs multiplier = 147 to bound the error in inv cov estimation <= 0.05000000\n",
      "INFO:profiler.transformer:use multiplier = 147, and the bound is 0.00005523\n",
      "INFO:profiler.transformer:Draw Pairs\n",
      "100%|██████████| 21/21 [00:00<00:00, 126.44it/s]\n",
      "INFO:profiler.transformer:Number of training samples: 269157\n",
      "INFO:profiler.transformer:Computing Differences\n",
      "INFO:profiler.transformer:estimated missing data probability in training data is 0.0000\n",
      "INFO:profiler.utility:[3.7840259075164795] Create Training Data execution time: 0.8680479526519775\n",
      "\n"
     ]
    }
   ],
   "source": [
    "pf.session.load_training_data(multiplier = None)"
   ]
  },
  {
   "cell_type": "markdown",
   "metadata": {},
   "source": [
    "## 4. Learn Structure\n",
    "* sparsity: intensity of L1-regularizer in inverse covariance estimation (glasso)\n",
    "* take_neg: if set to true, consider equal -> equal only"
   ]
  },
  {
   "cell_type": "code",
   "execution_count": 11,
   "metadata": {},
   "outputs": [
    {
     "name": "stderr",
     "output_type": "stream",
     "text": [
      "INFO:profiler.utility:[5.7176148891448975] Learn Structure start\n",
      "\n",
      "INFO:profiler.learner:use threshold 0.0358\n",
      "INFO:profiler.utility:[6.09987998008728] Learn Structure execution time: 0.3822650909423828\n",
      "\n"
     ]
    }
   ],
   "source": [
    "autoregress_matrix = pf.session.learn_structure(sparsity=0.01,\n",
    "                                                infer_order=True)"
   ]
  },
  {
   "cell_type": "markdown",
   "metadata": {},
   "source": [
    "* score: \n",
    "    * \"fit_error\": mse for fitting y = B'X + c for each atttribute y \n",
    "    * \"training_data_fd_vio_ratio\": the higher the score, the more violations of FDs in the training data. (bounded: \\[0,1\\])"
   ]
  },
  {
   "cell_type": "code",
   "execution_count": 12,
   "metadata": {},
   "outputs": [
    {
     "name": "stderr",
     "output_type": "stream",
     "text": [
      "INFO:profiler.utility:[6.106130838394165] Get Dependencies start\n",
      "\n",
      "INFO:profiler.utility:[6.21753191947937] Get Dependencies execution time: 0.11140108108520508\n",
      "\n"
     ]
    },
    {
     "name": "stdout",
     "output_type": "stream",
     "text": [
      "Columns_1,Columns_6 -> Columns_4 (0.2161811328663897)\n",
      "Columns_9,Columns_1,Columns_6,Columns_4 -> Columns_0 (0.16115006863786646)\n",
      "Columns_6,Columns_0 -> Columns_2 (0.24044073300331295)\n",
      "Columns_4,Columns_0 -> Columns_15 (0.21927032051860118)\n",
      "Columns_4,Columns_0 -> Columns_8 (0.10375193867278897)\n",
      "Columns_9,Columns_0 -> Columns_12 (0.08368087475944051)\n",
      "Columns_0,Columns_12 -> Columns_20 (0.2445208811717696)\n",
      "Columns_0,Columns_12,Columns_20 -> Columns_11 (0.05895787354694647)\n",
      "Columns_0,Columns_12,Columns_20,Columns_11 -> Columns_13 (0.07969977264444984)\n",
      "Columns_0,Columns_12,Columns_20,Columns_13 -> Columns_16 (0.10416828923257142)\n",
      "Columns_0,Columns_16 -> Columns_17 (0.08196500642965454)\n",
      "Columns_0,Columns_16,Columns_17 -> Columns_18 (0.08162499448016573)\n",
      "Columns_0 -> Columns_7 (0.0807971105059033)\n",
      "Columns_1,Columns_4 -> Columns_19 (0.09220141422612424)\n",
      "Columns_4,Columns_19 -> Columns_14 (0.14813493126949198)\n",
      "Columns_4 -> Columns_3 (0.035127030549545475)\n"
     ]
    }
   ],
   "source": [
    "parent_sets = pf.session.get_dependencies(score=\"fit_error\")\n"
   ]
  },
  {
   "cell_type": "markdown",
   "metadata": {},
   "source": [
    "## 5. Visualization"
   ]
  },
  {
   "cell_type": "code",
   "execution_count": 13,
   "metadata": {},
   "outputs": [
    {
     "data": {
      "text/plain": [
       "<Figure size 1000x800 with 2 Axes>"
      ]
     },
     "metadata": {},
     "output_type": "display_data"
    }
   ],
   "source": [
    "pf.session.visualize_covariance()"
   ]
  },
  {
   "cell_type": "code",
   "execution_count": 14,
   "metadata": {},
   "outputs": [
    {
     "data": {
      "image/png": "[encoded data removed]",
      "text/plain": [
       "<Figure size 720x576 with 2 Axes>"
      ]
     },
     "metadata": {
      "needs_background": "light"
     },
     "output_type": "display_data"
    }
   ],
   "source": [
    "pf.session.visualize_inverse_covariance()"
   ]
  },
  {
   "cell_type": "code",
   "execution_count": 15,
   "metadata": {},
   "outputs": [
    {
     "data": {
      "image/png": "[encoded data removed]",
      "text/plain": [
       "<Figure size 720x576 with 2 Axes>"
      ]
     },
     "metadata": {
      "needs_background": "light"
     },
     "output_type": "display_data"
    }
   ],
   "source": [
    "pf.session.visualize_autoregression()"
   ]
  },
  {
   "cell_type": "code",
   "execution_count": 16,
   "metadata": {},
   "outputs": [
    {
     "data": {
      "text/html": [
       "<div>\n",
       "<style scoped>\n",
       "    .dataframe tbody tr th:only-of-type {\n",
       "        vertical-align: middle;\n",
       "    }\n",
       "\n",
       "    .dataframe tbody tr th {\n",
       "        vertical-align: top;\n",
       "    }\n",
       "\n",
       "    .dataframe thead th {\n",
       "        text-align: right;\n",
       "    }\n",
       "</style>\n",
       "<table border=\"1\" class=\"dataframe\">\n",
       "  <thead>\n",
       "    <tr style=\"text-align: right;\">\n",
       "      <th></th>\n",
       "      <th>time_point</th>\n",
       "      <th>msg</th>\n",
       "      <th>execution_time</th>\n",
       "    </tr>\n",
       "  </thead>\n",
       "  <tbody>\n",
       "    <tr>\n",
       "      <th>0</th>\n",
       "      <td>0.749249</td>\n",
       "      <td>start: Load Data</td>\n",
       "      <td>0.000000</td>\n",
       "    </tr>\n",
       "    <tr>\n",
       "      <th>1</th>\n",
       "      <td>0.784629</td>\n",
       "      <td>end: Load Data</td>\n",
       "      <td>0.035380</td>\n",
       "    </tr>\n",
       "    <tr>\n",
       "      <th>2</th>\n",
       "      <td>2.915978</td>\n",
       "      <td>start: Create Training Data</td>\n",
       "      <td>0.000000</td>\n",
       "    </tr>\n",
       "    <tr>\n",
       "      <th>3</th>\n",
       "      <td>3.784026</td>\n",
       "      <td>end: Create Training Data</td>\n",
       "      <td>0.868048</td>\n",
       "    </tr>\n",
       "    <tr>\n",
       "      <th>4</th>\n",
       "      <td>5.717615</td>\n",
       "      <td>start: Learn Structure</td>\n",
       "      <td>0.000000</td>\n",
       "    </tr>\n",
       "    <tr>\n",
       "      <th>5</th>\n",
       "      <td>6.099880</td>\n",
       "      <td>end: Learn Structure</td>\n",
       "      <td>0.382265</td>\n",
       "    </tr>\n",
       "    <tr>\n",
       "      <th>6</th>\n",
       "      <td>6.106131</td>\n",
       "      <td>start: Get Dependencies</td>\n",
       "      <td>0.000000</td>\n",
       "    </tr>\n",
       "    <tr>\n",
       "      <th>7</th>\n",
       "      <td>6.217532</td>\n",
       "      <td>end: Get Dependencies</td>\n",
       "      <td>0.111401</td>\n",
       "    </tr>\n",
       "    <tr>\n",
       "      <th>8</th>\n",
       "      <td>6.217532</td>\n",
       "      <td>total_execution_time</td>\n",
       "      <td>1.397094</td>\n",
       "    </tr>\n",
       "  </tbody>\n",
       "</table>\n",
       "</div>"
      ],
      "text/plain": [
       "   time_point                          msg  execution_time\n",
       "0    0.749249             start: Load Data        0.000000\n",
       "1    0.784629               end: Load Data        0.035380\n",
       "2    2.915978  start: Create Training Data        0.000000\n",
       "3    3.784026    end: Create Training Data        0.868048\n",
       "4    5.717615       start: Learn Structure        0.000000\n",
       "5    6.099880         end: Learn Structure        0.382265\n",
       "6    6.106131      start: Get Dependencies        0.000000\n",
       "7    6.217532        end: Get Dependencies        0.111401\n",
       "8    6.217532         total_execution_time        1.397094"
      ]
     },
     "execution_count": 16,
     "metadata": {},
     "output_type": "execute_result"
    }
   ],
   "source": [
    "pf.session.timer.get_stat()\n"
   ]
  },
  {
   "cell_type": "code",
   "execution_count": 17,
   "metadata": {},
   "outputs": [],
   "source": [
    "gt = gt.reshape(-1,)\n",
    "gt_idx = np.array(range(gt.shape[0]))[gt == 1]"
   ]
  },
  {
   "cell_type": "code",
   "execution_count": 26,
   "metadata": {},
   "outputs": [],
   "source": [
    "from od import *"
   ]
  },
  {
   "cell_type": "code",
   "execution_count": 27,
   "metadata": {},
   "outputs": [
    {
     "name": "stderr",
     "output_type": "stream",
     "text": [
      "  0%|          | 0/1831 [00:00<?, ?it/s]\n"
     ]
    },
    {
     "ename": "NameError",
     "evalue": "name 'cmpr_detection' is not defined",
     "output_type": "error",
     "traceback": [
      "\u001b[0;31m---------------------------------------------------------------------------\u001b[0m",
      "\u001b[0;31mNameError\u001b[0m                                 Traceback (most recent call last)",
      "\u001b[0;32m<ipython-input-27-21f9ca0af113>\u001b[0m in \u001b[0;36m<module>\u001b[0;34m\u001b[0m\n\u001b[0;32m----> 1\u001b[0;31m \u001b[0moverall\u001b[0m\u001b[0;34m,\u001b[0m \u001b[0mstructured\u001b[0m \u001b[0;34m=\u001b[0m \u001b[0mremoveOutStd\u001b[0m\u001b[0;34m(\u001b[0m\u001b[0mpf\u001b[0m\u001b[0;34m.\u001b[0m\u001b[0msession\u001b[0m\u001b[0;34m.\u001b[0m\u001b[0mds\u001b[0m\u001b[0;34m.\u001b[0m\u001b[0mdf\u001b[0m\u001b[0;34m,\u001b[0m \u001b[0mparent_sets\u001b[0m\u001b[0;34m)\u001b[0m\u001b[0;34m\u001b[0m\u001b[0;34m\u001b[0m\u001b[0m\n\u001b[0m",
      "\u001b[0;32m~/Documents/Profiler-Public/tutorials/od.py\u001b[0m in \u001b[0;36mremoveOutStd\u001b[0;34m(parent_sets, m1, m2)\u001b[0m\n\u001b[1;32m     60\u001b[0m     \u001b[0mimprov\u001b[0m \u001b[0;34m=\u001b[0m \u001b[0;34m[\u001b[0m\u001b[0;34m]\u001b[0m\u001b[0;34m\u001b[0m\u001b[0;34m\u001b[0m\u001b[0m\n\u001b[1;32m     61\u001b[0m     \u001b[0;32mfor\u001b[0m \u001b[0mchild\u001b[0m \u001b[0;32min\u001b[0m \u001b[0mtqdm\u001b[0m\u001b[0;34m(\u001b[0m\u001b[0mparent_sets\u001b[0m\u001b[0;34m)\u001b[0m\u001b[0;34m:\u001b[0m\u001b[0;34m\u001b[0m\u001b[0;34m\u001b[0m\u001b[0m\n\u001b[0;32m---> 62\u001b[0;31m         \u001b[0moverall\u001b[0m\u001b[0;34m,\u001b[0m \u001b[0mstructured\u001b[0m \u001b[0;34m=\u001b[0m \u001b[0mstd_method\u001b[0m\u001b[0;34m(\u001b[0m\u001b[0mdf\u001b[0m\u001b[0;34m,\u001b[0m \u001b[0mparent_sets\u001b[0m\u001b[0;34m[\u001b[0m\u001b[0mchild\u001b[0m\u001b[0;34m]\u001b[0m\u001b[0;34m,\u001b[0m \u001b[0mchild\u001b[0m\u001b[0;34m,\u001b[0m \u001b[0mm1\u001b[0m\u001b[0;34m=\u001b[0m\u001b[0mm1\u001b[0m\u001b[0;34m,\u001b[0m \u001b[0mm2\u001b[0m\u001b[0;34m=\u001b[0m\u001b[0mm2\u001b[0m\u001b[0;34m)\u001b[0m\u001b[0;34m\u001b[0m\u001b[0;34m\u001b[0m\u001b[0m\n\u001b[0m\u001b[1;32m     63\u001b[0m         \u001b[0mbase\u001b[0m\u001b[0;34m.\u001b[0m\u001b[0mextend\u001b[0m\u001b[0;34m(\u001b[0m\u001b[0mlist\u001b[0m\u001b[0;34m(\u001b[0m\u001b[0moverall\u001b[0m\u001b[0;34m)\u001b[0m\u001b[0;34m)\u001b[0m\u001b[0;34m\u001b[0m\u001b[0;34m\u001b[0m\u001b[0m\n\u001b[1;32m     64\u001b[0m         \u001b[0mimprov\u001b[0m\u001b[0;34m.\u001b[0m\u001b[0mextend\u001b[0m\u001b[0;34m(\u001b[0m\u001b[0mstructured\u001b[0m\u001b[0;34m)\u001b[0m\u001b[0;34m\u001b[0m\u001b[0;34m\u001b[0m\u001b[0m\n",
      "\u001b[0;31mNameError\u001b[0m: name 'cmpr_detection' is not defined"
     ]
    }
   ],
   "source": [
    "overall, structured = removeOutStd(pf.session.ds.df, parent_sets)"
   ]
  },
  {
   "cell_type": "code",
   "execution_count": null,
   "metadata": {},
   "outputs": [],
   "source": [
    "# for each attribute\n",
    "# holodetect data\n",
    "# cleanML, try seiver \n",
    "\n",
    "# imputation\n"
   ]
  }
 ],
 "metadata": {
  "kernelspec": {
   "display_name": "Python (fd37)",
   "language": "python",
   "name": "fd37"
  },
  "language_info": {
   "codemirror_mode": {
    "name": "ipython",
    "version": 3
   },
   "file_extension": ".py",
   "mimetype": "text/x-python",
   "name": "python",
   "nbconvert_exporter": "python",
   "pygments_lexer": "ipython3",
   "version": "3.7.3"
  }
 },
 "nbformat": 4,
 "nbformat_minor": 2
}
