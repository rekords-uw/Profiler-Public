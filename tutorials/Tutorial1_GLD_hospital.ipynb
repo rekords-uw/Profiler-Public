{
 "cells": [
  {
   "cell_type": "markdown",
   "metadata": {},
   "source": [
    "# Tutorial 1: Hospital\n",
    "## 1. Specify Input"
   ]
  },
  {
   "cell_type": "code",
   "execution_count": 1,
   "metadata": {},
   "outputs": [],
   "source": [
    "data_path = 'data/hospital.csv'\n",
    "out_path = 'results/'\n",
    "out_dc_name = 'hospital_constraints.txt'\n",
    "GLD = True"
   ]
  },
  {
   "cell_type": "markdown",
   "metadata": {},
   "source": [
    "## 2. Initialize Model and Load Data"
   ]
  },
  {
   "cell_type": "code",
   "execution_count": 2,
   "metadata": {},
   "outputs": [],
   "source": [
    "from profiler.profiler import Profiler\n",
    "from profiler.detector.helper import process_heatmap\n",
    "import datetime\n",
    "import os"
   ]
  },
  {
   "cell_type": "code",
   "execution_count": 3,
   "metadata": {},
   "outputs": [],
   "source": [
    "session = 'demo'"
   ]
  },
  {
   "cell_type": "code",
   "execution_count": 4,
   "metadata": {},
   "outputs": [
    {
     "name": "stderr",
     "output_type": "stream",
     "text": [
      "INFO:profiler.utility:[3.09944152832e-06] START\n",
      "\n"
     ]
    }
   ],
   "source": [
    "pf = Profiler(use_db=False)"
   ]
  },
  {
   "cell_type": "code",
   "execution_count": 5,
   "metadata": {},
   "outputs": [
    {
     "name": "stderr",
     "output_type": "stream",
     "text": [
      "INFO:profiler.utility:[0.0139811038971] Preprocess Data and Create Embedding start\n",
      "\n",
      "INFO:profiler.dataEngine:Loaded table hospital\n",
      "INFO:profiler.dataEngine:Table has 19 attributes and 999 tuples\n",
      "INFO:profiler.utility:[0.0327460765839] Preprocess Data and Create Embedding execution time: 0.0187649726868\n",
      "\n"
     ]
    }
   ],
   "source": [
    "# preprocess: if set to true, it will drop empty columns\n",
    "# param only if preprocess set to true:\n",
    "# dropna: if set to true, it will drop any tuple with null values\n",
    "# dropcol: drop columns by list of column names\n",
    "pf.load_data(input_type='file', name=data_path, load_embedding=False, \n",
    "             preprocess=False, dropna=False)"
   ]
  },
  {
   "cell_type": "markdown",
   "metadata": {},
   "source": [
    "## 3. Run GLD"
   ]
  },
  {
   "cell_type": "code",
   "execution_count": 11,
   "metadata": {},
   "outputs": [
    {
     "name": "stderr",
     "output_type": "stream",
     "text": [
      "INFO:profiler.utility:[22.2046141624] Create Training Data start\n",
      "\n",
      "INFO:profiler.dataEngine:Original data size: (999, 19)\n",
      "INFO:profiler.dataEngine:Creating Training Data (multiplier = 0.000000, frac = 1.000000, sample_frac = 1.000000)\n",
      "INFO:profiler.dataEngine:use all pairs with multiplier = 998\n",
      "100%|██████████| 998/998 [00:01<00:00, 610.09it/s]\n",
      "INFO:profiler.dataEngine:Training data size: (997002, 39)\n",
      "100%|██████████| 19/19 [00:02<00:00,  8.00it/s]\n",
      "INFO:profiler.utility:[28.6710879803] Create Training Data execution time: 6.46647381783\n",
      "\n",
      "INFO:profiler.utility:[28.6726419926] Train Graphical Lasso start\n",
      "\n",
      "INFO:profiler.utility:[29.5958271027] Train Graphical Lasso execution time: 0.923185110092\n",
      "\n",
      "INFO:profiler.profiler:heatmap stored in csv: results/demo_hospital_GLD_corr_alpha0_decomposed_heatmap.csv\n",
      "INFO:profiler.profiler:heatmap stored in csv: results/demo_hospital_GLD_cov_alpha0dot01_decomposed_heatmap.csv\n",
      "INFO:profiler.utility:[29.6135480404] DONE\n",
      "\n"
     ]
    }
   ],
   "source": [
    "# save_heatmap: options are 'csv' and 'none'\n",
    "# alpha_cov: parameter controlling sparsity of gl model\n",
    "# differences: is set to true, doing training data transformation\n",
    "# params for GLD only:\n",
    "# sample_frac: take samples with certain fraction when creating training data in each iteration\n",
    "# total_frac: take samples of training data after concatenating all training data\n",
    "model_run_time = pf.run_graphical_lasso(ID=session, hm_path=out_path, save_heatmap='csv',\n",
    "                                        sample_frac=1, total_frac=1,\n",
    "                                        alpha_cov=0.01, differences=GLD,\n",
    "                                        decompose=True, undirected=False,\n",
    "                                        use_cov=True, use_corr=True)"
   ]
  },
  {
   "cell_type": "code",
   "execution_count": 12,
   "metadata": {},
   "outputs": [
    {
     "data": {
      "image/png": "[encoded data removed]",
      "text/plain": [
       "<matplotlib.figure.Figure at 0x11deb8f90>"
      ]
     },
     "metadata": {},
     "output_type": "display_data"
    }
   ],
   "source": [
    "# if there has no outputs, just rerun this cell\n",
    "pf.visualize_heatmap(pf.heatmap['cov'], save=False, title=None, filename=\"hospital_heatmap.png\")"
   ]
  },
  {
   "cell_type": "markdown",
   "metadata": {},
   "source": [
    "## 4. Generate FDs"
   ]
  },
  {
   "cell_type": "code",
   "execution_count": 13,
   "metadata": {},
   "outputs": [
    {
     "name": "stderr",
     "output_type": "stream",
     "text": [
      "INFO:profiler.helper:Execution Time: 0.0102241039276 Output 11 Candidates\n"
     ]
    },
    {
     "name": "stdout",
     "output_type": "stream",
     "text": [
      "[ProviderNumber] -> [HospitalName]\n",
      "[ProviderNumber,HospitalName] -> [Address1]\n",
      "[ProviderNumber,HospitalName,Address1] -> [City]\n",
      "[ProviderNumber,HospitalName,Address1] -> [ZipCode]\n",
      "[ProviderNumber,HospitalName,Address1,City] -> [CountyName]\n",
      "[ProviderNumber,HospitalName,Address1] -> [PhoneNumber]\n",
      "[ProviderNumber] -> [HospitalOwner]\n",
      "[Condition] -> [MeasureCode]\n",
      "[Condition,MeasureCode] -> [MeasureName]\n",
      "[Score] -> [Sample]\n",
      "[Condition,MeasureCode,MeasureName] -> [Stateavg]\n"
     ]
    }
   ],
   "source": [
    "# out_dc: if set to true, will write dcs to file specified by out_path and out_name\n",
    "# display: if set to true, will print FD in the format of LHS -> RHS\n",
    "\n",
    "# above_threshold and topk are exclusive options!\n",
    "# above_threshold: if set to true, will filter the heatmaps with certain threshold, then output FDs\n",
    "# t0: threshold when above_threshold set to true\n",
    "# topk: if set to true, will output FDs with dimension up to k on the LHS\n",
    "\n",
    "space, time, count = process_heatmap(pf.heatmap['corr'], out_dc=False, outfile=os.path.join(out_path, out_dc_name),\n",
    "                                     normalize=False, take_abs=True, subsets=False,\n",
    "                                     above_threshold=True, t0=0.2, \n",
    "                                     topk=False, k=6,\n",
    "                                     display=True)"
   ]
  },
  {
   "cell_type": "code",
   "execution_count": 14,
   "metadata": {},
   "outputs": [
    {
     "name": "stderr",
     "output_type": "stream",
     "text": [
      "INFO:profiler.helper:Execution Time: 0.0141448974609 Output 53 Candidates\n"
     ]
    },
    {
     "name": "stdout",
     "output_type": "stream",
     "text": [
      "[ProviderNumber] -> [HospitalName]\n",
      "[ProviderNumber] -> [Address1]\n",
      "[HospitalName] -> [Address1]\n",
      "[ProviderNumber,HospitalName] -> [Address1]\n",
      "[ProviderNumber] -> [City]\n",
      "[HospitalName] -> [City]\n",
      "[Address1] -> [City]\n",
      "[ProviderNumber,HospitalName] -> [City]\n",
      "[ProviderNumber,Address1] -> [City]\n",
      "[HospitalName,Address1] -> [City]\n",
      "[ProviderNumber,HospitalName,Address1] -> [City]\n",
      "[ProviderNumber] -> [ZipCode]\n",
      "[HospitalName] -> [ZipCode]\n",
      "[Address1] -> [ZipCode]\n",
      "[ProviderNumber,HospitalName] -> [ZipCode]\n",
      "[ProviderNumber,Address1] -> [ZipCode]\n",
      "[HospitalName,Address1] -> [ZipCode]\n",
      "[ProviderNumber,HospitalName,Address1] -> [ZipCode]\n",
      "[ProviderNumber] -> [CountyName]\n",
      "[HospitalName] -> [CountyName]\n",
      "[Address1] -> [CountyName]\n",
      "[City] -> [CountyName]\n",
      "[ProviderNumber,HospitalName] -> [CountyName]\n",
      "[ProviderNumber,Address1] -> [CountyName]\n",
      "[ProviderNumber,City] -> [CountyName]\n",
      "[HospitalName,Address1] -> [CountyName]\n",
      "[HospitalName,City] -> [CountyName]\n",
      "[Address1,City] -> [CountyName]\n",
      "[ProviderNumber,HospitalName,Address1] -> [CountyName]\n",
      "[ProviderNumber,HospitalName,City] -> [CountyName]\n",
      "[ProviderNumber,Address1,City] -> [CountyName]\n",
      "[HospitalName,Address1,City] -> [CountyName]\n",
      "[ProviderNumber,HospitalName,Address1,City] -> [CountyName]\n",
      "[ProviderNumber] -> [PhoneNumber]\n",
      "[HospitalName] -> [PhoneNumber]\n",
      "[Address1] -> [PhoneNumber]\n",
      "[ProviderNumber,HospitalName] -> [PhoneNumber]\n",
      "[ProviderNumber,Address1] -> [PhoneNumber]\n",
      "[HospitalName,Address1] -> [PhoneNumber]\n",
      "[ProviderNumber,HospitalName,Address1] -> [PhoneNumber]\n",
      "[ProviderNumber] -> [HospitalOwner]\n",
      "[Condition] -> [MeasureCode]\n",
      "[Condition] -> [MeasureName]\n",
      "[MeasureCode] -> [MeasureName]\n",
      "[Condition,MeasureCode] -> [MeasureName]\n",
      "[Score] -> [Sample]\n",
      "[Condition] -> [Stateavg]\n",
      "[MeasureCode] -> [Stateavg]\n",
      "[MeasureName] -> [Stateavg]\n",
      "[Condition,MeasureCode] -> [Stateavg]\n",
      "[Condition,MeasureName] -> [Stateavg]\n",
      "[MeasureCode,MeasureName] -> [Stateavg]\n",
      "[Condition,MeasureCode,MeasureName] -> [Stateavg]\n"
     ]
    }
   ],
   "source": [
    "space, time, count = process_heatmap(pf.heatmap['corr'], out_dc=True, outfile=os.path.join(out_path, session + '_' +out_dc_name),\n",
    "                                     normalize=False, take_abs=True, subsets=True,\n",
    "                                     above_threshold=True, t0=0.2, \n",
    "                                     topk=False, k=6,\n",
    "                                     display=True)"
   ]
  },
  {
   "cell_type": "code",
   "execution_count": null,
   "metadata": {},
   "outputs": [],
   "source": []
  }
 ],
 "metadata": {
  "kernelspec": {
   "display_name": "Python 2",
   "language": "python",
   "name": "python2"
  },
  "language_info": {
   "codemirror_mode": {
    "name": "ipython",
    "version": 2
   },
   "file_extension": ".py",
   "mimetype": "text/x-python",
   "name": "python",
   "nbconvert_exporter": "python",
   "pygments_lexer": "ipython2",
   "version": "2.7.14"
  }
 },
 "nbformat": 4,
 "nbformat_minor": 2
}
