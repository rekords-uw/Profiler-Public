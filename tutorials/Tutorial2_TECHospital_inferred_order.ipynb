{
 "cells": [
  {
   "cell_type": "code",
   "execution_count": 1,
   "metadata": {},
   "outputs": [],
   "source": [
    "from profiler.core import *"
   ]
  },
  {
   "cell_type": "markdown",
   "metadata": {},
   "source": [
    "## 1. Instantiate Engine\n",
    "* workers : number of processes\n",
    "* tol     : tolerance for differences when creating training data (set to 0 if data is completely clean)\n",
    "* eps     : error bound for inverse covariance estimation (since we use conservative calculation when determining minimum sample size, we recommend to set eps <= 0.01)\n",
    "* embedtxt: if set to true, differentiate b/w textual data and categorical data, and use word embedding for the former"
   ]
  },
  {
   "cell_type": "code",
   "execution_count": 2,
   "metadata": {},
   "outputs": [],
   "source": [
    "pf = Profiler(workers=2, tol=0.01, eps=0.05, embedtxt=False)"
   ]
  },
  {
   "cell_type": "markdown",
   "metadata": {},
   "source": [
    "## 2. Load Data\n",
    "* name: any name you like\n",
    "* src: \\[FILE; DF; DB (not implemented)\\]\n",
    "* fpath: required if src == FILE\n",
    "* df: required if src == DF\n",
    "* check_param: print parameters used for data loading"
   ]
  },
  {
   "cell_type": "code",
   "execution_count": 3,
   "metadata": {},
   "outputs": [
    {
     "name": "stderr",
     "output_type": "stream",
     "text": [
      "INFO:profiler.utility:[0.0058917999267578125] Load Data start\n",
      "\n",
      "INFO:profiler.dataset:parameters used for data loading:\n",
      " {'na_values': 'not available', 'sep': ',', 'header': 'infer', 'dropcol': None, 'dropna': False, 'encoding': 'latin-1', 'normalize': True, 'min_categories_for_embedding': 10}\n",
      "INFO:profiler.dataset:inferred types of attributes: {\n",
      "    \"Provider ID\": \"numeric\",\n",
      "    \"Hospital Name\": \"text\",\n",
      "    \"Address\": \"text\",\n",
      "    \"City\": \"text\",\n",
      "    \"State\": \"text\",\n",
      "    \"ZIP Code\": \"numeric\",\n",
      "    \"County Name\": \"text\",\n",
      "    \"Phone Number\": \"numeric\",\n",
      "    \"Condition\": \"categorical\",\n",
      "    \"Measure ID\": \"text\",\n",
      "    \"Measure Name\": \"text\",\n",
      "    \"Score\": \"text\",\n",
      "    \"Sample\": \"text\",\n",
      "    \"Footnote\": \"text\",\n",
      "    \"Measure Start Date\": \"categorical\",\n",
      "    \"Measure End Date\": \"categorical\"\n",
      "}\n",
      "INFO:profiler.dataset:(possible types: numeric, categorical, text, date)\n",
      "INFO:profiler.dataset:inferred operators of attributes: {'Provider ID': ['equal'], 'Hospital Name': ['equal'], 'Address': ['equal'], 'City': ['equal'], 'State': ['equal'], 'ZIP Code': ['equal'], 'County Name': ['equal'], 'Phone Number': ['equal'], 'Condition': ['equal'], 'Measure ID': ['equal'], 'Measure Name': ['equal'], 'Score': ['equal'], 'Sample': ['equal'], 'Footnote': ['equal'], 'Measure Start Date': ['equal'], 'Measure End Date': ['equal']}\n",
      "INFO:profiler.dataset:(possible operators: equal, notequal, greater_than, less_than)\n",
      "INFO:profiler.utility:[1.0334420204162598] Load Data execution time: 1.027550220489502\n",
      "\n"
     ]
    }
   ],
   "source": [
    "pf.session.load_data(name='hospital', src=FILE, fpath='data/TECHospital.csv', encoding=\"latin-1\",\n",
    "                     check_param=True, na_values='not available')"
   ]
  },
  {
   "cell_type": "markdown",
   "metadata": {},
   "source": [
    "### 2.1 Change Data Types of Attributes\n",
    "* required input:\n",
    "    * a list of attributes\n",
    "    * a list of data types (must match the order of the attributes; can be CATEGORICAL, NUMERIC, TEXT, DATE)\n",
    "* optional input:\n",
    "    * a list of regular expression extractor"
   ]
  },
  {
   "cell_type": "code",
   "execution_count": 4,
   "metadata": {},
   "outputs": [
    {
     "name": "stderr",
     "output_type": "stream",
     "text": [
      "INFO:profiler.dataset:updated types of Provider ID to 'categorical'\n",
      "INFO:profiler.dataset:updated operators of Provider ID to ['equal']\n",
      "INFO:profiler.dataset:updated types of Phone Number to 'categorical'\n",
      "INFO:profiler.dataset:updated operators of Phone Number to ['equal']\n",
      "INFO:profiler.dataset:updated types of Score to 'numeric'\n",
      "INFO:profiler.dataset:updated operators of Score to ['equal']\n",
      "INFO:profiler.dataset:updated types of Sample to 'numeric'\n",
      "INFO:profiler.dataset:updated operators of Sample to ['equal']\n",
      "INFO:profiler.dataset:updated operators of Measure Start Date to ['equal']\n",
      "INFO:profiler.dataset:updated operators of Measure End Date to ['equal']\n",
      "INFO:profiler.dataset:updated inferred operators of attributes: {'Provider ID': ['equal'], 'Hospital Name': ['equal'], 'Address': ['equal'], 'City': ['equal'], 'State': ['equal'], 'ZIP Code': ['equal'], 'County Name': ['equal'], 'Phone Number': ['equal'], 'Condition': ['equal'], 'Measure ID': ['equal'], 'Measure Name': ['equal'], 'Score': ['equal'], 'Sample': ['equal'], 'Footnote': ['equal'], 'Measure Start Date': ['equal'], 'Measure End Date': ['equal']}\n"
     ]
    }
   ],
   "source": [
    "pf.session.change_dtypes(['Provider ID', 'Phone Number', 'Score', 'Sample', 'Measure Start Date', 'Measure End Date'], \n",
    "                            [CATEGORICAL, CATEGORICAL, NUMERIC, NUMERIC, DATE, DATE])"
   ]
  },
  {
   "cell_type": "markdown",
   "metadata": {},
   "source": [
    "### 2.2. Load/Train Embeddings for TEXT\n",
    "* path: path to saved/to-save embedding folder\n",
    "* load: set to true -- load saved vec from 'path'; set to false -- train locally\n",
    "* save: (only for load = False) save trained vectors to 'path'"
   ]
  },
  {
   "cell_type": "markdown",
   "metadata": {},
   "source": [
    "## 3. Load Training Data\n",
    "* multiplier: if set to None, will infer the minimal sample size; otherwise, it will create (# samples) * (# attributes) * (multiplier) training samples"
   ]
  },
  {
   "cell_type": "code",
   "execution_count": 5,
   "metadata": {},
   "outputs": [
    {
     "name": "stderr",
     "output_type": "stream",
     "text": [
      "INFO:profiler.utility:[15.490925788879395] Create Training Data start\n",
      "\n",
      "INFO:profiler.transformer:needs multiplier = 2 to bound the error in inv cov estimation <= 0.05000000\n",
      "INFO:profiler.transformer:use multiplier = 2, and the bound is 0.00005616\n",
      "INFO:profiler.transformer:Draw Pairs\n",
      "100%|██████████| 16/16 [00:02<00:00,  7.52it/s]\n",
      "INFO:profiler.transformer:Number of training samples: 1614816\n",
      "INFO:profiler.transformer:Computing Differences\n",
      "INFO:profiler.transformer:estimated missing data probability in training data is 0.0855\n",
      "INFO:profiler.utility:[26.265827894210815] Create Training Data execution time: 10.774902105331421\n",
      "\n"
     ]
    }
   ],
   "source": [
    "pf.session.load_training_data(multiplier = None)"
   ]
  },
  {
   "cell_type": "markdown",
   "metadata": {},
   "source": [
    "## 4. Learn Structure\n",
    "* sparsity: intensity of L1-regularizer in inverse covariance estimation (glasso)\n",
    "* take_neg: if set to true, consider equal -> equal only"
   ]
  },
  {
   "cell_type": "code",
   "execution_count": 6,
   "metadata": {},
   "outputs": [
    {
     "name": "stderr",
     "output_type": "stream",
     "text": [
      "INFO:profiler.utility:[26.27171778678894] Learn Structure start\n",
      "\n",
      "INFO:profiler.learner:use threshold 0.0392\n",
      "INFO:profiler.utility:[26.883387804031372] Learn Structure execution time: 0.6116700172424316\n",
      "\n"
     ]
    }
   ],
   "source": [
    "autoregress_matrix = pf.session.learn_structure(sparsity=0.1, infer_order=True)"
   ]
  },
  {
   "cell_type": "markdown",
   "metadata": {},
   "source": [
    "* score: \n",
    "    * \"fit_error\": mse for fitting y = B'X + c for each atttribute y \n",
    "    * \"training_data_fd_vio_ratio\": the higher the score, the more violations of FDs in the training data. (bounded: \\[0,1\\])"
   ]
  },
  {
   "cell_type": "code",
   "execution_count": 7,
   "metadata": {},
   "outputs": [
    {
     "name": "stderr",
     "output_type": "stream",
     "text": [
      "INFO:profiler.utility:[26.889009952545166] Get Dependencies start\n",
      "\n"
     ]
    },
    {
     "name": "stdout",
     "output_type": "stream",
     "text": [
      "Measure Start Date -> Measure End Date (0.07768434250278879)\n",
      "Provider ID -> Hospital Name (0.02257520657558743)\n",
      "Provider ID,Hospital Name -> Address (0.007858245187263354)\n",
      "Provider ID,Hospital Name,Address -> City (0.01860290496449382)\n",
      "Provider ID,Hospital Name,Address,City -> State (0.07425846555898283)\n",
      "Provider ID,Hospital Name,Address,City,State -> ZIP Code (0.028439457864752375)\n",
      "Provider ID,Hospital Name,Address,City,State,ZIP Code -> County Name (0.018090274389216256)\n",
      "Provider ID,Hospital Name,Address,City,State,ZIP Code,County Name -> Phone Number (0.002976021409109093)\n",
      "Measure ID -> Measure Name (0.04483222410072152)\n"
     ]
    },
    {
     "name": "stderr",
     "output_type": "stream",
     "text": [
      "INFO:profiler.utility:[27.436897039413452] Get Dependencies execution time: 0.5478870868682861\n",
      "\n"
     ]
    },
    {
     "name": "stdout",
     "output_type": "stream",
     "text": [
      "Measure ID,Measure Name -> Condition (0.23229817014052465)\n"
     ]
    }
   ],
   "source": [
    "parent_sets = pf.session.get_dependencies(score=\"fit_error\")"
   ]
  },
  {
   "cell_type": "markdown",
   "metadata": {},
   "source": [
    "## 5. Visualization"
   ]
  },
  {
   "cell_type": "code",
   "execution_count": 8,
   "metadata": {},
   "outputs": [
    {
     "data": {
      "text/plain": [
       "<Figure size 1000x800 with 2 Axes>"
      ]
     },
     "metadata": {},
     "output_type": "display_data"
    }
   ],
   "source": [
    "pf.session.visualize_covariance()"
   ]
  },
  {
   "cell_type": "code",
   "execution_count": 9,
   "metadata": {},
   "outputs": [
    {
     "data": {
      "image/png": "[encoded data removed]",
      "text/plain": [
       "<Figure size 720x576 with 2 Axes>"
      ]
     },
     "metadata": {
      "needs_background": "light"
     },
     "output_type": "display_data"
    }
   ],
   "source": [
    "pf.session.visualize_inverse_covariance()"
   ]
  },
  {
   "cell_type": "code",
   "execution_count": 10,
   "metadata": {},
   "outputs": [
    {
     "data": {
      "image/png": "[encoded data removed]",
      "text/plain": [
       "<Figure size 720x576 with 2 Axes>"
      ]
     },
     "metadata": {
      "needs_background": "light"
     },
     "output_type": "display_data"
    }
   ],
   "source": [
    "pf.session.visualize_autoregression()"
   ]
  },
  {
   "cell_type": "code",
   "execution_count": 11,
   "metadata": {},
   "outputs": [
    {
     "data": {
      "text/html": [
       "<div>\n",
       "<style scoped>\n",
       "    .dataframe tbody tr th:only-of-type {\n",
       "        vertical-align: middle;\n",
       "    }\n",
       "\n",
       "    .dataframe tbody tr th {\n",
       "        vertical-align: top;\n",
       "    }\n",
       "\n",
       "    .dataframe thead th {\n",
       "        text-align: right;\n",
       "    }\n",
       "</style>\n",
       "<table border=\"1\" class=\"dataframe\">\n",
       "  <thead>\n",
       "    <tr style=\"text-align: right;\">\n",
       "      <th></th>\n",
       "      <th>time_point</th>\n",
       "      <th>msg</th>\n",
       "      <th>execution_time</th>\n",
       "    </tr>\n",
       "  </thead>\n",
       "  <tbody>\n",
       "    <tr>\n",
       "      <th>0</th>\n",
       "      <td>0.005892</td>\n",
       "      <td>start: Load Data</td>\n",
       "      <td>0.000000</td>\n",
       "    </tr>\n",
       "    <tr>\n",
       "      <th>1</th>\n",
       "      <td>1.033442</td>\n",
       "      <td>end: Load Data</td>\n",
       "      <td>1.027550</td>\n",
       "    </tr>\n",
       "    <tr>\n",
       "      <th>2</th>\n",
       "      <td>15.490926</td>\n",
       "      <td>start: Create Training Data</td>\n",
       "      <td>0.000000</td>\n",
       "    </tr>\n",
       "    <tr>\n",
       "      <th>3</th>\n",
       "      <td>26.265828</td>\n",
       "      <td>end: Create Training Data</td>\n",
       "      <td>10.774902</td>\n",
       "    </tr>\n",
       "    <tr>\n",
       "      <th>4</th>\n",
       "      <td>26.271718</td>\n",
       "      <td>start: Learn Structure</td>\n",
       "      <td>0.000000</td>\n",
       "    </tr>\n",
       "    <tr>\n",
       "      <th>5</th>\n",
       "      <td>26.883388</td>\n",
       "      <td>end: Learn Structure</td>\n",
       "      <td>0.611670</td>\n",
       "    </tr>\n",
       "    <tr>\n",
       "      <th>6</th>\n",
       "      <td>26.889010</td>\n",
       "      <td>start: Get Dependencies</td>\n",
       "      <td>0.000000</td>\n",
       "    </tr>\n",
       "    <tr>\n",
       "      <th>7</th>\n",
       "      <td>27.436897</td>\n",
       "      <td>end: Get Dependencies</td>\n",
       "      <td>0.547887</td>\n",
       "    </tr>\n",
       "    <tr>\n",
       "      <th>8</th>\n",
       "      <td>27.436897</td>\n",
       "      <td>total_execution_time</td>\n",
       "      <td>12.962009</td>\n",
       "    </tr>\n",
       "  </tbody>\n",
       "</table>\n",
       "</div>"
      ],
      "text/plain": [
       "   time_point                          msg  execution_time\n",
       "0    0.005892             start: Load Data        0.000000\n",
       "1    1.033442               end: Load Data        1.027550\n",
       "2   15.490926  start: Create Training Data        0.000000\n",
       "3   26.265828    end: Create Training Data       10.774902\n",
       "4   26.271718       start: Learn Structure        0.000000\n",
       "5   26.883388         end: Learn Structure        0.611670\n",
       "6   26.889010      start: Get Dependencies        0.000000\n",
       "7   27.436897        end: Get Dependencies        0.547887\n",
       "8   27.436897         total_execution_time       12.962009"
      ]
     },
     "execution_count": 11,
     "metadata": {},
     "output_type": "execute_result"
    }
   ],
   "source": [
    "pf.session.timer.get_stat()"
   ]
  },
  {
   "cell_type": "code",
   "execution_count": null,
   "metadata": {},
   "outputs": [],
   "source": []
  },
  {
   "cell_type": "code",
   "execution_count": null,
   "metadata": {},
   "outputs": [],
   "source": []
  }
 ],
 "metadata": {
  "kernelspec": {
   "display_name": "Python (fd37)",
   "language": "python",
   "name": "fd37"
  },
  "language_info": {
   "codemirror_mode": {
    "name": "ipython",
    "version": 3
   },
   "file_extension": ".py",
   "mimetype": "text/x-python",
   "name": "python",
   "nbconvert_exporter": "python",
   "pygments_lexer": "ipython3",
   "version": "3.7.3"
  }
 },
 "nbformat": 4,
 "nbformat_minor": 2
}
