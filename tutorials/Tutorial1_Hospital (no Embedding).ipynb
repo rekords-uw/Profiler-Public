{
 "cells": [
  {
   "cell_type": "code",
   "execution_count": 1,
   "metadata": {
    "collapsed": false
   },
   "outputs": [
    {
     "name": "stderr",
     "output_type": "stream",
     "text": [
      "/root/anaconda3/lib/python3.6/site-packages/pandas/compat/_optional.py:106: UserWarning: Pandas requires version '1.2.1' or newer of 'bottleneck' (version '1.2.0' currently installed).\n",
      "  warnings.warn(msg, UserWarning)\n"
     ]
    }
   ],
   "source": [
    "from profiler.core import *"
   ]
  },
  {
   "cell_type": "markdown",
   "metadata": {},
   "source": [
    "## 1. Instantiate Engine\n",
    "* workers : number of processes\n",
    "* tol     : tolerance for differences when creating training data (set to 0 if data is completely clean)\n",
    "* eps     : error bound for inverse covariance estimation (since we use conservative calculation when determining minimum sample size, we recommend to set eps <= 0.01)\n",
    "* embedtxt: if set to true, differentiate b/w textual data and categorical data, and use word embedding for the former"
   ]
  },
  {
   "cell_type": "code",
   "execution_count": 2,
   "metadata": {
    "collapsed": true
   },
   "outputs": [],
   "source": [
    "pf = Profiler(workers=2, tol=0, eps=0.05, embedtxt=False)"
   ]
  },
  {
   "cell_type": "markdown",
   "metadata": {},
   "source": [
    "## 2. Load Data\n",
    "* name: any name you like\n",
    "* src: \\[FILE; DF; DB (not implemented)\\]\n",
    "* fpath: required if src == FILE\n",
    "* df: required if src == DF\n",
    "* check_param: print parameters used for data loading"
   ]
  },
  {
   "cell_type": "code",
   "execution_count": 3,
   "metadata": {
    "collapsed": false
   },
   "outputs": [
    {
     "name": "stderr",
     "output_type": "stream",
     "text": [
      "INFO:profiler.utility:[1.3987956047058105] Load Data start\n",
      "\n",
      "INFO:profiler.data.dataset:parameters used for data loading:\n",
      " {'na_values': {'', 'none', '?', 'unknown', 'nan', 'NaN', 'None'}, 'sep': ',', 'header': 'infer', 'dropcol': None, 'dropna': False, 'encoding': 'utf-8', 'normalize': True, 'min_categories_for_embedding': 10}\n",
      "WARNING:profiler.data.dataset:Dropping the following null column from the dataset: 'c_comment'\n",
      "INFO:profiler.data.dataset:inferred types of attributes: {\n",
      "    \"c_custkey\": \"text\",\n",
      "    \"c_name\": \"text\",\n",
      "    \"c_address\": \"numeric\",\n",
      "    \"c_nationkey\": \"text\",\n",
      "    \"c_phone\": \"numeric\",\n",
      "    \"c_acctbal\": \"categorical\",\n",
      "    \"c_mktsegment\": \"text\"\n",
      "}\n",
      "INFO:profiler.data.dataset:(possible types: numeric, categorical, text, date)\n",
      "INFO:profiler.data.dataset:inferred operators of attributes: {'c_custkey': ['equal'], 'c_name': ['equal'], 'c_address': ['equal'], 'c_nationkey': ['equal'], 'c_phone': ['equal'], 'c_acctbal': ['equal'], 'c_mktsegment': ['equal']}\n",
      "INFO:profiler.data.dataset:(possible operators: equal, notequal, greater_than, less_than)\n",
      "INFO:profiler.utility:[3.06075382232666] Load Data execution time: 1.6619582176208496\n",
      "\n"
     ]
    }
   ],
   "source": [
    "# pf.session.load_data(name='hospital_clean_sample_join_500', src=FILE, fpath='data/hospital_clean_sample_join_new_200.csv', check_param=True)\n",
    "pf.session.load_data(name='customer', src=FILE, fpath='data/customer.csv', check_param=True)"
   ]
  },
  {
   "cell_type": "markdown",
   "metadata": {},
   "source": [
    "### 2.1 Change Data Types of Attributes\n",
    "* required input:\n",
    "    * a list of attributes\n",
    "    * a list of data types (must match the order of the attributes; can be CATEGORICAL, NUMERIC, TEXT, DATE)\n",
    "* optional input:\n",
    "    * a list of regular expression extractor"
   ]
  },
  {
   "cell_type": "code",
   "execution_count": 4,
   "metadata": {
    "collapsed": false
   },
   "outputs": [
    {
     "name": "stderr",
     "output_type": "stream",
     "text": [
      "INFO:profiler.data.dataset:updated types of ProviderNumber to 'categorical'\n",
      "INFO:profiler.data.dataset:updated operators of ProviderNumber to ['equal']\n",
      "INFO:profiler.data.dataset:updated types of ZipCode to 'numeric'\n",
      "INFO:profiler.data.dataset:updated operators of ZipCode to ['equal']\n",
      "INFO:profiler.data.dataset:updated types of PhoneNumber to 'categorical'\n",
      "INFO:profiler.data.dataset:updated operators of PhoneNumber to ['equal']\n",
      "INFO:profiler.data.dataset:updated types of State to 'text'\n",
      "INFO:profiler.data.dataset:updated operators of State to ['equal']\n",
      "INFO:profiler.data.dataset:updated types of EmergencyService to 'text'\n",
      "INFO:profiler.data.dataset:updated operators of EmergencyService to ['equal']\n",
      "INFO:profiler.data.dataset:updated types of Score to 'numeric'\n",
      "INFO:profiler.data.dataset:updated operators of Score to ['equal']\n",
      "INFO:profiler.data.dataset:updated types of Sample to 'numeric'\n",
      "INFO:profiler.data.dataset:updated operators of Sample to ['equal']\n",
      "INFO:profiler.data.dataset:updated types of HospitalType to 'text'\n",
      "INFO:profiler.data.dataset:updated operators of HospitalType to ['equal']\n",
      "INFO:profiler.data.dataset:updated types of HospitalOwner to 'text'\n",
      "INFO:profiler.data.dataset:updated operators of HospitalOwner to ['equal']\n",
      "INFO:profiler.data.dataset:updated types of Condition to 'text'\n",
      "INFO:profiler.data.dataset:updated operators of Condition to ['equal']\n",
      "INFO:profiler.data.dataset:updated inferred operators of attributes: {'ProviderNumber': ['equal'], 'HospitalName': ['equal'], 'Address1': ['equal'], 'City': ['equal'], 'State': ['equal'], 'ZipCode': ['equal'], 'CountyName': ['equal'], 'PhoneNumber': ['equal'], 'HospitalType': ['equal'], 'HospitalOwner': ['equal'], 'EmergencyService': ['equal'], 'Condition': ['equal'], 'MeasureCode': ['equal'], 'MeasureName': ['equal'], 'Score': ['equal'], 'Sample': ['equal'], 'Stateavg': ['equal']}\n"
     ]
    }
   ],
   "source": [
    "pf.session.change_dtypes(['ProviderNumber', 'ZipCode', 'PhoneNumber', 'State', 'EmergencyService','Score', 'Sample', 'HospitalType', 'HospitalOwner','Condition'], \n",
    "                            [CATEGORICAL, NUMERIC, CATEGORICAL, TEXT, TEXT, NUMERIC, NUMERIC, TEXT, TEXT, TEXT],\n",
    "                            [None, None, None, None, None, r'(\\d+)%', r'(\\d+)\\spatients', None, None, None])\n",
    "\n",
    "# pf.session.change_dtypes(['ProviderNumber', 'ZipCode', 'PhoneNumber', 'State', 'EmergencyService','Score', 'Sample'], \n",
    "#                             [CATEGORICAL, NUMERIC, CATEGORICAL, TEXT, TEXT, NUMERIC, NUMERIC],\n",
    "#                             [None, None, None, None, None, r'(\\d+)%', r'(\\d+)\\spatients'])"
   ]
  },
  {
   "cell_type": "markdown",
   "metadata": {},
   "source": [
    "### 2.2. Load/Train Embeddings for TEXT\n",
    "* path: path to saved/to-save embedding folder\n",
    "* load: set to true -- load saved vec from 'path'; set to false -- train locally\n",
    "* save: (only for load = False) save trained vectors to 'path'"
   ]
  },
  {
   "cell_type": "code",
   "execution_count": 5,
   "metadata": {
    "collapsed": true,
    "scrolled": true
   },
   "outputs": [],
   "source": [
    "#pf.session.load_embedding(save=True, path='data/hospital/', load=True)"
   ]
  },
  {
   "cell_type": "markdown",
   "metadata": {},
   "source": [
    "## 3. Load Training Data\n",
    "* multiplier: if set to None, will infer the minimal sample size; otherwise, it will create (# samples) * (# attributes) * (multiplier) training samples"
   ]
  },
  {
   "cell_type": "code",
   "execution_count": 4,
   "metadata": {
    "collapsed": false
   },
   "outputs": [
    {
     "name": "stderr",
     "output_type": "stream",
     "text": [
      "INFO:profiler.utility:[14.670958518981934] Create Training Data start\n",
      "\n",
      "INFO:profiler.data.transformer:needs multiplier = 1 to bound the error in inv cov estimation <= 0.05000000\n",
      "INFO:profiler.data.transformer:use multiplier = 1, and the bound is 0.00003333\n",
      "INFO:profiler.data.transformer:Draw Pairs\n",
      "100%|██████████| 7/7 [00:01<00:00,  4.40it/s]\n",
      "INFO:profiler.data.transformer:Number of training samples: 1050000\n",
      "INFO:profiler.data.transformer:Computing Differences\n",
      "/root/anaconda3/lib/python3.6/site-packages/pandas/compat/_optional.py:106: UserWarning: Pandas requires version '2.6.2' or newer of 'numexpr' (version '2.6.1' currently installed).\n",
      "  warnings.warn(msg, UserWarning)\n",
      "INFO:profiler.data.transformer:estimated missing data probability in training data is 0.0000\n",
      "INFO:profiler.utility:[21.675612449645996] Create Training Data execution time: 7.0046539306640625\n",
      "\n"
     ]
    }
   ],
   "source": [
    "pf.session.load_training_data(multiplier = None, difference=True)"
   ]
  },
  {
   "cell_type": "markdown",
   "metadata": {},
   "source": [
    "## 4. Learn Structure\n",
    "* sparsity: intensity of L1-regularizer in inverse covariance estimation (glasso)\n",
    "* take_neg: if set to true, consider equal -> equal only"
   ]
  },
  {
   "cell_type": "code",
   "execution_count": 5,
   "metadata": {
    "collapsed": false
   },
   "outputs": [
    {
     "name": "stderr",
     "output_type": "stream",
     "text": [
      "INFO:profiler.utility:[26.199251174926758] Learn Structure start\n",
      "\n",
      "INFO:profiler.learner:use threshold 0.0254\n",
      "INFO:profiler.utility:[26.335502862930298] Learn Structure execution time: 0.13625168800354004\n",
      "\n"
     ]
    }
   ],
   "source": [
    "autoregress_matrix = pf.session.learn_structure(sparsity=0.05, infer_order=True)"
   ]
  },
  {
   "cell_type": "markdown",
   "metadata": {},
   "source": [
    "* score: \n",
    "    * \"fit_error\": mse for fitting y = B'X + c for each atttribute y \n",
    "    * \"training_data_fd_vio_ratio\": the higher the score, the more violations of FDs in the training data. (bounded: \\[0,1\\])"
   ]
  },
  {
   "cell_type": "code",
   "execution_count": 6,
   "metadata": {
    "collapsed": false
   },
   "outputs": [
    {
     "name": "stderr",
     "output_type": "stream",
     "text": [
      "INFO:profiler.utility:[29.800638914108276] Get Dependencies start\n",
      "\n",
      "INFO:profiler.utility:[29.912676334381104] Get Dependencies execution time: 0.11203742027282715\n",
      "\n"
     ]
    },
    {
     "name": "stdout",
     "output_type": "stream",
     "text": [
      "c_address -> c_phone (0.2010879051690762)\n",
      "c_address,c_phone -> c_acctbal (0.21735996562020662)\n",
      "{'c_nationkey': array([], dtype=object), 'c_address': array([], dtype=object), 'c_phone': array(['c_address'], dtype=object), 'c_acctbal': array(['c_address', 'c_phone'], dtype=object)}\n"
     ]
    }
   ],
   "source": [
    "parent_sets = pf.session.get_dependencies(score=\"fit_error\")"
   ]
  },
  {
   "cell_type": "code",
   "execution_count": 7,
   "metadata": {
    "collapsed": true
   },
   "outputs": [],
   "source": [
    "import os, json\n",
    "def read_fds(path='data/fds', f='TECHospital-hyfd'):\n",
    "    all_fds = {}\n",
    "    for line in open(os.path.join(path,f)):\n",
    "        fd = json.loads(line)\n",
    "        right = fd[u'dependant']['columnIdentifier']\n",
    "        left = [l[u'columnIdentifier'] for l in fd[ u'determinant'][u'columnIdentifiers']]\n",
    "        if right not in all_fds:\n",
    "            all_fds[right] = set()\n",
    "        all_fds[right].add(frozenset(left))\n",
    "    return all_fds"
   ]
  },
  {
   "cell_type": "code",
   "execution_count": 8,
   "metadata": {
    "collapsed": true
   },
   "outputs": [],
   "source": [
    "gt = read_fds()"
   ]
  },
  {
   "cell_type": "code",
   "execution_count": 9,
   "metadata": {
    "collapsed": false
   },
   "outputs": [
    {
     "name": "stdout",
     "output_type": "stream",
     "text": [
      "['c_address'] -> c_phone is not valid\n",
      "['c_address' 'c_phone'] -> c_acctbal is not valid\n",
      "Precision: 0.0000\n"
     ]
    }
   ],
   "source": [
    "tp = 0\n",
    "count = 0\n",
    "for child in parent_sets:\n",
    "    found = parent_sets[child]\n",
    "    if len(found) == 0:\n",
    "        continue\n",
    "    count += 1\n",
    "    match = False\n",
    "    if child in gt:\n",
    "        for parent in gt[child]:\n",
    "            if set(parent).issubset(found):\n",
    "                tp += 1\n",
    "                match = True\n",
    "                break\n",
    "    if not match:\n",
    "        print(\"{} -> {} is not valid\".format(found, child))\n",
    "\n",
    "print(\"Precision: %.4f\"%(float(tp) / count))"
   ]
  },
  {
   "cell_type": "markdown",
   "metadata": {},
   "source": [
    "## 5. Visualization"
   ]
  },
  {
   "cell_type": "code",
   "execution_count": 10,
   "metadata": {
    "collapsed": false
   },
   "outputs": [
    {
     "name": "stderr",
     "output_type": "stream",
     "text": [
      "/root/anaconda3/lib/python3.6/site-packages/matplotlib/font_manager.py:1297: UserWarning: findfont: Font family ['sans-serif'] not found. Falling back to DejaVu Sans\n",
      "  (prop.get_family(), self.defaultFamily[fontext]))\n"
     ]
    },
    {
     "data": {
      "image/png": "[encoded data removed]",
      "text/plain": [
       "<matplotlib.figure.Figure at 0x7ff5d6c6df98>"
      ]
     },
     "metadata": {},
     "output_type": "display_data"
    }
   ],
   "source": [
    "pf.session.visualize_covariance()"
   ]
  },
  {
   "cell_type": "code",
   "execution_count": 11,
   "metadata": {
    "collapsed": false
   },
   "outputs": [
    {
     "name": "stderr",
     "output_type": "stream",
     "text": [
      "/root/anaconda3/lib/python3.6/site-packages/matplotlib/font_manager.py:1297: UserWarning: findfont: Font family ['sans-serif'] not found. Falling back to DejaVu Sans\n",
      "  (prop.get_family(), self.defaultFamily[fontext]))\n"
     ]
    },
    {
     "data": {
      "image/png": "[encoded data removed]",
      "text/plain": [
       "<matplotlib.figure.Figure at 0x7ff5bb7b6be0>"
      ]
     },
     "metadata": {},
     "output_type": "display_data"
    }
   ],
   "source": [
    "pf.session.visualize_inverse_covariance()"
   ]
  },
  {
   "cell_type": "code",
   "execution_count": 12,
   "metadata": {
    "collapsed": false
   },
   "outputs": [
    {
     "name": "stderr",
     "output_type": "stream",
     "text": [
      "/root/anaconda3/lib/python3.6/site-packages/matplotlib/font_manager.py:1297: UserWarning: findfont: Font family ['sans-serif'] not found. Falling back to DejaVu Sans\n",
      "  (prop.get_family(), self.defaultFamily[fontext]))\n"
     ]
    },
    {
     "data": {
      "image/png": "[encoded data removed]",
      "text/plain": [
       "<matplotlib.figure.Figure at 0x7ff5bb7790f0>"
      ]
     },
     "metadata": {},
     "output_type": "display_data"
    }
   ],
   "source": [
    "pf.session.visualize_autoregression()"
   ]
  },
  {
   "cell_type": "code",
   "execution_count": 15,
   "metadata": {
    "collapsed": false
   },
   "outputs": [
    {
     "data": {
      "text/html": [
       "<div>\n",
       "<table border=\"1\" class=\"dataframe\">\n",
       "  <thead>\n",
       "    <tr style=\"text-align: right;\">\n",
       "      <th></th>\n",
       "      <th>time_point</th>\n",
       "      <th>msg</th>\n",
       "      <th>execution_time</th>\n",
       "    </tr>\n",
       "  </thead>\n",
       "  <tbody>\n",
       "    <tr>\n",
       "      <th>0</th>\n",
       "      <td>0.039711</td>\n",
       "      <td>start: Load Data</td>\n",
       "      <td>0.000000</td>\n",
       "    </tr>\n",
       "    <tr>\n",
       "      <th>1</th>\n",
       "      <td>0.146057</td>\n",
       "      <td>end: Load Data</td>\n",
       "      <td>0.106346</td>\n",
       "    </tr>\n",
       "    <tr>\n",
       "      <th>2</th>\n",
       "      <td>0.255845</td>\n",
       "      <td>start: Create Training Data</td>\n",
       "      <td>0.000000</td>\n",
       "    </tr>\n",
       "    <tr>\n",
       "      <th>3</th>\n",
       "      <td>0.886822</td>\n",
       "      <td>end: Create Training Data</td>\n",
       "      <td>0.630977</td>\n",
       "    </tr>\n",
       "    <tr>\n",
       "      <th>4</th>\n",
       "      <td>0.898539</td>\n",
       "      <td>start: Learn Structure</td>\n",
       "      <td>0.000000</td>\n",
       "    </tr>\n",
       "    <tr>\n",
       "      <th>5</th>\n",
       "      <td>3.156699</td>\n",
       "      <td>end: Learn Structure</td>\n",
       "      <td>2.258161</td>\n",
       "    </tr>\n",
       "    <tr>\n",
       "      <th>6</th>\n",
       "      <td>3.167866</td>\n",
       "      <td>start: Get Dependencies</td>\n",
       "      <td>0.000000</td>\n",
       "    </tr>\n",
       "    <tr>\n",
       "      <th>7</th>\n",
       "      <td>3.327627</td>\n",
       "      <td>end: Get Dependencies</td>\n",
       "      <td>0.159760</td>\n",
       "    </tr>\n",
       "    <tr>\n",
       "      <th>8</th>\n",
       "      <td>3.327627</td>\n",
       "      <td>total_execution_time</td>\n",
       "      <td>3.155245</td>\n",
       "    </tr>\n",
       "  </tbody>\n",
       "</table>\n",
       "</div>"
      ],
      "text/plain": [
       "   time_point                          msg  execution_time\n",
       "0    0.039711             start: Load Data        0.000000\n",
       "1    0.146057               end: Load Data        0.106346\n",
       "2    0.255845  start: Create Training Data        0.000000\n",
       "3    0.886822    end: Create Training Data        0.630977\n",
       "4    0.898539       start: Learn Structure        0.000000\n",
       "5    3.156699         end: Learn Structure        2.258161\n",
       "6    3.167866      start: Get Dependencies        0.000000\n",
       "7    3.327627        end: Get Dependencies        0.159760\n",
       "8    3.327627         total_execution_time        3.155245"
      ]
     },
     "execution_count": 15,
     "metadata": {},
     "output_type": "execute_result"
    }
   ],
   "source": [
    "pf.session.timer.get_stat()"
   ]
  },
  {
   "cell_type": "code",
   "execution_count": null,
   "metadata": {
    "collapsed": true
   },
   "outputs": [],
   "source": []
  },
  {
   "cell_type": "code",
   "execution_count": null,
   "metadata": {
    "collapsed": true
   },
   "outputs": [],
   "source": []
  }
 ],
 "metadata": {
  "kernelspec": {
   "display_name": "Python 3",
   "language": "python",
   "name": "python3"
  },
  "language_info": {
   "codemirror_mode": {
    "name": "ipython",
    "version": 3
   },
   "file_extension": ".py",
   "mimetype": "text/x-python",
   "name": "python",
   "nbconvert_exporter": "python",
   "pygments_lexer": "ipython3",
   "version": "3.6.7"
  }
 },
 "nbformat": 4,
 "nbformat_minor": 2
}
