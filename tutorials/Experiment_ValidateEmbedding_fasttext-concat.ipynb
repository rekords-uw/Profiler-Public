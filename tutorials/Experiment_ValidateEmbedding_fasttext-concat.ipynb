{
 "cells": [
  {
   "cell_type": "code",
   "execution_count": 1,
   "metadata": {},
   "outputs": [],
   "source": [
    "from profiler.core import *"
   ]
  },
  {
   "cell_type": "markdown",
   "metadata": {},
   "source": [
    "## 1. Instantiate Engine\n",
    "* workers : number of processes\n",
    "* tol     : tolerance for differences when creating training data (set to 0 if data is completely clean)\n",
    "* eps     : error bound for inverse covariance estimation (since we use conservative calculation when determining minimum sample size, we recommend to set eps <= 0.01)\n",
    "* embedtxt: if set to true, differentiate b/w textual data and categorical data, and use word embedding for the former"
   ]
  },
  {
   "cell_type": "code",
   "execution_count": 2,
   "metadata": {},
   "outputs": [],
   "source": [
    "pf = Profiler(workers=2, tol=1e-6, eps=0.05, embedtxt=True)"
   ]
  },
  {
   "cell_type": "markdown",
   "metadata": {},
   "source": [
    "## 2. Load Data\n",
    "* name: any name you like\n",
    "* src: \\[FILE; DF; DB (not implemented)\\]\n",
    "* fpath: required if src == FILE\n",
    "* df: required if src == DF\n",
    "* check_param: print parameters used for data loading"
   ]
  },
  {
   "cell_type": "code",
   "execution_count": 3,
   "metadata": {},
   "outputs": [
    {
     "name": "stderr",
     "output_type": "stream",
     "text": [
      "INFO:profiler.utility:[0.008699893951416016] Load Data start\n",
      "\n",
      "INFO:profiler.data.dataset:parameters used for data loading:\n",
      " {'na_values': 'empty', 'sep': ',', 'header': 'infer', 'dropcol': None, 'dropna': False, 'encoding': 'utf-8', 'normalize': True, 'min_categories_for_embedding': 10}\n",
      "WARNING:profiler.data.dataset:Dropping the following null column from the dataset: 'Address2'\n",
      "WARNING:profiler.data.dataset:Dropping the following null column from the dataset: 'Address3'\n",
      "INFO:profiler.data.dataset:inferred types of attributes: {\n",
      "    \"ProviderNumber\": \"text\",\n",
      "    \"HospitalName\": \"text\",\n",
      "    \"Address1\": \"text\",\n",
      "    \"City\": \"text\",\n",
      "    \"State\": \"categorical\",\n",
      "    \"ZipCode\": \"text\",\n",
      "    \"CountyName\": \"text\",\n",
      "    \"PhoneNumber\": \"text\",\n",
      "    \"HospitalType\": \"text\",\n",
      "    \"HospitalOwner\": \"text\",\n",
      "    \"EmergencyService\": \"categorical\",\n",
      "    \"Condition\": \"text\",\n",
      "    \"MeasureCode\": \"text\",\n",
      "    \"MeasureName\": \"text\",\n",
      "    \"Score\": \"text\",\n",
      "    \"Sample\": \"text\",\n",
      "    \"Stateavg\": \"text\"\n",
      "}\n",
      "INFO:profiler.data.dataset:(possible types: numeric, categorical, text, date)\n",
      "INFO:profiler.data.dataset:inferred operators of attributes: {'ProviderNumber': ['equal'], 'HospitalName': ['equal'], 'Address1': ['equal'], 'City': ['equal'], 'State': ['equal'], 'ZipCode': ['equal'], 'CountyName': ['equal'], 'PhoneNumber': ['equal'], 'HospitalType': ['equal'], 'HospitalOwner': ['equal'], 'EmergencyService': ['equal'], 'Condition': ['equal'], 'MeasureCode': ['equal'], 'MeasureName': ['equal'], 'Score': ['equal'], 'Sample': ['equal'], 'Stateavg': ['equal']}\n",
      "INFO:profiler.data.dataset:(possible operators: equal, notequal, greater_than, less_than)\n",
      "INFO:profiler.utility:[0.07669782638549805] Load Data execution time: 0.06799793243408203\n",
      "\n"
     ]
    }
   ],
   "source": [
    "pf.session.load_data(name='hospital', src=FILE, fpath='data/hospital.csv', check_param=True, na_values='empty')"
   ]
  },
  {
   "cell_type": "markdown",
   "metadata": {},
   "source": [
    "### 2.1 Change Data Types of Attributes\n",
    "* required input:\n",
    "    * a list of attributes\n",
    "    * a list of data types (must match the order of the attributes; can be CATEGORICAL, NUMERIC, TEXT, DATE)\n",
    "* optional input:\n",
    "    * a list of regular expression extractor"
   ]
  },
  {
   "cell_type": "code",
   "execution_count": 4,
   "metadata": {},
   "outputs": [
    {
     "name": "stderr",
     "output_type": "stream",
     "text": [
      "INFO:profiler.data.dataset:updated types of ProviderNumber to 'categorical'\n",
      "INFO:profiler.data.dataset:updated operators of ProviderNumber to ['equal']\n",
      "INFO:profiler.data.dataset:updated types of ZipCode to 'numeric'\n",
      "INFO:profiler.data.dataset:updated operators of ZipCode to ['equal']\n",
      "INFO:profiler.data.dataset:updated types of PhoneNumber to 'categorical'\n",
      "INFO:profiler.data.dataset:updated operators of PhoneNumber to ['equal']\n",
      "INFO:profiler.data.dataset:updated types of State to 'text'\n",
      "INFO:profiler.data.dataset:updated operators of State to ['equal']\n",
      "INFO:profiler.data.dataset:updated types of EmergencyService to 'text'\n",
      "INFO:profiler.data.dataset:updated operators of EmergencyService to ['equal']\n",
      "INFO:profiler.data.dataset:updated types of Score to 'numeric'\n",
      "INFO:profiler.data.dataset:updated operators of Score to ['equal']\n",
      "INFO:profiler.data.dataset:updated types of Sample to 'numeric'\n",
      "INFO:profiler.data.dataset:updated operators of Sample to ['equal']\n",
      "INFO:profiler.data.dataset:updated inferred operators of attributes: {'ProviderNumber': ['equal'], 'HospitalName': ['equal'], 'Address1': ['equal'], 'City': ['equal'], 'State': ['equal'], 'ZipCode': ['equal'], 'CountyName': ['equal'], 'PhoneNumber': ['equal'], 'HospitalType': ['equal'], 'HospitalOwner': ['equal'], 'EmergencyService': ['equal'], 'Condition': ['equal'], 'MeasureCode': ['equal'], 'MeasureName': ['equal'], 'Score': ['equal'], 'Sample': ['equal'], 'Stateavg': ['equal']}\n"
     ]
    }
   ],
   "source": [
    "pf.session.change_dtypes(['ProviderNumber', 'ZipCode', 'PhoneNumber', 'State', 'EmergencyService','Score', 'Sample'], \n",
    "                            [CATEGORICAL, NUMERIC, CATEGORICAL, TEXT, TEXT, NUMERIC, NUMERIC],\n",
    "                            [None, None, None, None, None, r'(\\d+)%', r'(\\d+)\\spatients'])"
   ]
  },
  {
   "cell_type": "markdown",
   "metadata": {},
   "source": [
    "### 2.2. Load/Train Embeddings for TEXT\n",
    "* path: path to saved/to-save embedding folder\n",
    "* load: set to true -- load saved vec from 'path'; set to false -- train locally\n",
    "* save: (only for load = False) save trained vectors to 'path'"
   ]
  },
  {
   "cell_type": "code",
   "execution_count": 5,
   "metadata": {
    "scrolled": true
   },
   "outputs": [
    {
     "name": "stderr",
     "output_type": "stream",
     "text": [
      "INFO:profiler.utility:[0.11977910995483398] Load Embedding start\n",
      "\n",
      "INFO:profiler.data.embedding:[HospitalName] tokenize cell\n",
      "INFO:profiler.data.embedding:[Address1] tokenize cell\n",
      "INFO:profiler.data.embedding:[HospitalName] train language model\n",
      "INFO:profiler.data.embedding:[Address1] train language model\n"
     ]
    },
    {
     "name": "stdout",
     "output_type": "stream",
     "text": [
      "5\n"
     ]
    },
    {
     "name": "stderr",
     "output_type": "stream",
     "text": [
      "INFO:profiler.data.embedding:[HospitalName] compute weights\n",
      "INFO:profiler.data.embedding:[HospitalName] create vector map\n",
      "INFO:profiler.data.embedding:[HospitalName] save vec and vocab\n",
      "INFO:profiler.data.embedding:[City] tokenize cell\n",
      "INFO:profiler.data.embedding:[City] train language model\n"
     ]
    },
    {
     "name": "stdout",
     "output_type": "stream",
     "text": [
      "5\n"
     ]
    },
    {
     "name": "stderr",
     "output_type": "stream",
     "text": [
      "INFO:profiler.data.embedding:[Address1] compute weights\n",
      "INFO:profiler.data.embedding:[Address1] create vector map\n",
      "INFO:profiler.data.embedding:[Address1] save vec and vocab\n",
      "INFO:profiler.data.embedding:[State] tokenize cell\n",
      "INFO:profiler.data.embedding:[State] train language model\n"
     ]
    },
    {
     "name": "stdout",
     "output_type": "stream",
     "text": [
      "5\n"
     ]
    },
    {
     "name": "stderr",
     "output_type": "stream",
     "text": [
      "INFO:profiler.data.embedding:[City] compute weights\n",
      "INFO:profiler.data.embedding:[City] create vector map\n",
      "INFO:profiler.data.embedding:[City] save vec and vocab\n",
      "INFO:profiler.data.embedding:[CountyName] tokenize cell\n",
      "INFO:profiler.data.embedding:[CountyName] train language model\n"
     ]
    },
    {
     "name": "stdout",
     "output_type": "stream",
     "text": [
      "5\n"
     ]
    },
    {
     "name": "stderr",
     "output_type": "stream",
     "text": [
      "INFO:profiler.data.embedding:[State] compute weights\n",
      "INFO:profiler.data.embedding:[State] create vector map\n",
      "INFO:profiler.data.embedding:[State] save vec and vocab\n",
      "INFO:profiler.data.embedding:[HospitalType] tokenize cell\n",
      "INFO:profiler.data.embedding:[HospitalType] train language model\n"
     ]
    },
    {
     "name": "stdout",
     "output_type": "stream",
     "text": [
      "5\n"
     ]
    },
    {
     "name": "stderr",
     "output_type": "stream",
     "text": [
      "INFO:profiler.data.embedding:[CountyName] compute weights\n",
      "INFO:profiler.data.embedding:[CountyName] create vector map\n",
      "INFO:profiler.data.embedding:[CountyName] save vec and vocab\n",
      "INFO:profiler.data.embedding:[HospitalOwner] tokenize cell\n",
      "INFO:profiler.data.embedding:[HospitalOwner] train language model\n"
     ]
    },
    {
     "name": "stdout",
     "output_type": "stream",
     "text": [
      "5\n"
     ]
    },
    {
     "name": "stderr",
     "output_type": "stream",
     "text": [
      "INFO:profiler.data.embedding:[HospitalType] compute weights\n",
      "INFO:profiler.data.embedding:[HospitalType] create vector map\n",
      "INFO:profiler.data.embedding:[HospitalType] save vec and vocab\n",
      "INFO:profiler.data.embedding:[EmergencyService] tokenize cell\n",
      "INFO:profiler.data.embedding:[EmergencyService] train language model\n"
     ]
    },
    {
     "name": "stdout",
     "output_type": "stream",
     "text": [
      "5\n"
     ]
    },
    {
     "name": "stderr",
     "output_type": "stream",
     "text": [
      "INFO:profiler.data.embedding:[HospitalOwner] compute weights\n",
      "INFO:profiler.data.embedding:[HospitalOwner] create vector map\n",
      "INFO:profiler.data.embedding:[HospitalOwner] save vec and vocab\n",
      "INFO:profiler.data.embedding:[Condition] tokenize cell\n",
      "INFO:profiler.data.embedding:[Condition] train language model\n"
     ]
    },
    {
     "name": "stdout",
     "output_type": "stream",
     "text": [
      "5\n"
     ]
    },
    {
     "name": "stderr",
     "output_type": "stream",
     "text": [
      "INFO:profiler.data.embedding:[EmergencyService] compute weights\n",
      "INFO:profiler.data.embedding:[EmergencyService] create vector map\n",
      "INFO:profiler.data.embedding:[EmergencyService] save vec and vocab\n",
      "INFO:profiler.data.embedding:[MeasureCode] tokenize cell\n",
      "INFO:profiler.data.embedding:[MeasureCode] train language model\n"
     ]
    },
    {
     "name": "stdout",
     "output_type": "stream",
     "text": [
      "5\n"
     ]
    },
    {
     "name": "stderr",
     "output_type": "stream",
     "text": [
      "INFO:profiler.data.embedding:[Condition] compute weights\n",
      "INFO:profiler.data.embedding:[Condition] create vector map\n",
      "INFO:profiler.data.embedding:[Condition] save vec and vocab\n",
      "INFO:profiler.data.embedding:[MeasureName] tokenize cell\n",
      "INFO:profiler.data.embedding:[MeasureName] train language model\n"
     ]
    },
    {
     "name": "stdout",
     "output_type": "stream",
     "text": [
      "5\n"
     ]
    },
    {
     "name": "stderr",
     "output_type": "stream",
     "text": [
      "INFO:profiler.data.embedding:[MeasureCode] compute weights\n",
      "INFO:profiler.data.embedding:[MeasureCode] create vector map\n",
      "INFO:profiler.data.embedding:[MeasureCode] save vec and vocab\n",
      "INFO:profiler.data.embedding:[Stateavg] tokenize cell\n",
      "INFO:profiler.data.embedding:[Stateavg] train language model\n"
     ]
    },
    {
     "name": "stdout",
     "output_type": "stream",
     "text": [
      "5\n"
     ]
    },
    {
     "name": "stderr",
     "output_type": "stream",
     "text": [
      "INFO:profiler.data.embedding:[MeasureName] compute weights\n",
      "INFO:profiler.data.embedding:[MeasureName] create vector map\n",
      "INFO:profiler.data.embedding:[MeasureName] save vec and vocab\n"
     ]
    },
    {
     "name": "stdout",
     "output_type": "stream",
     "text": [
      "5\n"
     ]
    },
    {
     "name": "stderr",
     "output_type": "stream",
     "text": [
      "INFO:profiler.data.embedding:[Stateavg] compute weights\n",
      "INFO:profiler.data.embedding:[Stateavg] create vector map\n",
      "INFO:profiler.data.embedding:[Stateavg] save vec and vocab\n",
      "INFO:profiler.utility:[236.28878903388977] Load Embedding execution time: 236.16900992393494\n",
      "\n"
     ]
    }
   ],
   "source": [
    "pf.session.load_embedding(save=True, path='data/hospital-naive-concat/', load=False, concate=True, mode=\"ft\")"
   ]
  },
  {
   "cell_type": "code",
   "execution_count": 6,
   "metadata": {},
   "outputs": [
    {
     "name": "stderr",
     "output_type": "stream",
     "text": [
      "INFO:profiler.utility:[0.003047943115234375] Load Data start\n",
      "\n",
      "INFO:profiler.data.dataset:parameters used for data loading:\n",
      " {'na_values': 'empty', 'sep': ',', 'header': 'infer', 'dropcol': None, 'dropna': False, 'encoding': 'utf-8', 'normalize': True, 'min_categories_for_embedding': 10}\n",
      "WARNING:profiler.data.dataset:Dropping the following null column from the dataset: 'Address2'\n",
      "WARNING:profiler.data.dataset:Dropping the following null column from the dataset: 'Address3'\n",
      "INFO:profiler.data.dataset:inferred types of attributes: {\n",
      "    \"ProviderNumber\": \"numeric\",\n",
      "    \"HospitalName\": \"text\",\n",
      "    \"Address1\": \"text\",\n",
      "    \"City\": \"text\",\n",
      "    \"State\": \"categorical\",\n",
      "    \"ZipCode\": \"numeric\",\n",
      "    \"CountyName\": \"text\",\n",
      "    \"PhoneNumber\": \"numeric\",\n",
      "    \"HospitalType\": \"categorical\",\n",
      "    \"HospitalOwner\": \"categorical\",\n",
      "    \"EmergencyService\": \"categorical\",\n",
      "    \"Condition\": \"categorical\",\n",
      "    \"MeasureCode\": \"text\",\n",
      "    \"MeasureName\": \"text\",\n",
      "    \"Score\": \"text\",\n",
      "    \"Sample\": \"text\",\n",
      "    \"Stateavg\": \"text\"\n",
      "}\n",
      "INFO:profiler.data.dataset:(possible types: numeric, categorical, text, date)\n",
      "INFO:profiler.data.dataset:inferred operators of attributes: {'ProviderNumber': ['equal'], 'HospitalName': ['equal'], 'Address1': ['equal'], 'City': ['equal'], 'State': ['equal'], 'ZipCode': ['equal'], 'CountyName': ['equal'], 'PhoneNumber': ['equal'], 'HospitalType': ['equal'], 'HospitalOwner': ['equal'], 'EmergencyService': ['equal'], 'Condition': ['equal'], 'MeasureCode': ['equal'], 'MeasureName': ['equal'], 'Score': ['equal'], 'Sample': ['equal'], 'Stateavg': ['equal']}\n",
      "INFO:profiler.data.dataset:(possible operators: equal, notequal, greater_than, less_than)\n",
      "INFO:profiler.utility:[0.09343409538269043] Load Data execution time: 0.09038615226745605\n",
      "\n",
      "INFO:profiler.data.dataset:updated types of ProviderNumber to 'categorical'\n",
      "INFO:profiler.data.dataset:updated operators of ProviderNumber to ['equal']\n",
      "INFO:profiler.data.dataset:updated types of ZipCode to 'numeric'\n",
      "INFO:profiler.data.dataset:updated operators of ZipCode to ['equal']\n",
      "INFO:profiler.data.dataset:updated types of PhoneNumber to 'categorical'\n",
      "INFO:profiler.data.dataset:updated operators of PhoneNumber to ['equal']\n",
      "INFO:profiler.data.dataset:updated types of State to 'text'\n",
      "INFO:profiler.data.dataset:updated operators of State to ['equal']\n",
      "INFO:profiler.data.dataset:updated types of EmergencyService to 'text'\n",
      "INFO:profiler.data.dataset:updated operators of EmergencyService to ['equal']\n",
      "INFO:profiler.data.dataset:updated types of Score to 'numeric'\n",
      "INFO:profiler.data.dataset:updated operators of Score to ['equal']\n",
      "INFO:profiler.data.dataset:updated types of Sample to 'numeric'\n",
      "INFO:profiler.data.dataset:updated operators of Sample to ['equal']\n",
      "INFO:profiler.data.dataset:updated inferred operators of attributes: {'ProviderNumber': ['equal'], 'HospitalName': ['equal'], 'Address1': ['equal'], 'City': ['equal'], 'State': ['equal'], 'ZipCode': ['equal'], 'CountyName': ['equal'], 'PhoneNumber': ['equal'], 'HospitalType': ['equal'], 'HospitalOwner': ['equal'], 'EmergencyService': ['equal'], 'Condition': ['equal'], 'MeasureCode': ['equal'], 'MeasureName': ['equal'], 'Score': ['equal'], 'Sample': ['equal'], 'Stateavg': ['equal']}\n"
     ]
    }
   ],
   "source": [
    "# load clean data\n",
    "pf2 = Profiler(workers=2, tol=1e-6, eps=0.05, embedtxt=True)\n",
    "pf2.session.load_data(name='hospital', src=FILE, fpath='data/hospital_clean_unflatten.csv', check_param=True, na_values='empty')\n",
    "pf2.session.change_dtypes(['ProviderNumber', 'ZipCode', 'PhoneNumber', 'State', 'EmergencyService','Score', 'Sample'], \n",
    "                            [CATEGORICAL, NUMERIC, CATEGORICAL, TEXT, TEXT, NUMERIC, NUMERIC],\n",
    "                            [None, None, None, None, None, r'(\\d+)%', r'(\\d+)\\spatients'])"
   ]
  },
  {
   "cell_type": "code",
   "execution_count": 7,
   "metadata": {},
   "outputs": [],
   "source": [
    "clean = pf2.session.ds.df['HospitalName']\n",
    "dirty = pf.session.ds.df['HospitalName']\n",
    "vec = pf.session.embed.models['HospitalName'].vec\n",
    "vocab = pf.session.embed.models['HospitalName'].vocab"
   ]
  },
  {
   "cell_type": "code",
   "execution_count": 8,
   "metadata": {},
   "outputs": [],
   "source": [
    "import pandas as pd"
   ]
  },
  {
   "cell_type": "code",
   "execution_count": 9,
   "metadata": {},
   "outputs": [],
   "source": [
    "import sklearn\n",
    "# 1. calculate cosine distances with all other values in the domain \n",
    "distance = sklearn.metrics.pairwise.cosine_distances(vec)"
   ]
  },
  {
   "cell_type": "code",
   "execution_count": 10,
   "metadata": {},
   "outputs": [
    {
     "name": "stdout",
     "output_type": "stream",
     "text": [
      "cell: alaska regional hospital\n",
      "\n",
      "-- distance with variational representations of the word -- \n",
      "xlxskx regionxl hospitxl (0.1329)\n",
      "\n",
      "-- nonsimilar words but with small distances --\n",
      "andalusia regional hospital (0.0018)\n",
      "andaluxia regional hoxpital (0.0496)\n",
      "andaxusia regionax hospitax (0.0721)\n",
      "\n",
      "====\n",
      "cell: andalusia regional hospital\n",
      "\n",
      "-- distance with variational representations of the word -- \n",
      "andaluxia regional hoxpital (0.0461)\n",
      "andaxusia regionax hospitax (0.0660)\n",
      "\n",
      "-- nonsimilar words but with small distances --\n",
      "alaska regional hospital (0.0018)\n",
      "\n",
      "====\n",
      "cell: andaluxia regional hoxpital\n",
      "\n",
      "-- distance with variational representations of the word -- \n",
      "andalusia regional hospital (0.0461)\n",
      "andaxusia regionax hospitax (0.0582)\n",
      "\n",
      "-- nonsimilar words but with small distances --\n",
      "alaska regional hospital (0.0496)\n",
      "\n",
      "====\n",
      "cell: andaxusia regionax hospitax\n",
      "\n",
      "-- distance with variational representations of the word -- \n",
      "andalusia regional hospital (0.0660)\n",
      "andaluxia regional hoxpital (0.0582)\n",
      "\n",
      "-- nonsimilar words but with small distances --\n",
      "xlxskx regionxl hospitxl (0.0269)\n",
      "\n",
      "====\n",
      "cell: baptist medical center south\n",
      "\n",
      "-- distance with variational representations of the word -- \n",
      "baptist medical cexter south (0.0793)\n",
      "\n",
      "-- nonsimilar words but with small distances --\n",
      "marshall medical center north (0.0407)\n",
      "marshall medical center south (0.0124)\n",
      "\n",
      "====\n",
      "cell: baptist medical cexter south\n",
      "\n",
      "-- distance with variational representations of the word -- \n",
      "baptist medical center south (0.0793)\n",
      "\n",
      "-- nonsimilar words but with small distances --\n",
      "\n",
      "====\n",
      "cell: communitx hospital inc\n",
      "\n",
      "-- distance with variational representations of the word -- \n",
      "community hospital inc (0.0080)\n",
      "communixy hospixal inc (0.0256)\n",
      "\n",
      "-- nonsimilar words but with small distances --\n",
      "\n",
      "====\n",
      "cell: community hospital inc\n",
      "\n",
      "-- distance with variational representations of the word -- \n",
      "communitx hospital inc (0.0080)\n",
      "communixy hospixal inc (0.0329)\n",
      "\n",
      "-- nonsimilar words but with small distances --\n",
      "\n",
      "====\n",
      "cell: communixy hospixal inc\n",
      "\n",
      "-- distance with variational representations of the word -- \n",
      "communitx hospital inc (0.0256)\n",
      "community hospital inc (0.0329)\n",
      "\n",
      "-- nonsimilar words but with small distances --\n",
      "\n",
      "====\n",
      "cell: crenshaw community hospital\n",
      "\n",
      "-- distance with variational representations of the word -- \n",
      "crenshaw cxmmunity hxspital (0.0276)\n",
      "\n",
      "-- nonsimilar words but with small distances --\n",
      "\n",
      "====\n",
      "cell: crenshaw cxmmunity hxspital\n",
      "\n",
      "-- distance with variational representations of the word -- \n",
      "crenshaw community hospital (0.0276)\n",
      "\n",
      "-- nonsimilar words but with small distances --\n",
      "\n",
      "====\n",
      "cell: cullman regional medical center\n",
      "\n",
      "-- distance with variational representations of the word -- \n",
      "cullmxn regionxl medicxl center (0.0909)\n",
      "\n",
      "-- nonsimilar words but with small distances --\n",
      "dekalb regional medical center (0.0003)\n",
      "dexalb regional medical center (0.0102)\n",
      "gadsden regional medical center (0.0003)\n",
      "marion regional medical center (0.0018)\n",
      "riverview regional medical center (0.0007)\n",
      "riverview rexional medical center (0.0278)\n",
      "shelby baptist medical center (0.0809)\n",
      "xivexview xegional medical centex (0.0555)\n",
      "\n",
      "====\n",
      "cell: cullmxn regionxl medicxl center\n",
      "\n",
      "-- distance with variational representations of the word -- \n",
      "cullman regional medical center (0.0909)\n",
      "\n",
      "-- nonsimilar words but with small distances --\n",
      "riverview regional medical center (0.0901)\n",
      "\n",
      "====\n",
      "cell: dekalb regional medical center\n",
      "\n",
      "-- distance with variational representations of the word -- \n",
      "dexalb regional medical center (0.0105)\n",
      "\n",
      "-- nonsimilar words but with small distances --\n",
      "cullman regional medical center (0.0003)\n",
      "gadsden regional medical center (0.0001)\n",
      "marion regional medical center (0.0028)\n",
      "riverview regional medical center (0.0007)\n",
      "\n",
      "====\n",
      "cell: dexalb regional medical center\n",
      "\n",
      "-- distance with variational representations of the word -- \n",
      "dekalb regional medical center (0.0105)\n",
      "\n",
      "-- nonsimilar words but with small distances --\n",
      "cullman regional medical center (0.0102)\n",
      "\n",
      "====\n",
      "cell: flowers hospital\n",
      "\n",
      "-- distance with variational representations of the word -- \n",
      "floxers hospital (0.0399)\n",
      "\n",
      "-- nonsimilar words but with small distances --\n",
      "georgiana hospital (0.0006)\n",
      "georgiaxa hospital (0.0139)\n",
      "huntsville hospital (0.0078)\n",
      "russellville hospital (0.0274)\n",
      "wedowee hospital (0.0043)\n",
      "\n",
      "====\n",
      "cell: floxers hospital\n",
      "\n",
      "-- distance with variational representations of the word -- \n",
      "flowers hospital (0.0399)\n",
      "\n",
      "-- nonsimilar words but with small distances --\n",
      "georgiaxa hospital (0.0082)\n",
      "russellville hospital (0.0094)\n",
      "\n",
      "====\n",
      "cell: georgiana hospital\n",
      "\n",
      "-- distance with variational representations of the word -- \n",
      "georgiaxa hospital (0.0137)\n",
      "\n",
      "-- nonsimilar words but with small distances --\n",
      "flowers hospital (0.0006)\n",
      "huntsville hospital (0.0076)\n",
      "wedowee hospital (0.0037)\n",
      "\n",
      "====\n",
      "cell: georgiaxa hospital\n",
      "\n",
      "-- distance with variational representations of the word -- \n",
      "georgiana hospital (0.0137)\n",
      "\n",
      "-- nonsimilar words but with small distances --\n",
      "floxers hospital (0.0082)\n",
      "russellville hospital (0.0087)\n",
      "\n",
      "====\n",
      "cell: huntsville hospital\n",
      "\n",
      "-- distance with variational representations of the word -- \n",
      "huntsvxlle hospxtal (0.1238)\n",
      "\n",
      "-- nonsimilar words but with small distances --\n",
      "flowers hospital (0.0078)\n",
      "floxers hospital (0.0674)\n",
      "georgiana hospital (0.0076)\n",
      "georgiaxa hospital (0.0339)\n",
      "russellville hospital (0.0402)\n",
      "wedowee hospital (0.0032)\n",
      "wedowee hosxital (0.0812)\n",
      "\n",
      "====\n",
      "cell: huntsvxlle hospxtal\n",
      "\n",
      "-- distance with variational representations of the word -- \n",
      "huntsville hospital (0.1238)\n",
      "\n",
      "-- nonsimilar words but with small distances --\n",
      "wedowee hosxital (0.0608)\n",
      "\n",
      "====\n",
      "cell: jackson hospital & clinic inc\n",
      "\n",
      "-- distance with variational representations of the word -- \n",
      "jaxkson hospital & xlinix inx (0.0793)\n",
      "\n",
      "-- nonsimilar words but with small distances --\n",
      "\n",
      "====\n",
      "cell: jaxkson hospital & xlinix inx\n",
      "\n",
      "-- distance with variational representations of the word -- \n",
      "jackson hospital & clinic inc (0.0793)\n",
      "\n",
      "-- nonsimilar words but with small distances --\n",
      "\n",
      "====\n",
      "cell: marshall medical center north\n",
      "\n",
      "-- distance with variational representations of the word -- \n",
      "marshall medical cenxer norxh (0.1102)\n",
      "\n",
      "-- nonsimilar words but with small distances --\n",
      "baptist medical center south (0.0407)\n",
      "marshall medical center south (0.0242)\n",
      "\n",
      "====\n",
      "cell: marshall medical cenxer norxh\n",
      "\n",
      "-- distance with variational representations of the word -- \n",
      "marshall medical center north (0.1102)\n",
      "\n",
      "-- nonsimilar words but with small distances --\n",
      "\n",
      "====\n",
      "cell: medical center enterprise\n",
      "\n",
      "-- distance with variational representations of the word -- \n",
      "medixal xenter enterprise (0.0864)\n",
      "medxcal center enterprxse (0.0814)\n",
      "\n",
      "-- nonsimilar words but with small distances --\n",
      "\n",
      "====\n",
      "cell: medixal xenter enterprise\n",
      "\n",
      "-- distance with variational representations of the word -- \n",
      "medical center enterprise (0.0864)\n",
      "medxcal center enterprxse (0.0532)\n",
      "\n",
      "-- nonsimilar words but with small distances --\n",
      "\n",
      "====\n",
      "cell: medxcal center enterprxse\n",
      "\n",
      "-- distance with variational representations of the word -- \n",
      "medical center enterprise (0.0814)\n",
      "medixal xenter enterprise (0.0532)\n",
      "\n",
      "-- nonsimilar words but with small distances --\n",
      "\n",
      "====\n",
      "cell: riverview regional medical center\n",
      "\n",
      "-- distance with variational representations of the word -- \n",
      "riverview rexional medical center (0.0262)\n",
      "rivxrvixw rxgional mxdical cxntxr (0.2438)\n",
      "xivexview xegional medical centex (0.0549)\n",
      "\n",
      "-- nonsimilar words but with small distances --\n",
      "baptist medical center south (0.1738)\n",
      "coosa valley medical center (0.1348)\n",
      "cullman regional medical center (0.0007)\n",
      "cullmxn regionxl medicxl center (0.0901)\n",
      "dekalb regional medical center (0.0007)\n",
      "dexalb regional medical center (0.0131)\n",
      "gadsden regional medical center (0.0005)\n",
      "marion regional medical center (0.0022)\n",
      "marshall medical center north (0.1288)\n",
      "marshall medical center south (0.1691)\n",
      "shelby baptist medical center (0.0783)\n",
      "southeast alabama medical center (0.2027)\n",
      "southwest alabama medical center (0.1972)\n",
      "\n",
      "====\n",
      "cell: riverview rexional medical center\n",
      "\n",
      "-- distance with variational representations of the word -- \n",
      "riverview regional medical center (0.0262)\n",
      "rivxrvixw rxgional mxdical cxntxr (0.2889)\n",
      "xivexview xegional medical centex (0.0733)\n",
      "\n",
      "-- nonsimilar words but with small distances --\n",
      "baptist medical center south (0.1994)\n",
      "coosa valley medical center (0.1144)\n",
      "cullman regional medical center (0.0278)\n",
      "cullmxn regionxl medicxl center (0.0980)\n",
      "dekalb regional medical center (0.0277)\n",
      "dexalb regional medical center (0.0446)\n",
      "gadsden regional medical center (0.0274)\n",
      "marion regional medical center (0.0278)\n",
      "marshall medical center north (0.1553)\n",
      "marshall medical center south (0.1911)\n",
      "shelby baptist medical center (0.0401)\n",
      "southeast alabama medical center (0.1513)\n",
      "southeast alabama medxcal center (0.2508)\n",
      "southwest alabama medical center (0.1454)\n",
      "\n",
      "====\n",
      "cell: rivxrvixw rxgional mxdical cxntxr\n",
      "\n",
      "-- distance with variational representations of the word -- \n",
      "riverview regional medical center (0.2438)\n",
      "riverview rexional medical center (0.2889)\n"
     ]
    },
    {
     "name": "stdout",
     "output_type": "stream",
     "text": [
      "xivexview xegional medical centex (0.1153)\n",
      "\n",
      "-- nonsimilar words but with small distances --\n",
      "andaluxia regional hoxpital (0.2260)\n",
      "andaxusia regionax hospitax (0.2149)\n",
      "baptist medical center south (0.2608)\n",
      "cherokee medical center (0.2680)\n",
      "chilton medical center (0.2647)\n",
      "cullman regional medical center (0.2464)\n",
      "cullmxn regionxl medicxl center (0.2034)\n",
      "dale medical center (0.2688)\n",
      "dekalb regional medical center (0.2482)\n",
      "dexalb regional medical center (0.2562)\n",
      "fayette medical center (0.2679)\n",
      "gadsden regional medical center (0.2471)\n",
      "hartselle medical center (0.2664)\n",
      "marion regional medical center (0.2487)\n",
      "marshall medical center north (0.2408)\n",
      "marshall medical center south (0.2619)\n",
      "marshall medical cenxer norxh (0.2154)\n",
      "medixal xenter enterprise (0.2083)\n",
      "medxcal center enterprxse (0.2597)\n",
      "northwest medical center (0.2708)\n",
      "xlxskx regionxl hospitxl (0.1880)\n",
      "yukon kuskokwim delta reg hospital (0.2047)\n",
      "\n",
      "====\n",
      "cell: southeast alabama medical center\n",
      "\n",
      "-- distance with variational representations of the word -- \n",
      "southeast alabama medxcal center (0.0483)\n",
      "\n",
      "-- nonsimilar words but with small distances --\n",
      "southwest alabama medical center (0.0016)\n",
      "\n",
      "====\n",
      "cell: southeast alabama medxcal center\n",
      "\n",
      "-- distance with variational representations of the word -- \n",
      "southeast alabama medical center (0.0483)\n",
      "\n",
      "-- nonsimilar words but with small distances --\n",
      "\n",
      "====\n",
      "cell: st vincents blount\n",
      "\n",
      "-- distance with variational representations of the word -- \n",
      "st vincents bxount (0.0295)\n",
      "\n",
      "-- nonsimilar words but with small distances --\n",
      "\n",
      "====\n",
      "cell: st vincents bxount\n",
      "\n",
      "-- distance with variational representations of the word -- \n",
      "st vincents blount (0.0295)\n",
      "\n",
      "-- nonsimilar words but with small distances --\n",
      "\n",
      "====\n",
      "cell: univ of south alabama medical center\n",
      "\n",
      "-- distance with variational representations of the word -- \n",
      "univ ox south alabama medical center (0.0359)\n",
      "xniv of soxth alabama medical center (0.0672)\n",
      "\n",
      "-- nonsimilar words but with small distances --\n",
      "\n",
      "====\n",
      "cell: univ ox south alabama medical center\n",
      "\n",
      "-- distance with variational representations of the word -- \n",
      "univ of south alabama medical center (0.0359)\n",
      "xniv of soxth alabama medical center (0.1259)\n",
      "\n",
      "-- nonsimilar words but with small distances --\n",
      "\n",
      "====\n",
      "cell: wedowee hospital\n",
      "\n",
      "-- distance with variational representations of the word -- \n",
      "wedowee hosxital (0.0826)\n",
      "\n",
      "-- nonsimilar words but with small distances --\n",
      "flowers hospital (0.0043)\n",
      "floxers hospital (0.0610)\n",
      "georgiana hospital (0.0037)\n",
      "georgiaxa hospital (0.0280)\n",
      "huntsville hospital (0.0032)\n",
      "russellville hospital (0.0382)\n",
      "\n",
      "====\n",
      "cell: wedowee hosxital\n",
      "\n",
      "-- distance with variational representations of the word -- \n",
      "wedowee hospital (0.0826)\n",
      "\n",
      "-- nonsimilar words but with small distances --\n",
      "huntsville hospital (0.0812)\n",
      "huntsvxlle hospxtal (0.0608)\n",
      "\n",
      "====\n",
      "cell: xivexview xegional medical centex\n",
      "\n",
      "-- distance with variational representations of the word -- \n",
      "riverview regional medical center (0.0549)\n",
      "riverview rexional medical center (0.0733)\n",
      "rivxrvixw rxgional mxdical cxntxr (0.1153)\n",
      "\n",
      "-- nonsimilar words but with small distances --\n",
      "cullman regional medical center (0.0555)\n",
      "cullmxn regionxl medicxl center (0.1070)\n",
      "dekalb regional medical center (0.0569)\n",
      "dexalb regional medical center (0.0572)\n",
      "gadsden regional medical center (0.0562)\n",
      "marion regional medical center (0.0608)\n",
      "shelby baptist medical center (0.1044)\n",
      "\n",
      "====\n",
      "cell: xlxskx regionxl hospitxl\n",
      "\n",
      "-- distance with variational representations of the word -- \n",
      "alaska regional hospital (0.1329)\n",
      "\n",
      "-- nonsimilar words but with small distances --\n",
      "andalusia regional hospital (0.1294)\n",
      "andaluxia regional hoxpital (0.1101)\n",
      "andaxusia regionax hospitax (0.0269)\n",
      "\n",
      "====\n",
      "cell: xniv of soxth alabama medical center\n",
      "\n",
      "-- distance with variational representations of the word -- \n",
      "univ of south alabama medical center (0.0672)\n",
      "univ ox south alabama medical center (0.1259)\n",
      "\n",
      "-- nonsimilar words but with small distances --\n",
      "\n",
      "====\n"
     ]
    }
   ],
   "source": [
    "dis_with_same = []\n",
    "dis_with_other = []\n",
    "vocab['index'] = vocab['index'].astype(int)\n",
    "for i, cell in enumerate(vocab.index):\n",
    "    if not isinstance(cell, np.str):\n",
    "        continue\n",
    "    # for each word, find the corresponding correct word in clean data\n",
    "    clean_cell = clean.loc[dirty.index[dirty==cell][0]]\n",
    "    # find the index of the words in dirty vocab that equals to this word in groudtruth\n",
    "    variations = dirty[(clean==clean_cell) & (dirty != cell)]\n",
    "    variations = np.unique(variations[~pd.isnull(variations)])\n",
    "    if len(variations) == 0:\n",
    "        continue\n",
    "    print(\"cell: %s\"%cell)\n",
    "    similar_idx = vocab.loc[variations,'index'].values\n",
    "    same_idx = [vocab.loc[cell, 'index']]\n",
    "    dis_with_same.extend(distance[i, similar_idx])\n",
    "    print(\"\\n-- distance with variational representations of the word -- \")\n",
    "    maxdis = -1\n",
    "    for word, dis in zip(variations, distance[i, vocab.loc[variations, 'index']]):\n",
    "        print(\"%s (%.4f)\"%(word, dis))\n",
    "        maxdis = max(dis, maxdis)\n",
    "    \n",
    "    nonsimilar_idx = np.array(list(set(vocab['index'].values) - set(similar_idx) - set(same_idx)))\n",
    "\n",
    "    nonsimilar_dis = distance[i, nonsimilar_idx]\n",
    "    dis_with_other.extend(nonsimilar_dis)\n",
    "    print(\"\\n-- nonsimilar words but with small distances --\")\n",
    "    for word, dis in zip(vocab.index.values[nonsimilar_idx[nonsimilar_dis<maxdis]], nonsimilar_dis[nonsimilar_dis<maxdis]):\n",
    "        print(\"%s (%.4f)\"%(word, dis))\n",
    "    print(\"\\n====\")"
   ]
  },
  {
   "cell_type": "code",
   "execution_count": 13,
   "metadata": {},
   "outputs": [
    {
     "data": {
      "text/plain": [
       "Text(0, 0.5, 'count')"
      ]
     },
     "execution_count": 13,
     "metadata": {},
     "output_type": "execute_result"
    },
    {
     "data": {
      "image/png": "[encoded data removed]",
      "text/plain": [
       "<Figure size 576x288 with 2 Axes>"
      ]
     },
     "metadata": {
      "needs_background": "light"
     },
     "output_type": "display_data"
    }
   ],
   "source": [
    "import matplotlib.pyplot as plt\n",
    "fig, (ax1,ax2) = plt.subplots(1,2, figsize=(8, 4))\n",
    "data1 = pd.DataFrame(data=dis_with_same)\n",
    "ax1.hist(data1, bins=np.arange(0,1,0.1))\n",
    "ax1.set_title('[Average-Fasttext Embedding] \\nHistogram of cosine distance\\n between similar words')\n",
    "ax1.set_xlabel('cosine distance')\n",
    "ax1.set_ylabel('count')\n",
    "data2 = pd.DataFrame(data=dis_with_other)\n",
    "ax2.hist(data2, bins=np.arange(0,1,0.1))\n",
    "ax2.set_title('[Average-Fasttext Embedding] \\nHistogram of cosine distance\\n between non-similar words')\n",
    "ax2.set_xlabel('cosine distance')\n",
    "ax2.set_ylabel('count')"
   ]
  },
  {
   "cell_type": "code",
   "execution_count": 12,
   "metadata": {},
   "outputs": [
    {
     "data": {
      "text/plain": [
       "Text(0, 0.5, 'count')"
      ]
     },
     "execution_count": 12,
     "metadata": {},
     "output_type": "execute_result"
    },
    {
     "data": {
      "image/png": "[encoded data removed]",
      "text/plain": [
       "<Figure size 432x288 with 1 Axes>"
      ]
     },
     "metadata": {
      "needs_background": "light"
     },
     "output_type": "display_data"
    },
    {
     "data": {
      "image/png": "[encoded data removed]",
      "text/plain": [
       "<Figure size 432x288 with 1 Axes>"
      ]
     },
     "metadata": {
      "needs_background": "light"
     },
     "output_type": "display_data"
    }
   ],
   "source": [
    "data1 = pd.DataFrame(data=dis_with_same)\n",
    "ax1 = data1.hist(bins=np.arange(0,1,0.1))[0][0]\n",
    "ax1.set_title('[Concate-Fasttext Embedding] \\nHistogram of cosine distance\\n between similar words')\n",
    "ax1.set_xlabel('cosine distance')\n",
    "ax1.set_ylabel('count')\n",
    "data2 = pd.DataFrame(data=dis_with_other)\n",
    "ax2 = data2.hist(bins=np.arange(0,1,0.1))[0][0]\n",
    "ax2.set_title('[Concate-Fasttext Embedding] \\nHistogram of cosine distance\\n between non-similar words')\n",
    "ax2.set_xlabel('cosine distance')\n",
    "ax2.set_ylabel('count')"
   ]
  },
  {
   "cell_type": "code",
   "execution_count": null,
   "metadata": {},
   "outputs": [],
   "source": []
  }
 ],
 "metadata": {
  "kernelspec": {
   "display_name": "Python (fd37)",
   "language": "python",
   "name": "fd37"
  },
  "language_info": {
   "codemirror_mode": {
    "name": "ipython",
    "version": 3
   },
   "file_extension": ".py",
   "mimetype": "text/x-python",
   "name": "python",
   "nbconvert_exporter": "python",
   "pygments_lexer": "ipython3",
   "version": "3.7.3"
  }
 },
 "nbformat": 4,
 "nbformat_minor": 2
}
